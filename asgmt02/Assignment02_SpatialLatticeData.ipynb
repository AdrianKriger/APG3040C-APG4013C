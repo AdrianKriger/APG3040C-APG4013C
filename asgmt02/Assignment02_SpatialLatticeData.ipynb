{
 "cells": [
  {
   "cell_type": "markdown",
   "id": "6a369147",
   "metadata": {
    "id": "ssQERr6mW2OY"
   },
   "source": [
    "_is an R notebook_"
   ]
  },
  {
   "cell_type": "markdown",
   "id": "0a0069e1",
   "metadata": {
    "id": "872c8361"
   },
   "source": [
    "# Spatial Statistics - Assignment 2 (Analysing Spatial Lattice Data)"
   ]
  },
  {
   "cell_type": "markdown",
   "id": "37c2b710",
   "metadata": {
    "id": "abcd54b2"
   },
   "source": [
    "**Introduction**\n",
    "\n",
    "This assignment is an opportunity for you to further explore the `R` programming language by working through lattice data.\n",
    "\n",
    "The key aspects covered:\n",
    "\n",
    "> 0) Basic Exploratory Data Analysis (EDA) and Exploratory Spatial Data Analysis (ESDA)  \n",
    "> 1) Moran's I test for spatial autocorrelation  \n",
    "> 2) Moran's I significance testing through simulation  \n",
    "> 3) Moran's scatterplot  \n",
    "> 4) Correlogram  \n",
    "> 5) Local Indicators of Spatial Autocorrelation (LISA)  \n",
    "> 6) Ordinary Least Squares Regression  \n",
    "> 7) Geographically Weighted Regresssion (GWR)"
   ]
  },
  {
   "cell_type": "markdown",
   "id": "70f97fef",
   "metadata": {
    "id": "7P-5WFeYA-BV"
   },
   "source": [
    "<div class=\"alert alert-block alert-danger\"><b>REQUIRED: </b></div>"
   ]
  },
  {
   "cell_type": "markdown",
   "id": "f6b9e6c7",
   "metadata": {
    "id": "5dc3b673"
   },
   "source": [
    "**You are required to insert your outputs and any comment into this document.** The document you submit should therefore contain the existing text in addition to:\n",
    "\n",
    "\n",
    "> *   Plots and other outputs from executing the code chunks  \n",
    "> *   Discussion of your plots and other outputs as well as conclusions reached.\n",
    "\n",
    "This should also include any hypotheses and assumptions made as well as factors that may affect your conclusions. </div>"
   ]
  },
  {
   "cell_type": "markdown",
   "id": "67948707",
   "metadata": {
    "id": "14e1e5a9"
   },
   "source": [
    "To help you with interpreting your outputs, please consult the following resources:\n",
    "\n",
    "|            |            | \n",
    "|------------|:-----------|\n",
    "|Chapter 10 - 12:| **Introduction to geographic information systems by Kang-tsung (2011)**. A copy of this is available on Amathuba inside the Resources folder, Study Material & Books |"
   ]
  },
  {
   "cell_type": "markdown",
   "id": "04e4711c",
   "metadata": {
    "id": "SC5qPHL97RY-"
   },
   "source": [
    "**GETTING STARTED**\n",
    "\n",
    "Retrieve and set your working directory\n",
    "\n",
    "Use the R code chunk below to:\n",
    "\n",
    "> a) clear your R environment  \n",
    "> b) print the current working directory  \n",
    "> c) set your preferred working directory"
   ]
  },
  {
   "cell_type": "code",
   "execution_count": 1,
   "id": "e541dbc7",
   "metadata": {
    "id": "a8c681f8"
   },
   "outputs": [
    {
     "data": {
      "text/html": [
       "'C:/Users/T0084076/Downloads'"
      ],
      "text/latex": [
       "'C:/Users/T0084076/Downloads'"
      ],
      "text/markdown": [
       "'C:/Users/T0084076/Downloads'"
      ],
      "text/plain": [
       "[1] \"C:/Users/T0084076/Downloads\""
      ]
     },
     "metadata": {},
     "output_type": "display_data"
    },
    {
     "name": "stderr",
     "output_type": "stream",
     "text": [
      "Warning message:\n",
      "\"package 'classInt' was built under R version 3.6.3\"Warning message:\n",
      "\"package 'sp' was built under R version 3.6.3\""
     ]
    },
    {
     "ename": "ERROR",
     "evalue": "Error in library(rgdal): there is no package called 'rgdal'\n",
     "output_type": "error",
     "traceback": [
      "Error in library(rgdal): there is no package called 'rgdal'\nTraceback:\n",
      "1. library(rgdal)"
     ]
    }
   ],
   "source": [
    "###################################################\n",
    "### Initial settings:\n",
    "###################################################\n",
    "\n",
    "rm(list=ls())\n",
    "getwd()\n",
    "#setwd(\"~/student\")\n",
    "options(repr.plot.width = 6, repr.plot.height = 4)\n",
    "\n",
    "# Load the required packages\n",
    "# We will use different packages to achieve different goals. The following code chunk assumes that the packages have been installed and loads the packages.\n",
    "\n",
    "#Run install.packages(\"PackageName\"), if the package is not installed on your computer (PackageName is the name of the package you want installed)\n",
    "# Example of how to install a package:\n",
    "# install.packages(\"rgdal\")\n",
    "options(scipen = 999) # turn off scientific notation (so p-values are readable)\n",
    "options(digits = 4)\n",
    "\n",
    "library(RColorBrewer)\n",
    "library(classInt)\n",
    "library(sp)\n",
    "library(rgdal)\n",
    "library(maptools)\n",
    "library(spdep)\n",
    "#library(spgwr)\n",
    "library(PerformanceAnalytics)"
   ]
  },
  {
   "cell_type": "markdown",
   "id": "613fa99f",
   "metadata": {
    "id": "w88EKwqEC31E"
   },
   "source": [
    "<div class=\"alert alert-block alert-success\"><b>THE DATA: </b> </div>"
   ]
  },
  {
   "cell_type": "markdown",
   "id": "95a6298e",
   "metadata": {
    "id": "39228f58"
   },
   "source": [
    "This assignment is based on the  [Columbus crime data](https://search.r-project.org/CRAN/refmans/RgoogleMaps/html/columbus.html).  \n",
    "\n",
    "In this practical you will be working with the Columbus crime data. The data set contains information on crime (combined residential burglaries and residential thefts per thousand households) as well as other variables obtained from [Columbus, OH](https://en.wikipedia.org/wiki/Columbus,_Ohio) in 1980. Unit of analysis: 49 neighbourhoods in Columbus, OH.\n",
    "\n",
    "The variables contained in the dataset are:  \n",
    "> •\tAREA : computed by ArcView  \n",
    "> •\tPERIMETER : computed by ArcView  \n",
    "> •\tCOLUMBUS_ : internal polygon ID (ignore)  \n",
    "> •\tCOLUMBUS_I : another internal polygon ID (ignore)  \n",
    "> •\tPOLYID : yet another polygon ID  \n",
    "> •\tNEIG : neighborhood id value (1-49); conforms to id value used in Spatial Econometrics book.  \n",
    "> •\tHOVAL : housing value (in 1,000dollars)  \n",
    "> •\tINC : household income (in 1,000dollars)  \n",
    "> •\tCRIME : residential burglaries and vehicle thefts per thousand households in the neighborhood  \n",
    "> •\tOPEN : open space in neighborhood  \n",
    "> •\tPLUMB : percentage housing units without plumbing  \n",
    "> •\tDISCBD : distance to CBD  \n",
    "> •\tX : x coordinate (in arbitrary digitizing units, not polygon coordinates)  \n",
    "> •\tY : y coordinate (in arbitrary digitizing units, not polygon coordinates)  \n",
    "> •\tNSA : north-south dummy (North=1)  \n",
    "> •\tNSB : north-south dummy (North=1)  \n",
    "> •\tEW : east-west dummy (East=1)  \n",
    "> •\tCP : core-periphery dummy (Core=1)  \n",
    "> •\tTHOUS : constant=1,000  \n",
    "> •\tNEIGNO : NEIG+1,000, alternative neighborhood id value  \n",
    "\n",
    "The data comes in the form of a shapefile  in the `spdep` package.  \n",
    "\n",
    "Analysis will focus on CRIME, HOVAL, INC, OPEN, PLUM, DISCBD, X and Y."
   ]
  },
  {
   "cell_type": "code",
   "execution_count": 2,
   "id": "e7343da1",
   "metadata": {
    "id": "VOWq0JHeEjN7"
   },
   "outputs": [
    {
     "ename": "ERROR",
     "evalue": "Error in readOGR(system.file(\"etc/shapes/columbus.shp\", package = \"spdep\")[1]): could not find function \"readOGR\"\n",
     "output_type": "error",
     "traceback": [
      "Error in readOGR(system.file(\"etc/shapes/columbus.shp\", package = \"spdep\")[1]): could not find function \"readOGR\"\nTraceback:\n"
     ]
    }
   ],
   "source": [
    "##############\n",
    "### Read shapefile\n",
    "##############\n",
    "# Several packages to do this\n",
    "# rgdal::readOGR\n",
    "# maptools::readShapePoly\n",
    "\n",
    "# Read data into R\n",
    "#columbus <- readShapePoly(system.file(\"etc/shapes/columbus.shp\", package=\"spdep\")[1])\n",
    "columbus <- readOGR(system.file(\"etc/shapes/columbus.shp\", package=\"spdep\")[1])\n",
    "\n",
    "class(columbus) # Class of object"
   ]
  },
  {
   "cell_type": "code",
   "execution_count": 72,
   "id": "0b6a8d95",
   "metadata": {
    "id": "9CPREJNAFLVu"
   },
   "outputs": [
    {
     "data": {
      "text/html": [
       "<style>\n",
       ".list-inline {list-style: none; margin:0; padding: 0}\n",
       ".list-inline>li {display: inline-block}\n",
       ".list-inline>li:not(:last-child)::after {content: \"\\00b7\"; padding: 0 .5ex}\n",
       "</style>\n",
       "<ol class=list-inline><li>'data'</li><li>'polygons'</li><li>'plotOrder'</li><li>'bbox'</li><li>'proj4string'</li></ol>\n"
      ],
      "text/latex": [
       "\\begin{enumerate*}\n",
       "\\item 'data'\n",
       "\\item 'polygons'\n",
       "\\item 'plotOrder'\n",
       "\\item 'bbox'\n",
       "\\item 'proj4string'\n",
       "\\end{enumerate*}\n"
      ],
      "text/markdown": [
       "1. 'data'\n",
       "2. 'polygons'\n",
       "3. 'plotOrder'\n",
       "4. 'bbox'\n",
       "5. 'proj4string'\n",
       "\n",
       "\n"
      ],
      "text/plain": [
       "[1] \"data\"        \"polygons\"    \"plotOrder\"   \"bbox\"        \"proj4string\""
      ]
     },
     "metadata": {},
     "output_type": "display_data"
    }
   ],
   "source": [
    "slotNames(columbus) # Check the Components of the SpatialPolygonsDataFrame"
   ]
  },
  {
   "cell_type": "code",
   "execution_count": 3,
   "id": "e503da4a",
   "metadata": {
    "id": "g-I8oFVxFQBp"
   },
   "outputs": [],
   "source": [
    "#str(columbus)  # Full structure of the object"
   ]
  },
  {
   "cell_type": "code",
   "execution_count": 4,
   "id": "7af29521",
   "metadata": {
    "id": "ffab46db"
   },
   "outputs": [],
   "source": [
    "# Change map projection if necessary\n",
    "#readshape <- spTransform(columbus.shp, CRS(\"+init=epsg:2154\"))\n",
    "\n",
    "# Example of reading shapefile and setting projection if working with your own data\n",
    "#  projection <- \"+proj=longlat +ellps=WGS84 +datum=WGS84\"\n",
    "# readshape <-readShapePoly(\"datashp.shp\", proj4string=CRS(projection))\n",
    "# The gstat package assumes that data are projected,\n",
    "# i.e. they should not be provided as lattitude/longitude # and have to tell it which vectors are the corrdinates\n",
    "\n",
    "# The command below specifies the coordinates and changes the dataframe\n",
    "# to a \"SpatialPointDataFrame\", which is necessary for variogram modelling"
   ]
  },
  {
   "cell_type": "markdown",
   "id": "9932185e",
   "metadata": {
    "id": "2xHtrzSA__-g"
   },
   "source": [
    "## 0. Exploratory Data Analysis (EDA) and Exploratory Spatial Data Analysis (ESDA)"
   ]
  },
  {
   "cell_type": "markdown",
   "id": "35a0200b",
   "metadata": {
    "id": "3_JWK16VAWB_"
   },
   "source": [
    "It is always advisable to **visualise your data** prior to more formal analysis.\n",
    "EDA and ESDA will help assess:\n",
    "\n",
    "> •\tthe key characteristics of the data including possible data errors  \n",
    "> •\tthe existence and location of nonrandom local patterns in the data  \n",
    "> •\tthe presence of any outliers\n",
    "\n",
    "Also useful in suggesting pottential associations between variables.\n",
    "EDA and ESDA cannot _explain_ the observed patterns.\n",
    "\n",
    "Formal testing of hypothesis should be carried out by means of multivariate regression modelling.\n"
   ]
  },
  {
   "cell_type": "code",
   "execution_count": 74,
   "id": "45a44ace",
   "metadata": {
    "id": "pBihLHieFdoI"
   },
   "outputs": [
    {
     "data": {
      "text/html": [
       "'data.frame'"
      ],
      "text/latex": [
       "'data.frame'"
      ],
      "text/markdown": [
       "'data.frame'"
      ],
      "text/plain": [
       "[1] \"data.frame\""
      ]
     },
     "metadata": {},
     "output_type": "display_data"
    }
   ],
   "source": [
    "#pacman::p_unload(graphics)\n",
    "## The following packages are a base install and will not be unloaded:\n",
    "## graphics\n",
    "#Extract the data frame from your shapefile\n",
    "columbusdata <- columbus@data\n",
    "\n",
    "class(columbusdata) # Class of object"
   ]
  },
  {
   "cell_type": "code",
   "execution_count": 75,
   "id": "6c12bf00",
   "metadata": {
    "id": "vCgz0cn_FX6H"
   },
   "outputs": [
    {
     "data": {
      "text/html": [
       "<style>\n",
       ".list-inline {list-style: none; margin:0; padding: 0}\n",
       ".list-inline>li {display: inline-block}\n",
       ".list-inline>li:not(:last-child)::after {content: \"\\00b7\"; padding: 0 .5ex}\n",
       "</style>\n",
       "<ol class=list-inline><li>'AREA'</li><li>'PERIMETER'</li><li>'COLUMBUS_'</li><li>'COLUMBUS_I'</li><li>'POLYID'</li><li>'NEIG'</li><li>'HOVAL'</li><li>'INC'</li><li>'CRIME'</li><li>'OPEN'</li><li>'PLUMB'</li><li>'DISCBD'</li><li>'X'</li><li>'Y'</li><li>'NSA'</li><li>'NSB'</li><li>'EW'</li><li>'CP'</li><li>'THOUS'</li><li>'NEIGNO'</li></ol>\n"
      ],
      "text/latex": [
       "\\begin{enumerate*}\n",
       "\\item 'AREA'\n",
       "\\item 'PERIMETER'\n",
       "\\item 'COLUMBUS\\_'\n",
       "\\item 'COLUMBUS\\_I'\n",
       "\\item 'POLYID'\n",
       "\\item 'NEIG'\n",
       "\\item 'HOVAL'\n",
       "\\item 'INC'\n",
       "\\item 'CRIME'\n",
       "\\item 'OPEN'\n",
       "\\item 'PLUMB'\n",
       "\\item 'DISCBD'\n",
       "\\item 'X'\n",
       "\\item 'Y'\n",
       "\\item 'NSA'\n",
       "\\item 'NSB'\n",
       "\\item 'EW'\n",
       "\\item 'CP'\n",
       "\\item 'THOUS'\n",
       "\\item 'NEIGNO'\n",
       "\\end{enumerate*}\n"
      ],
      "text/markdown": [
       "1. 'AREA'\n",
       "2. 'PERIMETER'\n",
       "3. 'COLUMBUS_'\n",
       "4. 'COLUMBUS_I'\n",
       "5. 'POLYID'\n",
       "6. 'NEIG'\n",
       "7. 'HOVAL'\n",
       "8. 'INC'\n",
       "9. 'CRIME'\n",
       "10. 'OPEN'\n",
       "11. 'PLUMB'\n",
       "12. 'DISCBD'\n",
       "13. 'X'\n",
       "14. 'Y'\n",
       "15. 'NSA'\n",
       "16. 'NSB'\n",
       "17. 'EW'\n",
       "18. 'CP'\n",
       "19. 'THOUS'\n",
       "20. 'NEIGNO'\n",
       "\n",
       "\n"
      ],
      "text/plain": [
       " [1] \"AREA\"       \"PERIMETER\"  \"COLUMBUS_\"  \"COLUMBUS_I\" \"POLYID\"    \n",
       " [6] \"NEIG\"       \"HOVAL\"      \"INC\"        \"CRIME\"      \"OPEN\"      \n",
       "[11] \"PLUMB\"      \"DISCBD\"     \"X\"          \"Y\"          \"NSA\"       \n",
       "[16] \"NSB\"        \"EW\"         \"CP\"         \"THOUS\"      \"NEIGNO\"    "
      ]
     },
     "metadata": {},
     "output_type": "display_data"
    }
   ],
   "source": [
    "names(columbusdata) # Names of variables"
   ]
  },
  {
   "cell_type": "code",
   "execution_count": 76,
   "id": "1fc4a205",
   "metadata": {
    "id": "wpmv44DJFhcg"
   },
   "outputs": [
    {
     "name": "stdout",
     "output_type": "stream",
     "text": [
      "'data.frame':\t49 obs. of  20 variables:\n",
      " $ AREA      : num  0.3094 0.2593 0.1925 0.0838 0.4889 ...\n",
      " $ PERIMETER : num  2.44 2.24 2.19 1.43 3 ...\n",
      " $ COLUMBUS_ : Factor w/ 49 levels \"10\",\"11\",\"12\",..: 11 22 33 44 46 47 48 49 1 2 ...\n",
      " $ COLUMBUS_I: Factor w/ 49 levels \"1\",\"10\",\"11\",..: 45 1 46 12 47 48 34 23 10 2 ...\n",
      " $ POLYID    : Factor w/ 49 levels \"1\",\"10\",\"11\",..: 1 12 23 34 45 46 47 48 49 2 ...\n",
      " $ NEIG      : int  5 1 6 2 7 8 4 3 18 10 ...\n",
      " $ HOVAL     : num  80.5 44.6 26.4 33.2 23.2 ...\n",
      " $ INC       : num  19.53 21.23 15.96 4.48 11.25 ...\n",
      " $ CRIME     : num  15.7 18.8 30.6 32.4 50.7 ...\n",
      " $ OPEN      : num  2.851 5.297 4.535 0.394 0.406 ...\n",
      " $ PLUMB     : num  0.217 0.321 0.374 1.187 0.625 ...\n",
      " $ DISCBD    : num  5.03 4.27 3.89 3.7 2.83 3.78 2.74 2.89 3.17 4.33 ...\n",
      " $ X         : num  38.8 35.6 39.8 36.5 40 ...\n",
      " $ Y         : num  44.1 42.4 41.2 40.5 38 ...\n",
      " $ NSA       : num  1 1 1 1 1 1 1 1 1 1 ...\n",
      " $ NSB       : num  1 1 1 1 1 1 1 1 1 1 ...\n",
      " $ EW        : num  1 0 1 0 1 1 0 0 1 1 ...\n",
      " $ CP        : num  0 0 0 0 0 0 0 0 0 0 ...\n",
      " $ THOUS     : num  1000 1000 1000 1000 1000 1000 1000 1000 1000 1000 ...\n",
      " $ NEIGNO    : num  1005 1001 1006 1002 1007 ...\n"
     ]
    }
   ],
   "source": [
    "str(columbusdata)   # Structure of the object (gives you details of variable types)"
   ]
  },
  {
   "cell_type": "markdown",
   "id": "a532232b",
   "metadata": {
    "id": "GR81kpPDA9sH"
   },
   "source": [
    "<div class=\"alert alert-block alert-warning\"><b>TASK / QUESTIONS: </b> </div>"
   ]
  },
  {
   "cell_type": "markdown",
   "id": "798f8cd6",
   "metadata": {
    "id": "3SEX3RiaBBhC"
   },
   "source": [
    "*   Create a subset data from the columbusdata (select relevant variables and generate summary statistics etc.). Select the numerical variables in columns 7 to 12 and store the subset data into columbusdata_sub variable. Use the summary function to print the summary statistics."
   ]
  },
  {
   "cell_type": "code",
   "execution_count": 78,
   "id": "cbc084d0",
   "metadata": {
    "id": "PYa4hf_iBHuZ"
   },
   "outputs": [
    {
     "data": {
      "text/html": [
       "<table class=\"dataframe\">\n",
       "<caption>A data.frame: 3 × 6</caption>\n",
       "<thead>\n",
       "\t<tr><th></th><th scope=col>HOVAL</th><th scope=col>INC</th><th scope=col>CRIME</th><th scope=col>OPEN</th><th scope=col>PLUMB</th><th scope=col>DISCBD</th></tr>\n",
       "\t<tr><th></th><th scope=col>&lt;dbl&gt;</th><th scope=col>&lt;dbl&gt;</th><th scope=col>&lt;dbl&gt;</th><th scope=col>&lt;dbl&gt;</th><th scope=col>&lt;dbl&gt;</th><th scope=col>&lt;dbl&gt;</th></tr>\n",
       "</thead>\n",
       "<tbody>\n",
       "\t<tr><th scope=row>0</th><td>80.47</td><td>19.53</td><td>15.73</td><td>2.851</td><td>0.2172</td><td>5.03</td></tr>\n",
       "\t<tr><th scope=row>1</th><td>44.57</td><td>21.23</td><td>18.80</td><td>5.297</td><td>0.3206</td><td>4.27</td></tr>\n",
       "\t<tr><th scope=row>2</th><td>26.35</td><td>15.96</td><td>30.63</td><td>4.535</td><td>0.3744</td><td>3.89</td></tr>\n",
       "</tbody>\n",
       "</table>\n"
      ],
      "text/latex": [
       "A data.frame: 3 × 6\n",
       "\\begin{tabular}{r|llllll}\n",
       "  & HOVAL & INC & CRIME & OPEN & PLUMB & DISCBD\\\\\n",
       "  & <dbl> & <dbl> & <dbl> & <dbl> & <dbl> & <dbl>\\\\\n",
       "\\hline\n",
       "\t0 & 80.47 & 19.53 & 15.73 & 2.851 & 0.2172 & 5.03\\\\\n",
       "\t1 & 44.57 & 21.23 & 18.80 & 5.297 & 0.3206 & 4.27\\\\\n",
       "\t2 & 26.35 & 15.96 & 30.63 & 4.535 & 0.3744 & 3.89\\\\\n",
       "\\end{tabular}\n"
      ],
      "text/markdown": [
       "\n",
       "A data.frame: 3 × 6\n",
       "\n",
       "| <!--/--> | HOVAL &lt;dbl&gt; | INC &lt;dbl&gt; | CRIME &lt;dbl&gt; | OPEN &lt;dbl&gt; | PLUMB &lt;dbl&gt; | DISCBD &lt;dbl&gt; |\n",
       "|---|---|---|---|---|---|---|\n",
       "| 0 | 80.47 | 19.53 | 15.73 | 2.851 | 0.2172 | 5.03 |\n",
       "| 1 | 44.57 | 21.23 | 18.80 | 5.297 | 0.3206 | 4.27 |\n",
       "| 2 | 26.35 | 15.96 | 30.63 | 4.535 | 0.3744 | 3.89 |\n",
       "\n"
      ],
      "text/plain": [
       "  HOVAL INC   CRIME OPEN  PLUMB  DISCBD\n",
       "0 80.47 19.53 15.73 2.851 0.2172 5.03  \n",
       "1 44.57 21.23 18.80 5.297 0.3206 4.27  \n",
       "2 26.35 15.96 30.63 4.535 0.3744 3.89  "
      ]
     },
     "metadata": {},
     "output_type": "display_data"
    }
   ],
   "source": [
    "# [double click in this cell and type your code to create `columbusdata_sub` here]\n",
    "\n",
    "# perhaps something like:\n",
    "#split_veg <- c(\"HOVAL\", \"INC\", \"CRIME\", \"OPEN\", \"PLUMB\", \"DISCBD\")\n",
    "\n",
    "columbusdata_sub <- columbusdata[,c(7, 8, 9, 10, 11, 12)]\n",
    "head(columbusdata_sub, 3)"
   ]
  },
  {
   "cell_type": "markdown",
   "id": "9585c5ab",
   "metadata": {
    "id": "FzujzYOQBH4N"
   },
   "source": [
    "*   What is the mean, maximum and minimum variable for each data set?"
   ]
  },
  {
   "cell_type": "markdown",
   "id": "eb0be8ee",
   "metadata": {
    "id": "MpiDd2UxBTXp"
   },
   "source": [
    "> [double click in this cell and type your answer]"
   ]
  },
  {
   "cell_type": "markdown",
   "id": "dcec6364",
   "metadata": {
    "id": "2CcP3cJHBdAj"
   },
   "source": [
    "\n",
    "*   Print out the correlation matrix and the correlation plot.\n",
    "\n",
    "\n"
   ]
  },
  {
   "cell_type": "markdown",
   "id": "21faa1f2",
   "metadata": {
    "id": "-0x_lbGtBlox"
   },
   "source": [
    "> [double click in this cell and type your answer]"
   ]
  },
  {
   "cell_type": "code",
   "execution_count": 79,
   "id": "4c2bdd07",
   "metadata": {
    "id": "SMwx0q_eFlLg"
   },
   "outputs": [
    {
     "data": {
      "text/html": [
       "<table class=\"dataframe\">\n",
       "<caption>A matrix: 6 × 6 of type dbl</caption>\n",
       "<thead>\n",
       "\t<tr><th></th><th scope=col>HOVAL</th><th scope=col>INC</th><th scope=col>CRIME</th><th scope=col>OPEN</th><th scope=col>PLUMB</th><th scope=col>DISCBD</th></tr>\n",
       "</thead>\n",
       "<tbody>\n",
       "\t<tr><th scope=row>HOVAL</th><td> 1.0000</td><td> 0.4999</td><td>-0.57449</td><td> 0.25176</td><td>-0.0204</td><td> 0.48519</td></tr>\n",
       "\t<tr><th scope=row>INC</th><td> 0.4999</td><td> 1.0000</td><td>-0.69559</td><td> 0.15322</td><td>-0.2561</td><td> 0.60033</td></tr>\n",
       "\t<tr><th scope=row>CRIME</th><td>-0.5745</td><td>-0.6956</td><td> 1.00000</td><td>-0.06526</td><td> 0.4327</td><td>-0.74078</td></tr>\n",
       "\t<tr><th scope=row>OPEN</th><td> 0.2518</td><td> 0.1532</td><td>-0.06526</td><td> 1.00000</td><td> 0.1920</td><td> 0.02023</td></tr>\n",
       "\t<tr><th scope=row>PLUMB</th><td>-0.0204</td><td>-0.2561</td><td> 0.43269</td><td> 0.19201</td><td> 1.0000</td><td>-0.57218</td></tr>\n",
       "\t<tr><th scope=row>DISCBD</th><td> 0.4852</td><td> 0.6003</td><td>-0.74078</td><td> 0.02023</td><td>-0.5722</td><td> 1.00000</td></tr>\n",
       "</tbody>\n",
       "</table>\n"
      ],
      "text/latex": [
       "A matrix: 6 × 6 of type dbl\n",
       "\\begin{tabular}{r|llllll}\n",
       "  & HOVAL & INC & CRIME & OPEN & PLUMB & DISCBD\\\\\n",
       "\\hline\n",
       "\tHOVAL &  1.0000 &  0.4999 & -0.57449 &  0.25176 & -0.0204 &  0.48519\\\\\n",
       "\tINC &  0.4999 &  1.0000 & -0.69559 &  0.15322 & -0.2561 &  0.60033\\\\\n",
       "\tCRIME & -0.5745 & -0.6956 &  1.00000 & -0.06526 &  0.4327 & -0.74078\\\\\n",
       "\tOPEN &  0.2518 &  0.1532 & -0.06526 &  1.00000 &  0.1920 &  0.02023\\\\\n",
       "\tPLUMB & -0.0204 & -0.2561 &  0.43269 &  0.19201 &  1.0000 & -0.57218\\\\\n",
       "\tDISCBD &  0.4852 &  0.6003 & -0.74078 &  0.02023 & -0.5722 &  1.00000\\\\\n",
       "\\end{tabular}\n"
      ],
      "text/markdown": [
       "\n",
       "A matrix: 6 × 6 of type dbl\n",
       "\n",
       "| <!--/--> | HOVAL | INC | CRIME | OPEN | PLUMB | DISCBD |\n",
       "|---|---|---|---|---|---|---|\n",
       "| HOVAL |  1.0000 |  0.4999 | -0.57449 |  0.25176 | -0.0204 |  0.48519 |\n",
       "| INC |  0.4999 |  1.0000 | -0.69559 |  0.15322 | -0.2561 |  0.60033 |\n",
       "| CRIME | -0.5745 | -0.6956 |  1.00000 | -0.06526 |  0.4327 | -0.74078 |\n",
       "| OPEN |  0.2518 |  0.1532 | -0.06526 |  1.00000 |  0.1920 |  0.02023 |\n",
       "| PLUMB | -0.0204 | -0.2561 |  0.43269 |  0.19201 |  1.0000 | -0.57218 |\n",
       "| DISCBD |  0.4852 |  0.6003 | -0.74078 |  0.02023 | -0.5722 |  1.00000 |\n",
       "\n"
      ],
      "text/plain": [
       "       HOVAL   INC     CRIME    OPEN     PLUMB   DISCBD  \n",
       "HOVAL   1.0000  0.4999 -0.57449  0.25176 -0.0204  0.48519\n",
       "INC     0.4999  1.0000 -0.69559  0.15322 -0.2561  0.60033\n",
       "CRIME  -0.5745 -0.6956  1.00000 -0.06526  0.4327 -0.74078\n",
       "OPEN    0.2518  0.1532 -0.06526  1.00000  0.1920  0.02023\n",
       "PLUMB  -0.0204 -0.2561  0.43269  0.19201  1.0000 -0.57218\n",
       "DISCBD  0.4852  0.6003 -0.74078  0.02023 -0.5722  1.00000"
      ]
     },
     "metadata": {},
     "output_type": "display_data"
    }
   ],
   "source": [
    "cor(columbusdata_sub) # Correlation"
   ]
  },
  {
   "cell_type": "code",
   "execution_count": 80,
   "id": "7955b137",
   "metadata": {},
   "outputs": [
    {
     "data": {
      "image/png": "[encoded data removed]",
      "text/plain": [
       "Plot with title \"\""
      ]
     },
     "metadata": {},
     "output_type": "display_data"
    }
   ],
   "source": [
    "# Correlation plot using PerformanceAnalytic package\n",
    "chart.Correlation(columbusdata_sub, histogram=TRUE, pch=19)"
   ]
  },
  {
   "cell_type": "code",
   "execution_count": 81,
   "id": "150be5f1",
   "metadata": {
    "id": "gnZWqv1iFqFX"
   },
   "outputs": [
    {
     "data": {
      "image/png": "[encoded data removed]",
      "text/plain": [
       "plot without title"
      ]
     },
     "metadata": {},
     "output_type": "display_data"
    }
   ],
   "source": [
    "# Plot the zones from the Columbus, Ohio data\n",
    "\n",
    "plot(columbus,col='wheat') # Create a plot of columbus\n",
    "# Add labels for each of the zones\n",
    "text(coordinates(columbus),\n",
    "     labels=as.character(columbus@data$POLYID),\n",
    "     cex=0.6,font=2, col=\"darkred\")\n",
    "box(which='outer',lwd=2)"
   ]
  },
  {
   "cell_type": "code",
   "execution_count": 82,
   "id": "222d65ba",
   "metadata": {
    "id": "1387a7f1"
   },
   "outputs": [
    {
     "data": {
      "image/png": "[encoded data removed]",
      "text/plain": [
       "plot without title"
      ]
     },
     "metadata": {},
     "output_type": "display_data"
    }
   ],
   "source": [
    "# Visualising a variable - Binary classification\n",
    "plot(columbus, col = ifelse(columbus$CRIME > 40, \"lightgrey\", \"red\"))"
   ]
  },
  {
   "cell_type": "markdown",
   "id": "50e93541",
   "metadata": {
    "id": "O7GASixBB5TG"
   },
   "source": [
    "<div class=\"alert alert-block alert-warning\"><b>QUESTION: </b> </div>"
   ]
  },
  {
   "cell_type": "markdown",
   "id": "98afc3f3",
   "metadata": {
    "id": "m3cyuCOgB6zb"
   },
   "source": [
    "\n",
    "*   What conclusion/s can you draw about the data distribution (provide the plot)?"
   ]
  },
  {
   "cell_type": "markdown",
   "id": "12492797",
   "metadata": {
    "id": "QGIybD08CIjL"
   },
   "source": [
    "> [double click in this cell and type your answer]"
   ]
  },
  {
   "cell_type": "code",
   "execution_count": 83,
   "id": "5b316452",
   "metadata": {},
   "outputs": [
    {
     "data": {
      "image/png": "[encoded data removed]",
      "text/plain": [
       "plot without title"
      ]
     },
     "metadata": {},
     "output_type": "display_data"
    }
   ],
   "source": [
    "# You could view your data using a more detailed classification\n",
    "# Select Color scale - Create a Palette\n",
    "pal = brewer.pal(7,\"Greens\") # Makes a 7-color spectral palette\n",
    "display.brewer.pal(7, \"Greens\")  # This displays the colors"
   ]
  },
  {
   "cell_type": "code",
   "execution_count": 84,
   "id": "7c8ba620",
   "metadata": {
    "id": "9B18DBz7F2VO"
   },
   "outputs": [],
   "source": [
    "# Classifying Data using classIntervals()\n",
    "# Create class breaks\n",
    "brks.eq = classIntervals(columbus$CRIME, n = 7, style = \"equal\")\n",
    "brks.qt = classIntervals(columbus$CRIME, n = 7, style = \"quantile\")\n",
    "brks.jk = classIntervals(columbus$CRIME, n = 7, style = \"jenks\")\n",
    "# Other style options \"fixed\", \"sd\", \"pretty\", \"kmeans\", \"hclust\", \"bclust\" and \"fisher"
   ]
  },
  {
   "cell_type": "code",
   "execution_count": 85,
   "id": "03e04798",
   "metadata": {
    "id": "2jLIsh5AF66t"
   },
   "outputs": [],
   "source": [
    "# Link the color pallette to the class breaks (categories) using\n",
    "# findColours(CATEGORIES,PALETTE)\n",
    "brks.eqcol = findColours(brks.eq, pal)\n",
    "brks.qtcol = findColours(brks.qt, pal)\n",
    "brks.jkcol = findColours(brks.jk, pal)"
   ]
  },
  {
   "cell_type": "code",
   "execution_count": 89,
   "id": "2f4402c8",
   "metadata": {
    "id": "9609cefe"
   },
   "outputs": [
    {
     "data": {
      "image/png": "[encoded data removed]",
      "text/plain": [
       "Plot with title \"Columbus OH: Crime per 1000 households, 1980  \n",
       " (Equal breaks)\""
      ]
     },
     "metadata": {},
     "output_type": "display_data"
    }
   ],
   "source": [
    "# Plot with Equal Breaks\n",
    "plot(columbus,  col=brks.qtcol, border=\"black\")\n",
    "legend(\"right\", leglabs(round(brks.eq$brks, digits=2)), fill=pal, cex=0.9, bty=\"n\")\n",
    "title(main=\"Columbus OH: Crime per 1000 households, 1980  \\n (Equal breaks)\")"
   ]
  },
  {
   "cell_type": "code",
   "execution_count": 90,
   "id": "cb22fee3",
   "metadata": {
    "id": "h_hU6gBRmt5g"
   },
   "outputs": [
    {
     "data": {
      "image/png": "[encoded data removed]",
      "text/plain": [
       "Plot with title \"Columbus OH: Crime per 1000 households, 1980  \n",
       " (Quantile breaks)\""
      ]
     },
     "metadata": {},
     "output_type": "display_data"
    }
   ],
   "source": [
    "# Plot with Quantile Breaks\n",
    "plot(columbus,  col=brks.qtcol, border=\"black\")\n",
    "legend(\"right\",leglabs(round(brks.qt$brks,digits=2)), fill=pal, cex=0.8, bty=\"n\")\n",
    "title(main=\"Columbus OH: Crime per 1000 households, 1980  \\n (Quantile breaks)\")"
   ]
  },
  {
   "cell_type": "code",
   "execution_count": 91,
   "id": "c0ae666d",
   "metadata": {
    "id": "gkhY6laaClQ1"
   },
   "outputs": [
    {
     "data": {
      "image/png": "[encoded data removed]",
      "text/plain": [
       "Plot with title \"Columbus OH: Crime per 1000 households, 1980  \n",
       " (Jenks breaks)\""
      ]
     },
     "metadata": {},
     "output_type": "display_data"
    }
   ],
   "source": [
    "# Plot with Jenks Breaks\n",
    "plot(columbus,  col=brks.jkcol, border=\"black\")\n",
    "legend(\"right\",leglabs(round(brks.jk$brks,digits=2)), fill=pal, cex=0.8, bty=\"n\")\n",
    "title(main=\"Columbus OH: Crime per 1000 households, 1980  \\n (Jenks breaks)\", cex=0.5)"
   ]
  },
  {
   "cell_type": "markdown",
   "id": "2cf6cc96",
   "metadata": {
    "id": "zMPmgg_8GLuN"
   },
   "source": [
    "<div class=\"alert alert-block alert-warning\"><b>QUESTION: </b> </div>"
   ]
  },
  {
   "cell_type": "markdown",
   "id": "1b395448",
   "metadata": {
    "id": "DPbtVU2jGdQr"
   },
   "source": [
    "*   What conclusions can you draw from the data distribution? And What is the difference between the plots?"
   ]
  },
  {
   "cell_type": "markdown",
   "id": "d3d8275b",
   "metadata": {
    "id": "HM2aiIzYGeRJ"
   },
   "source": [
    "> [double click in this cell and type your answer]\n",
    "\n"
   ]
  },
  {
   "cell_type": "markdown",
   "id": "2e1c0542",
   "metadata": {
    "id": "6f2dd224"
   },
   "source": [
    "**Constructing your spatial weight matrix**\n"
   ]
  },
  {
   "cell_type": "code",
   "execution_count": 92,
   "id": "613b8c85",
   "metadata": {
    "id": "6f8e8b23"
   },
   "outputs": [
    {
     "name": "stdout",
     "output_type": "stream",
     "text": [
      "Characteristics of weights list object:\n",
      "Neighbour list object:\n",
      "Number of regions: 49 \n",
      "Number of nonzero links: 236 \n",
      "Percentage nonzero weights: 9.829 \n",
      "Average number of links: 4.816 \n",
      "Link number distribution:\n",
      "\n",
      " 2  3  4  5  6  7  8  9 10 \n",
      " 5  9 12  5  9  3  4  1  1 \n",
      "5 least connected regions:\n",
      "0 5 41 45 46 with 2 links\n",
      "1 most connected region:\n",
      "19 with 10 links\n",
      "\n",
      "Weights style: W \n",
      "Weights constants summary:\n",
      "   n   nn S0    S1    S2\n",
      "W 49 2401 49 22.75 203.7\n"
     ]
    }
   ],
   "source": [
    "######\n",
    "# Constructing weight matrix from shapefile\n",
    "# To deduce neighbourhood structure from spatial polygons by poly2nb\n",
    "######\n",
    "\n",
    "columbus.nb = poly2nb(columbus, queen = T)  # Queen's case is the default. To change to Rook's case, set \"queen = F i.e  columbus.nb = poly2nb(columbus, queen = F)\n",
    "\n",
    "#row standardize the weight matrix\n",
    "columbus.wts = nb2listw(columbus.nb, style=\"W\")\n",
    "m = length(columbus$CRIME)\n",
    "s = Szero(columbus.wts)\n",
    "\n",
    "# Explore the weight matrix\n",
    "summary(columbus.wts)"
   ]
  },
  {
   "cell_type": "code",
   "execution_count": 93,
   "id": "8f082cbf",
   "metadata": {
    "id": "97bcdf05"
   },
   "outputs": [
    {
     "data": {
      "image/png": "[encoded data removed]",
      "text/plain": [
       "plot without title"
      ]
     },
     "metadata": {},
     "output_type": "display_data"
    }
   ],
   "source": [
    "# coordinates function extracts coordinates of the shapefile\n",
    "columbuscoords <- coordinates(columbus)\n",
    "plot(columbus)\n",
    "plot(columbus.wts, columbuscoords, pch=19, cex=0.6, add=TRUE)"
   ]
  },
  {
   "cell_type": "markdown",
   "id": "4c1ae46e",
   "metadata": {
    "id": "vc5eK04ENfr0"
   },
   "source": [
    "<div class=\"alert alert-block alert-warning\"><b>QUESTION / COMMENTS: </b> </div>"
   ]
  },
  {
   "cell_type": "markdown",
   "id": "4e355542",
   "metadata": {
    "id": "jA2juTKSDZP2"
   },
   "source": [
    "\n",
    "\n",
    "*   What is the average number of links? List the number of least and most connected regions. Provide the weight plot"
   ]
  },
  {
   "cell_type": "markdown",
   "id": "831b6fe5",
   "metadata": {
    "id": "SYlgf6V584L6"
   },
   "source": [
    "> [double click in this cell and write your answer here]"
   ]
  },
  {
   "cell_type": "markdown",
   "id": "8e3d0308",
   "metadata": {
    "id": "4abe4ccf"
   },
   "source": [
    "## 1. Examine Spatial Autocorrelation\n",
    "\n",
    "\n",
    "Compute Moran's I for the CRIME variable  \n",
    "\n",
    "**Null Hypothesis**: There is no spatial autocorrelation for the CRIME variable.\n",
    "\n",
    "**Alt Hypothesis**: There is spatial autocorrelation for the CRIME variable\n"
   ]
  },
  {
   "cell_type": "code",
   "execution_count": 94,
   "id": "52623135",
   "metadata": {
    "id": "Rxfbmp5COEP2"
   },
   "outputs": [
    {
     "data": {
      "text/html": [
       "<dl>\n",
       "\t<dt>$I</dt>\n",
       "\t\t<dd>0.500188557182861</dd>\n",
       "\t<dt>$K</dt>\n",
       "\t\t<dd>2.22594569410253</dd>\n",
       "</dl>\n"
      ],
      "text/latex": [
       "\\begin{description}\n",
       "\\item[\\$I] 0.500188557182861\n",
       "\\item[\\$K] 2.22594569410253\n",
       "\\end{description}\n"
      ],
      "text/markdown": [
       "$I\n",
       ":   0.500188557182861\n",
       "$K\n",
       ":   2.22594569410253\n",
       "\n",
       "\n"
      ],
      "text/plain": [
       "$I\n",
       "[1] 0.5002\n",
       "\n",
       "$K\n",
       "[1] 2.226\n"
      ]
     },
     "metadata": {},
     "output_type": "display_data"
    }
   ],
   "source": [
    "moran(columbus$CRIME, columbus.wts, n = m, S0 = s)"
   ]
  },
  {
   "cell_type": "code",
   "execution_count": 95,
   "id": "19c0797a",
   "metadata": {},
   "outputs": [
    {
     "data": {
      "text/plain": [
       "\n",
       "\tMoran I test under randomisation\n",
       "\n",
       "data:  columbus$CRIME  \n",
       "weights: columbus.wts    \n",
       "\n",
       "Moran I statistic standard deviate = 5.6, p-value = 0.00000001\n",
       "alternative hypothesis: greater\n",
       "sample estimates:\n",
       "Moran I statistic       Expectation          Variance \n",
       "         0.500189         -0.020833          0.008689 \n"
      ]
     },
     "metadata": {},
     "output_type": "display_data"
    }
   ],
   "source": [
    "moran.test(columbus$CRIME, columbus.wts)"
   ]
  },
  {
   "cell_type": "code",
   "execution_count": 96,
   "id": "982f104f",
   "metadata": {
    "id": "Yyw8ra2lOGM6"
   },
   "outputs": [
    {
     "data": {
      "image/png": "[encoded data removed]",
      "text/plain": [
       "plot without title"
      ]
     },
     "metadata": {},
     "output_type": "display_data"
    }
   ],
   "source": [
    "# Moran Scatterplot\n",
    "columbusmp <- moran.plot(columbus$CRIME, columbus.wts,\n",
    "                         labels = as.character(columbus.wts$POLYID),\n",
    "                         xlab = \"CRIME\", ylab = \"Lag of CRIME\")"
   ]
  },
  {
   "cell_type": "markdown",
   "id": "d2438da0",
   "metadata": {
    "id": "SvuYgR83EVp6"
   },
   "source": [
    "<div class=\"alert alert-block alert-warning\"><b>QUESTION / COMMENTS: </b> </div>"
   ]
  },
  {
   "cell_type": "markdown",
   "id": "779d15d4",
   "metadata": {
    "id": "NYboXAQKEVqG"
   },
   "source": [
    "\n",
    "\n",
    "*   Testing Significance of Moran's I Statistic under randomization. What conclusion can you draw from the p-value and from the Moran scatterplot?."
   ]
  },
  {
   "cell_type": "markdown",
   "id": "202e3e86",
   "metadata": {
    "id": "sfrP74ChEVqH"
   },
   "source": [
    "> [double click in this cell and write your answer here]"
   ]
  },
  {
   "cell_type": "markdown",
   "id": "ba897898",
   "metadata": {
    "id": "ddqH3ZwzEuuY"
   },
   "source": [
    "## 4. Spatial Correlograms\n",
    "\n",
    "The spatial correlogram is also a useful tool for examining if autocorrelation is a local pheonomena (only present among close neighbors) or if it extends over the entire study area (higher order neighbors).\n",
    "\n",
    "They show how correlated are pairs of spatial observations when you increase the distance (lag) between them. Significant lags are those that do not cross the horizontal line and are strictly above zero."
   ]
  },
  {
   "cell_type": "code",
   "execution_count": 97,
   "id": "35877fd0",
   "metadata": {
    "id": "7U97Kd0pOP8R"
   },
   "outputs": [
    {
     "data": {
      "text/plain": [
       "Spatial correlogram for columbus$CRIME \n",
       "method: Moran's I\n",
       "       estimate expectation variance standard deviate Pr(I) two sided    \n",
       "1 (49)  0.50019    -0.02083  0.00869             5.59     0.000000023 ***\n",
       "2 (49)  0.14493    -0.02083  0.00536             2.26           0.024 *  \n",
       "3 (49) -0.15226    -0.02083  0.00424            -2.02           0.044 *  \n",
       "4 (49) -0.31531    -0.02083  0.00383            -4.76     0.000001946 ***\n",
       "5 (49) -0.45613    -0.02083  0.00612            -5.57     0.000000026 ***\n",
       "---\n",
       "Signif. codes:  0 '***' 0.001 '**' 0.01 '*' 0.05 '.' 0.1 ' ' 1"
      ]
     },
     "metadata": {},
     "output_type": "display_data"
    }
   ],
   "source": [
    "columbus_cor5 <- sp.correlogram(columbus.nb, columbus$CRIME, order = 5, method = \"I\")\n",
    "columbus_cor5"
   ]
  },
  {
   "cell_type": "code",
   "execution_count": 98,
   "id": "b35d93b0",
   "metadata": {
    "id": "WKevisWrOSxT"
   },
   "outputs": [
    {
     "data": {
      "image/png": "[encoded data removed]",
      "text/plain": [
       "Plot with title \"Correlelogram of CRIME\""
      ]
     },
     "metadata": {},
     "output_type": "display_data"
    }
   ],
   "source": [
    "plot(columbus_cor5, main = \"Correlelogram of CRIME\")"
   ]
  },
  {
   "cell_type": "markdown",
   "id": "899b9e07",
   "metadata": {
    "id": "jDozt0fhFHzT"
   },
   "source": [
    "<div class=\"alert alert-block alert-warning\"><b>QUESTION / COMMENTS: </b> </div>"
   ]
  },
  {
   "cell_type": "markdown",
   "id": "517b7b81",
   "metadata": {
    "id": "j2c5tXJzFHzf"
   },
   "source": [
    "*   What conclusion can you draw from the correlelogram plot, post the summary of the results from Spatial correlogram for `columbus$CRIME`."
   ]
  },
  {
   "cell_type": "markdown",
   "id": "d788dac3",
   "metadata": {
    "id": "jncSOgOgFHzf"
   },
   "source": [
    "> [double click in this cell and write your answer here]"
   ]
  },
  {
   "cell_type": "markdown",
   "id": "77cd8783",
   "metadata": {
    "id": "fwwyvGwbFVHf"
   },
   "source": [
    "## 5. Local Indicators of Spatial Autocorrelation (LISA)"
   ]
  },
  {
   "cell_type": "code",
   "execution_count": 99,
   "id": "6a2a7bd2",
   "metadata": {
    "id": "-1cQLtnUOdUA"
   },
   "outputs": [],
   "source": [
    "### Local Moran's I\n",
    "columbus_locm <- localmoran(columbus$CRIME, columbus.wts)\n",
    "\n",
    "CRIME <- scale(columbus$CRIME)\n",
    "columbus$lag_sCRIME <- lag.listw(columbus.wts, CRIME)"
   ]
  },
  {
   "cell_type": "code",
   "execution_count": 100,
   "id": "86502ba5",
   "metadata": {
    "id": "3f534ae7"
   },
   "outputs": [],
   "source": [
    "# Identify the Moran plot quadrant for each observation\n",
    "columbus$quad_sig <- NA\n",
    "columbus[(columbus$CRIME >= 0 & columbus$lag_sCRIME >= 0) & (columbus_locm[, 5] <= 0.05),\n",
    "         \"quad_sig\"] <- 1\n",
    "columbus[(columbus$CRIME <= 0 & columbus$lag_sCRIME <= 0) & (columbus_locm[, 5] <= 0.05),\n",
    "         \"quad_sig\"] <- 2\n",
    "columbus[(columbus$CRIME >= 0 & columbus$lag_sCRIME <= 0) & (columbus_locm[, 5] <= 0.05),\n",
    "         \"quad_sig\"] <- 3\n",
    "columbus[(columbus$CRIME <= 0 & columbus$lag_sCRIME >= 0) & (columbus_locm[, 5] <= 0.05),\n",
    "         \"quad_sig\"] <- 4\n",
    "columbus[(columbus_locm[, 5] > 0.05), \"quad_sig\"] <- 5"
   ]
  },
  {
   "cell_type": "code",
   "execution_count": 101,
   "id": "c91b5edd",
   "metadata": {
    "id": "aol0ov_WFrD4"
   },
   "outputs": [
    {
     "data": {
      "image/png": "[encoded data removed]",
      "text/plain": [
       "plot without title"
      ]
     },
     "metadata": {},
     "output_type": "display_data"
    }
   ],
   "source": [
    "#Plot Results\n",
    "breaks <- seq(1, 5, 1)\n",
    "labels <- c(\"High-High\", \"Low-Low\", \"High-Low\", \"Low-High\", \"Not Signif.\")\n",
    "np <- findInterval(columbus$quad_sig, breaks)\n",
    "colors <- c(\"red\", \"blue\", \"lightpink\", \"skyblue2\", \"white\")\n",
    "plot(columbus, col = colors[np])\n",
    "mtext(\"Local Moran's I\\n% Crime in Columbus \", cex = 0.7, side = 3,\n",
    "      line = 1)\n",
    "legend(\"left\", legend = labels, fill = colors, bty = \"n\",cex = 0.8)"
   ]
  },
  {
   "cell_type": "markdown",
   "id": "24525a26",
   "metadata": {
    "id": "jXzzd9aNOndj"
   },
   "source": [
    "<div class=\"alert alert-block alert-warning\"><b>QUESTIONS / COMMENTS: </b> </div>"
   ]
  },
  {
   "cell_type": "markdown",
   "id": "6c2f7210",
   "metadata": {
    "id": "jNqOvpZtF0uS"
   },
   "source": [
    "\n",
    "\n",
    "*   Paste the summary of `columbus_locm`, `CRIME`, and `columbus$lag_sCRIME` results on your report. Also, provide the plot of results on your report.\n",
    "\n"
   ]
  },
  {
   "cell_type": "markdown",
   "id": "7f491b35",
   "metadata": {
    "id": "6Py8t48L9Ibr"
   },
   "source": [
    "> [double click in this cell and write your answer here]"
   ]
  },
  {
   "cell_type": "markdown",
   "id": "12cb47e6",
   "metadata": {},
   "source": [
    "**Create a non-spatial model for predicting CRIME and do some diagnostics**"
   ]
  },
  {
   "cell_type": "code",
   "execution_count": 102,
   "id": "f738539b",
   "metadata": {},
   "outputs": [],
   "source": [
    "# OLS Regression to predict CRIME using INC and HOVAL as independent variables\n",
    "reg1 <- lm(columbusdata$CRIME ~ columbusdata$INC + columbusdata$HOVAL )"
   ]
  },
  {
   "cell_type": "code",
   "execution_count": 103,
   "id": "7490443f",
   "metadata": {},
   "outputs": [
    {
     "data": {
      "text/plain": [
       "\n",
       "\tMoran I test under randomisation\n",
       "\n",
       "data:  reg1$residuals  \n",
       "weights: columbus.wts    \n",
       "\n",
       "Moran I statistic standard deviate = 2.7, p-value = 0.008\n",
       "alternative hypothesis: two.sided\n",
       "sample estimates:\n",
       "Moran I statistic       Expectation          Variance \n",
       "         0.222109         -0.020833          0.008391 \n"
      ]
     },
     "metadata": {},
     "output_type": "display_data"
    }
   ],
   "source": [
    "# Moran's I on the residuals \n",
    "moran.test(reg1$residuals, columbus.wts, alternative=\"two.sided\")"
   ]
  },
  {
   "cell_type": "code",
   "execution_count": 105,
   "id": "3dcfd5c6",
   "metadata": {},
   "outputs": [
    {
     "data": {
      "image/png": "[encoded data removed]",
      "text/plain": [
       "plot without title"
      ]
     },
     "metadata": {},
     "output_type": "display_data"
    }
   ],
   "source": [
    "# Plot the residuals\n",
    "res <- residuals(reg1)\n",
    "classes_sd <- classIntervals(res, n=4, style = \"sd\", rtimes = 1, dataPrecision = 3)\n",
    "res.palette <- colorRampPalette(c(\"blue\",\"white\",\"red\"), space = \"rgb\")\n",
    "pal <- res.palette(4)\n",
    "cols <- findColours(classes_sd, pal)\n",
    "par(mar=rep(0, 4))\n",
    "plot(columbus, col=cols)#, main=\"Residuals from OLS Model\")#, border=\"grey\")\n",
    "legend(\"bottomright\",cex=0.7,fill=attr(cols,\"palette\"), bty=\"n\",\n",
    "       legend=names(attr(cols, \"table\")), title=\"Residuals from OLS Model\",ncol=4)"
   ]
  },
  {
   "cell_type": "markdown",
   "id": "2e85d416",
   "metadata": {
    "id": "jXzzd9aNOndj"
   },
   "source": [
    "<div class=\"alert alert-block alert-warning\"><b>QUESTIONS / COMMENTS: </b> </div>"
   ]
  },
  {
   "cell_type": "markdown",
   "id": "49837411",
   "metadata": {
    "id": "jNqOvpZtF0uS"
   },
   "source": [
    "\n",
    "\n",
    "*   What conclusion can you draw from the Multiple and Adjusted R-squared. Paste the summary of reg1 results on your report?"
   ]
  },
  {
   "cell_type": "markdown",
   "id": "4e41a0c7",
   "metadata": {
    "id": "6Py8t48L9Ibr"
   },
   "source": [
    "> [double click in this cell and write your answer here]"
   ]
  },
  {
   "cell_type": "markdown",
   "id": "bcc6234f",
   "metadata": {},
   "source": [
    "- Is there autocorrelation in the residuals? provide the plot of the residuals? Paste the results of the Moran’s I on your report."
   ]
  },
  {
   "cell_type": "markdown",
   "id": "936632d9",
   "metadata": {},
   "source": [
    ">"
   ]
  },
  {
   "cell_type": "markdown",
   "id": "eb136737",
   "metadata": {},
   "source": [
    "<div class=\"alert alert-block alert-danger\"><b> Stop here.</b> </div>"
   ]
  },
  {
   "cell_type": "markdown",
   "id": "c6bc264b",
   "metadata": {
    "id": "24e46d27"
   },
   "source": [
    "## 7. Geographically weighted regression\n",
    "\n",
    "For this section, we use the `spgwr` package.\n",
    "\n",
    "**Aim:** Fit a regression model at each location using observations inversely weighted by their distance to the location. This results in one set of coefficients for each observation.\n",
    "\n",
    "We fit the same model as before: `CRIME ~ INC + HOVAL`.  "
   ]
  },
  {
   "cell_type": "markdown",
   "id": "9985bd28",
   "metadata": {
    "id": "W7BfK1t7HI3z"
   },
   "source": [
    "<div class=\"alert alert-block alert-info\"><b>NOTE: </b>  </div>"
   ]
  },
  {
   "cell_type": "markdown",
   "id": "63306124",
   "metadata": {
    "id": "zZlRSsjnHKvS"
   },
   "source": [
    "> The x and y values represent the centroids of the census tracts.\n",
    "> The first step is to determine the kernel bandwidth. The default kernel is Gaussian. The kernel together with the bandwidth specify the matrix of weights."
   ]
  },
  {
   "cell_type": "code",
   "execution_count": 106,
   "id": "faa29135",
   "metadata": {
    "id": "e1a5d932"
   },
   "outputs": [
    {
     "data": {
      "text/html": [
       "<style>\n",
       ".list-inline {list-style: none; margin:0; padding: 0}\n",
       ".list-inline>li {display: inline-block}\n",
       ".list-inline>li:not(:last-child)::after {content: \"\\00b7\"; padding: 0 .5ex}\n",
       "</style>\n",
       "<ol class=list-inline><li>'AREA'</li><li>'PERIMETER'</li><li>'COLUMBUS.'</li><li>'COLUMBUS.I'</li><li>'POLYID'</li><li>'NEIG'</li><li>'HOVAL'</li><li>'INC'</li><li>'CRIME'</li><li>'OPEN'</li><li>'PLUMB'</li><li>'DISCBD'</li><li>'X'</li><li>'Y'</li><li>'AREA'</li><li>'NSA'</li><li>'NSB'</li><li>'EW'</li><li>'CP'</li><li>'THOUS'</li><li>'NEIGNO'</li><li>'PERIM'</li></ol>\n"
      ],
      "text/latex": [
       "\\begin{enumerate*}\n",
       "\\item 'AREA'\n",
       "\\item 'PERIMETER'\n",
       "\\item 'COLUMBUS.'\n",
       "\\item 'COLUMBUS.I'\n",
       "\\item 'POLYID'\n",
       "\\item 'NEIG'\n",
       "\\item 'HOVAL'\n",
       "\\item 'INC'\n",
       "\\item 'CRIME'\n",
       "\\item 'OPEN'\n",
       "\\item 'PLUMB'\n",
       "\\item 'DISCBD'\n",
       "\\item 'X'\n",
       "\\item 'Y'\n",
       "\\item 'AREA'\n",
       "\\item 'NSA'\n",
       "\\item 'NSB'\n",
       "\\item 'EW'\n",
       "\\item 'CP'\n",
       "\\item 'THOUS'\n",
       "\\item 'NEIGNO'\n",
       "\\item 'PERIM'\n",
       "\\end{enumerate*}\n"
      ],
      "text/markdown": [
       "1. 'AREA'\n",
       "2. 'PERIMETER'\n",
       "3. 'COLUMBUS.'\n",
       "4. 'COLUMBUS.I'\n",
       "5. 'POLYID'\n",
       "6. 'NEIG'\n",
       "7. 'HOVAL'\n",
       "8. 'INC'\n",
       "9. 'CRIME'\n",
       "10. 'OPEN'\n",
       "11. 'PLUMB'\n",
       "12. 'DISCBD'\n",
       "13. 'X'\n",
       "14. 'Y'\n",
       "15. 'AREA'\n",
       "16. 'NSA'\n",
       "17. 'NSB'\n",
       "18. 'EW'\n",
       "19. 'CP'\n",
       "20. 'THOUS'\n",
       "21. 'NEIGNO'\n",
       "22. 'PERIM'\n",
       "\n",
       "\n"
      ],
      "text/plain": [
       " [1] \"AREA\"       \"PERIMETER\"  \"COLUMBUS.\"  \"COLUMBUS.I\" \"POLYID\"    \n",
       " [6] \"NEIG\"       \"HOVAL\"      \"INC\"        \"CRIME\"      \"OPEN\"      \n",
       "[11] \"PLUMB\"      \"DISCBD\"     \"X\"          \"Y\"          \"AREA\"      \n",
       "[16] \"NSA\"        \"NSB\"        \"EW\"         \"CP\"         \"THOUS\"     \n",
       "[21] \"NEIGNO\"     \"PERIM\"     "
      ]
     },
     "metadata": {},
     "output_type": "display_data"
    }
   ],
   "source": [
    "#library(spgwr)\n",
    "data(columbus)\n",
    "names(columbus)"
   ]
  },
  {
   "cell_type": "code",
   "execution_count": 37,
   "id": "31ea2be2",
   "metadata": {
    "id": "yMPzOYZ8GQ3r"
   },
   "outputs": [
    {
     "ename": "ERROR",
     "evalue": "Error in gwr.sel(crime ~ income + housing, data = columbus, coords = cbind(columbus$x, : could not find function \"gwr.sel\"\n",
     "output_type": "error",
     "traceback": [
      "Error in gwr.sel(crime ~ income + housing, data = columbus, coords = cbind(columbus$x, : could not find function \"gwr.sel\"\nTraceback:\n"
     ]
    }
   ],
   "source": [
    "# GWR with Gauss\n",
    "columbus.bw <- gwr.sel(crime ~ income + housing,\n",
    "                  data=columbus,\n",
    "                  coords=cbind(columbus$X, columbus$Y))"
   ]
  },
  {
   "cell_type": "code",
   "execution_count": 108,
   "id": "a992f9fa",
   "metadata": {},
   "outputs": [
    {
     "ename": "ERROR",
     "evalue": "Error in gwr.sel(columbus$CRIME ~ columbus$INC + columbus$HOVAL, data = columbus, : could not find function \"gwr.sel\"\n",
     "output_type": "error",
     "traceback": [
      "Error in gwr.sel(columbus$CRIME ~ columbus$INC + columbus$HOVAL, data = columbus, : could not find function \"gwr.sel\"\nTraceback:\n"
     ]
    }
   ],
   "source": [
    "# GWR with Gauss\n",
    "columbus.bw <- gwr.sel(columbus$CRIME ~ columbus$INC + columbus$HOVAL,\n",
    "                  data=columbus,\n",
    "                  coords=cbind(columbus$X, columbus$Y))"
   ]
  },
  {
   "cell_type": "code",
   "execution_count": 59,
   "id": "e7453e5e",
   "metadata": {},
   "outputs": [
    {
     "data": {
      "text/plain": [
       "\n",
       "Call:\n",
       "lm(formula = columbus$CRIME ~ columbus$INC + columbus$HOVAL, \n",
       "    data = columbus)\n",
       "\n",
       "Residuals:\n",
       "   Min     1Q Median     3Q    Max \n",
       "-34.42  -6.39  -1.58   9.05  28.65 \n",
       "\n",
       "Coefficients:\n",
       "               Estimate Std. Error t value             Pr(>|t|)    \n",
       "(Intercept)      68.619      4.735   14.49 < 0.0000000000000002 ***\n",
       "columbus$INC     -1.597      0.334   -4.78             0.000018 ***\n",
       "columbus$HOVAL   -0.274      0.103   -2.65                0.011 *  \n",
       "---\n",
       "Signif. codes:  0 '***' 0.001 '**' 0.01 '*' 0.05 '.' 0.1 ' ' 1\n",
       "\n",
       "Residual standard error: 11.4 on 46 degrees of freedom\n",
       "Multiple R-squared:  0.552,\tAdjusted R-squared:  0.533 \n",
       "F-statistic: 28.4 on 2 and 46 DF,  p-value: 0.00000000934\n"
      ]
     },
     "metadata": {},
     "output_type": "display_data"
    }
   ],
   "source": [
    "columbus.lm <- lm(columbus$CRIME ~ columbus$INC + columbus$HOVAL, \n",
    "               data=columbus)\n",
    "summary(columbus.lm)"
   ]
  },
  {
   "cell_type": "code",
   "execution_count": 60,
   "id": "49e9dfe2",
   "metadata": {},
   "outputs": [
    {
     "data": {
      "text/html": [
       "<style>\n",
       ".list-inline {list-style: none; margin:0; padding: 0}\n",
       ".list-inline>li {display: inline-block}\n",
       ".list-inline>li:not(:last-child)::after {content: \"\\00b7\"; padding: 0 .5ex}\n",
       "</style>\n",
       "<ol class=list-inline><li>'coefficients'</li><li>'residuals'</li><li>'effects'</li><li>'rank'</li><li>'fitted.values'</li><li>'assign'</li><li>'qr'</li><li>'df.residual'</li><li>'xlevels'</li><li>'call'</li><li>'terms'</li><li>'model'</li></ol>\n"
      ],
      "text/latex": [
       "\\begin{enumerate*}\n",
       "\\item 'coefficients'\n",
       "\\item 'residuals'\n",
       "\\item 'effects'\n",
       "\\item 'rank'\n",
       "\\item 'fitted.values'\n",
       "\\item 'assign'\n",
       "\\item 'qr'\n",
       "\\item 'df.residual'\n",
       "\\item 'xlevels'\n",
       "\\item 'call'\n",
       "\\item 'terms'\n",
       "\\item 'model'\n",
       "\\end{enumerate*}\n"
      ],
      "text/markdown": [
       "1. 'coefficients'\n",
       "2. 'residuals'\n",
       "3. 'effects'\n",
       "4. 'rank'\n",
       "5. 'fitted.values'\n",
       "6. 'assign'\n",
       "7. 'qr'\n",
       "8. 'df.residual'\n",
       "9. 'xlevels'\n",
       "10. 'call'\n",
       "11. 'terms'\n",
       "12. 'model'\n",
       "\n",
       "\n"
      ],
      "text/plain": [
       " [1] \"coefficients\"  \"residuals\"     \"effects\"       \"rank\"         \n",
       " [5] \"fitted.values\" \"assign\"        \"qr\"            \"df.residual\"  \n",
       " [9] \"xlevels\"       \"call\"          \"terms\"         \"model\"        "
      ]
     },
     "metadata": {},
     "output_type": "display_data"
    }
   ],
   "source": [
    "names(columbus.lm)"
   ]
  },
  {
   "cell_type": "code",
   "execution_count": 63,
   "id": "aeb7e7cb",
   "metadata": {},
   "outputs": [],
   "source": [
    "# Add the fitted values as a new column in the dataframe\n",
    "columbus$columbus$CRIME.lm <- columbus.lm$fitted.values"
   ]
  },
  {
   "cell_type": "code",
   "execution_count": 68,
   "id": "fc4122c5",
   "metadata": {},
   "outputs": [],
   "source": [
    "#head(columbus, 1)"
   ]
  },
  {
   "cell_type": "code",
   "execution_count": 67,
   "id": "c6f41a1f",
   "metadata": {},
   "outputs": [
    {
     "data": {
      "image/png": "[encoded data removed]",
      "text/plain": [
       "Plot with title \"Regression fits of diamond values\""
      ]
     },
     "metadata": {},
     "output_type": "display_data"
    }
   ],
   "source": [
    "# Plot the relationship between true diamond values\n",
    "#   and linear model fitted values\n",
    "\n",
    "plot(x = columbus$CRIME,                          # True values on x-axis\n",
    "     y = crime.lm$fitted.values,               # fitted values on y-axis\n",
    "     xlab = \"True Values\",\n",
    "     ylab = \"Model Fitted Values\",\n",
    "     main = \"Regression fits of diamond values\")\n",
    "\n",
    "abline(b = 1, a = 0)                             # Values should fall around this line!"
   ]
  },
  {
   "cell_type": "code",
   "execution_count": 38,
   "id": "04e78a60",
   "metadata": {
    "id": "qlo2Bjt6HYiH"
   },
   "outputs": [
    {
     "ename": "ERROR",
     "evalue": "Error in parse(text = x, srcfile = src): <text>:1:6: unexpected symbol\n1: Next fit\n         ^\n",
     "output_type": "error",
     "traceback": [
      "Error in parse(text = x, srcfile = src): <text>:1:6: unexpected symbol\n1: Next fit\n         ^\nTraceback:\n"
     ]
    }
   ],
   "source": [
    "Next fit a geographic regression. This is done with the gwr() function.\n",
    "# Brackets around the code prints the results\n",
    "(crime.gauss <- gwr(crime ~ income + housing,\n",
    "                  data=columbus,\n",
    "                  coords=cbind(columbus$x, columbus$y),\n",
    "                  bandwidth=crime.bw))\n"
   ]
  },
  {
   "cell_type": "code",
   "execution_count": null,
   "id": "4b7e34d6",
   "metadata": {
    "id": "4NVthBpBHfEA"
   },
   "outputs": [],
   "source": [
    "# Distribution of betas\n",
    "\n",
    "d <- cbind(crime.gauss$SDF$income,crime.gauss$SDF$housing)\n",
    "\n",
    "par(mar=c(3,4,2,2))\n",
    "boxplot(d,xaxt=\"n\",yaxt=\"n\",pars=list(boxwex=0.3))\n",
    "axis(1,at=1:2,label=c(\"Income\",\"Housing\"))\n",
    "axis(2,at=seq(-4,2,.2),las=1)\n",
    "abline(h=0,lty=\"4343\",col=\"#7E7E7E\")\n",
    "mtext(\"Beta i\",2,line=3)\n"
   ]
  },
  {
   "cell_type": "code",
   "execution_count": null,
   "id": "1f1575d3",
   "metadata": {},
   "outputs": [],
   "source": [
    "#-- update with spatialreg\n",
    "library(spatialreg)\n",
    "data(columbus)\n",
    "\n",
    "crime.bw <- bw.reg(columbus$CRIME ~ columbus$INC + columbus$HOVAL, \n",
    "                   data=columbus,\n",
    "                   coords=cbind(columbus$X, columbus$Y),\n",
    "                   method=\"cv\")\n",
    "\n",
    "crime.gwr <- GWR(CRIME ~ INC + HOVAL,\n",
    "                 data=columbus,\n",
    "                 coords=cbind(columbus$X, columbus$Y),\n",
    "                 bandwidth=crime.bw)\n",
    "\n",
    "# Distribution of betas\n",
    "d <- cbind(crime.gwr$SDF$INC, crime.gwr$SDF$HOVAL)\n",
    "d\n",
    "\n",
    "# Plot\n",
    "par(mar=c(3,4,2,2))\n",
    "boxplot(d, xaxt=\"n\", yaxt=\"n\", pars=list(boxwex=0.3))\n",
    "axis(1, at=1:2, label=c(\"Income\", \"Housing\"))\n",
    "axis(2, at=seq(-4, 2, 0.2), las=1)\n",
    "abline(h=0, lty=\"4343\", col=\"#7E7E7E\")\n",
    "mtext(\"Beta i\", 2, line=3)"
   ]
  },
  {
   "cell_type": "markdown",
   "id": "0a45bec6",
   "metadata": {
    "id": "Ae3YFR3dO9TO"
   },
   "source": [
    "<div class=\"alert alert-block alert-warning\"><b>QUESTIONS / COMMENTS: </b> </div>"
   ]
  },
  {
   "cell_type": "markdown",
   "id": "9f4df010",
   "metadata": {
    "id": "siKbHJWGGYE3"
   },
   "source": [
    "\n",
    "\n",
    "*   Provide your own code that plots the geographic weighted regression (gwr), paste the plotted model and draw a conclusion\n",
    "\n"
   ]
  },
  {
   "cell_type": "markdown",
   "id": "ea4b35d0",
   "metadata": {
    "id": "gwa4AO77srsC"
   },
   "source": [
    "> [double click in this cell and discuss the results here]"
   ]
  },
  {
   "cell_type": "markdown",
   "id": "ea190572",
   "metadata": {
    "id": "Uod_wSP0GiFE"
   },
   "source": [
    "\n",
    "\n",
    "*   What conclusion can you draw from the boxplot? (paste the plot on your report)\n",
    "\n"
   ]
  },
  {
   "cell_type": "markdown",
   "id": "9097bb53",
   "metadata": {
    "id": "Xmf-BR0xGimq"
   },
   "source": [
    "> [double click in this cell and discuss the results here]"
   ]
  }
 ],
 "metadata": {
  "colab": {
   "gpuType": "T4",
   "provenance": []
  },
  "kernelspec": {
   "display_name": "R",
   "language": "R",
   "name": "ir"
  }
 },
 "nbformat": 4,
 "nbformat_minor": 5
}
