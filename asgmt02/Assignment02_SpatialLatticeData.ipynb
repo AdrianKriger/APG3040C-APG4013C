{
 "cells": [
  {
   "cell_type": "markdown",
   "id": "01d05302",
   "metadata": {
    "id": "ssQERr6mW2OY"
   },
   "source": [
    "_is an R notebook_"
   ]
  },
  {
   "cell_type": "markdown",
   "id": "3a8ea2c2",
   "metadata": {
    "id": "872c8361"
   },
   "source": [
    "# Spatial Statistics - Assignment 2 (Analysing Spatial Lattice Data)"
   ]
  },
  {
   "cell_type": "markdown",
   "id": "e6b3b8fc",
   "metadata": {
    "id": "abcd54b2"
   },
   "source": [
    "**Introduction**\n",
    "\n",
    "This assignment is an opportunity for you to further explore the `R` programming language by working through lattice data.\n",
    "\n",
    "The key aspects covered:\n",
    "\n",
    "> 0) Basic Exploratory Data Analysis (EDA) and Exploratory Spatial Data Analysis (ESDA)  \n",
    "> 1) Moran's I test for spatial autocorrelation  \n",
    "> 2) Moran's I significance testing through simulation  \n",
    "> 3) Moran's scatterplot  \n",
    "> 4) Correlogram  \n",
    "> 5) Local Indicators of Spatial Autocorrelation (LISA)  \n",
    "> 6) Ordinary Least Squares Regression  \n",
    "> 7) Geographically Weighted Regresssion (GWR)"
   ]
  },
  {
   "cell_type": "markdown",
   "id": "b6d90b17",
   "metadata": {
    "id": "7P-5WFeYA-BV"
   },
   "source": [
    "<div class=\"alert alert-block alert-danger\"><b>REQUIRED: </b></div>"
   ]
  },
  {
   "cell_type": "markdown",
   "id": "17ec6c1d",
   "metadata": {
    "id": "5dc3b673"
   },
   "source": [
    "**You are required to insert your outputs and any comment into this document.** The document you submit should therefore contain the existing text in addition to:\n",
    "\n",
    "\n",
    "> *   Plots and other outputs from executing the code chunks  \n",
    "> *   Discussion of your plots and other outputs as well as conclusions reached.\n",
    "\n",
    "This should also include any hypotheses and assumptions made as well as factors that may affect your conclusions. </div>"
   ]
  },
  {
   "cell_type": "markdown",
   "id": "d05a499e",
   "metadata": {
    "id": "14e1e5a9"
   },
   "source": [
    "To help you with interpreting your outputs, please consult the following resources:\n",
    "\n",
    "|            |            | \n",
    "|------------|:-----------|\n",
    "|Chapter 10 - 12:| **Introduction to geographic information systems by Kang-tsung (2011)**. A copy of this is available on Amathuba inside the Resources folder, Study Material & Books |"
   ]
  },
  {
   "cell_type": "markdown",
   "id": "3aa7adc8",
   "metadata": {
    "id": "SC5qPHL97RY-"
   },
   "source": [
    "**GETTING STARTED**\n",
    "\n",
    "Retrieve and set your working directory\n",
    "\n",
    "Use the R code chunk below to:\n",
    "\n",
    "> a) clear your R environment  \n",
    "> b) print the current working directory  \n",
    "> c) set your preferred working directory"
   ]
  },
  {
   "cell_type": "code",
   "execution_count": null,
   "id": "a2cfae8b",
   "metadata": {
    "id": "a8c681f8"
   },
   "outputs": [],
   "source": [
    "###################################################\n",
    "### Initial settings:\n",
    "###################################################\n",
    "\n",
    "rm(list=ls())\n",
    "getwd()\n",
    "#setwd(\"~/student\")\n",
    "\n",
    "# Load the required packages\n",
    "# We will use different packages to achieve different goals. The following code chunk assumes that the packages have been installed and loads the packages.\n",
    "\n",
    "Run install.packages(\"PackageName\"), if the package is not installed on your computer (PackageName is the name of the package you want installed)\n",
    "# Example of how to install a package:\n",
    "# install.packages(\"rgdal\")\n",
    "options(scipen = 999) # turn off scientific notation (so p-values are readable)\n",
    "options(digits = 4)\n",
    "\n",
    "library(RColorBrewer)\n",
    "library(classInt)\n",
    "library(sp)\n",
    "library(rgdal)\n",
    "library(maptools)\n",
    "library(spdep)\n",
    "library(spgwr)\n",
    "library(PerformanceAnalytics)\n"
   ]
  },
  {
   "cell_type": "markdown",
   "id": "7c1f19d5",
   "metadata": {
    "id": "w88EKwqEC31E"
   },
   "source": [
    "<div class=\"alert alert-block alert-success\"><b>THE DATA: </b> </div>"
   ]
  },
  {
   "cell_type": "markdown",
   "id": "2d79068c",
   "metadata": {
    "id": "39228f58"
   },
   "source": [
    "This assignment is based on the  [Columbus crime data](https://search.r-project.org/CRAN/refmans/RgoogleMaps/html/columbus.html).  \n",
    "\n",
    "In this practical you will be working with the Columbus crime data. The data set contains information on crime (combined residential burglaries and residential thefts per thousand households) as well as other variables obtained from [Columbus, OH](https://en.wikipedia.org/wiki/Columbus,_Ohio) in 1980. Unit of analysis: 49 neighbourhoods in Columbus, OH.\n",
    "\n",
    "The variables contained in the dataset are:  \n",
    "> •\tAREA : computed by ArcView  \n",
    "> •\tPERIMETER : computed by ArcView  \n",
    "> •\tCOLUMBUS_ : internal polygon ID (ignore)  \n",
    "> •\tCOLUMBUS_I : another internal polygon ID (ignore)  \n",
    "> •\tPOLYID : yet another polygon ID  \n",
    "> •\tNEIG : neighborhood id value (1-49); conforms to id value used in Spatial Econometrics book.  \n",
    "> •\tHOVAL : housing value (in 1,000dollars)  \n",
    "> •\tINC : household income (in 1,000dollars)  \n",
    "> •\tCRIME : residential burglaries and vehicle thefts per thousand households in the neighborhood  \n",
    "> •\tOPEN : open space in neighborhood  \n",
    "> •\tPLUMB : percentage housing units without plumbing  \n",
    "> •\tDISCBD : distance to CBD  \n",
    "> •\tX : x coordinate (in arbitrary digitizing units, not polygon coordinates)  \n",
    "> •\tY : y coordinate (in arbitrary digitizing units, not polygon coordinates)  \n",
    "> •\tNSA : north-south dummy (North=1)  \n",
    "> •\tNSB : north-south dummy (North=1)  \n",
    "> •\tEW : east-west dummy (East=1)  \n",
    "> •\tCP : core-periphery dummy (Core=1)  \n",
    "> •\tTHOUS : constant=1,000  \n",
    "> •\tNEIGNO : NEIG+1,000, alternative neighborhood id value  \n",
    "\n",
    "The data comes in the form of a shapefile  in the `spdep` package.  \n",
    "\n",
    "Analysis will focus on CRIME, HOVAL, INC, OPEN, PLUM, DISCBD, X and Y."
   ]
  },
  {
   "cell_type": "code",
   "execution_count": null,
   "id": "287b97fa",
   "metadata": {
    "id": "VOWq0JHeEjN7"
   },
   "outputs": [],
   "source": [
    "##############\n",
    "### Read shapefile\n",
    "##############\n",
    "# Several packages to do this\n",
    "# rgdal::readOGR\n",
    "# maptools::readShapePoly\n",
    "\n",
    "# Read data into R\n",
    "columbus <- readShapePoly(system.file(\"etc/shapes/columbus.shp\", package=\"spdep\")[1])\n",
    "\n",
    "class(columbus) # Class of object\n"
   ]
  },
  {
   "cell_type": "code",
   "execution_count": null,
   "id": "20c2196b",
   "metadata": {
    "id": "9CPREJNAFLVu"
   },
   "outputs": [],
   "source": [
    "slotNames(columbus) # Check the Components of the SpatialPolygonsDataFrame"
   ]
  },
  {
   "cell_type": "code",
   "execution_count": null,
   "id": "1a3692bb",
   "metadata": {
    "id": "g-I8oFVxFQBp"
   },
   "outputs": [],
   "source": [
    "str(columbus)  # Full structure of the object"
   ]
  },
  {
   "cell_type": "code",
   "execution_count": null,
   "id": "fe4b60dd",
   "metadata": {
    "id": "ffab46db"
   },
   "outputs": [],
   "source": [
    "# Change map projection if necessary\n",
    "# readshape <- spTransform(readshape, CRS(\"+init=epsg:2154\"))\n",
    "\n",
    "# Example of reading shapefile and setting projection if working with your own data\n",
    "#  projection <- \"+proj=longlat +ellps=WGS84 +datum=WGS84\"\n",
    "# readshape <-readShapePoly(\"datashp.shp\", proj4string=CRS(projection))\n",
    "# The gstat package assumes that data are projected,\n",
    "# i.e. they should not be provided as lattitude/longitude # and have to tell it which vectors are the corrdinates\n",
    "\n",
    "# The command below specifies the coordinates and changes the dataframe\n",
    "# to a \"SpatialPointDataFrame\", which is necessary for variogram modelling"
   ]
  },
  {
   "cell_type": "markdown",
   "id": "033a5565",
   "metadata": {
    "id": "2xHtrzSA__-g"
   },
   "source": [
    "## 0. Exploratory Data Analysis (EDA) and Exploratory Spatial Data Analysis (ESDA)"
   ]
  },
  {
   "cell_type": "markdown",
   "id": "fa585667",
   "metadata": {
    "id": "3_JWK16VAWB_"
   },
   "source": [
    "It is always advisable to **visualise your data** prior to more formal analysis.\n",
    "EDA and ESDA will help assess:\n",
    "\n",
    "> •\tthe key characteristics of the data including possible data errors  \n",
    "> •\tthe existence and location of nonrandom local patterns in the data  \n",
    "> •\tthe presence of any outliers\n",
    "\n",
    "Also useful in suggesting pottential associations between variables.\n",
    "EDA and ESDA cannot _explain_ the observed patterns.\n",
    "\n",
    "Formal testing of hypothesis should be carried out by means of multivariate regression modelling.\n"
   ]
  },
  {
   "cell_type": "code",
   "execution_count": null,
   "id": "2706ae21",
   "metadata": {
    "id": "pBihLHieFdoI"
   },
   "outputs": [],
   "source": [
    "pacman::p_unload(graphics)\n",
    "## The following packages are a base install and will not be unloaded:\n",
    "## graphics\n",
    "#Extract the data frame from your shapefile\n",
    "columbusdata <- columbus@data\n",
    "\n",
    "class(columbusdata) # Class of object\n"
   ]
  },
  {
   "cell_type": "code",
   "execution_count": null,
   "id": "7fc822ce",
   "metadata": {
    "id": "vCgz0cn_FX6H"
   },
   "outputs": [],
   "source": [
    "names(columbusdata) # Names of variables"
   ]
  },
  {
   "cell_type": "code",
   "execution_count": null,
   "id": "84408d13",
   "metadata": {
    "id": "wpmv44DJFhcg"
   },
   "outputs": [],
   "source": [
    "str(columbusdata)   # Structure of the object (gives you details of variable types)"
   ]
  },
  {
   "cell_type": "markdown",
   "id": "b6dbef72",
   "metadata": {
    "id": "GR81kpPDA9sH"
   },
   "source": [
    "<div class=\"alert alert-block alert-warning\"><b>TASK / QUESTIONS: </b> </div>"
   ]
  },
  {
   "cell_type": "markdown",
   "id": "c92ca9a5",
   "metadata": {
    "id": "3SEX3RiaBBhC"
   },
   "source": [
    "*   Create a subset data from the columbusdata (select relevant variables and generate summary statistics etc.). Select the numerical variables in columns 7 to 12 and store the subset data into columbusdata_sub variable. Use the summary function to print the summary statistics."
   ]
  },
  {
   "cell_type": "markdown",
   "id": "a4801e16",
   "metadata": {
    "id": "PYa4hf_iBHuZ"
   },
   "source": [
    "> [double click in this cell and type your answer]"
   ]
  },
  {
   "cell_type": "markdown",
   "id": "fbe11e8e",
   "metadata": {
    "id": "FzujzYOQBH4N"
   },
   "source": [
    "*   What is the mean, maximum and minimum variable for each data set?"
   ]
  },
  {
   "cell_type": "markdown",
   "id": "adba2cc0",
   "metadata": {
    "id": "MpiDd2UxBTXp"
   },
   "source": [
    "> [double click in this cell and type your answer]"
   ]
  },
  {
   "cell_type": "markdown",
   "id": "b3610b8e",
   "metadata": {
    "id": "2CcP3cJHBdAj"
   },
   "source": [
    "\n",
    "*   Print out the correlation matrix and the correlation plot.\n",
    "\n",
    "\n"
   ]
  },
  {
   "cell_type": "markdown",
   "id": "bfc32c55",
   "metadata": {
    "id": "-0x_lbGtBlox"
   },
   "source": [
    "> [double click in this cell and type your answer]"
   ]
  },
  {
   "cell_type": "code",
   "execution_count": null,
   "id": "793c249a",
   "metadata": {
    "id": "SMwx0q_eFlLg"
   },
   "outputs": [],
   "source": [
    "cor(columbusdata_sub) # Correlation\n",
    "# Correlation plot using PerformanceAnalytic package\n",
    "chart.Correlation(columbusdata_sub, histogram=TRUE, pch=19)"
   ]
  },
  {
   "cell_type": "code",
   "execution_count": null,
   "id": "fc9f20e7",
   "metadata": {
    "id": "gnZWqv1iFqFX"
   },
   "outputs": [],
   "source": [
    "# Plot the zones from the Columbus, Ohio data\n",
    "\n",
    "plot(columbus,col='wheat') # Create a plot of columbus\n",
    "# Add labels for each of the zones\n",
    "text(coordinates(columbus),\n",
    "     labels=as.character(columbus@data$POLYID),\n",
    "     cex=0.6,font=2, col=\"darkred\")\n",
    "box(which='outer',lwd=2)\n"
   ]
  },
  {
   "cell_type": "code",
   "execution_count": null,
   "id": "2ac03380",
   "metadata": {
    "id": "1387a7f1"
   },
   "outputs": [],
   "source": [
    "# Visualising a variable - Binary classification\n",
    "plot(columbus, col = ifelse(columbus$CRIME > 40, \"lightgrey\", \"red\"))"
   ]
  },
  {
   "cell_type": "markdown",
   "id": "d029afe8",
   "metadata": {
    "id": "O7GASixBB5TG"
   },
   "source": [
    "<div class=\"alert alert-block alert-warning\"><b>QUESTION: </b> </div>"
   ]
  },
  {
   "cell_type": "markdown",
   "id": "7fbccbf4",
   "metadata": {
    "id": "m3cyuCOgB6zb"
   },
   "source": [
    "\n",
    "*   What conclusion/s can you draw about the data distribution (provide the plot)?"
   ]
  },
  {
   "cell_type": "markdown",
   "id": "614d5b60",
   "metadata": {
    "id": "QGIybD08CIjL"
   },
   "source": [
    "> [double click in this cell and type your answer]"
   ]
  },
  {
   "cell_type": "code",
   "execution_count": null,
   "id": "f8b6e9ca",
   "metadata": {
    "id": "9B18DBz7F2VO"
   },
   "outputs": [],
   "source": [
    "# Classifying Data using classIntervals()\n",
    "# Create class breaks\n",
    "brks.eq = classIntervals(columbus$CRIME, n = 7, style = \"equal\")\n",
    "brks.qt = classIntervals(columbus$CRIME, n = 7, style = \"quantile\")\n",
    "brks.jk = classIntervals(columbus$CRIME, n = 7, style = \"jenks\")\n",
    "# Other style options \"fixed\", \"sd\", \"pretty\", \"kmeans\", \"hclust\", \"bclust\" and \"fisher"
   ]
  },
  {
   "cell_type": "code",
   "execution_count": null,
   "id": "2e659e4a",
   "metadata": {
    "id": "2jLIsh5AF66t"
   },
   "outputs": [],
   "source": [
    "# Link the color pallette to the class breaks (categories) using\n",
    "# findColours(CATEGORIES,PALETTE)\n",
    "brks.eqcol = findColours(brks.eq,pal)\n",
    "brks.qtcol = findColours(brks.qt,pal)\n",
    "brks.jkcol = findColours(brks.jk,pal)\n"
   ]
  },
  {
   "cell_type": "code",
   "execution_count": null,
   "id": "2e6d5d29",
   "metadata": {
    "id": "9609cefe"
   },
   "outputs": [],
   "source": [
    "# Plot with Equal Breaks\n",
    "plot(columbus,  col=brks.qtcol, border=\"black\")\n",
    "legend(\"topleft\",leglabs(round(brks.eq$brks,digits=2)), fill=pal, cex=0.8, bty=\"n\")\n",
    "title(main=\"Columbus OH: Crime per 1000 households, 1980  \\n (Equal breaks)\")\n"
   ]
  },
  {
   "cell_type": "code",
   "execution_count": null,
   "id": "5c6b2adf",
   "metadata": {
    "id": "h_hU6gBRmt5g"
   },
   "outputs": [],
   "source": [
    "# Plot with Quantile Breaks\n",
    "plot(columbus,  col=brks.qtcol, border=\"black\")\n",
    "legend(\"topleft\",leglabs(round(brks.qt$brks,digits=2)), fill=pal, cex=0.8, bty=\"n\")\n",
    "title(main=\"Columbus OH: Crime per 1000 households, 1980  \\n (Quantile breaks)\")"
   ]
  },
  {
   "cell_type": "code",
   "execution_count": null,
   "id": "b62db74f",
   "metadata": {
    "id": "gkhY6laaClQ1"
   },
   "outputs": [],
   "source": [
    "# Plot with Jenks Breaks\n",
    "plot(columbus,  col=brks.jkcol, border=\"black\")\n",
    "legend(\"topleft\",leglabs(round(brks.jk$brks,digits=2)), fill=pal, cex=0.8, bty=\"n\")\n",
    "title(main=\"Columbus OH: Crime per 1000 households, 1980  \\n (Jenks breaks)\", cex=0.5)"
   ]
  },
  {
   "cell_type": "markdown",
   "id": "579029d9",
   "metadata": {
    "id": "zMPmgg_8GLuN"
   },
   "source": [
    "<div class=\"alert alert-block alert-warning\"><b>QUESTION: </b> </div>"
   ]
  },
  {
   "cell_type": "markdown",
   "id": "5f84ace1",
   "metadata": {
    "id": "DPbtVU2jGdQr"
   },
   "source": [
    "*   What conclusions can you draw from the data distribution? And What is the difference between the plots?"
   ]
  },
  {
   "cell_type": "markdown",
   "id": "98e5c56d",
   "metadata": {
    "id": "HM2aiIzYGeRJ"
   },
   "source": [
    "> [double click in this cell and type your answer]\n",
    "\n"
   ]
  },
  {
   "cell_type": "markdown",
   "id": "4449aff1",
   "metadata": {
    "id": "6f2dd224"
   },
   "source": [
    "**Constructing your spatial weight matrix**\n"
   ]
  },
  {
   "cell_type": "code",
   "execution_count": null,
   "id": "8fec6045",
   "metadata": {
    "id": "6f8e8b23"
   },
   "outputs": [],
   "source": [
    "######\n",
    "# Constructing weight matrix from shapefile\n",
    "# To deduce neighbourhood structure from spatial polygons by poly2nb\n",
    "######\n",
    "\n",
    "columbus.nb = poly2nb(columbus, queen = T)  # Queen's case is the default. To change to Rook's case, set \"queen = F i.e  columbus.nb = poly2nb(columbus, queen = F)\n",
    "\n",
    "#row standardize the weight matrix\n",
    "columbus.wts = nb2listw(columbus.nb, style=\"W\")\n",
    "m = length(columbus$CRIME)\n",
    "s = Szero(columbus.wts)\n",
    "\n",
    "# Explore the weight matrix\n",
    "summary(columbus.wts)\n"
   ]
  },
  {
   "cell_type": "code",
   "execution_count": null,
   "id": "5d9360fb",
   "metadata": {
    "id": "97bcdf05"
   },
   "outputs": [],
   "source": [
    "# coordinates function extracts coordinates of the shapefile\n",
    "columbuscoords <- coordinates(columbus)\n",
    "plot(columbus)\n",
    "plot(columbus.wts, columbuscoords, pch=19, cex=0.6, add=TRUE)"
   ]
  },
  {
   "cell_type": "markdown",
   "id": "b072f2b6",
   "metadata": {
    "id": "vc5eK04ENfr0"
   },
   "source": [
    "<div class=\"alert alert-block alert-warning\"><b>QUESTION / COMMENTS: </b> </div>"
   ]
  },
  {
   "cell_type": "markdown",
   "id": "96579839",
   "metadata": {
    "id": "jA2juTKSDZP2"
   },
   "source": [
    "\n",
    "\n",
    "*   What is the average number of links? List the number of least and most connected regions. Provide the weight plot"
   ]
  },
  {
   "cell_type": "markdown",
   "id": "5835775c",
   "metadata": {
    "id": "SYlgf6V584L6"
   },
   "source": [
    "> [double click in this cell and write your answer here]"
   ]
  },
  {
   "cell_type": "markdown",
   "id": "81582a4b",
   "metadata": {
    "id": "4abe4ccf"
   },
   "source": [
    "## 1. Examine Spatial Autocorrelation\n",
    "\n",
    "\n",
    "Compute Moran's I for the CRIME variable  \n",
    "\n",
    "**Null Hypothesis**: There is no spatial autocorrelation for the CRIME variable.\n",
    "\n",
    "**Alt Hypothesis**: There is spatial autocorrelation for the CRIME variable\n"
   ]
  },
  {
   "cell_type": "code",
   "execution_count": null,
   "id": "603f4529",
   "metadata": {
    "id": "Rxfbmp5COEP2"
   },
   "outputs": [],
   "source": [
    "moran(columbus$CRIME, columbus.wts, n = m, S0 = s)\n",
    "\n",
    "moran.test(columbus$CRIME, columbus.wts)\n",
    "##\n",
    "##  Moran I test under randomisation\n",
    "##\n",
    "## data:  columbus$CRIME\n",
    "## weights: columbus.wts\n",
    "##\n",
    "## Moran I statistic standard deviate = 5.6, p-value = 0.00000001\n",
    "## alternative hypothesis: greater\n",
    "## sample estimates:\n",
    "## Moran I statistic       Expectation          Variance\n",
    "##          0.500189         -0.020833          0.008689\n"
   ]
  },
  {
   "cell_type": "code",
   "execution_count": null,
   "id": "43c1cfa0",
   "metadata": {
    "id": "Yyw8ra2lOGM6"
   },
   "outputs": [],
   "source": [
    "# Moran Scatterplot\n",
    "columbusmp <- moran.plot(columbus$CRIME, columbus.wts,\n",
    "                         labels = as.character(columbus.wts$POLYID),\n",
    "                         xlab = \"CRIME\", ylab = \"Lag of CRIME\")\n"
   ]
  },
  {
   "cell_type": "markdown",
   "id": "0585bc93",
   "metadata": {
    "id": "SvuYgR83EVp6"
   },
   "source": [
    "<div class=\"alert alert-block alert-warning\"><b>QUESTION / COMMENTS: </b> </div>"
   ]
  },
  {
   "cell_type": "markdown",
   "id": "37998cfe",
   "metadata": {
    "id": "NYboXAQKEVqG"
   },
   "source": [
    "\n",
    "\n",
    "*   Testing Significance of Moran's I Statistic under randomization. What conclusion can you draw from the p-value and from the Moran scatterplot?."
   ]
  },
  {
   "cell_type": "markdown",
   "id": "a8d8f2b4",
   "metadata": {
    "id": "sfrP74ChEVqH"
   },
   "source": [
    "> [double click in this cell and write your answer here]"
   ]
  },
  {
   "cell_type": "markdown",
   "id": "c7ddea12",
   "metadata": {
    "id": "ddqH3ZwzEuuY"
   },
   "source": [
    "## 4. Spatial Correlograms\n",
    "\n",
    "The spatial correlogram is also a useful tool for examining if autocorrelation is a local pheonomena (only present among close neighbors) or if it extends over the entire study area (higher order neighbors).\n",
    "\n",
    "They show how correlated are pairs of spatial observations when you increase the distance (lag) between them. Significant lags are those that do not cross the horizontal line and are strictly above zero."
   ]
  },
  {
   "cell_type": "code",
   "execution_count": null,
   "id": "e48c8ddb",
   "metadata": {
    "id": "7U97Kd0pOP8R"
   },
   "outputs": [],
   "source": [
    "columbus_cor5 <- sp.correlogram(columbus.nb, columbus$CRIME, order = 5, method = \"I\")\n",
    "columbus_cor5"
   ]
  },
  {
   "cell_type": "code",
   "execution_count": null,
   "id": "047d0979",
   "metadata": {
    "id": "WKevisWrOSxT"
   },
   "outputs": [],
   "source": [
    "plot(columbus_cor5, main = \"Correlelogram of CRIME\")"
   ]
  },
  {
   "cell_type": "markdown",
   "id": "c71dd7e2",
   "metadata": {
    "id": "jDozt0fhFHzT"
   },
   "source": [
    "<div class=\"alert alert-block alert-warning\"><b>QUESTION / COMMENTS: </b> </div>"
   ]
  },
  {
   "cell_type": "markdown",
   "id": "f04bad07",
   "metadata": {
    "id": "j2c5tXJzFHzf"
   },
   "source": [
    "*   What conclusion can you draw from the correlelogram plot, post the summary of the results from Spatial correlogram for `columbus$CRIME`."
   ]
  },
  {
   "cell_type": "markdown",
   "id": "a40eb4b0",
   "metadata": {
    "id": "jncSOgOgFHzf"
   },
   "source": [
    "> [double click in this cell and write your answer here]"
   ]
  },
  {
   "cell_type": "markdown",
   "id": "9a97f7b6",
   "metadata": {
    "id": "fwwyvGwbFVHf"
   },
   "source": [
    "## 5. Local Indicators of Spatial Autocorrelation (LISA)"
   ]
  },
  {
   "cell_type": "code",
   "execution_count": null,
   "id": "b6f6d867",
   "metadata": {
    "id": "-1cQLtnUOdUA"
   },
   "outputs": [],
   "source": [
    "### Local Moran's I\n",
    "\n",
    "columbus_locm <- localmoran(columbus$CRIME, columbus.wts)\n",
    "\n",
    "CRIME <- scale(columbus$CRIME)\n",
    "columbus$lag_sCRIME <- lag.listw(columbus.wts, CRIME)"
   ]
  },
  {
   "cell_type": "code",
   "execution_count": null,
   "id": "3c1dbd7a",
   "metadata": {
    "id": "3f534ae7"
   },
   "outputs": [],
   "source": [
    "# Identify the Moran plot quadrant for each observation\n",
    "columbus$quad_sig <- NA\n",
    "columbus[(columbus$CRIME >= 0 & columbus$lag_sCRIME >= 0) & (columbus_locm[, 5] <= 0.05),\n",
    "         \"quad_sig\"] <- 1\n",
    "columbus[(columbus$CRIME <= 0 & columbus$lag_sCRIME <= 0) & (columbus_locm[, 5] <= 0.05),\n",
    "         \"quad_sig\"] <- 2\n",
    "columbus[(columbus$CRIME >= 0 & columbus$lag_sCRIME <= 0) & (columbus_locm[, 5] <= 0.05),\n",
    "         \"quad_sig\"] <- 3\n",
    "columbus[(columbus$CRIME <= 0 & columbus$lag_sCRIME >= 0) & (columbus_locm[, 5] <= 0.05),\n",
    "         \"quad_sig\"] <- 4\n",
    "columbus[(columbus_locm[, 5] > 0.05), \"quad_sig\"] <- 5"
   ]
  },
  {
   "cell_type": "code",
   "execution_count": null,
   "id": "fbf3ba44",
   "metadata": {
    "id": "aol0ov_WFrD4"
   },
   "outputs": [],
   "source": [
    "#Plot Results\n",
    "breaks <- seq(1, 5, 1)\n",
    "labels <- c(\"High-High\", \"Low-Low\", \"High-Low\", \"Low-High\", \"Not Signif.\")\n",
    "np <- findInterval(columbus$quad_sig, breaks)\n",
    "colors <- c(\"red\", \"blue\", \"lightpink\", \"skyblue2\", \"white\")\n",
    "plot(columbus, col = colors[np])\n",
    "mtext(\"Local Moran's I\\n% Crime in Columbus \", cex = 0.7, side = 3,\n",
    "      line = 1)\n",
    "legend(\"topleft\", legend = labels, fill = colors, bty = \"n\",cex = 0.7)"
   ]
  },
  {
   "cell_type": "markdown",
   "id": "aedcb395",
   "metadata": {
    "id": "jXzzd9aNOndj"
   },
   "source": [
    "<div class=\"alert alert-block alert-warning\"><b>QUESTIONS / COMMENTS: </b> </div>"
   ]
  },
  {
   "cell_type": "markdown",
   "id": "e8e0c66d",
   "metadata": {
    "id": "jNqOvpZtF0uS"
   },
   "source": [
    "\n",
    "\n",
    "*   Paste the summary of `columbus_locm`, `CRIME`, and `columbus$lag_sCRIME` results on your report. Also, provide the plot of results on your report.\n",
    "\n"
   ]
  },
  {
   "cell_type": "markdown",
   "id": "72baad7a",
   "metadata": {
    "id": "6Py8t48L9Ibr"
   },
   "source": [
    "> [double click in this cell and write your answer here]"
   ]
  },
  {
   "cell_type": "markdown",
   "id": "8b04f701",
   "metadata": {
    "id": "24e46d27"
   },
   "source": [
    "## 7. Geographically weighted regression\n",
    "\n",
    "For this section, we use the version of the Columbus data available in the `spgwr` package.\n",
    "\n",
    "**Aim:** Fit a regression model at each location using observations inversely weighted by their distance to the location. This results in one set of coefficients for each observation.\n",
    "\n",
    "We fit the same model as before: `crime ~ income + housing`.  "
   ]
  },
  {
   "cell_type": "markdown",
   "id": "166da16c",
   "metadata": {
    "id": "W7BfK1t7HI3z"
   },
   "source": [
    "<div class=\"alert alert-block alert-info\"><b>NOTE: </b>  </div>"
   ]
  },
  {
   "cell_type": "markdown",
   "id": "0eb6499b",
   "metadata": {
    "id": "zZlRSsjnHKvS"
   },
   "source": [
    "> The x and y values represent the centroids of the census tracts.\n",
    "> The first step is to determine the kernel bandwidth. The default kernel is Gaussian. The kernel together with the bandwidth specify the matrix of weights."
   ]
  },
  {
   "cell_type": "code",
   "execution_count": null,
   "id": "f9f96278",
   "metadata": {
    "id": "e1a5d932"
   },
   "outputs": [],
   "source": [
    "library(spgwr)\n",
    "data(columbus)\n",
    "names(columbus)"
   ]
  },
  {
   "cell_type": "code",
   "execution_count": null,
   "id": "304647d2",
   "metadata": {
    "id": "yMPzOYZ8GQ3r"
   },
   "outputs": [],
   "source": [
    "# GWR with Gauss\n",
    "crime.bw <- gwr.sel(crime ~ income + housing,\n",
    "                  data=columbus,\n",
    "                  coords=cbind(columbus$x, columbus$y))\n",
    "\n"
   ]
  },
  {
   "cell_type": "code",
   "execution_count": null,
   "id": "89726373",
   "metadata": {
    "id": "qlo2Bjt6HYiH"
   },
   "outputs": [],
   "source": [
    "Next fit a geographic regression. This is done with the gwr() function.\n",
    "# Brackets around the code prints the results\n",
    "(crime.gauss <- gwr(crime ~ income + housing,\n",
    "                  data=columbus,\n",
    "                  coords=cbind(columbus$x, columbus$y),\n",
    "                  bandwidth=crime.bw))\n"
   ]
  },
  {
   "cell_type": "code",
   "execution_count": null,
   "id": "ec361bee",
   "metadata": {
    "id": "4NVthBpBHfEA"
   },
   "outputs": [],
   "source": [
    "# Distribution of betas\n",
    "\n",
    "d <- cbind(crime.gauss$SDF$income,crime.gauss$SDF$housing)\n",
    "\n",
    "par(mar=c(3,4,2,2))\n",
    "boxplot(d,xaxt=\"n\",yaxt=\"n\",pars=list(boxwex=0.3))\n",
    "axis(1,at=1:2,label=c(\"Income\",\"Housing\"))\n",
    "axis(2,at=seq(-4,2,.2),las=1)\n",
    "abline(h=0,lty=\"4343\",col=\"#7E7E7E\")\n",
    "mtext(\"Beta i\",2,line=3)\n"
   ]
  },
  {
   "cell_type": "markdown",
   "id": "2592e13d",
   "metadata": {
    "id": "Ae3YFR3dO9TO"
   },
   "source": [
    "<div class=\"alert alert-block alert-warning\"><b>QUESTIONS / COMMENTS: </b> </div>"
   ]
  },
  {
   "cell_type": "markdown",
   "id": "6d28939e",
   "metadata": {
    "id": "siKbHJWGGYE3"
   },
   "source": [
    "\n",
    "\n",
    "*   Provide your own code that plots the geographic weighted regression (gwr), paste the plotted model and draw a conclusion\n",
    "\n"
   ]
  },
  {
   "cell_type": "markdown",
   "id": "2304f125",
   "metadata": {
    "id": "gwa4AO77srsC"
   },
   "source": [
    "> [double click in this cell and discuss the results here]"
   ]
  },
  {
   "cell_type": "markdown",
   "id": "848deb82",
   "metadata": {
    "id": "Uod_wSP0GiFE"
   },
   "source": [
    "\n",
    "\n",
    "*   What conclusion can you draw from the boxplot? (paste the plot on your report)\n",
    "\n"
   ]
  },
  {
   "cell_type": "markdown",
   "id": "13920308",
   "metadata": {
    "id": "Xmf-BR0xGimq"
   },
   "source": [
    "> [double click in this cell and discuss the results here]"
   ]
  }
 ],
 "metadata": {
  "colab": {
   "gpuType": "T4",
   "provenance": []
  },
  "kernelspec": {
   "display_name": "R",
   "name": "ir"
  },
  "language_info": {
   "name": "R"
  }
 },
 "nbformat": 4,
 "nbformat_minor": 5
}
