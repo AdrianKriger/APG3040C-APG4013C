{
  "cells": [
    {
      "cell_type": "markdown",
      "metadata": {
        "id": "otIUJqwzs2Nt"
      },
      "source": [
        "_this notebook is meant to execute **`R`** in a `conda` environment_"
      ]
    },
    {
      "cell_type": "markdown",
      "metadata": {
        "id": "XM7JB6i8Yw0F"
      },
      "source": [
        "# Introduction"
      ]
    },
    {
      "cell_type": "markdown",
      "metadata": {
        "id": "NxPz5S-nkm8P"
      },
      "source": [
        "\n",
        "We end our journey of *higher order* **_Trend Surface analysis with R_** with this Notebook. Here we cover a lot of ground:\n",
        "\n",
        "<ol type = \"1\">\n",
        "    <li>Generalized Least Squares</li>\n",
        "    \n",
        "    a) Variogram Modeling and\n",
        "    b) Ordinary Kriging\n",
        "\n",
        "  <li>GLS-Regression Kriging</li>\n",
        "    <li>Universal Kriging</li>\n",
        "</ol>\n"
      ]
    },
    {
      "cell_type": "markdown",
      "metadata": {
        "id": "KFNCLYYkY85X"
      },
      "source": [
        "<div class=\"alert alert-block alert-danger\"><b>REQUIRED: </b></div>"
      ]
    },
    {
      "cell_type": "markdown",
      "metadata": {
        "id": "Sl_xCyleZNoy"
      },
      "source": [
        "**You are required to insert your outputs and any comment into this document.**\n",
        "\n",
        "The document you submit should therefore contain the existing text in addition to:\n",
        "\n",
        "> *   Plots and other outputs from executing the code chunks  \n",
        "> *   Discussion of your plots and other outputs as well as conclusions reached.\n",
        "\n",
        "This should also include any hypotheses and assumptions made as well as factors that may affect your conclusions."
      ]
    },
    {
      "cell_type": "markdown",
      "metadata": {
        "id": "IhzwSEK7Yyq7"
      },
      "source": [
        "## 1. Generalized Least Squares"
      ]
    },
    {
      "cell_type": "markdown",
      "metadata": {
        "id": "m-4xB7bIRzX-"
      },
      "source": [
        "At the close of the previous Notebook we talked about **_spatial autocorrelation_**. Patterns and particularly residuals (errors) have a spatial structure / are connected.\n",
        "\n",
        "What we mean by this is; that even though an estimate _(prediction)_ is unbiased the **structure of the underlying data can be**. A general error term applied to our entire study area might not be ideal.\n",
        "\n",
        "To overcome the challenge; we use Generalized Least Squares and introduce a **covariance structure between residuals**. Our `linear model`, from [02_extraTrendSurface](https://github.com/AdrianKriger/APG3040C-APG4013C/blob/main/cptFlatsAquifer/02_extraTrendSurface.ipynb) then becomes:\n",
        "\n",
        "$$\n",
        "    𝜷_{gls} = (X^TC^{-1}X)^{-1}X^TC^{-1} . y\n",
        "$$"
      ]
    },
    {
      "cell_type": "markdown",
      "source": [
        "We see our new term includes $C$; the covariance matrix of the spatially correlated residuals.\n",
        "\n",
        "The obvious question is. _'OK; so what are the correlated residuals?'_\n",
        "And the answer is: _'We dont know'_.\n",
        "\n",
        "What we do is fit the covariance structure (based on imprecise observations) at the same time we calculate the trend surface coefficients."
      ],
      "metadata": {
        "id": "REPFpQvm_7Re"
      }
    },
    {
      "cell_type": "markdown",
      "metadata": {
        "id": "HetaRstpU-1O"
      },
      "source": [
        "_please install necessary packages through a `prompt` interface; as per the [requirements.txt](https://github.com/AdrianKriger/APG3040C-APG4013C/blob/main/cptFlatsAquifer/requirements.txt) Not here_."
      ]
    },
    {
      "cell_type": "code",
      "execution_count": null,
      "metadata": {
        "id": "0VUxWyWiHwGa"
      },
      "outputs": [],
      "source": [
        "options(prompt=\"> \", continue=\"+ \", digits=3, width=70, repr.plot.width=7, repr.plot.height=7)\n",
        "rm(list=ls())\n",
        "\n",
        "# Install necessary packages: You only need to run this part once\n",
        "##- install.packages(c(\"sf\", \"gstat\", \"ggplot2\", \"gridExtra\",\"units\", \"terra\",\"mgcv\",\"fields\",\"nlme\"))\n",
        "\n",
        "#library(repr)\n",
        "library(sf)       # 'simple features' representations of spatial objects\n",
        "library(gstat)    # geostatistics\n",
        "library(ggplot2)  #\n",
        "library(gridExtra)\n",
        "library(units) # units of measure\n",
        "library(terra) # gridded data structures (\"rasters\")\n",
        "library(mgcv)\n",
        "library(fields)\n",
        "library(nlme)"
      ]
    },
    {
      "cell_type": "code",
      "execution_count": null,
      "metadata": {
        "id": "Vwx5MtuPHwJa"
      },
      "outputs": [],
      "source": [
        "options(show.signif.stars=FALSE)"
      ]
    },
    {
      "cell_type": "markdown",
      "metadata": {
        "id": "7HJyftV7Vk3J"
      },
      "source": [
        "We've already covered creating a 500m grid and 2nd-order prediction and interpolation with previous Notebooks and move through the introduction quickly."
      ]
    },
    {
      "cell_type": "code",
      "execution_count": null,
      "metadata": {
        "id": "bX-M7KzpYjin"
      },
      "outputs": [],
      "source": [
        "file = 'cptFlatsAquifer_watertable4.txt'"
      ]
    },
    {
      "cell_type": "code",
      "execution_count": null,
      "metadata": {
        "id": "SRAMZddJKO28"
      },
      "outputs": [],
      "source": [
        "#-- import\n",
        "cfaq <- read.csv(file, header = 1, sep = ',', dec = '.') #sep = '\\t',\n",
        "#- set crs\n",
        "cfaq.sf <- st_as_sf(cfaq, coords=c(\"long\", \"lat\"), crs = 4326) #wgs84\n",
        "#- transform to local crs\n",
        "cfaq.sf <- st_transform(cfaq.sf, crs = 32734) #utm 34s\n",
        "cfaq$X <- st_coordinates(cfaq.sf)[, \"X\"]\n",
        "cfaq$Y <- st_coordinates(cfaq.sf)[, \"Y\"]\n",
        "\n",
        "model.ts2 <- lm(waterLevel ~ X + Y + I(X^2) + I(Y^2) + I(X*Y), data=drop_units(cfaq))\n",
        "\n",
        "#--  create grid\n",
        "(n.col <- length(seq.e <- seq(min.x <- floor(min(cfaq$X)/1000)*1000,\n",
        "                              max.x <- ceiling(max(cfaq$X)/1000)*1000, by=1000)))\n",
        "(n.row <- length(seq.n <- seq(min.y <- floor(min(cfaq$Y)/1000)*1000,\n",
        "                              max.y <- ceiling(max(cfaq$Y)/1000)*1000, by=1000)))\n",
        "\n",
        "#we want a XXXXm grid\n",
        "grid <- rast(nrows = n.row, ncols = n.col,\n",
        "             xmin=min.x, xmax=max.x,\n",
        "             ymin=min.y, ymax=max.y, crs = st_crs(cfaq.sf)$proj4string,\n",
        "             resolution = 500, names=\"waterLevel\")\n",
        "\n",
        "values(grid) <- NA_real_\n",
        "\n",
        "grid.df <- as.data.frame(grid, xy = TRUE, na.rm = FALSE)\n",
        "names(grid.df)[1:2] <- c(\"X\", \"Y\") # match the names of the point dataset\n",
        "summary(grid.df)\n",
        "\n",
        "#--\n",
        "pred.ts2 <- predict.lm(model.ts2,\n",
        "                       newdata = grid.df,\n",
        "                       interval = \"prediction\", level = 0.95)\n",
        "\n",
        "#-- add the three prediction fields (fit, lower, upper) to the data\n",
        "grid.df[, 3:5] <- pred.ts2\n",
        "names(grid.df)[3:5] <- c(\"ts2.fit\", \"ts2.lwr\", \"ts2.upr\")\n",
        "\n",
        "#-- gam\n",
        "model.gam <- gam(waterLevel ~ s(X, Y, k = 29), data=drop_units(cfaq))\n",
        "#-- predict aquifer elevation, standard error of prediction using the fitted GAM\n",
        "tmp <- predict.gam(object=model.gam,\n",
        "                   newdata=grid.df,\n",
        "                   se.fit=TRUE)\n",
        "\n",
        "grid.df$pred.gam <- as.numeric(tmp$fit)\n",
        "grid.df$pred.gam.se <- as.numeric(tmp$se.fit)\n",
        "\n",
        "grid.gam <- grid\n",
        "values(grid.gam) <- grid.df$pred.gam\n",
        "\n"
      ]
    },
    {
      "cell_type": "code",
      "execution_count": null,
      "metadata": {
        "id": "04QHBJER5XrD",
        "outputId": "62de649a-ecc0-4d5e-eb9d-716330434bf1"
      },
      "outputs": [
        {
          "data": {
            "text/html": [
              "<table>\n",
              "<thead><tr><th scope=col>name</th><th scope=col>long</th><th scope=col>lat</th><th scope=col>waterLevel</th><th scope=col>elevation</th><th scope=col>depth</th><th scope=col>X</th><th scope=col>Y</th></tr></thead>\n",
              "<tbody>\n",
              "\t<tr><td>EM_01  </td><td>18.6   </td><td>-34.1  </td><td>14.4   </td><td>20.4   </td><td>63     </td><td>274222 </td><td>6227351</td></tr>\n",
              "\t<tr><td>EM_27  </td><td>18.6   </td><td>-34.1  </td><td>16.2   </td><td>20.0   </td><td>48     </td><td>276191 </td><td>6227571</td></tr>\n",
              "\t<tr><td>EM_29  </td><td>18.6   </td><td>-34.1  </td><td>18.8   </td><td>25.5   </td><td>39     </td><td>279770 </td><td>6229369</td></tr>\n",
              "</tbody>\n",
              "</table>\n"
            ],
            "text/latex": [
              "\\begin{tabular}{r|llllllll}\n",
              " name & long & lat & waterLevel & elevation & depth & X & Y\\\\\n",
              "\\hline\n",
              "\t EM\\_01 & 18.6    & -34.1   & 14.4    & 20.4    & 63      & 274222  & 6227351\\\\\n",
              "\t EM\\_27 & 18.6    & -34.1   & 16.2    & 20.0    & 48      & 276191  & 6227571\\\\\n",
              "\t EM\\_29 & 18.6    & -34.1   & 18.8    & 25.5    & 39      & 279770  & 6229369\\\\\n",
              "\\end{tabular}\n"
            ],
            "text/markdown": [
              "\n",
              "| name | long | lat | waterLevel | elevation | depth | X | Y |\n",
              "|---|---|---|---|---|---|---|---|\n",
              "| EM_01   | 18.6    | -34.1   | 14.4    | 20.4    | 63      | 274222  | 6227351 |\n",
              "| EM_27   | 18.6    | -34.1   | 16.2    | 20.0    | 48      | 276191  | 6227571 |\n",
              "| EM_29   | 18.6    | -34.1   | 18.8    | 25.5    | 39      | 279770  | 6229369 |\n",
              "\n"
            ],
            "text/plain": [
              "  name  long lat   waterLevel elevation depth X      Y      \n",
              "1 EM_01 18.6 -34.1 14.4       20.4      63    274222 6227351\n",
              "2 EM_27 18.6 -34.1 16.2       20.0      48    276191 6227571\n",
              "3 EM_29 18.6 -34.1 18.8       25.5      39    279770 6229369"
            ]
          },
          "metadata": {},
          "output_type": "display_data"
        }
      ],
      "source": [
        "#-- look\n",
        "head(cfaq ,3)"
      ]
    },
    {
      "cell_type": "markdown",
      "metadata": {
        "id": "CzMRXeQgTuFx"
      },
      "source": [
        "To compute the trend and covariance at the same time we use the `gls` function in the the `nlme` package."
      ]
    },
    {
      "cell_type": "code",
      "execution_count": null,
      "metadata": {
        "id": "3LwlvSEyTscv"
      },
      "outputs": [],
      "source": [
        "#- gls with coefficient\n",
        "model.ts2.gls <- gls(\n",
        "  model = waterLevel ~ Y + X + I(Y^2) + I(X^2) + I(X * Y),\n",
        "  data = drop_units(cfaq),\n",
        "  method = \"ML\",\n",
        "  correlation = corExp(form = ~X + Y,\n",
        "                       nugget = FALSE,\n",
        "                       value = 10000) # initial value of the range parameter\n",
        ")\n",
        "#model.ts2.gls\n",
        "class(model.ts2.gls)"
      ]
    },
    {
      "cell_type": "code",
      "source": [
        "summary(model.ts2.gls)"
      ],
      "metadata": {
        "id": "qNtRnEtLGSVS"
      },
      "execution_count": null,
      "outputs": []
    },
    {
      "cell_type": "markdown",
      "metadata": {
        "id": "GQtHzuUeWf_s"
      },
      "source": [
        "<div class=\"alert alert-block alert-warning\"><b>QUESTION: </b> </div>"
      ]
    },
    {
      "cell_type": "markdown",
      "metadata": {
        "id": "qxpPNt6wWf_u"
      },
      "source": [
        "- What is the range of spatial correlation of the exponential model, as estimated by gls?"
      ]
    },
    {
      "cell_type": "markdown",
      "metadata": {
        "id": "HZF-4bh4Wf_v"
      },
      "source": [
        "> [double click in this cell and type your answer here]"
      ]
    },
    {
      "cell_type": "markdown",
      "metadata": {
        "id": "w1q4WA4cIG0V"
      },
      "source": [
        "**Look at how the GLS and OLS coefficients differ.**\n",
        "\n",
        "We work with the **Mixed GAM Computation Vehicle** `mgcv` library default smoothing setting and explore **thin plate splines**, as an alternate smoothing function later."
      ]
    },
    {
      "cell_type": "code",
      "execution_count": null,
      "metadata": {
        "id": "nzuacmWU5XrE"
      },
      "outputs": [],
      "source": [
        "##-- absolute values\n",
        "#- generic coef method extracts coefficients from model objects\n",
        "coef(model.ts2.gls) - coef(model.ts2)"
      ]
    },
    {
      "cell_type": "code",
      "source": [
        "#- percentage\n",
        "round(100*(coef(model.ts2.gls) - coef(model.ts2))/coef(model.ts2),1)"
      ],
      "metadata": {
        "id": "zbzla47MHsic"
      },
      "execution_count": null,
      "outputs": []
    },
    {
      "cell_type": "markdown",
      "metadata": {
        "id": "i9-55HLFaawl"
      },
      "source": [
        "<div class=\"alert alert-block alert-warning\"><b>QUESTION: </b> </div>"
      ]
    },
    {
      "cell_type": "markdown",
      "metadata": {
        "id": "rHRffTF9aawm"
      },
      "source": [
        "- Why are the GLS coefficients different than the OLS coefficients?"
      ]
    },
    {
      "cell_type": "markdown",
      "metadata": {
        "id": "68CdzCRyaawn"
      },
      "source": [
        "> [double click in this cell and type your answer here]"
      ]
    },
    {
      "cell_type": "markdown",
      "metadata": {
        "id": "vtMZo2CtdfhA"
      },
      "source": [
        "**Lets go deeper.**\n",
        "\n",
        "Display the $90\\%$ confidence intervals of the GLS model, calcualte the residuals of this surface and compare those to the OLS."
      ]
    },
    {
      "cell_type": "code",
      "execution_count": null,
      "metadata": {
        "id": "5b9kU96JaMCC"
      },
      "outputs": [],
      "source": [
        "#- generic intervals method has a specific method for a fitted GLS model\n",
        "intervals(model.ts2.gls, level=0.90)"
      ]
    },
    {
      "cell_type": "code",
      "execution_count": null,
      "metadata": {
        "id": "bqGJspoKagre",
        "outputId": "c8a11b91-fc04-4972-e1f7-bad11c3592ca"
      },
      "outputs": [
        {
          "data": {
            "text/plain": [
              "   Min. 1st Qu.  Median    Mean 3rd Qu.    Max. \n",
              " -26.21   -3.82   -1.55    0.00    2.41   29.56 "
            ]
          },
          "metadata": {},
          "output_type": "display_data"
        }
      ],
      "source": [
        "summary(residuals(model.ts2))"
      ]
    },
    {
      "cell_type": "code",
      "execution_count": null,
      "metadata": {
        "id": "a2esDn8-fsPv"
      },
      "outputs": [],
      "source": [
        "summary(res.ts2)"
      ]
    },
    {
      "cell_type": "markdown",
      "metadata": {
        "id": "EhCIDt7RJs1Q"
      },
      "source": [
        "<div class=\"alert alert-block alert-warning\"><b>QUESTION: </b> </div>"
      ]
    },
    {
      "cell_type": "markdown",
      "metadata": {
        "id": "3u_cbhUzJs1a"
      },
      "source": [
        "- What are the main differences between these sets of residuals? Which surface, in this case, most closely fits the points? Why?"
      ]
    },
    {
      "cell_type": "markdown",
      "metadata": {
        "id": "6gzHkShVJs1b"
      },
      "source": [
        "> [double click in this cell and type your answer here]"
      ]
    },
    {
      "cell_type": "code",
      "execution_count": null,
      "metadata": {
        "id": "cXKriX8Dfy_l"
      },
      "outputs": [],
      "source": [
        "#- predict.gls function (of the nlme package) specific method for a fitted GLS model\n",
        "pred.ts2.gls <- predict(model.ts2.gls, newdata=grid.df)\n",
        "summary(pred.ts2.gls)"
      ]
    },
    {
      "cell_type": "code",
      "source": [
        "#- SpatRast of predictions\n",
        "grid.gls <- grid\n",
        "values(grid.gls) <- pred.ts2.gls\n",
        "summary(values(grid.gls))\n",
        "\n",
        "#- plot\n",
        "plot(grid.gls, col = rainbow(100), main = \"GLS 2nd order predicted surface\")\n",
        "points(st_coordinates(cfaq.sf)[,2] ~ st_coordinates(cfaq.sf)[,1],\n",
        "       #pch=16,\n",
        "       #col = ifelse((res.ts2.gls < 0), \"red\", \"green\"),\n",
        "       #cex=2*abs(res.ts2.gls)/max(abs(res.ts2.gls))\n",
        "       col= ifelse((res.ts2.gls < 0), \"red\", \"green\"),\n",
        "       cex=2*abs(res.ts2.gls)/max(abs(res.ts2.gls)),\n",
        "       pch=21,\n",
        "       bg = adjustcolor(\"black\", alpha.f = 0.1),\n",
        "       #col = \"black\",\n",
        "       #cex = 0.9,\n",
        "       lwd = 0.5)"
      ],
      "metadata": {
        "id": "5IPxRZ-9KVjJ"
      },
      "execution_count": null,
      "outputs": []
    },
    {
      "cell_type": "markdown",
      "source": [
        "**Notice how closely this prediction resembles the OLS 2nd-order trend surface!**\n",
        "\n",
        "Lets see how different?"
      ],
      "metadata": {
        "id": "65RXpbXuKhsy"
      }
    },
    {
      "cell_type": "code",
      "execution_count": null,
      "metadata": {
        "id": "YNWrlhWE5XrF"
      },
      "outputs": [],
      "source": [
        "#- difference between the OLS and GLS trendsurfaces\n",
        "grid.gls.ols.diff <- (grid.gls - grid)\n",
        "plot(grid.gls.ols.diff, col = topo.colors(64),\n",
        "     main = \"GLS - OLS 2nd order trend surfaces, m\")"
      ]
    },
    {
      "cell_type": "markdown",
      "metadata": {
        "id": "BR0EMXGxgj3V"
      },
      "source": [
        "<div class=\"alert alert-block alert-warning\"><b>QUESTION: </b> </div>"
      ]
    },
    {
      "cell_type": "markdown",
      "metadata": {
        "id": "BZ89x2nFgj3W"
      },
      "source": [
        "-  Where are the largest differences between the OLS and GLS trend surfaces? Explain why."
      ]
    },
    {
      "cell_type": "markdown",
      "metadata": {
        "id": "f2zXNVZfgj3X"
      },
      "source": [
        "> [double click in this cell and type your answer here]"
      ]
    },
    {
      "cell_type": "markdown",
      "source": [
        "Lets look at the residuals"
      ],
      "metadata": {
        "id": "JA1AFQ-8LHp1"
      }
    },
    {
      "cell_type": "code",
      "execution_count": null,
      "metadata": {
        "id": "9NCXoBoz5XrG"
      },
      "outputs": [],
      "source": [
        "#- residuals from the GLS trend surface and as a postplot\n",
        "summary(res.ts2.gls)"
      ]
    },
    {
      "cell_type": "code",
      "execution_count": null,
      "metadata": {
        "id": "WcwJAgCYhnwL"
      },
      "outputs": [],
      "source": [
        "#- plot\n",
        "plot(cfaq$Y ~ cfaq$X, cex=3*abs(res.ts2.gls)/max(abs(res.ts2.gls)),\n",
        "     col=ifelse(res.ts2.gls > 0, \"green\", \"red\"),\n",
        "     xlab=\"X\", ylab=\"Y\",\n",
        "     main=\"Residuals from 2nd-order trend, GLS fit\",\n",
        "     sub=\"Positive: green; negative: red\", asp=1)\n",
        "##--  ??local spatial correlation?? --##"
      ]
    },
    {
      "cell_type": "markdown",
      "metadata": {
        "id": "LufR_tzLJdrf"
      },
      "source": [
        "**Look at how correlated the residuals are. Nearby data points have similar values**\n",
        "\n",
        "We now account for the spatial correlation of the residuals"
      ]
    },
    {
      "cell_type": "code",
      "execution_count": null,
      "metadata": {
        "id": "b6FcQtxiiDLl"
      },
      "outputs": [],
      "source": [
        "#-  empirical variogram model residuals from the GLS trend surface model\n",
        "\n",
        "#- extract the residuals into the point observations object\n",
        "cfaq.sf$res.ts2.gls <- residuals(model.ts2.gls)\n",
        "vr.gls <- variogram(res.ts2.gls ~ 1, loc=cfaq.sf, cutoff = 50000)\n",
        "#- plot empirical variogram\n",
        "plot(vr.gls, plot.numbers=T,\n",
        "     main=\"Residuals from second-order GLS trend\", cex=1,\n",
        "     xlab = \"separation [m]\", ylab = \"semivariance [m^2]\")"
      ]
    },
    {
      "cell_type": "markdown",
      "metadata": {
        "id": "jYDg7KJzHgAO"
      },
      "source": [
        "<div class=\"alert alert-block alert-warning\"><b>QUESTION: </b> </div>"
      ]
    },
    {
      "cell_type": "markdown",
      "metadata": {
        "id": "Sw79kajHHgAP"
      },
      "source": [
        "- What are the approximate variogram parameters?"
      ]
    },
    {
      "cell_type": "markdown",
      "metadata": {
        "id": "YFaEcNKbHgAP"
      },
      "source": [
        "> [double click in this cell and type your answer here]"
      ]
    },
    {
      "cell_type": "markdown",
      "source": [
        "## 1. a. Variogram Modeling"
      ],
      "metadata": {
        "id": "jQCF4bOGNFpB"
      }
    },
    {
      "cell_type": "markdown",
      "source": [
        "In order to solve any Kriging formula we need to compute the semivariance at _any_ seperation distance. We want to know the values that will remove the _'overlarge influence'_ nearby datapoints have on a prediction.\n",
        "\n",
        "In order to do so we fit a variogram function to the empirical variogram. The function represent the structure of spatial autocorrelation. There are many variogram functions: _'Exponential, Spherical, Gauss, Matern'_.  \n",
        "\n",
        "We will not go into these here but remember to `effective-range / 3` when chooing an _'Exponential'_ model."
      ],
      "metadata": {
        "id": "KffvC25CO9ZV"
      }
    },
    {
      "cell_type": "code",
      "execution_count": null,
      "metadata": {
        "id": "PZK6EPSJirjO"
      },
      "outputs": [],
      "source": [
        "#-  specify variogram model and parameters\n",
        "vr.gls.m <- vgm(psill=200, model=\"Mat\", range=15000)#, nugget=25)\n",
        "#vr.gls.m <- vgm(psill=40, model=\"Exp\", range=22000/3, nugget=0)\n",
        "(vr.gls.m.f <- fit.variogram(vr.gls, vr.gls.m))"
      ]
    },
    {
      "cell_type": "code",
      "execution_count": null,
      "metadata": {
        "id": "aXzC_msmisYy"
      },
      "outputs": [],
      "source": [
        "#- plot\n",
        "plot(vr.gls, model=vr.gls.m.f, plot.numbers=T,\n",
        "     xlab = \"separation [m]\", ylab = \"semivariance [m^2]\")"
      ]
    },
    {
      "cell_type": "code",
      "execution_count": null,
      "metadata": {
        "id": "5SS5PzqYiyTU"
      },
      "outputs": [],
      "source": [
        "print(vr.gls.m.f)"
      ]
    },
    {
      "cell_type": "code",
      "execution_count": null,
      "metadata": {
        "id": "qXOcorjci66m"
      },
      "outputs": [],
      "source": [
        "intervals(model.ts2.gls)$corStruct[2]"
      ]
    },
    {
      "cell_type": "markdown",
      "metadata": {
        "id": "pXGGCzbCTbAP"
      },
      "source": [
        "<div class=\"alert alert-block alert-warning\"><b>QUESTION: </b> </div>"
      ]
    },
    {
      "cell_type": "markdown",
      "metadata": {
        "id": "yyL4IzWeTbAR"
      },
      "source": [
        "- Does the range parameter of this fitted model agree with the estimate from the GLS fit?"
      ]
    },
    {
      "cell_type": "markdown",
      "metadata": {
        "id": "C74YK6x5TbAS"
      },
      "source": [
        "> [double click in this cell and type your answer here]"
      ]
    },
    {
      "cell_type": "markdown",
      "source": [
        "## 1. b. The Ordinary Kriging system\n",
        "\n",
        "Kriging is a form of linear prediction of a value at an unknown point as a weighted sum of values at known points.\n",
        "\n",
        "This makes sense. We know the structure (spatial correlation) of the residuals, their values and their location. And we use this knowledge to refine our GLS prediction.  \n",
        "\n",
        "But what really makes Kriging special _(and computationally expensive)_ is the system ensures that each prediction has the least possible prediction variance. The _**uncertainty**_ of the predictions are minimized.   "
      ],
      "metadata": {
        "id": "1D1yeFLiTr1p"
      }
    },
    {
      "cell_type": "code",
      "execution_count": null,
      "metadata": {
        "id": "La46YsiZjP09"
      },
      "outputs": [],
      "source": [
        "#-- ok\n",
        "grid.sf <- st_as_sf(grid.df, coords = c(\"X\", \"Y\"))\n",
        "st_crs(grid.sf) <- st_crs(grid)\n",
        "kr <- krige(res.ts2.gls ~ 1,\n",
        "            loc = cfaq.sf,\n",
        "            newdata = grid.sf,\n",
        "            model=vr.gls.m.f)"
      ]
    },
    {
      "cell_type": "code",
      "execution_count": null,
      "metadata": {
        "id": "S4_j8YhF5XrG"
      },
      "outputs": [],
      "source": [
        "#- summary\n",
        "summary(kr)"
      ]
    },
    {
      "cell_type": "code",
      "execution_count": null,
      "metadata": {
        "id": "XEly4at-5XrH"
      },
      "outputs": [],
      "source": [
        "class(kr)"
      ]
    },
    {
      "cell_type": "code",
      "source": [
        "#- ok residuals\n",
        "plot(kr[\"var1.pred\"], pch=15, nbreaks=24, main=\"Residuals from GLS trend, m\")"
      ],
      "metadata": {
        "id": "nmibvOaPW288"
      },
      "execution_count": null,
      "outputs": []
    },
    {
      "cell_type": "markdown",
      "metadata": {
        "id": "hjHBb8aa6I9o"
      },
      "source": [
        "<div class=\"alert alert-block alert-warning\"><b>QUESTION: </b> </div>"
      ]
    },
    {
      "cell_type": "markdown",
      "metadata": {
        "id": "OTs7G1yw6Lfs"
      },
      "source": [
        "-  Which areas were most changed by interpolating the residuals? Why?"
      ]
    },
    {
      "cell_type": "markdown",
      "metadata": {
        "id": "qnWoUGkb6al9"
      },
      "source": [
        "> [double click in this cell and type your answer here]"
      ]
    },
    {
      "cell_type": "code",
      "source": [
        "#- prediction standard deviations and plot\n",
        "kr$var1.sd <- sqrt(kr$var1.var)\n",
        "summary(kr)"
      ],
      "metadata": {
        "id": "js10gA-aXEef"
      },
      "execution_count": null,
      "outputs": []
    },
    {
      "cell_type": "code",
      "source": [
        "#-\n",
        "plot(kr[\"var1.sd\"], pch=15, nbreaks=24, pal = heat.colors,\n",
        "     main=\"Standard errors of residuals from GLS trend, m\")"
      ],
      "metadata": {
        "id": "jIIktzKcXJoa"
      },
      "execution_count": null,
      "outputs": []
    },
    {
      "cell_type": "markdown",
      "metadata": {
        "id": "lU69Z9vLZOb9"
      },
      "source": [
        "<div class=\"alert alert-block alert-warning\"><b>QUESTION: </b> </div>"
      ]
    },
    {
      "cell_type": "markdown",
      "metadata": {
        "id": "CVN7IBjXZOb-"
      },
      "source": [
        "- Which areas have the most and least uncertainty? Why?"
      ]
    },
    {
      "cell_type": "markdown",
      "metadata": {
        "id": "-Xwe9TGqZOb-"
      },
      "source": [
        "> [double click in this cell and type your answer here]"
      ]
    },
    {
      "cell_type": "markdown",
      "source": [
        "# 2. GLS-Regression Kriging"
      ],
      "metadata": {
        "id": "ME8hASJyXkoq"
      }
    },
    {
      "cell_type": "markdown",
      "metadata": {
        "id": "09NzP7G-jwCX"
      },
      "source": [
        "We now have the ingredients to predict a very good trend surface. The global function and the local deviations from it.\n",
        "\n",
        "$$\n",
        "    Z(s) = Z*(s) + ϵ(s) + ϵ'(s)\n",
        "$$\n",
        "\n",
        "We modeled a trend surface, $Z*(s) + ϵ(s)$, with an OLS polynomial and later derived a model for the trend's spatial structure, $ϵ(s) + ϵ'(s)$, by Ordinary Kriging. These were modeled together with GLS.\n",
        "\n",
        "**We now add the OK prediction of the GLS residuals to the GLS surface. This is called Generalized Least Squares Trend-Regression Kriging (GLS-RK)**"
      ]
    },
    {
      "cell_type": "code",
      "execution_count": null,
      "metadata": {
        "id": "-LfLT7nW5XrI",
        "outputId": "a3abc51c-45b3-47f3-bb5c-cff991ed9c4f"
      },
      "outputs": [
        {
          "name": "stdout",
          "output_type": "stream",
          "text": [
            " num [1:29, 1:2] 274222 276191 279770 283452 282454 ...\n"
          ]
        }
      ],
      "source": [
        "#-- gls-regression kriging\n",
        "grid.df$kr <- kr$var1.pred\n",
        "grid.df$pred.ts2.gls <- pred.ts2.gls\n",
        "grid.df$rkgls <- grid.df$pred.ts2.gls + grid.df$kr\n",
        "summary(grid.df)"
      ]
    },
    {
      "cell_type": "code",
      "source": [
        "grid.rkgls <- grid\n",
        "values(grid.rkgls) <- grid.df$rkgls"
      ],
      "metadata": {
        "id": "_9kZ3EbdeoH4"
      },
      "execution_count": null,
      "outputs": []
    },
    {
      "cell_type": "code",
      "source": [
        "#- plot\n",
        "plot(grid.rkgls, col = rainbow(100),\n",
        "     main=\"GLS-RK prediction, aquifer elevation, m.a.s.l.\")"
      ],
      "metadata": {
        "id": "Lw2ISN-WepOS"
      },
      "execution_count": null,
      "outputs": []
    },
    {
      "cell_type": "markdown",
      "source": [
        "Compare the GLS-RK with the GAM"
      ],
      "metadata": {
        "id": "xorq6Qpye_6w"
      }
    },
    {
      "cell_type": "code",
      "source": [
        "summary(grid.rkgls.gam <- (grid.rkgls - grid.gam))"
      ],
      "metadata": {
        "id": "rq9pC1-cezD_"
      },
      "execution_count": null,
      "outputs": []
    },
    {
      "cell_type": "code",
      "source": [
        "plot(grid.rkgls.gam, main =\"RK-GLS - GAM fits, difference, m\",\n",
        "     col = topo.colors(64))"
      ],
      "metadata": {
        "id": "QUemaR69e0RT"
      },
      "execution_count": null,
      "outputs": []
    },
    {
      "cell_type": "markdown",
      "metadata": {
        "id": "SD6CU6jGfNvl"
      },
      "source": [
        "<div class=\"alert alert-block alert-warning\"><b>QUESTION: </b> </div>"
      ]
    },
    {
      "cell_type": "markdown",
      "metadata": {
        "id": "ACrtjDOdfNvm"
      },
      "source": [
        "- Where are the largest differences between these two trend surface predictions? Explain why, considering how the two surfaces are computed"
      ]
    },
    {
      "cell_type": "markdown",
      "metadata": {
        "id": "GOX4SjIXfNvn"
      },
      "source": [
        "> [double click in this cell and type your answer here]"
      ]
    },
    {
      "cell_type": "markdown",
      "metadata": {
        "id": "unPiX4Ubl7JZ"
      },
      "source": [
        "## 3. Universal Kriging\n",
        "\n",
        "We've come to the last leg of our journey.\n",
        "\n",
        "Universal Kriging (UK) is an extension of OK. UK does not follow a step-wise process of adding an OK prediction of GLS residuals to a GLS surface (like GLS-RK does).\n",
        "\n",
        "UK bypasses the GLS and predicts a surface from a 2nd-order OLS. In other words the spatial structure of the residuals (the variogram) is not modeled from the GLS residuals but the 2nd-order model directly."
      ]
    },
    {
      "cell_type": "markdown",
      "source": [
        "**We start with a clean slate**"
      ],
      "metadata": {
        "id": "UE2lA4s_vBPP"
      }
    },
    {
      "cell_type": "code",
      "execution_count": null,
      "metadata": {
        "id": "yjsWFoJB5XrJ"
      },
      "outputs": [],
      "source": [
        "#- what do we have thusfar?\n",
        "names(grid.sf)"
      ]
    },
    {
      "cell_type": "code",
      "execution_count": null,
      "metadata": {
        "id": "imc8Owck5XrJ"
      },
      "outputs": [],
      "source": [
        "str(grid.sf$geometry)"
      ]
    },
    {
      "cell_type": "code",
      "execution_count": null,
      "metadata": {
        "id": "fjBC80FGpIDX"
      },
      "outputs": [],
      "source": [
        "#--\n",
        "names(cfaq.sf)\n"
      ]
    },
    {
      "cell_type": "code",
      "execution_count": null,
      "metadata": {
        "id": "s5cfhGXop7vh"
      },
      "outputs": [],
      "source": [
        "str(cfaq.sf$geometry)"
      ]
    },
    {
      "cell_type": "markdown",
      "source": [
        "**With UK we must include the coordinates (the predictor variable) in both the observation and prediction grid**"
      ],
      "metadata": {
        "id": "snOnwbjFWDmI"
      }
    },
    {
      "cell_type": "code",
      "execution_count": null,
      "metadata": {
        "id": "bUX2yrrUqFpo"
      },
      "outputs": [],
      "source": [
        "#--\n",
        "str(st_coordinates(grid.sf))"
      ]
    },
    {
      "cell_type": "code",
      "execution_count": null,
      "metadata": {
        "id": "quqPuvzaqQAO"
      },
      "outputs": [],
      "source": [
        "#- variables to grid\n",
        "grid.sf$X <- st_coordinates(grid.sf)[ , \"X\"]\n",
        "grid.sf$Y <- st_coordinates(grid.sf)[ , \"Y\"]\n",
        "names(grid.sf)"
      ]
    },
    {
      "cell_type": "markdown",
      "source": [
        "Variogram from the OLS"
      ],
      "metadata": {
        "id": "ldqX0rmjE7r3"
      }
    },
    {
      "cell_type": "code",
      "source": [
        "#- empirical variogram\n",
        "vr <- variogram(zm ~ E + N + I(E^2) + I(N^2) + I(E*N), locations = aq.sf, cutoff = 50000)\n",
        "#- plot\n",
        "plot(vr, plot.numbers = TRUE, main = \"Residuals from 2nd-order OLS trend surface\", xlab = \"separation (m)\", ylab = \"semivariance (m^2)\")"
      ],
      "metadata": {
        "id": "ZmUbU2_5DmYW"
      },
      "execution_count": null,
      "outputs": []
    },
    {
      "cell_type": "code",
      "source": [
        "#- variogram model\n",
        "#(vr.m.f <- fit.variogram(vr, vgm(35, \"Exp\", 22000/3, 0)))\n",
        "vr.m.f <- fit.variogram(vr, vgm(psill=200, model=\"Mat\", range=15000)#, nugget=25)"
      ],
      "metadata": {
        "id": "xgNmywhCECUC"
      },
      "execution_count": null,
      "outputs": []
    },
    {
      "cell_type": "code",
      "source": [
        "#- plot\n",
        "plot(vr, plot.numbers=TRUE, xlab=\"separation (km)\", ylab=\"semivariance (m^2)\", model=vr.m.f, main=\"Fitted variogram model, residuals from 2nd-order OLS trend surface\")\n"
      ],
      "metadata": {
        "id": "xgYLA4ynEzCL"
      },
      "execution_count": null,
      "outputs": []
    },
    {
      "cell_type": "markdown",
      "source": [
        "**we can compre the OLS trend surface fit and previous estimate from the GLS fit**"
      ],
      "metadata": {
        "id": "7Lzp5YZwFMFT"
      }
    },
    {
      "cell_type": "code",
      "source": [
        "#- ols residuals\n",
        "print(vr.m.f)"
      ],
      "metadata": {
        "id": "YGaJWycIFEWG"
      },
      "execution_count": null,
      "outputs": []
    },
    {
      "cell_type": "code",
      "source": [
        "#- gls trend residuals\n",
        "print(vr.gls.m.f)"
      ],
      "metadata": {
        "id": "terUs7RyFFJB"
      },
      "execution_count": null,
      "outputs": []
    },
    {
      "cell_type": "markdown",
      "metadata": {
        "id": "4bb7R_geFr4Q"
      },
      "source": [
        "<div class=\"alert alert-block alert-warning\"><b>QUESTION: </b> </div>"
      ]
    },
    {
      "cell_type": "markdown",
      "metadata": {
        "id": "wAAKqIv2Fr4a"
      },
      "source": [
        "- How do these fitted variogram parameters compare to those from the GLS trend surface residuals? Why are they different?"
      ]
    },
    {
      "cell_type": "markdown",
      "metadata": {
        "id": "Vle5Qc5CFr4b"
      },
      "source": [
        "> [double click in this cell and type your answer here]"
      ]
    },
    {
      "cell_type": "code",
      "execution_count": null,
      "metadata": {
        "id": "L--6ZEr7qg3l"
      },
      "outputs": [],
      "source": [
        "#- uk\n",
        "k.uk <- krige(zm ~ E + N + I(E^2) + I(N^2) + I(E*N), locations = aq.sf, newdata = grid1km.sf, model=vr.m.f)"
      ]
    },
    {
      "cell_type": "code",
      "source": [
        "#- plot uk predictors\n",
        "plot(k.uk[\"var1.pred\"], pch=15, col = rainbow(100), nbreaks=24, main=\"UK predictions, m\")"
      ],
      "metadata": {
        "id": "l_TC76erW21b"
      },
      "execution_count": null,
      "outputs": []
    },
    {
      "cell_type": "code",
      "source": [
        "#- uk-prediction std-dev.\n",
        "k.uk$var1.sd <- sqrt(k.uk$var1.var)\n",
        "summary(k.uk)"
      ],
      "metadata": {
        "id": "iIQ1JkXfW_qv"
      },
      "execution_count": null,
      "outputs": []
    },
    {
      "cell_type": "code",
      "source": [
        "#- plot std-dev\n",
        "plot(k.uk[\"var1.sd\"], pch=15, nbreaks=24, pal = heat.colors, main=\"Standard errors of UK predictions, m\")"
      ],
      "metadata": {
        "id": "Ph1geVlOXKFq"
      },
      "execution_count": null,
      "outputs": []
    },
    {
      "cell_type": "markdown",
      "metadata": {
        "id": "TtopmJ5hPhNb"
      },
      "source": [
        "Compare the UK standard deviations to the GLS-Regression Kriging"
      ]
    },
    {
      "cell_type": "code",
      "source": [
        "#- summary uk\n",
        "summary(k.uk$var1.sd)"
      ],
      "metadata": {
        "id": "HrR3km9CXUr7"
      },
      "execution_count": null,
      "outputs": []
    },
    {
      "cell_type": "code",
      "source": [
        "#- summary gls-rk\n",
        "summary(kr$var1.sd)"
      ],
      "metadata": {
        "id": "Dv70fVinXptc"
      },
      "execution_count": null,
      "outputs": []
    },
    {
      "cell_type": "markdown",
      "source": [
        "**Note:** the UK should be larger because it includes the uncertainty of the trend surface.\n",
        "\n",
        "Lets illustrate the UK and GLS-RK differences as a histogram"
      ],
      "metadata": {
        "id": "w9C1e89aX1Yd"
      }
    },
    {
      "cell_type": "code",
      "source": [
        "#- diff. uk and gls-rk summary\n",
        "grid.uk <- grid\n",
        "values(grid.uk) <- k.uk$var1.pred\n",
        "summary(grid.diff.uk.rkgls <- (grid.uk - grid.rkgls))"
      ],
      "metadata": {
        "id": "QdVuVkQAYBDz"
      },
      "execution_count": null,
      "outputs": []
    },
    {
      "cell_type": "code",
      "source": [
        "#- diff. uk and gls-rk hist.\n",
        "hist(grid.diff.uk.rkgls, main = \"UK - GLS-RK prediction differences\", freq = FALSE, xlab = \"difference, UK - GLS-RK\")"
      ],
      "metadata": {
        "id": "bQPiKFPsfNr6"
      },
      "execution_count": null,
      "outputs": []
    },
    {
      "cell_type": "code",
      "execution_count": null,
      "metadata": {
        "id": "Iv3oeMnhq1I3"
      },
      "outputs": [],
      "source": [
        "#- plot uk minus gls-rk diff surface\n",
        "plot(grid1km.diff.uk.rkgls, sub=\"UK - GLS-RK predictions\", main=\"difference, m\", xlab=\"East\", ylab=\"North\", col = topo.colors(64))"
      ]
    },
    {
      "cell_type": "markdown",
      "metadata": {
        "id": "aX9LDxB7f2Hn"
      },
      "source": [
        "<div class=\"alert alert-block alert-warning\"><b>QUESTION: </b> </div>"
      ]
    },
    {
      "cell_type": "markdown",
      "metadata": {
        "id": "-QXgtxNvf2Ho"
      },
      "source": [
        "- How large are differences between the UK and GLS-RK trend surface predictions? Where are the largest differences? Explain why there is a difference."
      ]
    },
    {
      "cell_type": "markdown",
      "metadata": {
        "id": "xmxSdZKcf2Hp"
      },
      "source": [
        "> [double click in this cell and type your answer here]"
      ]
    },
    {
      "cell_type": "markdown",
      "source": [
        "<div class=\"alert alert-block alert-success\"> <b>DISCUSSION</b>  </div>"
      ],
      "metadata": {
        "id": "x62NAx_LiJa5"
      }
    },
    {
      "cell_type": "markdown",
      "source": [
        " In these series of exercises we have compared several methods of predicting an attribute over space, from a set of geo-referenced observations."
      ],
      "metadata": {
        "id": "ufaippbtiMb3"
      }
    },
    {
      "cell_type": "markdown",
      "source": [
        "- In this study area, which of the prediction methods would you recommend, and why?"
      ],
      "metadata": {
        "id": "cm5wB223iZkp"
      }
    },
    {
      "cell_type": "markdown",
      "source": [
        "> [double click in this cell and type your answer here]"
      ],
      "metadata": {
        "id": "JZMIqi8AieX2"
      }
    },
    {
      "cell_type": "markdown",
      "source": [
        "- For each method introduced, in what situations\n",
        "would you prefer it to the other methods?"
      ],
      "metadata": {
        "id": "TjruQZS0ihPl"
      }
    },
    {
      "cell_type": "markdown",
      "source": [
        "> [double click in this cell and type your answer here]"
      ],
      "metadata": {
        "id": "vBPVUEfkihPm"
      }
    }
  ],
  "metadata": {
    "colab": {
      "provenance": []
    },
    "kernelspec": {
      "display_name": "R",
      "language": "R",
      "name": "ir"
    },
    "language_info": {
      "codemirror_mode": "r",
      "file_extension": ".r",
      "mimetype": "text/x-r-source",
      "name": "R",
      "pygments_lexer": "r",
      "version": "3.6.0"
    }
  },
  "nbformat": 4,
  "nbformat_minor": 0
}