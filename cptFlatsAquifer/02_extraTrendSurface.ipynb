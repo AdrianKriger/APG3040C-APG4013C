{
  "cells": [
    {
      "cell_type": "markdown",
      "metadata": {
        "id": "otIUJqwzs2Nt"
      },
      "source": [
        "_this notebook is meant to execute **`R`** in a `conda` environment_"
      ]
    },
    {
      "cell_type": "markdown",
      "metadata": {
        "id": "XM7JB6i8Yw0F"
      },
      "source": [
        "# Introduction"
      ]
    },
    {
      "cell_type": "markdown",
      "metadata": {
        "id": "NxPz5S-nkm8P"
      },
      "source": [
        "This Notebook (the second-of-four) serves to introduce a user to a series of exercises focused on *higher order* **_Trend Surface analysis with R_**.\n",
        "\n",
        "It consists of two sections:\n",
        "\n",
        "<ol type = \"1\">\n",
        "    <li>Trend analysis by Ordinary Least Squares</li>\n",
        "\n",
        "    a) First-order trend surfaces\n",
        "    b) Second-order trend surfaces\n",
        "\n",
        "  <li>Trend Surface Prediction</li>\n",
        "</ol>\n"
      ]
    },
    {
      "cell_type": "markdown",
      "metadata": {
        "id": "KFNCLYYkY85X"
      },
      "source": [
        "<div class=\"alert alert-block alert-danger\"><b>REQUIRED: </b></div>"
      ]
    },
    {
      "cell_type": "markdown",
      "metadata": {
        "id": "Sl_xCyleZNoy"
      },
      "source": [
        "**You are required to insert your outputs and any comment into this document.**\n",
        "\n",
        "The document you submit should therefore contain the existing text in addition to:\n",
        "\n",
        "> *   Plots and other outputs from executing the code chunks  \n",
        "> *   Discussion of your plots and other outputs as well as conclusions reached.\n",
        "\n",
        "This should also include any hypotheses and assumptions made as well as factors that may affect your conclusions."
      ]
    },
    {
      "cell_type": "markdown",
      "metadata": {
        "id": "IhzwSEK7Yyq7"
      },
      "source": [
        "## 1. Ordinary Least Square"
      ]
    },
    {
      "cell_type": "markdown",
      "metadata": {
        "id": "m-4xB7bIRzX-"
      },
      "source": [
        "From the previous [01_extraTrendSurface](https://github.com/AdrianKriger/APG3040C-APG4013C/blob/main/cptFlatsAquifer/01_extraTrendSurface.ipynb) Notebook we are aware our data suggests a trend surface; a water level as some smooth function of coordinates. A polynomial function of the coordinates.\n",
        "\n",
        "The higher the degree of the polynomial (1st, 2nd, 3rd, etc.) the more the surface matches the original data. We should however take care.\n",
        "\n",
        "We want realistic results and a prediction within our dataset. _**The higher the degree the more extreme the extrapolations.**_\n"
      ]
    },
    {
      "cell_type": "markdown",
      "metadata": {
        "id": "HetaRstpU-1O"
      },
      "source": [
        "_please install necessary packages through a `prompt` interface; as per the [requirements.txt](https://github.com/AdrianKriger/APG3040C-APG4013C/blob/main/cptFlatsAquifer/requirements.txt) Not here_."
      ]
    },
    {
      "cell_type": "code",
      "execution_count": null,
      "metadata": {
        "id": "0VUxWyWiHwGa"
      },
      "outputs": [],
      "source": [
        "options(prompt=\"> \", continue=\"+ \", digits=3, width=70, show.signif.stars=T, repr.plot.width=8, repr.plot.height=8)\n",
        "rm(list=ls())\n",
        "\n",
        "# Install necessary packages: You only need to run this part once\n",
        "##- install.packages(c(\"sf\", \"gstat\", \"ggplot2\", \"gridExtra\",\"units\", \"terra\",\"mgcv\",\"fields\",\"nlme\"))\n",
        "\n",
        "#library(repr)\n",
        "library(sf) # 'simple features' representations of spatial objects\n",
        "library(gstat) # geostatistics\n",
        "#library(ggplot2) # Grammer of Graphics plots\n",
        "#library(gridExtra) # arrange multiple ggplot graphics on one figure\n",
        "library(units) # units of measure\n",
        "library(terra) # gridded data structures (\"rasters\")\n",
        "#library(geojsonio)\n",
        "#library(mgcv) # for Generalized Additive Models\n",
        "#library(fields) # NCAR etc. approach to surfaces\n",
        "#library(nlme) # Linear and Nonlinear Mixed Effects Models#"
      ]
    },
    {
      "cell_type": "code",
      "execution_count": null,
      "metadata": {
        "id": "Vwx5MtuPHwJa"
      },
      "outputs": [],
      "source": [
        "options(show.signif.stars=FALSE)"
      ]
    },
    {
      "cell_type": "markdown",
      "metadata": {
        "id": "7HJyftV7Vk3J"
      },
      "source": [
        "_**due to the limitation of the `lm` function (the `linear regression model`) in `R` we work with the UTM coordinates as a field in a `data.frame` and NOT spatial objects**. i.e.: we drop the units._"
      ]
    },
    {
      "cell_type": "code",
      "execution_count": null,
      "metadata": {
        "id": "bX-M7KzpYjin"
      },
      "outputs": [],
      "source": [
        "file = 'cptFlatsAquifer_watertable4.txt'"
      ]
    },
    {
      "cell_type": "code",
      "execution_count": null,
      "metadata": {
        "id": "SRAMZddJKO28"
      },
      "outputs": [],
      "source": [
        "#-- import\n",
        "cfaq <- read.csv(file, header = 1, sep = ',', dec = '.') #sep = '\\t',\n",
        "#- set crs\n",
        "cfaq.sf <- st_as_sf(cfaq, coords=c(\"long\", \"lat\"), crs = 4326) #wgs84\n",
        "#- transform to local crs\n",
        "cfaq.sf <- st_transform(cfaq.sf, crs = 32734) #utm 34s\n",
        "cfaq$X <- st_coordinates(cfaq.sf)[, \"X\"]\n",
        "cfaq$Y <- st_coordinates(cfaq.sf)[, \"Y\"]"
      ]
    },
    {
      "cell_type": "code",
      "execution_count": null,
      "metadata": {
        "id": "04QHBJER5XrD",
        "outputId": "62de649a-ecc0-4d5e-eb9d-716330434bf1"
      },
      "outputs": [
        {
          "data": {
            "text/html": [
              "<table>\n",
              "<thead><tr><th scope=col>name</th><th scope=col>long</th><th scope=col>lat</th><th scope=col>waterLevel</th><th scope=col>elevation</th><th scope=col>depth</th><th scope=col>X</th><th scope=col>Y</th></tr></thead>\n",
              "<tbody>\n",
              "\t<tr><td>EM_01  </td><td>18.6   </td><td>-34.1  </td><td>14.4   </td><td>20.4   </td><td>63     </td><td>274222 </td><td>6227351</td></tr>\n",
              "\t<tr><td>EM_27  </td><td>18.6   </td><td>-34.1  </td><td>16.2   </td><td>20.0   </td><td>48     </td><td>276191 </td><td>6227571</td></tr>\n",
              "\t<tr><td>EM_29  </td><td>18.6   </td><td>-34.1  </td><td>18.8   </td><td>25.5   </td><td>39     </td><td>279770 </td><td>6229369</td></tr>\n",
              "</tbody>\n",
              "</table>\n"
            ],
            "text/latex": [
              "\\begin{tabular}{r|llllllll}\n",
              " name & long & lat & waterLevel & elevation & depth & X & Y\\\\\n",
              "\\hline\n",
              "\t EM\\_01 & 18.6    & -34.1   & 14.4    & 20.4    & 63      & 274222  & 6227351\\\\\n",
              "\t EM\\_27 & 18.6    & -34.1   & 16.2    & 20.0    & 48      & 276191  & 6227571\\\\\n",
              "\t EM\\_29 & 18.6    & -34.1   & 18.8    & 25.5    & 39      & 279770  & 6229369\\\\\n",
              "\\end{tabular}\n"
            ],
            "text/markdown": [
              "\n",
              "| name | long | lat | waterLevel | elevation | depth | X | Y |\n",
              "|---|---|---|---|---|---|---|---|\n",
              "| EM_01   | 18.6    | -34.1   | 14.4    | 20.4    | 63      | 274222  | 6227351 |\n",
              "| EM_27   | 18.6    | -34.1   | 16.2    | 20.0    | 48      | 276191  | 6227571 |\n",
              "| EM_29   | 18.6    | -34.1   | 18.8    | 25.5    | 39      | 279770  | 6229369 |\n",
              "\n"
            ],
            "text/plain": [
              "  name  long lat   waterLevel elevation depth X      Y      \n",
              "1 EM_01 18.6 -34.1 14.4       20.4      63    274222 6227351\n",
              "2 EM_27 18.6 -34.1 16.2       20.0      48    276191 6227571\n",
              "3 EM_29 18.6 -34.1 18.8       25.5      39    279770 6229369"
            ]
          },
          "metadata": {},
          "output_type": "display_data"
        }
      ],
      "source": [
        "#-- look\n",
        "head(cfaq ,3)"
      ]
    },
    {
      "cell_type": "markdown",
      "metadata": {
        "id": "w1q4WA4cIG0V"
      },
      "source": [
        "### a) First-order Trend Surface\n",
        "\n",
        "When we talk about a first-degree trend surface we _literally mean_ the surface can be represented with a first degree polynomial; namely\n",
        "\n",
        "\n",
        "$$\n",
        "    Z = 𝜷_0 + 𝜷_1x + 𝜷_2y + ϵ\n",
        "$$\n",
        "\n",
        "where: $Z$ is the is the elevation of the surface at $(x,y)$; $𝜷$ are possible coefficients representing the average elevation and slopes in the $x$ and $y$ directions and $ε$ is the error term accounting for small fluctuations and deviations from the average.\n",
        "\n",
        "A First-order trend surface defines a surface in terms of elevation and one other variable (e.g.: slope). In other words it is a plane surface.\n",
        "\n",
        "Furthermore; _first-order_ referes to the **power** to which each coordinate is raised. Here its the first power."
      ]
    },
    {
      "cell_type": "code",
      "execution_count": null,
      "metadata": {
        "id": "nzuacmWU5XrE",
        "outputId": "3b7bd402-8334-471d-e97b-036b108e2e55"
      },
      "outputs": [
        {
          "data": {
            "text/html": [
              "<table>\n",
              "<thead><tr><th scope=col>(Intercept)</th><th scope=col>X</th><th scope=col>Y</th></tr></thead>\n",
              "<tbody>\n",
              "\t<tr><td>1      </td><td>274222 </td><td>6227351</td></tr>\n",
              "\t<tr><td>1      </td><td>276191 </td><td>6227571</td></tr>\n",
              "\t<tr><td>1      </td><td>279770 </td><td>6229369</td></tr>\n",
              "\t<tr><td>1      </td><td>283452 </td><td>6230352</td></tr>\n",
              "\t<tr><td>1      </td><td>282454 </td><td>6231185</td></tr>\n",
              "\t<tr><td>1      </td><td>281858 </td><td>6232089</td></tr>\n",
              "</tbody>\n",
              "</table>\n"
            ],
            "text/latex": [
              "\\begin{tabular}{r|lll}\n",
              " (Intercept) & X & Y\\\\\n",
              "\\hline\n",
              "\t 1       & 274222  & 6227351\\\\\n",
              "\t 1       & 276191  & 6227571\\\\\n",
              "\t 1       & 279770  & 6229369\\\\\n",
              "\t 1       & 283452  & 6230352\\\\\n",
              "\t 1       & 282454  & 6231185\\\\\n",
              "\t 1       & 281858  & 6232089\\\\\n",
              "\\end{tabular}\n"
            ],
            "text/markdown": [
              "\n",
              "| (Intercept) | X | Y |\n",
              "|---|---|---|\n",
              "| 1       | 274222  | 6227351 |\n",
              "| 1       | 276191  | 6227571 |\n",
              "| 1       | 279770  | 6229369 |\n",
              "| 1       | 283452  | 6230352 |\n",
              "| 1       | 282454  | 6231185 |\n",
              "| 1       | 281858  | 6232089 |\n",
              "\n"
            ],
            "text/plain": [
              "  (Intercept) X      Y      \n",
              "1 1           274222 6227351\n",
              "2 1           276191 6227571\n",
              "3 1           279770 6229369\n",
              "4 1           283452 6230352\n",
              "5 1           282454 6231185\n",
              "6 1           281858 6232089"
            ]
          },
          "metadata": {},
          "output_type": "display_data"
        }
      ],
      "source": [
        "#- 1st order design matrix\n",
        "#head(model.matrix(~st_coordinates(cfaq.sf)[,1] + st_coordinates(cfaq.sf)[,2], data=cfaq))\n",
        "head(model.matrix(~X + Y, data=cfaq))"
      ]
    },
    {
      "cell_type": "markdown",
      "source": [
        "We see the design matrix _[called X]_ is an _n_ * 3 matrix. With column 1 being an intercept, column 2 an x-value and column 3 a y-value.\n",
        "\n",
        "Briefly and without getting into too much Math; if we apply the design matrix _[X]_ to the previous formula we get;\n",
        "\n",
        "$$\n",
        "    𝙮 = X𝜷 + ϵ\n",
        "$$\n",
        "\n",
        "This simplyfies our lives considerably; because we know $𝙮$ _---these are the elevations at known locations---_ and we know $X$. Our challenge now is to solve $𝜷$; which we can solve directly through;\n",
        "\n",
        "$$\n",
        "    𝜷_{sols} = (X^TX)^{-1}X^T . y\n",
        "$$"
      ],
      "metadata": {
        "id": "Xp4YtLsb7cgZ"
      }
    },
    {
      "cell_type": "markdown",
      "source": [
        "**We _fit_ this linear model with the `lm` function.**"
      ],
      "metadata": {
        "id": "XCInDnPmJF6k"
      }
    },
    {
      "cell_type": "code",
      "execution_count": null,
      "metadata": {
        "id": "YNWrlhWE5XrF",
        "outputId": "498d997b-36d9-4017-8ffb-4fe3d5e9baa1"
      },
      "outputs": [
        {
          "data": {
            "text/plain": [
              "\n",
              "Call:\n",
              "lm(formula = waterLevel ~ X + Y, data = drop_units(cfaq))\n",
              "\n",
              "Residuals:\n",
              "   Min     1Q Median     3Q    Max \n",
              "-27.01  -8.46  -2.21   7.27  45.17 \n",
              "\n",
              "Coefficients:\n",
              "             Estimate Std. Error t value Pr(>|t|)\n",
              "(Intercept) -1.58e+04   3.87e+03   -4.08  0.00038\n",
              "X            2.05e-03   6.09e-04    3.36  0.00240\n",
              "Y            2.45e-03   6.14e-04    3.99  0.00049\n",
              "\n",
              "Residual standard error: 16.4 on 26 degrees of freedom\n",
              "Multiple R-squared:  0.464,\tAdjusted R-squared:  0.423 \n",
              "F-statistic: 11.3 on 2 and 26 DF,  p-value: 3e-04\n"
            ]
          },
          "metadata": {},
          "output_type": "display_data"
        }
      ],
      "source": [
        "# fit first order trend surface and summarize it goodness of fit\n",
        "model.ts1 <- lm(waterLevel ~ X + Y, data=drop_units(cfaq))\n",
        "summary(model.ts1)"
      ]
    },
    {
      "cell_type": "code",
      "execution_count": null,
      "metadata": {
        "id": "9NCXoBoz5XrG"
      },
      "outputs": [],
      "source": [
        "#model.ts1 <- lm(cfaq$waterLevel ~ st_coordinates(cfaq.sf)[,1] + st_coordinates(cfaq.sf)[,2])#, data=drop_units(cfaq))\n",
        "#summary(model.ts1)"
      ]
    },
    {
      "cell_type": "markdown",
      "source": [
        "We see amoung the results of our **_fit_** is an Intercept ---an elevation--- and two coefficients that give a change in elevation per unit (in this case 500m).\n",
        "\n",
        "In other words for every 500-m east and west we increase by 0.00205m and 0.00245m respectively."
      ],
      "metadata": {
        "id": "LufR_tzLJdrf"
      }
    },
    {
      "cell_type": "markdown",
      "metadata": {
        "id": "hjHBb8aa6I9o"
      },
      "source": [
        "<div class=\"alert alert-block alert-warning\"><b>QUESTION: </b> </div>"
      ]
    },
    {
      "cell_type": "markdown",
      "metadata": {
        "id": "OTs7G1yw6Lfs"
      },
      "source": [
        "- What is the equation of the trend surface? How does elevation vary\n",
        "with the E and N coördinates? Is the relation statistically-significant?\n",
        "How much of the total variability does it explain? Are all the coefficients\n",
        "statistically-significant?"
      ]
    },
    {
      "cell_type": "markdown",
      "metadata": {
        "id": "qnWoUGkb6al9"
      },
      "source": [
        "> [double click in this cell and type your answer here]"
      ]
    },
    {
      "cell_type": "code",
      "execution_count": null,
      "metadata": {
        "id": "S4_j8YhF5XrG",
        "outputId": "707094d3-d211-4f91-b7e9-c9f2556867b9"
      },
      "outputs": [
        {
          "data": {
            "text/plain": [
              "   Min. 1st Qu.  Median    Mean 3rd Qu.    Max. \n",
              "  -27.0    -8.5    -2.2     0.0     7.3    45.2 "
            ]
          },
          "metadata": {},
          "output_type": "display_data"
        }
      ],
      "source": [
        "#- summarize residuals (lack of fit)\n",
        "res.ts1 <- set_units(residuals(model.ts1), m); summary(res.ts1)"
      ]
    },
    {
      "cell_type": "code",
      "execution_count": null,
      "metadata": {
        "id": "XEly4at-5XrH",
        "outputId": "3abc0677-5ec4-4860-f5cd-577f448cc2ca"
      },
      "outputs": [
        {
          "data": {
            "image/png": "[encoded data removed]",
            "text/plain": [
              "Plot with title \"Residuals from 1st-order trend\""
            ]
          },
          "metadata": {},
          "output_type": "display_data"
        }
      ],
      "source": [
        "#- histogram\n",
        "hist(res.ts1, breaks=16, main=\"Residuals from 1st-order trend\", xlab=\"residual elevation (m)\")"
      ]
    },
    {
      "cell_type": "code",
      "execution_count": null,
      "metadata": {
        "id": "-LfLT7nW5XrI",
        "outputId": "e5a7c6c9-d452-42ff-a687-8847f89340bd"
      },
      "outputs": [
        {
          "data": {
            "text/plain": [
              "Units: [m]\n",
              "[1] -27.0  45.2"
            ]
          },
          "metadata": {},
          "output_type": "display_data"
        }
      ],
      "source": [
        "#rug(res.ts1)\n",
        "range(res.ts1)"
      ]
    },
    {
      "cell_type": "code",
      "execution_count": null,
      "metadata": {
        "id": "yjsWFoJB5XrJ",
        "outputId": "03b53d0e-512f-4ae5-edd9-ce533c8ce673"
      },
      "outputs": [
        {
          "data": {
            "text/plain": [
              "225 [m]"
            ]
          },
          "metadata": {},
          "output_type": "display_data"
        }
      ],
      "source": [
        "max(abs(res.ts1))/median(cfaq$waterLevel)*100"
      ]
    },
    {
      "cell_type": "markdown",
      "metadata": {
        "id": "lU69Z9vLZOb9"
      },
      "source": [
        "<div class=\"alert alert-block alert-warning\"><b>QUESTION: </b> </div>"
      ]
    },
    {
      "cell_type": "markdown",
      "metadata": {
        "id": "CVN7IBjXZOb-"
      },
      "source": [
        "- What is the range of residuals? How does this compare with\n",
        "the target variable? How are the residuals distributed in feature space?"
      ]
    },
    {
      "cell_type": "markdown",
      "metadata": {
        "id": "-Xwe9TGqZOb-"
      },
      "source": [
        "> [double click in this cell and type your answer here]"
      ]
    },
    {
      "cell_type": "markdown",
      "source": [
        "**Two diagnostic `plot()`s of a `linear model` that deserve attention are:**\n",
        "\n",
        "> a) residuals vs fitted values;  \n",
        "> b) quantile-quantile ('QQ') plot of the standardized residuals. The QQ plot is significant and shows the standard residuals and the expected residuals (if the residuals were normally distributed) _---it should be a stright line_."
      ],
      "metadata": {
        "id": "TtopmJ5hPhNb"
      }
    },
    {
      "cell_type": "code",
      "execution_count": null,
      "metadata": {
        "id": "imc8Owck5XrJ",
        "outputId": "9df2072c-86f8-4642-f71a-e55cfb84b079"
      },
      "outputs": [
        {
          "data": {
            "image/png": "[encoded data removed]",
            "text/plain": [
              "Plot with title \"\""
            ]
          },
          "metadata": {},
          "output_type": "display_data"
        }
      ],
      "source": [
        "#- diagnostic plot of linear model\n",
        "par(mfrow=c(1,2))\n",
        "plot(model.ts1, which=1:2)\n",
        "par(mfrow=c(1,1))"
      ]
    },
    {
      "cell_type": "markdown",
      "metadata": {
        "id": "CcfvmDHNZklU"
      },
      "source": [
        "<div class=\"alert alert-block alert-warning\"><b>QUESTION: </b> </div>"
      ]
    },
    {
      "cell_type": "markdown",
      "metadata": {
        "id": "9eiZ3B38ZklV"
      },
      "source": [
        "- Does this model meet the feature-space requirements for a valid\n",
        "linear model?\n",
        "\n",
        "> a. No relation between the fitted values and the residuals  \n",
        "> b. Equal spread of residuals across the range of fitted values  \n",
        "> c. Normally-distributed standardized residuals"
      ]
    },
    {
      "cell_type": "markdown",
      "metadata": {
        "id": "mZOnyeGQZklV"
      },
      "source": [
        "> [double click in this cell and type your answer here]"
      ]
    },
    {
      "cell_type": "code",
      "execution_count": null,
      "metadata": {
        "id": "j3DX7THB5XrO",
        "outputId": "40888728-bf78-4998-e112-88b1724ffd44"
      },
      "outputs": [
        {
          "data": {
            "image/png": "[encoded data removed]",
            "text/plain": [
              "Plot with title \"Residuals from 1st-order trend\""
            ]
          },
          "metadata": {},
          "output_type": "display_data"
        }
      ],
      "source": [
        "#- residuals as postplot\n",
        "plot(cfaq$Y ~ cfaq$X,\n",
        "     #st_coordinates(cfaq.sf)[,1], st_coordinates(cfaq.sf)[,2],\n",
        "     cex=3*abs(res.ts1)/max(abs(res.ts1)),\n",
        "     col=ifelse(res.ts1 > set_units(0, m), \"green\", \"red\"),\n",
        "     xlab=\"X\", ylab=\"Y\",\n",
        "     main=\"Residuals from 1st-order trend\",\n",
        "     sub=\"Positive: green; Negative: red\", asp=1)\n",
        "grid()"
      ]
    },
    {
      "cell_type": "markdown",
      "metadata": {
        "id": "jYDg7KJzHgAO"
      },
      "source": [
        "<div class=\"alert alert-block alert-warning\"><b>QUESTION: </b> </div>"
      ]
    },
    {
      "cell_type": "markdown",
      "metadata": {
        "id": "Sw79kajHHgAP"
      },
      "source": [
        "- Is there a spatial pattern to the residuals? Is there local spatial\n",
        "correlation without an overall pattern? What does this imply about the\n",
        "suitability of a first-order trend surface?"
      ]
    },
    {
      "cell_type": "markdown",
      "metadata": {
        "id": "YFaEcNKbHgAP"
      },
      "source": [
        "> [double click in this cell and type your answer here]"
      ]
    },
    {
      "cell_type": "markdown",
      "metadata": {
        "id": "tJFWWDOmIWCI"
      },
      "source": [
        "### b) Second-order Trend Surface\n",
        "\n",
        "Similarly; when we talk about a second-degree trend surface we _literally mean_ the surface can be represented with a second degree polynomial; namely\n",
        "\n",
        "$$\n",
        "    Z = 𝜷_0 + 𝜷_1x + 𝜷_2y + 𝜷_3x^2 + 𝜷_4y^2 + 𝜷_5(y^2*x^2) + ε\n",
        "$$\n",
        "\n",
        "where: $Z$ is the is the elevation of the surface at $(x,y)$; $𝜷$ are possible coefficients representing the average elevation, slopes and curvatures in the $x$ and $y$ directions and $ε$ is the error term accounting for small fluctuations and deviations from the average.\n",
        "\n",
        "**Notice:** A Second-order trend surface includes linear, quadratice (squared) functions and their cross-product. This means the surface can be defined in terms of elevation, slope and another variable (e.g.: curvature). In other words it is no longer a plane surface."
      ]
    },
    {
      "cell_type": "markdown",
      "source": [
        "**We also define and _fit_ the model matrix**"
      ],
      "metadata": {
        "id": "fvyIAdWaTddG"
      }
    },
    {
      "cell_type": "code",
      "execution_count": null,
      "metadata": {
        "id": "aKitZ9ks5XrP",
        "outputId": "8e460367-549c-4d0f-8070-c9f80c0fd86f"
      },
      "outputs": [
        {
          "data": {
            "text/html": [
              "<table>\n",
              "<thead><tr><th scope=col>(Intercept)</th><th scope=col>X</th><th scope=col>Y</th><th scope=col>I(X^2)</th><th scope=col>I(Y^2)</th><th scope=col>I(X * Y)</th></tr></thead>\n",
              "<tbody>\n",
              "\t<tr><td>1       </td><td>274222  </td><td>6227351 </td><td>7.52e+10</td><td>3.88e+13</td><td>1.71e+12</td></tr>\n",
              "\t<tr><td>1       </td><td>276191  </td><td>6227571 </td><td>7.63e+10</td><td>3.88e+13</td><td>1.72e+12</td></tr>\n",
              "\t<tr><td>1       </td><td>279770  </td><td>6229369 </td><td>7.83e+10</td><td>3.88e+13</td><td>1.74e+12</td></tr>\n",
              "\t<tr><td>1       </td><td>283452  </td><td>6230352 </td><td>8.03e+10</td><td>3.88e+13</td><td>1.77e+12</td></tr>\n",
              "\t<tr><td>1       </td><td>282454  </td><td>6231185 </td><td>7.98e+10</td><td>3.88e+13</td><td>1.76e+12</td></tr>\n",
              "\t<tr><td>1       </td><td>281858  </td><td>6232089 </td><td>7.94e+10</td><td>3.88e+13</td><td>1.76e+12</td></tr>\n",
              "</tbody>\n",
              "</table>\n"
            ],
            "text/latex": [
              "\\begin{tabular}{r|llllll}\n",
              " (Intercept) & X & Y & I(X\\textasciicircum{}2) & I(Y\\textasciicircum{}2) & I(X * Y)\\\\\n",
              "\\hline\n",
              "\t 1        & 274222   & 6227351  & 7.52e+10 & 3.88e+13 & 1.71e+12\\\\\n",
              "\t 1        & 276191   & 6227571  & 7.63e+10 & 3.88e+13 & 1.72e+12\\\\\n",
              "\t 1        & 279770   & 6229369  & 7.83e+10 & 3.88e+13 & 1.74e+12\\\\\n",
              "\t 1        & 283452   & 6230352  & 8.03e+10 & 3.88e+13 & 1.77e+12\\\\\n",
              "\t 1        & 282454   & 6231185  & 7.98e+10 & 3.88e+13 & 1.76e+12\\\\\n",
              "\t 1        & 281858   & 6232089  & 7.94e+10 & 3.88e+13 & 1.76e+12\\\\\n",
              "\\end{tabular}\n"
            ],
            "text/markdown": [
              "\n",
              "| (Intercept) | X | Y | I(X^2) | I(Y^2) | I(X * Y) |\n",
              "|---|---|---|---|---|---|\n",
              "| 1        | 274222   | 6227351  | 7.52e+10 | 3.88e+13 | 1.71e+12 |\n",
              "| 1        | 276191   | 6227571  | 7.63e+10 | 3.88e+13 | 1.72e+12 |\n",
              "| 1        | 279770   | 6229369  | 7.83e+10 | 3.88e+13 | 1.74e+12 |\n",
              "| 1        | 283452   | 6230352  | 8.03e+10 | 3.88e+13 | 1.77e+12 |\n",
              "| 1        | 282454   | 6231185  | 7.98e+10 | 3.88e+13 | 1.76e+12 |\n",
              "| 1        | 281858   | 6232089  | 7.94e+10 | 3.88e+13 | 1.76e+12 |\n",
              "\n"
            ],
            "text/plain": [
              "  (Intercept) X      Y       I(X^2)   I(Y^2)   I(X * Y)\n",
              "1 1           274222 6227351 7.52e+10 3.88e+13 1.71e+12\n",
              "2 1           276191 6227571 7.63e+10 3.88e+13 1.72e+12\n",
              "3 1           279770 6229369 7.83e+10 3.88e+13 1.74e+12\n",
              "4 1           283452 6230352 8.03e+10 3.88e+13 1.77e+12\n",
              "5 1           282454 6231185 7.98e+10 3.88e+13 1.76e+12\n",
              "6 1           281858 6232089 7.94e+10 3.88e+13 1.76e+12"
            ]
          },
          "metadata": {},
          "output_type": "display_data"
        }
      ],
      "source": [
        "#- 2nd order design matrix\n",
        "head(model.matrix(~ X + Y + I(X^2) + I(Y^2) + I(X*Y), data=cfaq))\n",
        "\n",
        "#head(model.matrix(~st_coordinates(cfaq.sf)[,1] + st_coordinates(cfaq.sf)[,2] + I(st_coordinates(cfaq.sf)[,1]^2) + I(st_coordinates(cfaq.sf)[,2]^2)\n",
        "#  + I(st_coordinates(cfaq.sf)[,1]*st_coordinates(cfaq.sf)[,2]), data=cfaq))"
      ]
    },
    {
      "cell_type": "code",
      "execution_count": null,
      "metadata": {
        "id": "q79iLoyGgHxZ",
        "outputId": "58516f5e-bd45-41ca-82b2-9cb8060ec82b"
      },
      "outputs": [
        {
          "data": {
            "text/plain": [
              "\n",
              "Call:\n",
              "lm(formula = waterLevel ~ X + Y + I(X^2) + I(Y^2) + I(X * Y), \n",
              "    data = drop_units(cfaq))\n",
              "\n",
              "Residuals:\n",
              "   Min     1Q Median     3Q    Max \n",
              "-26.21  -3.82  -1.55   2.41  29.56 \n",
              "\n",
              "Coefficients:\n",
              "             Estimate Std. Error t value Pr(>|t|)\n",
              "(Intercept)  5.23e+06   2.79e+06    1.88  0.07350\n",
              "X           -2.97e+00   6.38e-01   -4.66  0.00011\n",
              "Y           -1.55e+00   8.94e-01   -1.73  0.09705\n",
              "I(X^2)       2.51e-07   8.64e-08    2.90  0.00812\n",
              "I(Y^2)       1.14e-07   7.17e-08    1.59  0.12550\n",
              "I(X * Y)     4.55e-07   9.91e-08    4.59  0.00013\n",
              "\n",
              "Residual standard error: 11.9 on 23 degrees of freedom\n",
              "Multiple R-squared:  0.75,\tAdjusted R-squared:  0.696 \n",
              "F-statistic: 13.8 on 5 and 23 DF,  p-value: 2.71e-06\n"
            ]
          },
          "metadata": {},
          "output_type": "display_data"
        }
      ],
      "source": [
        "#- fit the 2nd order\n",
        "model.ts2 <- lm(waterLevel ~ X + Y + I(X^2) + I(Y^2) + I(X*Y), data=drop_units(cfaq))\n",
        "\n",
        "#model.ts2 <- lm(cfaq$waterLevel ~ st_coordinates(cfaq.sf)[,1] + st_coordinates(cfaq.sf)[,2] + I(st_coordinates(cfaq.sf)[,2]^2) + I(st_coordinates(cfaq.sf)[,1]^2) + I(st_coordinates(cfaq.sf)[,2]*st_coordinates(cfaq.sf)[,1]),\n",
        "                #data=drop_units(cfaq))\n",
        "summary(model.ts2)"
      ]
    },
    {
      "cell_type": "markdown",
      "metadata": {
        "id": "F7CvSYv05XrJ"
      },
      "source": [
        "<div class=\"alert alert-block alert-warning\"><b>QUESTIONS: </b> </div>"
      ]
    },
    {
      "cell_type": "markdown",
      "metadata": {
        "id": "chQtWlaRV1eD"
      },
      "source": [
        "- How much of the variance does the second-order surface explain?"
      ]
    },
    {
      "cell_type": "markdown",
      "metadata": {
        "id": "124Q28CzV9gh"
      },
      "source": [
        "> [double click in this cell and type your answer here]"
      ]
    },
    {
      "cell_type": "markdown",
      "source": [
        "**Since we now have two linear models** _---one more complicated than the other---_ **we can compare them to determine if the simplier is in fact better. We do this with the `anova()` function**"
      ],
      "metadata": {
        "id": "AnbB-dzdUAo9"
      }
    },
    {
      "cell_type": "code",
      "execution_count": null,
      "metadata": {
        "id": "cupvgJrx5XrP",
        "outputId": "90770d16-6768-4a0f-d5ce-28cf7e5dd9c3"
      },
      "outputs": [
        {
          "data": {
            "text/html": [
              "<table>\n",
              "<thead><tr><th scope=col>Res.Df</th><th scope=col>RSS</th><th scope=col>Df</th><th scope=col>Sum of Sq</th><th scope=col>F</th><th scope=col>Pr(&gt;F)</th></tr></thead>\n",
              "<tbody>\n",
              "\t<tr><td>26      </td><td>7001    </td><td>NA      </td><td>  NA    </td><td>  NA    </td><td>      NA</td></tr>\n",
              "\t<tr><td>23      </td><td>3262    </td><td> 3      </td><td>3739    </td><td>8.79    </td><td>0.000457</td></tr>\n",
              "</tbody>\n",
              "</table>\n"
            ],
            "text/latex": [
              "\\begin{tabular}{r|llllll}\n",
              " Res.Df & RSS & Df & Sum of Sq & F & Pr(>F)\\\\\n",
              "\\hline\n",
              "\t 26       & 7001     & NA       &   NA     &   NA     &       NA\\\\\n",
              "\t 23       & 3262     &  3       & 3739     & 8.79     & 0.000457\\\\\n",
              "\\end{tabular}\n"
            ],
            "text/markdown": [
              "\n",
              "| Res.Df | RSS | Df | Sum of Sq | F | Pr(>F) |\n",
              "|---|---|---|---|---|---|\n",
              "| 26       | 7001     | NA       |   NA     |   NA     |       NA |\n",
              "| 23       | 3262     |  3       | 3739     | 8.79     | 0.000457 |\n",
              "\n"
            ],
            "text/plain": [
              "  Res.Df RSS  Df Sum of Sq F    Pr(>F)  \n",
              "1 26     7001 NA   NA        NA       NA\n",
              "2 23     3262  3 3739      8.79 0.000457"
            ]
          },
          "metadata": {},
          "output_type": "display_data"
        }
      ],
      "source": [
        "#- compare the 1st and 2nd order models statistically\n",
        "anova(model.ts1, model.ts2)"
      ]
    },
    {
      "cell_type": "markdown",
      "metadata": {
        "id": "TJzJfQFTgz-o"
      },
      "source": [
        "<div class=\"alert alert-block alert-warning\"><b>QUESTIONS: </b> </div>"
      ]
    },
    {
      "cell_type": "markdown",
      "metadata": {
        "id": "gOnALmmHgz-o"
      },
      "source": [
        "- Is the second-order surface statistically superior to the first-order\n",
        "surface?"
      ]
    },
    {
      "cell_type": "markdown",
      "metadata": {
        "id": "4-wrE72Sgz-p"
      },
      "source": [
        "> [double click in this cell and type your answer here]"
      ]
    },
    {
      "cell_type": "code",
      "execution_count": null,
      "metadata": {
        "id": "1C4dPQ645XrQ",
        "outputId": "59583ae7-9cf2-4e4a-923d-6238fd78b871"
      },
      "outputs": [
        {
          "data": {
            "text/plain": [
              "   Min. 1st Qu.  Median    Mean 3rd Qu.    Max. \n",
              " -26.21   -3.82   -1.55    0.00    2.41   29.56 "
            ]
          },
          "metadata": {},
          "output_type": "display_data"
        }
      ],
      "source": [
        "#- summary\n",
        "res.ts2 <- set_units(residuals(model.ts2), m)\n",
        "summary(res.ts2)"
      ]
    },
    {
      "cell_type": "code",
      "execution_count": null,
      "metadata": {
        "id": "TrVWz3K95XrQ",
        "outputId": "8c6b8005-bc03-4a3c-946d-ccfd8633c68a"
      },
      "outputs": [
        {
          "data": {
            "text/plain": [
              "1.47 [m]"
            ]
          },
          "metadata": {},
          "output_type": "display_data"
        },
        {
          "data": {
            "image/png": "[encoded data removed]",
            "text/plain": [
              "Plot with title \"Residuals from 2nd-order trend\""
            ]
          },
          "metadata": {},
          "output_type": "display_data"
        }
      ],
      "source": [
        "#- graphic summary\n",
        "hist(res.ts2, breaks=16, main=\"Residuals from 2nd-order trend\", xlab=\"residual elevation (m)\")\n",
        "rug(res.ts2)\n",
        "max(abs(res.ts2))/median(cfaq$waterLevel)"
      ]
    },
    {
      "cell_type": "markdown",
      "metadata": {
        "id": "Vq4P2oOy5XrR"
      },
      "source": [
        "<div class=\"alert alert-block alert-warning\"><b>QUESTIONS: </b> </div>"
      ]
    },
    {
      "cell_type": "markdown",
      "metadata": {
        "id": "3P-TNXu2YkTw"
      },
      "source": [
        "-  What is the range of residuals? How does this compare with the\n",
        "target variable? How are they distributed in feature space? How do these\n",
        "compare with the residuals from the first-order surface?"
      ]
    },
    {
      "cell_type": "markdown",
      "metadata": {
        "id": "Yl5XGVmiYrUk"
      },
      "source": [
        "> [double click in this cell and type your answer here]"
      ]
    },
    {
      "cell_type": "code",
      "execution_count": null,
      "metadata": {
        "id": "yBViMhIDhUY5",
        "outputId": "c78a73f3-38c2-4933-a7a3-8c016d989f88"
      },
      "outputs": [
        {
          "data": {
            "image/png": "[encoded data removed]",
            "text/plain": [
              "Plot with title \"\""
            ]
          },
          "metadata": {},
          "output_type": "display_data"
        }
      ],
      "source": [
        "#- diagnostic plots\n",
        "par(mfrow=c(1,2))\n",
        "plot(model.ts2, which=1:2)\n",
        "par(mfrow=c(1,1))"
      ]
    },
    {
      "cell_type": "markdown",
      "metadata": {
        "id": "7lYOfq4ehuoE"
      },
      "source": [
        "<div class=\"alert alert-block alert-warning\"><b>QUESTION: </b> </div>"
      ]
    },
    {
      "cell_type": "markdown",
      "metadata": {
        "id": "lhE8vJzchuoF"
      },
      "source": [
        "- Does this model meet the feature-space requirements for a valid\n",
        "linear model?\n",
        "\n",
        "> a. No relation between the fitted values and the residuals  \n",
        "> b. Equal spread of residuals across the range of fitted values  \n",
        "> c. Normally-distributed standardized residuals"
      ]
    },
    {
      "cell_type": "markdown",
      "metadata": {
        "id": "Hnh-r8gmhuoG"
      },
      "source": [
        "> [double click in this cell and type your answer here]"
      ]
    },
    {
      "cell_type": "markdown",
      "metadata": {
        "id": "Pa_zYplA5maG"
      },
      "source": [
        "**Identify the largest overprediction that do not fit the normal Q-Q plot**\n",
        "\n",
        "Looking at the QQ plot above we can take a value of 1 standard deviation to find the largest negative residuals."
      ]
    },
    {
      "cell_type": "code",
      "execution_count": null,
      "metadata": {
        "id": "hCzkMPKu5maH",
        "outputId": "277c40da-f7a8-4366-a8dc-189bdbe95c99"
      },
      "outputs": [
        {
          "data": {
            "text/plain": [
              "   Min. 1st Qu.  Median    Mean 3rd Qu.    Max. \n",
              "  -3.39   -0.51   -0.14   -0.01    0.21    3.31 "
            ]
          },
          "metadata": {},
          "output_type": "display_data"
        }
      ],
      "source": [
        "summary(sres.ts2 <- rstandard(model.ts2))"
      ]
    },
    {
      "cell_type": "code",
      "execution_count": null,
      "metadata": {
        "id": "QUhTPyaX5mal",
        "outputId": "a157f340-2702-4f6c-ad6b-0299369053cd"
      },
      "outputs": [
        {
          "data": {
            "text/html": [
              "<strong>28:</strong> 28"
            ],
            "text/latex": [
              "\\textbf{28:} 28"
            ],
            "text/markdown": [
              "**28:** 28"
            ],
            "text/plain": [
              "28 \n",
              "28 "
            ]
          },
          "metadata": {},
          "output_type": "display_data"
        }
      ],
      "source": [
        "(ix <- which(sres.ts2 < -1))"
      ]
    },
    {
      "cell_type": "code",
      "execution_count": null,
      "metadata": {
        "id": "-_ne3LRL5mam",
        "outputId": "aabbab22-2266-4c4e-d921-f8c92b6fb60c"
      },
      "outputs": [
        {
          "data": {
            "text/html": [
              "<table>\n",
              "<thead><tr><th></th><th scope=col>actual</th><th scope=col>fitted</th><th scope=col>residual</th><th scope=col></th></tr></thead>\n",
              "<tbody>\n",
              "\t<tr><th scope=row>28</th><td>73   </td><td>99.2 </td><td>-26.2</td><td>-3.39</td></tr>\n",
              "</tbody>\n",
              "</table>\n"
            ],
            "text/latex": [
              "\\begin{tabular}{r|llll}\n",
              "  & actual & fitted & residual & \\\\\n",
              "\\hline\n",
              "\t28 & 73    & 99.2  & -26.2 & -3.39\\\\\n",
              "\\end{tabular}\n"
            ],
            "text/markdown": [
              "\n",
              "| <!--/--> | actual | fitted | residual |  |\n",
              "|---|---|---|---|---|\n",
              "| 28 | 73    | 99.2  | -26.2 | -3.39 |\n",
              "\n"
            ],
            "text/plain": [
              "   actual fitted residual      \n",
              "28 73     99.2   -26.2    -3.39"
            ]
          },
          "metadata": {},
          "output_type": "display_data"
        }
      ],
      "source": [
        "(cbind(actual=cfaq[ix, \"waterLevel\"], fitted=fitted(model.ts2)[ix],\n",
        "       residual=res.ts2[ix],\n",
        "       std.res <- sres.ts2[ix]))"
      ]
    },
    {
      "cell_type": "code",
      "execution_count": null,
      "metadata": {
        "id": "ho827JRih4r7",
        "outputId": "840125b4-5252-45b0-db56-7802c6e4b56a"
      },
      "outputs": [
        {
          "data": {
            "image/png": "[encoded data removed]",
            "text/plain": [
              "Plot with title \"Residuals from 2nd-order trend\""
            ]
          },
          "metadata": {},
          "output_type": "display_data"
        }
      ],
      "source": [
        "#- display residuals as postplot and highlight the largest over-predictions\n",
        "plot(cfaq$Y ~ cfaq$X,\n",
        "     #st_coordinates(cfaq.sf)[,2] ~ st_coordinates(cfaq.sf)[,1],\n",
        "     cex=3*abs(res.ts2)/max(abs(res.ts2)),\n",
        "     col=ifelse(res.ts2 > set_units(0, m), \"green\", \"red\"),\n",
        "     xlab=\"E\", ylab=\"N\", asp=1,\n",
        "     main=\"Residuals from 2nd-order trend\",\n",
        "     sub=\"Positive: green; Negative: red; Black dots: severe over-predictions\")\n",
        "points(cfaq[ix, \"Y\"] ~ cfaq[ix, \"X\"],\n",
        "       #st_coordinates(cfaq.sf)[ix, 'X'], st_coordinates(cfaq.sf)[ix , 'Y'],\n",
        "       pch=20)\n",
        "#plot(st_coordinates(cfaq.sf)[,2] ~ st_coordinates(cfaq.sf)[,1],pch=20, col=\"blue\")#, add = TRUE)\n",
        "text(cfaq[ix, \"X\"] ~ cfaq[ix, \"Y\"],\n",
        "     #st_coordinates(cfaq.sf)[,1], st_coordinates(cfaq.sf)[,2],\n",
        "     #st_coordinates(cfaq.sf)[ix, 'X'], st_coordinates(cfaq.sf)[ix ,'Y'],\n",
        "     round(sres.ts2[ix], 2), pos=4)\n",
        "grid()"
      ]
    },
    {
      "cell_type": "markdown",
      "metadata": {
        "id": "-OBaG5BLiLH8"
      },
      "source": [
        "<div class=\"alert alert-block alert-warning\"><b>QUESTION: </b> </div>"
      ]
    },
    {
      "cell_type": "markdown",
      "metadata": {
        "id": "QivzXTxJiLIo"
      },
      "source": [
        "-  Is there an overall pattern to the residuals? Is there local spatial\n",
        "correlation without an overall pattern? Are the largest model residuals\n",
        "clustered? Does there seem to be any anisotropy (stronger spatial dependence in one direction than the orthogonal direction)?"
      ]
    },
    {
      "cell_type": "markdown",
      "metadata": {
        "id": "oQ1GMRU7iLIo"
      },
      "source": [
        "> [double click in this cell and type your answer here]"
      ]
    },
    {
      "cell_type": "markdown",
      "metadata": {
        "id": "j0USBPwXZg15"
      },
      "source": [
        "# 2. Trend Surface Prediction"
      ]
    },
    {
      "cell_type": "markdown",
      "metadata": {
        "id": "5iMbPM8pbiV7"
      },
      "source": [
        "**Now we come to the fun bit.**\n",
        "\n",
        "**We use the** `trend surface model`, **we've just created, and predict values where non-exist over our study area. We typically do so on a regular grid**"
      ]
    },
    {
      "cell_type": "markdown",
      "metadata": {
        "id": "8kseE-1ddokM"
      },
      "source": [
        "**Since we've already covered creating a 500m grid with `Inverse Distance Weighting` from the previous [01_extraTrendSurface Notebook](https://github.com/AdrianKriger/APG3040C-APG4013C/blob/main/cptFlatsAquifer/01_extraTrendSurface.ipynb); we move through this part quickly**"
      ]
    },
    {
      "cell_type": "code",
      "execution_count": null,
      "metadata": {
        "id": "7YssbNtZoSde",
        "outputId": "8a3afc01-04ad-441b-b9c1-98cdba829dee"
      },
      "outputs": [
        {
          "data": {
            "text/plain": [
              "       X                Y             waterLevel  \n",
              " Min.   :264250   Min.   :6227250   Min.   : NA   \n",
              " 1st Qu.:269125   1st Qu.:6232250   1st Qu.: NA   \n",
              " Median :274000   Median :6237500   Median : NA   \n",
              " Mean   :274000   Mean   :6237500   Mean   :NaN   \n",
              " 3rd Qu.:278875   3rd Qu.:6242750   3rd Qu.: NA   \n",
              " Max.   :283750   Max.   :6247750   Max.   : NA   \n",
              "                                    NA's   :1680  "
            ]
          },
          "metadata": {},
          "output_type": "display_data"
        }
      ],
      "source": [
        "#(n.col <- length(seq.e <- seq(min.x <- floor(min(st_coordinates(cfaq.sf)[,2])/1000)*1000,\n",
        "#                              max.x <- ceiling(max(st_coordinates(cfaq.sf)[,2])/1000)*1000, by=1000)))\n",
        "#(n.row <- length(seq.n <- seq(min.y <- floor(min(st_coordinates(cfaq.sf)[,1])/1000)*1000,\n",
        "#                              max.y <- ceiling(max(st_coordinates(cfaq.sf)[,1])/1000)*1000, by=1000)))\n",
        "\n",
        "n.col <- length(seq.e <- seq(min.x <- floor(min(cfaq$X)/1000)*1000,\n",
        "                              max.x <- ceiling(max(cfaq$X)/1000)*1000, by=1000))\n",
        "\n",
        "n.row <- length(seq.n <- seq(min.y <- floor(min(cfaq$Y)/1000)*1000,\n",
        "                              max.y <- ceiling(max(cfaq$Y)/1000)*1000, by=1000))\n",
        "\n",
        "\n",
        "#we want a 2km grid\n",
        "grid <- rast(nrows = n.row, ncols = n.col,\n",
        "                xmin=min.x, xmax=max.x,\n",
        "                ymin=min.y, ymax=max.y, crs = st_crs(cfaq.sf)$proj4string,\n",
        "                resolution = 500, names=\"waterLevel\")\n",
        "\n",
        "values(grid) <- NA_real_\n",
        "\n",
        "#class(grid)\n",
        "#crs(grid)\n",
        "#plot(grid); grid()\n",
        "\n",
        "grid.df <- as.data.frame(grid, xy = TRUE, na.rm = FALSE)\n",
        "names(grid.df)[1:2] <- c(\"X\", \"Y\") # match the names of the point dataset\n",
        "summary(grid.df)"
      ]
    },
    {
      "cell_type": "markdown",
      "metadata": {
        "id": "K3OgIe825mav"
      },
      "source": [
        "**Now we are ready. We map the values of the `second-order trend surface` onto this *empty* grid**\n",
        "\n",
        "We do this at a Best fit and a 95% prediction level"
      ]
    },
    {
      "cell_type": "code",
      "execution_count": null,
      "metadata": {
        "id": "o9UsizB15max"
      },
      "outputs": [],
      "source": [
        "pred.ts2 <- predict.lm(model.ts2,\n",
        "                       newdata = grid.df,\n",
        "                       interval = \"prediction\", level = 0.95)\n",
        "\n",
        "summary(pred.ts2)"
      ]
    },
    {
      "cell_type": "code",
      "source": [
        "summary(values(grid))"
      ],
      "metadata": {
        "id": "rAYKsY8rZM6z"
      },
      "execution_count": null,
      "outputs": []
    },
    {
      "cell_type": "markdown",
      "source": [
        "**And add the `model predictions` to the surface**"
      ],
      "metadata": {
        "id": "i5Ol0beIZRzK"
      }
    },
    {
      "cell_type": "code",
      "execution_count": null,
      "metadata": {
        "id": "6Ikj5xj25may",
        "outputId": "ce598f00-c918-4f92-8a8c-903246dbe584"
      },
      "outputs": [
        {
          "data": {
            "text/plain": [
              "   Min. 1st Qu.  Median    Mean 3rd Qu.    Max. \n",
              "    4.9    17.8    24.4    32.5    40.7   127.9 "
            ]
          },
          "metadata": {},
          "output_type": "display_data"
        },
        {
          "data": {
            "text/plain": [
              "   waterLevel   \n",
              " Min.   :  4.9  \n",
              " 1st Qu.: 17.8  \n",
              " Median : 24.4  \n",
              " Mean   : 32.5  \n",
              " 3rd Qu.: 40.7  \n",
              " Max.   :127.9  "
            ]
          },
          "metadata": {},
          "output_type": "display_data"
        }
      ],
      "source": [
        "values(grid) <- pred.ts2[,\"fit\"]\n",
        "summary(values(grid))"
      ]
    },
    {
      "cell_type": "code",
      "execution_count": null,
      "metadata": {
        "id": "pWyFyQubbjhA",
        "outputId": "6c9441ab-b12b-4de3-f10a-d42a4b883b09"
      },
      "outputs": [
        {
          "data": {
            "image/png": "[encoded data removed]",
            "text/plain": [
              "Plot with title \"OLS 2nd order predicted surface\""
            ]
          },
          "metadata": {},
          "output_type": "display_data"
        }
      ],
      "source": [
        "#-- plot\n",
        "plot(grid, main = \"OLS 2nd order predicted surface\")\n",
        "points(st_coordinates(cfaq.sf)[,2] ~ st_coordinates(cfaq.sf)[,1], pch=16,\n",
        "       col = ifelse(res.ts2 < set_units(0, m), \"red\", \"green\"),\n",
        "       cex=2*abs(res.ts2)/max(abs(res.ts2)))"
      ]
    },
    {
      "cell_type": "markdown",
      "source": [
        "The `plot()` illustrates the residuals at each point _[red < and green >]_ with the size proportinal to the error."
      ],
      "metadata": {
        "id": "f8shCblcZlqe"
      }
    },
    {
      "cell_type": "markdown",
      "metadata": {
        "id": "cHhefsgp5ma3"
      },
      "source": [
        "<div class=\"alert alert-block alert-warning\"><b>QUESTION: </b> </div>"
      ]
    },
    {
      "cell_type": "markdown",
      "metadata": {
        "id": "EsSX2PDe5ma3"
      },
      "source": [
        "-  How well does the trend surface fit the points? Are there obvious problems??"
      ]
    },
    {
      "cell_type": "markdown",
      "metadata": {
        "id": "5ICD8AtO5ma4"
      },
      "source": [
        "> [double click in this cell and type your answer here]"
      ]
    },
    {
      "cell_type": "code",
      "execution_count": null,
      "metadata": {
        "id": "87PbevxB5ma5",
        "outputId": "b0ed79a0-8357-4674-ca18-bc0c767a076b"
      },
      "outputs": [
        {
          "data": {
            "text/plain": [
              "      fit             lwr             upr       \n",
              " Min.   :  4.9   Min.   :-35.0   Min.   : 40.7  \n",
              " 1st Qu.: 17.8   1st Qu.: -8.4   1st Qu.: 44.4  \n",
              " Median : 24.4   Median : -2.8   Median : 51.8  \n",
              " Mean   : 32.5   Mean   :  4.1   Mean   : 60.8  \n",
              " 3rd Qu.: 40.7   3rd Qu.: 11.2   3rd Qu.: 69.8  \n",
              " Max.   :127.9   Max.   : 91.3   Max.   :164.4  "
            ]
          },
          "metadata": {},
          "output_type": "display_data"
        }
      ],
      "source": [
        "#-- the following three cells are general housekeeping to add the (best, lwr and upr) predictions to the data.frame\n",
        "\n",
        "summary(pred.ts2)"
      ]
    },
    {
      "cell_type": "code",
      "execution_count": null,
      "metadata": {
        "id": "38lafKOX5mbJ",
        "outputId": "6ea23c06-65de-4b88-b95c-cfdc27260db3"
      },
      "outputs": [
        {
          "data": {
            "text/plain": [
              "       X                Y             waterLevel  \n",
              " Min.   :264250   Min.   :6227250   Min.   : NA   \n",
              " 1st Qu.:269125   1st Qu.:6232250   1st Qu.: NA   \n",
              " Median :274000   Median :6237500   Median : NA   \n",
              " Mean   :274000   Mean   :6237500   Mean   :NaN   \n",
              " 3rd Qu.:278875   3rd Qu.:6242750   3rd Qu.: NA   \n",
              " Max.   :283750   Max.   :6247750   Max.   : NA   \n",
              "                                    NA's   :1680  "
            ]
          },
          "metadata": {},
          "output_type": "display_data"
        }
      ],
      "source": [
        "summary(grid.df)"
      ]
    },
    {
      "cell_type": "code",
      "execution_count": null,
      "metadata": {
        "id": "j5GNWfUB5mbK",
        "outputId": "dfd5e680-2b2a-40b2-a80d-fe94ce3a8410"
      },
      "outputs": [
        {
          "data": {
            "text/plain": [
              "       X                Y              ts2.fit         ts2.lwr     \n",
              " Min.   :264250   Min.   :6227250   Min.   :  4.9   Min.   :-35.0  \n",
              " 1st Qu.:269125   1st Qu.:6232250   1st Qu.: 17.8   1st Qu.: -8.4  \n",
              " Median :274000   Median :6237500   Median : 24.4   Median : -2.8  \n",
              " Mean   :274000   Mean   :6237500   Mean   : 32.5   Mean   :  4.1  \n",
              " 3rd Qu.:278875   3rd Qu.:6242750   3rd Qu.: 40.7   3rd Qu.: 11.2  \n",
              " Max.   :283750   Max.   :6247750   Max.   :127.9   Max.   : 91.3  \n",
              "    ts2.upr     \n",
              " Min.   : 40.7  \n",
              " 1st Qu.: 44.4  \n",
              " Median : 51.8  \n",
              " Mean   : 60.8  \n",
              " 3rd Qu.: 69.8  \n",
              " Max.   :164.4  "
            ]
          },
          "metadata": {},
          "output_type": "display_data"
        }
      ],
      "source": [
        "grid.df[, 3:5] <- pred.ts2\n",
        "names(grid.df)[3:5] <- c(\"ts2.fit\", \"ts2.lwr\", \"ts2.upr\")\n",
        "summary(grid.df)"
      ]
    },
    {
      "cell_type": "markdown",
      "source": [
        "**We end this Notebook with summarizing the uncertainty from the trend surface as absolute differences between the upper and lower predictions limits; and then a percentage of the best fit value. And then illustrate this 95% prediction interval as a it applies to our study area**"
      ],
      "metadata": {
        "id": "6TZS4g_Ra_DP"
      }
    },
    {
      "cell_type": "code",
      "execution_count": null,
      "metadata": {
        "id": "qCh4nk7k5mbT",
        "outputId": "f190ad46-ba26-44af-870a-72050182f9e2"
      },
      "outputs": [
        {
          "data": {
            "text/plain": [
              "   Min. 1st Qu.  Median    Mean 3rd Qu.    Max. \n",
              "   51.0    52.0    54.7    56.7    59.1    93.9 "
            ]
          },
          "metadata": {},
          "output_type": "display_data"
        }
      ],
      "source": [
        "#-- uncertainty as upper and lower absolute values\n",
        "summary(grid.df$ts2.diff.range <- grid.df$ts2.upr - grid.df$ts2.lwr)"
      ]
    },
    {
      "cell_type": "code",
      "execution_count": null,
      "metadata": {
        "id": "W3VJ1UxE5mbT",
        "outputId": "fb94f038-3a82-4e87-f174-c42cb33a89c8"
      },
      "outputs": [
        {
          "data": {
            "text/plain": [
              "   Min. 1st Qu.  Median    Mean 3rd Qu.    Max. \n",
              "     57     145     223     242     293    1628 "
            ]
          },
          "metadata": {},
          "output_type": "display_data"
        }
      ],
      "source": [
        "#- uncertainty as percentage of best fit\n",
        "summary(100*grid.df$ts2.diff.range/grid.df$ts2.fit)"
      ]
    },
    {
      "cell_type": "code",
      "execution_count": null,
      "metadata": {
        "id": "h-dMtIaV5mbX",
        "outputId": "a6cf83b5-efe9-46f1-bb0c-ae82c340c444"
      },
      "outputs": [
        {
          "data": {
            "image/png": "[encoded data removed]",
            "text/plain": [
              "Plot with title \"Range of 95% prediction interval, 2nd-order trend, OLS fit\""
            ]
          },
          "metadata": {},
          "output_type": "display_data"
        }
      ],
      "source": [
        "grid.diff <- grid\n",
        "values(grid.diff) <- grid.df$ts2.diff.range\n",
        "plot(grid.diff, col=cm.colors(64),\n",
        "main=\"Range of 95% prediction interval, 2nd-order trend, OLS fit\")\n",
        "grid()\n",
        "points(st_coordinates(cfaq.sf)[,2] ~ st_coordinates(cfaq.sf)[,1], pch=16,col = \"gray\")"
      ]
    },
    {
      "cell_type": "markdown",
      "metadata": {
        "id": "KwnTnbcOdUv7"
      },
      "source": [
        "<div class=\"alert alert-block alert-warning\"><b>QUESTION: </b> </div>"
      ]
    },
    {
      "cell_type": "markdown",
      "metadata": {
        "id": "8bnzOYFKdUwI"
      },
      "source": [
        "-  What are the units of prediction interval? How large are they?\n",
        "How does this compare to the variable we are trying to predict?"
      ]
    },
    {
      "cell_type": "markdown",
      "metadata": {
        "id": "LfDJwJNWdUwI"
      },
      "source": [
        "> [double click in this cell and type your answer here]"
      ]
    },
    {
      "cell_type": "markdown",
      "metadata": {
        "id": "8BJf-smkdeXf"
      },
      "source": [
        "- Describe the spatial pattern of the prediction interval."
      ]
    },
    {
      "cell_type": "markdown",
      "metadata": {
        "id": "5DvYvFqXdeYJ"
      },
      "source": [
        "> [double click in this cell and type your answer here]"
      ]
    },
    {
      "cell_type": "markdown",
      "metadata": {
        "id": "DzEgnhfe90uE"
      },
      "source": [
        "<div class=\"alert alert-block alert-danger\"><b>stop here! </b></div>"
      ]
    }
  ],
  "metadata": {
    "colab": {
      "provenance": []
    },
    "kernelspec": {
      "display_name": "R",
      "language": "R",
      "name": "ir"
    },
    "language_info": {
      "codemirror_mode": "r",
      "file_extension": ".r",
      "mimetype": "text/x-r-source",
      "name": "R",
      "pygments_lexer": "r",
      "version": "3.6.0"
    }
  },
  "nbformat": 4,
  "nbformat_minor": 0
}