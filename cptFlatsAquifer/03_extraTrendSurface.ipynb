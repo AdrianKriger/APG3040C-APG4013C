{
 "cells": [
  {
   "cell_type": "markdown",
   "metadata": {
    "id": "otIUJqwzs2Nt"
   },
   "source": [
    "_this notebook is meant to execute **`R`** in a `conda` environment_"
   ]
  },
  {
   "cell_type": "markdown",
   "metadata": {
    "id": "XM7JB6i8Yw0F"
   },
   "source": [
    "# Introduction"
   ]
  },
  {
   "cell_type": "markdown",
   "metadata": {
    "id": "NxPz5S-nkm8P"
   },
   "source": [
    "\n",
    "\n",
    "In this third Notebook on *higher order* **_Trend Surface analysis with R_** we introduce;\n",
    "\n",
    "<ol type = \"1\">\n",
    "    <li>General Additive Models (GAM) and </li>\n",
    "    <li>Thin plate splines</li>\n",
    "</ol>\n"
   ]
  },
  {
   "cell_type": "markdown",
   "metadata": {
    "id": "KFNCLYYkY85X"
   },
   "source": [
    "<div class=\"alert alert-block alert-danger\"><b>REQUIRED: </b></div>"
   ]
  },
  {
   "cell_type": "markdown",
   "metadata": {
    "id": "Sl_xCyleZNoy"
   },
   "source": [
    "**You are required to insert your outputs and any comment into this document.**\n",
    "\n",
    "The document you submit should therefore contain the existing text in addition to:\n",
    "\n",
    "> *   Plots and other outputs from executing the code chunks  \n",
    "> *   Discussion of your plots and other outputs as well as conclusions reached.\n",
    "\n",
    "This should also include any hypotheses and assumptions made as well as factors that may affect your conclusions."
   ]
  },
  {
   "cell_type": "markdown",
   "metadata": {
    "id": "IhzwSEK7Yyq7"
   },
   "source": [
    "## 1. General Additive Models (GAM)"
   ]
  },
  {
   "cell_type": "markdown",
   "metadata": {
    "id": "m-4xB7bIRzX-"
   },
   "source": [
    "We now truly start our journey into higher order trend surface analysis. GAMs are very similar to multiple `linear regression`; where each predictor  typically has a smooth function. The advantage is that GAMs can capture intricate and complex patterns traditional `linear models` often miss.\n",
    "\n",
    "The disadvantage of these methods are their computational complexity and the risk of overfitting. It is pretty dangerous to extrapolate outside the range of calibration (i.e.: beyond the observation points)."
   ]
  },
  {
   "cell_type": "markdown",
   "metadata": {
    "id": "HetaRstpU-1O"
   },
   "source": [
    "_please install necessary packages through a `prompt` interface; as per the [requirements.txt](https://github.com/AdrianKriger/APG3040C-APG4013C/blob/main/cptFlatsAquifer/requirements.txt) Not here_."
   ]
  },
  {
   "cell_type": "code",
   "execution_count": null,
   "metadata": {
    "id": "0VUxWyWiHwGa"
   },
   "outputs": [],
   "source": [
    "options(prompt=\"> \", continue=\"+ \", digits=3, width=70, show.signif.stars=T, repr.plot.width=6, repr.plot.height=6)\n",
    "rm(list=ls())\n",
    "\n",
    "# Install necessary packages: You only need to run this part once\n",
    "##- install.packages(c(\"sf\", \"gstat\", \"ggplot2\", \"gridExtra\",\"units\", \"terra\",\"mgcv\",\"fields\",\"nlme\"))\n",
    "\n",
    "#library(repr)\n",
    "library(sf) # 'simple features' representations of spatial objects\n",
    "library(gstat) # geostatistics\n",
    "library(ggplot2) # geostatistics\n",
    "library(gridExtra)\n",
    "library(units) # units of measure\n",
    "library(terra) # gridded data structures (\"rasters\")\n",
    "library(mgcv)\n",
    "library(fields)"
   ]
  },
  {
   "cell_type": "code",
   "execution_count": 2,
   "metadata": {
    "id": "Vwx5MtuPHwJa"
   },
   "outputs": [],
   "source": [
    "options(show.signif.stars=FALSE)"
   ]
  },
  {
   "cell_type": "markdown",
   "metadata": {
    "id": "7HJyftV7Vk3J"
   },
   "source": [
    "We've already covered creating a 500m grid and 2nd-order prediction and interpolation with previous Notebooks and move through the introduction quickly."
   ]
  },
  {
   "cell_type": "code",
   "execution_count": 3,
   "metadata": {
    "id": "bX-M7KzpYjin"
   },
   "outputs": [],
   "source": [
    "file = 'cptFlatsAquifer_watertable4.txt'"
   ]
  },
  {
   "cell_type": "code",
   "execution_count": 4,
   "metadata": {
    "id": "SRAMZddJKO28"
   },
   "outputs": [
    {
     "data": {
      "text/html": [
       "21"
      ],
      "text/latex": [
       "21"
      ],
      "text/markdown": [
       "21"
      ],
      "text/plain": [
       "[1] 21"
      ]
     },
     "metadata": {},
     "output_type": "display_data"
    },
    {
     "data": {
      "text/html": [
       "22"
      ],
      "text/latex": [
       "22"
      ],
      "text/markdown": [
       "22"
      ],
      "text/plain": [
       "[1] 22"
      ]
     },
     "metadata": {},
     "output_type": "display_data"
    },
    {
     "data": {
      "text/plain": [
       "       X                Y             waterLevel  \n",
       " Min.   :264250   Min.   :6227250   Min.   : NA   \n",
       " 1st Qu.:269125   1st Qu.:6232250   1st Qu.: NA   \n",
       " Median :274000   Median :6237500   Median : NA   \n",
       " Mean   :274000   Mean   :6237500   Mean   :NaN   \n",
       " 3rd Qu.:278875   3rd Qu.:6242750   3rd Qu.: NA   \n",
       " Max.   :283750   Max.   :6247750   Max.   : NA   \n",
       "                                    NA's   :1680  "
      ]
     },
     "metadata": {},
     "output_type": "display_data"
    }
   ],
   "source": [
    "#-- import\n",
    "cfaq <- read.csv(file, header = 1, sep = ',', dec = '.') #sep = '\\t',\n",
    "#- set crs\n",
    "cfaq.sf <- st_as_sf(cfaq, coords=c(\"long\", \"lat\"), crs = 4326) #wgs84\n",
    "#- transform to local crs\n",
    "cfaq.sf <- st_transform(cfaq.sf, crs = 32734) #utm 34s\n",
    "cfaq$X <- st_coordinates(cfaq.sf)[, \"X\"]\n",
    "cfaq$Y <- st_coordinates(cfaq.sf)[, \"Y\"]\n",
    "\n",
    "model.ts2 <- lm(waterLevel ~ X + Y + I(X^2) + I(Y^2) + I(X*Y), data=drop_units(cfaq))\n",
    "\n",
    "#--  create grid\n",
    "#(n.col <- length(seq.e <- seq(min.x <- floor(min(st_coordinates(cfaq.sf)[,1])/1000)*1000,\n",
    "#                              max.x <- ceiling(max(st_coordinates(cfaq.sf)[,1])/1000)*1000, by=1000)))\n",
    "#(n.col <- length(seq.e <- seq(min.x <- floor(min(st_coordinates(cfaq.sf)[,2])/1000)*1000,\n",
    "#                              max.x <- ceiling(max(st_coordinates(cfaq.sf)[,2])/1000)*1000, by=1000)))\n",
    "(n.col <- length(seq.e <- seq(min.x <- floor(min(cfaq$X)/1000)*1000,\n",
    "                              max.x <- ceiling(max(cfaq$X)/1000)*1000, by=1000)))\n",
    "(n.row <- length(seq.n <- seq(min.y <- floor(min(cfaq$Y)/1000)*1000,\n",
    "                              max.y <- ceiling(max(cfaq$Y)/1000)*1000, by=1000)))\n",
    "\n",
    "#we want a XXXXm grid\n",
    "grid <- rast(nrows = n.row, ncols = n.col,\n",
    "             xmin=min.x, xmax=max.x,\n",
    "             ymin=min.y, ymax=max.y, crs = st_crs(cfaq.sf)$proj4string,\n",
    "             resolution = 500, names=\"waterLevel\")\n",
    "\n",
    "values(grid) <- NA_real_\n",
    "\n",
    "grid.df <- as.data.frame(grid, xy = TRUE, na.rm = FALSE)\n",
    "names(grid.df)[1:2] <- c(\"X\", \"Y\") # match the names of the point dataset\n",
    "summary(grid.df)\n",
    "\n",
    "#--\n",
    "pred.ts2 <- predict.lm(model.ts2,\n",
    "                       newdata = grid.df,\n",
    "                       interval = \"prediction\", level = 0.95)\n",
    "\n",
    "#-- add the three prediction fields (fit, lower, upper) to the data\n",
    "grid.df[, 3:5] <- pred.ts2\n",
    "names(grid.df)[3:5] <- c(\"ts2.fit\", \"ts2.lwr\", \"ts2.upr\")"
   ]
  },
  {
   "cell_type": "code",
   "execution_count": 5,
   "metadata": {
    "id": "04QHBJER5XrD",
    "outputId": "62de649a-ecc0-4d5e-eb9d-716330434bf1"
   },
   "outputs": [
    {
     "data": {
      "text/html": [
       "<table>\n",
       "<thead><tr><th scope=col>name</th><th scope=col>long</th><th scope=col>lat</th><th scope=col>waterLevel</th><th scope=col>elevation</th><th scope=col>depth</th><th scope=col>X</th><th scope=col>Y</th></tr></thead>\n",
       "<tbody>\n",
       "\t<tr><td>EM_01  </td><td>18.6   </td><td>-34.1  </td><td>14.4   </td><td>20.4   </td><td>63     </td><td>274222 </td><td>6227351</td></tr>\n",
       "\t<tr><td>EM_27  </td><td>18.6   </td><td>-34.1  </td><td>16.2   </td><td>20.0   </td><td>48     </td><td>276191 </td><td>6227571</td></tr>\n",
       "\t<tr><td>EM_29  </td><td>18.6   </td><td>-34.1  </td><td>18.8   </td><td>25.5   </td><td>39     </td><td>279770 </td><td>6229369</td></tr>\n",
       "</tbody>\n",
       "</table>\n"
      ],
      "text/latex": [
       "\\begin{tabular}{r|llllllll}\n",
       " name & long & lat & waterLevel & elevation & depth & X & Y\\\\\n",
       "\\hline\n",
       "\t EM\\_01 & 18.6    & -34.1   & 14.4    & 20.4    & 63      & 274222  & 6227351\\\\\n",
       "\t EM\\_27 & 18.6    & -34.1   & 16.2    & 20.0    & 48      & 276191  & 6227571\\\\\n",
       "\t EM\\_29 & 18.6    & -34.1   & 18.8    & 25.5    & 39      & 279770  & 6229369\\\\\n",
       "\\end{tabular}\n"
      ],
      "text/markdown": [
       "\n",
       "| name | long | lat | waterLevel | elevation | depth | X | Y |\n",
       "|---|---|---|---|---|---|---|---|\n",
       "| EM_01   | 18.6    | -34.1   | 14.4    | 20.4    | 63      | 274222  | 6227351 |\n",
       "| EM_27   | 18.6    | -34.1   | 16.2    | 20.0    | 48      | 276191  | 6227571 |\n",
       "| EM_29   | 18.6    | -34.1   | 18.8    | 25.5    | 39      | 279770  | 6229369 |\n",
       "\n"
      ],
      "text/plain": [
       "  name  long lat   waterLevel elevation depth X      Y      \n",
       "1 EM_01 18.6 -34.1 14.4       20.4      63    274222 6227351\n",
       "2 EM_27 18.6 -34.1 16.2       20.0      48    276191 6227571\n",
       "3 EM_29 18.6 -34.1 18.8       25.5      39    279770 6229369"
      ]
     },
     "metadata": {},
     "output_type": "display_data"
    }
   ],
   "source": [
    "#-- look\n",
    "head(cfaq ,3)"
   ]
  },
  {
   "cell_type": "markdown",
   "metadata": {
    "id": "CzMRXeQgTuFx"
   },
   "source": [
    "We start through first exploring whether a curve _(a smoothing function)_ better captures the relationships between location (x, y) and the aquifer water level. We do this through the local polynomial regression via the `leoss` function built into `ggplot2` as `geom_smooth`."
   ]
  },
  {
   "cell_type": "code",
   "execution_count": 6,
   "metadata": {
    "id": "3LwlvSEyTscv"
   },
   "outputs": [
    {
     "data": {
      "image/png": "[encoded data removed]",
      "text/plain": [
       "plot without title"
      ]
     },
     "metadata": {},
     "output_type": "display_data"
    }
   ],
   "source": [
    "##- plot\n",
    "g1 <- ggplot(drop_units(cfaq), aes(x=Y, y=waterLevel)) +\n",
    "  geom_point() +\n",
    "  geom_smooth(method=\"loess\") +\n",
    "  labs(y = \"elevation [m]\")\n",
    "g2 <- ggplot(drop_units(cfaq), aes(x=X, y=waterLevel)) +\n",
    "  geom_point() +\n",
    "  geom_smooth(method=\"loess\") +\n",
    "  labs(y = \"elevation [m]\")\n",
    "grid.arrange(g1, g2, ncol = 2)"
   ]
  },
  {
   "cell_type": "markdown",
   "metadata": {
    "id": "GQtHzuUeWf_s"
   },
   "source": [
    "<div class=\"alert alert-block alert-warning\"><b>QUESTION: </b> </div>"
   ]
  },
  {
   "cell_type": "markdown",
   "metadata": {
    "id": "qxpPNt6wWf_u"
   },
   "source": [
    "- Do these marginal relations appear to be linear in the predictors?"
   ]
  },
  {
   "cell_type": "markdown",
   "metadata": {
    "id": "HZF-4bh4Wf_v"
   },
   "source": [
    "> [double click in this cell and type your answer here]"
   ]
  },
  {
   "cell_type": "markdown",
   "metadata": {
    "id": "w1q4WA4cIG0V"
   },
   "source": [
    "**Fitting the GAM**\n",
    "\n",
    "We work with the **Mixed GAM Computation Vehicle** `mgcv` library default smoothing setting and explore **thin plate splines**, as an alternate smoothing function later."
   ]
  },
  {
   "cell_type": "code",
   "execution_count": 7,
   "metadata": {
    "id": "nzuacmWU5XrE"
   },
   "outputs": [
    {
     "data": {
      "text/plain": [
       "\n",
       "Family: gaussian \n",
       "Link function: identity \n",
       "\n",
       "Formula:\n",
       "waterLevel ~ s(X, Y, k = 29)\n",
       "\n",
       "Parametric coefficients:\n",
       "            Estimate Std. Error t value Pr(>|t|)\n",
       "(Intercept) 2.74e+01   7.84e-04   34986        1\n",
       "\n",
       "Approximate significance of smooth terms:\n",
       "       edf Ref.df        F p-value\n",
       "s(X,Y)  28     28 26188286       1\n",
       "\n",
       "R-sq.(adj) =      1   Deviance explained =  100%\n",
       "GCV = 13.755  Scale est. = 1.7819e-05  n = 29"
      ]
     },
     "metadata": {},
     "output_type": "display_data"
    }
   ],
   "source": [
    "model.gam <- gam(waterLevel ~ s(X, Y, k = 29), data=drop_units(cfaq))\n",
    "summary(model.gam)"
   ]
  },
  {
   "cell_type": "markdown",
   "metadata": {
    "id": "i9-55HLFaawl"
   },
   "source": [
    "<div class=\"alert alert-block alert-warning\"><b>QUESTION: </b> </div>"
   ]
  },
  {
   "cell_type": "markdown",
   "metadata": {
    "id": "rHRffTF9aawm"
   },
   "source": [
    "- How well does this model fit the calibration observations?"
   ]
  },
  {
   "cell_type": "markdown",
   "metadata": {
    "id": "68CdzCRyaawn"
   },
   "source": [
    "> [double click in this cell and type your answer here]"
   ]
  },
  {
   "cell_type": "markdown",
   "metadata": {
    "id": "vtMZo2CtdfhA"
   },
   "source": [
    "**Since we have a 2nd-order trend surface; lets compare.**\n",
    "\n",
    "we do this with numbers and graphs."
   ]
  },
  {
   "cell_type": "code",
   "execution_count": 8,
   "metadata": {
    "id": "5b9kU96JaMCC"
   },
   "outputs": [
    {
     "data": {
      "text/plain": [
       "     Min.   1st Qu.    Median      Mean   3rd Qu.      Max. \n",
       "-1.37e-05 -1.74e-06 -1.30e-07  0.00e+00  1.88e-06  9.80e-06 "
      ]
     },
     "metadata": {},
     "output_type": "display_data"
    }
   ],
   "source": [
    "#- residuals\n",
    "resid.gam <- residuals(model.gam)\n",
    "summary(resid.gam)"
   ]
  },
  {
   "cell_type": "code",
   "execution_count": 9,
   "metadata": {
    "id": "bqGJspoKagre"
   },
   "outputs": [
    {
     "data": {
      "text/plain": [
       "   Min. 1st Qu.  Median    Mean 3rd Qu.    Max. \n",
       " -26.21   -3.82   -1.55    0.00    2.41   29.56 "
      ]
     },
     "metadata": {},
     "output_type": "display_data"
    }
   ],
   "source": [
    "summary(residuals(model.ts2))"
   ]
  },
  {
   "cell_type": "code",
   "execution_count": 10,
   "metadata": {
    "id": "a2esDn8-fsPv"
   },
   "outputs": [
    {
     "data": {
      "image/png": "[encoded data removed]",
      "text/plain": [
       "Plot with title \"Histogram of residuals(model.ts2)\""
      ]
     },
     "metadata": {},
     "output_type": "display_data"
    }
   ],
   "source": [
    "#regular histogram\n",
    "par(mfrow=c(1,2))\n",
    "hist(resid.gam)#, xlim=c(-5, 5))#,\n",
    "     #breaks=c(min(cfaq$waterLevel), max(cfaq$waterLevel), by=2)), main=\"Residuals from GAM\")\n",
    "rug(residuals(model.gam))\n",
    "hist(residuals(model.ts2))#, xlim=c(-30, 30))#,\n",
    "     #breaks=c(min(cfaq$waterLevel), max(cfaq$waterLevel), by=2), main=\"Residuals from 2nd-order OLS trend\")\n",
    "rug(residuals(model.ts2))\n",
    "par(mfrow=c(1,1))"
   ]
  },
  {
   "cell_type": "code",
   "execution_count": 11,
   "metadata": {
    "id": "cXKriX8Dfy_l"
   },
   "outputs": [
    {
     "name": "stderr",
     "output_type": "stream",
     "text": [
      "`stat_bin()` using `bins = 30`. Pick better value with `binwidth`.\n",
      "`stat_bin()` using `bins = 30`. Pick better value with `binwidth`.\n"
     ]
    },
    {
     "data": {
      "image/png": "[encoded data removed]",
      "text/plain": [
       "plot without title"
      ]
     },
     "metadata": {},
     "output_type": "display_data"
    }
   ],
   "source": [
    "#-- ggplot2\n",
    "g1 <- ggplot(data=as.data.frame(resid.gam), aes(resid.gam)) +\n",
    "  geom_histogram(#breaks=seq(-20,20,by=2),\n",
    "                 fill=\"lightblue\", color=\"black\", alpha=0.9) +\n",
    "  geom_rug() +\n",
    "  labs(title = \"Residuals from GAM\",\n",
    "       x = expression(paste(Delta, m)))\n",
    "g2 <- ggplot(data=as.data.frame(residuals(model.ts2)), aes(residuals(model.ts2))) +\n",
    "  geom_histogram(#breaks=seq(-20,20,by=2),\n",
    "                 fill=\"lightgreen\", color=\"darkblue\", alpha=0.9) +\n",
    "  geom_rug() +\n",
    "  labs(title = \"Residuals from 2nd order polynomial trend surface\",\n",
    "       x = expression(paste(Delta, m)))\n",
    "grid.arrange(g1, g2, nrow=1)"
   ]
  },
  {
   "cell_type": "markdown",
   "metadata": {
    "id": "eNT5LIElgE7S"
   },
   "source": [
    "<div class=\"alert alert-block alert-warning\"><b>QUESTION: </b> </div>"
   ]
  },
  {
   "cell_type": "markdown",
   "metadata": {
    "id": "rOfrsvOlgE7T"
   },
   "source": [
    "- Which histogram shows the narrowest spread?"
   ]
  },
  {
   "cell_type": "markdown",
   "metadata": {
    "id": "IaQ86tEIgE7U"
   },
   "source": [
    "> [double click in this cell and type your answer here]"
   ]
  },
  {
   "cell_type": "code",
   "execution_count": 12,
   "metadata": {
    "id": "YNWrlhWE5XrF"
   },
   "outputs": [
    {
     "data": {
      "image/png": "[encoded data removed]",
      "text/plain": [
       "plot without title"
      ]
     },
     "metadata": {},
     "output_type": "display_data"
    }
   ],
   "source": [
    "#-- residuals as a bubble plot. show the size of the residuals by the size of a point, and the polarity (positive vs. negative)\n",
    "cfaq$resid.gam <- resid.gam\n",
    "ggplot(data = drop_units(cfaq)) +\n",
    "  aes(x=X, y=Y, size = abs(resid.gam),\n",
    "      col = ifelse((resid.gam < 0), \"red\", \"green\")) +\n",
    "  geom_point(alpha=0.7) +\n",
    "  scale_size_continuous(name = expression(paste(plain(\"residual [\"),\n",
    "                                                reDelta, m, plain(\"]\"))),\n",
    "                        breaks=seq(0,12, by=2)) +\n",
    "  scale_color_manual(name = \"polarity\",\n",
    "                     labels = c(\"negative\",\"positive\"),\n",
    "                     values = c(\"red\",\"green\",\"blue\"))"
   ]
  },
  {
   "cell_type": "markdown",
   "metadata": {
    "id": "BR0EMXGxgj3V"
   },
   "source": [
    "<div class=\"alert alert-block alert-warning\"><b>QUESTION: </b> </div>"
   ]
  },
  {
   "cell_type": "markdown",
   "metadata": {
    "id": "BZ89x2nFgj3W"
   },
   "source": [
    "- Does there appear to be any local spatial correlation of the residuals?"
   ]
  },
  {
   "cell_type": "markdown",
   "metadata": {
    "id": "f2zXNVZfgj3X"
   },
   "source": [
    "> [double click in this cell and type your answer here]"
   ]
  },
  {
   "cell_type": "code",
   "execution_count": 13,
   "metadata": {
    "id": "9NCXoBoz5XrG"
   },
   "outputs": [
    {
     "data": {
      "image/png": "[encoded data removed]",
      "text/plain": [
       "plot without title"
      ]
     },
     "metadata": {},
     "output_type": "display_data"
    }
   ],
   "source": [
    "#- gam as 3D surface\n",
    "plot.gam(model.gam, rug = FALSE, se = FALSE, select=1,\n",
    "         scheme=1, theta=110+130, phi=30)"
   ]
  },
  {
   "cell_type": "code",
   "execution_count": 14,
   "metadata": {
    "id": "WcwJAgCYhnwL"
   },
   "outputs": [
    {
     "data": {
      "image/png": "[encoded data removed]",
      "text/plain": [
       "plot without title"
      ]
     },
     "metadata": {},
     "output_type": "display_data"
    }
   ],
   "source": [
    "#-3D with 1 standard error of fit\n",
    "vis.gam(model.gam, plot.type=\"persp\", color=\"terrain\",\n",
    "        theta=160, zlab=\"elevation\", se=1.96)"
   ]
  },
  {
   "cell_type": "markdown",
   "metadata": {
    "id": "LufR_tzLJdrf"
   },
   "source": [
    "**GAM `RMSE`and predict the model onto our 500m grid**"
   ]
  },
  {
   "cell_type": "code",
   "execution_count": 15,
   "metadata": {
    "id": "b6FcQtxiiDLl"
   },
   "outputs": [
    {
     "data": {
      "text/html": [
       "4.8265986135026e-06"
      ],
      "text/latex": [
       "4.8265986135026e-06"
      ],
      "text/markdown": [
       "4.8265986135026e-06"
      ],
      "text/plain": [
       "[1] 4.83e-06"
      ]
     },
     "metadata": {},
     "output_type": "display_data"
    }
   ],
   "source": [
    "#-- rmse\n",
    "(rmse.gam <- sqrt(sum(residuals(model.gam)^2)/length(residuals(model.gam))))"
   ]
  },
  {
   "cell_type": "markdown",
   "metadata": {},
   "source": [
    "**This is: 0.0000661702060402302m. Pretty good!**"
   ]
  },
  {
   "cell_type": "code",
   "execution_count": 16,
   "metadata": {
    "id": "PZK6EPSJirjO"
   },
   "outputs": [
    {
     "data": {
      "text/plain": [
       "   Min. 1st Qu.  Median    Mean 3rd Qu.    Max. \n",
       "   -3.2    16.1    26.6    32.3    43.9   107.8 "
      ]
     },
     "metadata": {},
     "output_type": "display_data"
    }
   ],
   "source": [
    "#-- predict aquifer elevation, standard error of prediction using the fitted GAM\n",
    "tmp <- predict.gam(object=model.gam,\n",
    "                   newdata=grid.df,\n",
    "                   se.fit=TRUE)\n",
    "summary(tmp$fit)"
   ]
  },
  {
   "cell_type": "code",
   "execution_count": 17,
   "metadata": {
    "id": "aXzC_msmisYy"
   },
   "outputs": [
    {
     "data": {
      "text/plain": [
       "   Min. 1st Qu.  Median    Mean 3rd Qu.    Max. \n",
       "0.00273 0.00373 0.00432 0.00458 0.00501 0.00936 "
      ]
     },
     "metadata": {},
     "output_type": "display_data"
    }
   ],
   "source": [
    "summary(tmp$se.fit)"
   ]
  },
  {
   "cell_type": "code",
   "execution_count": 18,
   "metadata": {
    "id": "5SS5PzqYiyTU"
   },
   "outputs": [
    {
     "name": "stdout",
     "output_type": "stream",
     "text": [
      "List of 2\n",
      " $ fit   : num [1:1680(1d)] 27.7 25.1 22.7 20.9 19.5 ...\n",
      "  ..- attr(*, \"dimnames\")=List of 1\n",
      "  .. ..$ : chr [1:1680] \"1\" \"2\" \"3\" \"4\" ...\n",
      " $ se.fit: num [1:1680(1d)] 0.00622 0.00601 0.00583 0.00567 0.00554 ...\n",
      "  ..- attr(*, \"dimnames\")=List of 1\n",
      "  .. ..$ : chr [1:1680] \"1\" \"2\" \"3\" \"4\" ...\n"
     ]
    }
   ],
   "source": [
    "str(tmp)"
   ]
  },
  {
   "cell_type": "code",
   "execution_count": 19,
   "metadata": {
    "id": "qXOcorjci66m"
   },
   "outputs": [],
   "source": [
    "#-- add these to the data.frame of the spatial grid with the as.numeric(1d array to vector)\n",
    "grid.df$pred.gam <- as.numeric(tmp$fit)\n",
    "grid.df$pred.gam.se <- as.numeric(tmp$se.fit)"
   ]
  },
  {
   "cell_type": "code",
   "execution_count": 20,
   "metadata": {
    "id": "La46YsiZjP09"
   },
   "outputs": [
    {
     "data": {
      "image/png": "[encoded data removed]",
      "text/plain": [
       "Plot with title \"GAM prediction\""
      ]
     },
     "metadata": {},
     "output_type": "display_data"
    }
   ],
   "source": [
    "#-- plot\n",
    "grid.gam <- grid\n",
    "values(grid.gam) <- grid.df$pred.gam\n",
    "plot(grid.gam, col = rainbow(100), main=\"GAM prediction\"); grid()\n",
    "points(st_coordinates(cfaq.sf)[,2] ~ st_coordinates(cfaq.sf)[,1],\n",
    "#       pch=16,\n",
    "       col=ifelse(cfaq$resid.gam < 0, \"red\", \"green\"),\n",
    "       cex=2*abs(cfaq$resid.gam)/max(abs(cfaq$resid.gam)),\n",
    "                                     pch=21,\n",
    "                                     bg = adjustcolor(\"black\", alpha.f = 0.1),\n",
    "                                     #col = \"black\",\n",
    "                                     #cex = 0.9,\n",
    "                                     lwd = 0.5)"
   ]
  },
  {
   "cell_type": "markdown",
   "metadata": {
    "id": "hjHBb8aa6I9o"
   },
   "source": [
    "<div class=\"alert alert-block alert-warning\"><b>QUESTION: </b> </div>"
   ]
  },
  {
   "cell_type": "markdown",
   "metadata": {
    "id": "OTs7G1yw6Lfs"
   },
   "source": [
    "-  How well does the GAM trend surface fit the points? Are there obvious problems?"
   ]
  },
  {
   "cell_type": "markdown",
   "metadata": {
    "id": "qnWoUGkb6al9"
   },
   "source": [
    "> [double click in this cell and type your answer here]"
   ]
  },
  {
   "cell_type": "code",
   "execution_count": 21,
   "metadata": {
    "id": "S4_j8YhF5XrG",
    "outputId": "707094d3-d211-4f91-b7e9-c9f2556867b9"
   },
   "outputs": [
    {
     "data": {
      "image/png": "[encoded data removed]",
      "text/plain": [
       "Plot with title \"GAM prediction standard error\""
      ]
     },
     "metadata": {},
     "output_type": "display_data"
    }
   ],
   "source": [
    "#- standard errors of prediction\n",
    "grid.gam.se <- grid\n",
    "values(grid.gam.se) <- grid.df$pred.gam.se\n",
    "plot(grid.gam.se, main=\"GAM prediction standard error\",\n",
    "     col=cm.colors(64))\n",
    "grid()\n",
    "points(st_coordinates(cfaq.sf)[,2] ~ st_coordinates(cfaq.sf)[,1], pch=16,\n",
    "       col=\"grey\")"
   ]
  },
  {
   "cell_type": "markdown",
   "metadata": {
    "id": "09NzP7G-jwCX"
   },
   "source": [
    "We see our GAM standard errors follow a similar pattern to the polynomial surfaces with concentrations higher along the edges but what we really want to know is where the GAM surface differs from the traditional parametric"
   ]
  },
  {
   "cell_type": "code",
   "execution_count": 22,
   "metadata": {
    "id": "XEly4at-5XrH"
   },
   "outputs": [
    {
     "data": {
      "text/plain": [
       "   Min. 1st Qu.  Median    Mean 3rd Qu.    Max. \n",
       "  -50.8    -6.6    -0.7    -0.2     6.5    37.0 "
      ]
     },
     "metadata": {},
     "output_type": "display_data"
    },
    {
     "data": {
      "image/png": "[encoded data removed]",
      "text/plain": [
       "Plot with title \"Difference (GAM - 2nd order trend surface) predictions, [m]\""
      ]
     },
     "metadata": {},
     "output_type": "display_data"
    }
   ],
   "source": [
    "summary(grid.df$diff.gam.ols <- grid.df$pred.gam - grid.df$ts2.fit)\n",
    "\n",
    "grid.diff.gam.ols <- grid\n",
    "values(grid.diff.gam.ols) <- grid.df$diff.gam.ols\n",
    "plot(grid.diff.gam.ols,\n",
    "     main=\"Difference (GAM - 2nd order trend surface) predictions, [m]\",\n",
    "     col=topo.colors(64))\n",
    "grid()"
   ]
  },
  {
   "cell_type": "markdown",
   "metadata": {
    "id": "WEIYKzA7lqtY"
   },
   "source": [
    "Here the positive differences are where the GAM predicts higher values than\n",
    "the trend surface."
   ]
  },
  {
   "cell_type": "markdown",
   "metadata": {
    "id": "lU69Z9vLZOb9"
   },
   "source": [
    "<div class=\"alert alert-block alert-warning\"><b>QUESTION: </b> </div>"
   ]
  },
  {
   "cell_type": "markdown",
   "metadata": {
    "id": "CVN7IBjXZOb-"
   },
   "source": [
    "- Where are the largest differences between the GAM and 2nd order OLS trend surface predictions? Explain why, considering how the two surfaces are computed"
   ]
  },
  {
   "cell_type": "markdown",
   "metadata": {
    "id": "-Xwe9TGqZOb-"
   },
   "source": [
    "> [double click in this cell and type your answer here]"
   ]
  },
  {
   "cell_type": "markdown",
   "metadata": {
    "id": "unPiX4Ubl7JZ"
   },
   "source": [
    "## 2. Thin-plate spline interpolation\n",
    "\n",
    "Thin-plate splines are equivalent to a _thin and flexible_ plate warped to fit a dataset. We can do this with a single _plane_ surface similar to a 1st-degree polynomial all the way through to an extremely supple surface that perfectly fit every observation.\n",
    "\n",
    "Generally we choose a balanced approach because overfitting introduces noise."
   ]
  },
  {
   "cell_type": "code",
   "execution_count": 23,
   "metadata": {
    "id": "-LfLT7nW5XrI"
   },
   "outputs": [
    {
     "name": "stdout",
     "output_type": "stream",
     "text": [
      " num [1:29, 1:2] 274222 276191 279770 283452 282454 ...\n"
     ]
    }
   ],
   "source": [
    "#-- set up thin plate spline\n",
    "cfaq.tps <- cfaq[, c(\"X\",\"Y\", \"waterLevel\")]\n",
    "cfaq.tps$coords <- matrix(c(cfaq.tps$X, cfaq.tps$Y), byrow=F, ncol=2)\n",
    "str(cfaq.tps$coords)"
   ]
  },
  {
   "cell_type": "code",
   "execution_count": 27,
   "metadata": {
    "id": "yjsWFoJB5XrJ"
   },
   "outputs": [
    {
     "ename": "ERROR",
     "evalue": "Error: object 'mako' is not exported by 'namespace:viridisLite'\n",
     "output_type": "error",
     "traceback": [
      "Error: object 'mako' is not exported by 'namespace:viridisLite'\nTraceback:\n",
      "1. fields::Tps",
      "2. getExportedValue(pkg, name)",
      "3. asNamespace(ns)",
      "4. getNamespace(ns)",
      "5. loadNamespace(name)",
      "6. namespaceImportFrom(ns, loadNamespace(j <- i[[1L]], c(lib.loc, \n .     .libPaths()), versionCheck = vI[[j]]), i[[2L]], from = package)",
      "7. asNamespace(ns)",
      "8. loadNamespace(j <- i[[1L]], c(lib.loc, .libPaths()), versionCheck = vI[[j]])",
      "9. namespaceImportFrom(ns, loadNamespace(j <- i[[1L]], c(lib.loc, \n .     .libPaths()), versionCheck = vI[[j]]), i[[2L]], from = package)",
      "10. importIntoEnv(impenv, impnames, ns, impvars)",
      "11. stop(sprintf(ngettext(length(miss), \"object %s is not exported by 'namespace:%s'\", \n  .     \"objects %s are not exported by 'namespace:%s'\"), paste(sQuote(miss), \n  .     collapse = \", \"), getNamespaceName(expenv)), call. = FALSE, \n  .     domain = NA)"
     ]
    }
   ],
   "source": [
    "surf.1 <- fields::Tps(cfaq.tps$coords, cfaq.tps$waterLevel)"
   ]
  },
  {
   "cell_type": "code",
   "execution_count": 25,
   "metadata": {
    "id": "imc8Owck5XrJ"
   },
   "outputs": [
    {
     "ename": "ERROR",
     "evalue": "Error in summary(surf.1): object 'surf.1' not found\n",
     "output_type": "error",
     "traceback": [
      "Error in summary(surf.1): object 'surf.1' not found\nTraceback:\n",
      "1. summary(surf.1)"
     ]
    }
   ],
   "source": [
    "summary(surf.1)"
   ]
  },
  {
   "cell_type": "code",
   "execution_count": null,
   "metadata": {
    "id": "fjBC80FGpIDX"
   },
   "outputs": [],
   "source": [
    "#-- predict over the study area\n",
    "grid.coords.m <- as.matrix(grid.df[, c(\"X\", \"Y\")], ncol=2)\n",
    "str(grid.coords.m)"
   ]
  },
  {
   "cell_type": "code",
   "execution_count": null,
   "metadata": {
    "id": "s5cfhGXop7vh"
   },
   "outputs": [],
   "source": [
    "surf.1.pred <- predict.Krig(surf.1, grid.coords.m)\n",
    "summary(grid.df$pred.tps <- as.numeric(surf.1.pred))"
   ]
  },
  {
   "cell_type": "code",
   "execution_count": null,
   "metadata": {
    "id": "bUX2yrrUqFpo"
   },
   "outputs": [],
   "source": [
    "#-- compute and summarize residuals\n",
    "grid.tps <- grid\n",
    "values(grid.tps) <- surf.1.pred\n",
    "tmp <- extract(grid.tps, st_coordinates(cfaq.sf))\n",
    "#names(tmp)\n",
    "\n",
    "summary(cfaq.sf$resid.tps <- (cfaq$waterLevel - tmp$waterLevel))"
   ]
  },
  {
   "cell_type": "code",
   "execution_count": null,
   "metadata": {
    "id": "quqPuvzaqQAO"
   },
   "outputs": [],
   "source": [
    "#- histogram of the residuals\n",
    "hist(cfaq.sf$resid.tps, main=\"Thin-plate spline residuals\", breaks=16)\n",
    "rug(cfaq.sf$resid.tps)"
   ]
  },
  {
   "cell_type": "code",
   "execution_count": null,
   "metadata": {
    "id": "L--6ZEr7qg3l"
   },
   "outputs": [],
   "source": [
    "#- plot\n",
    "plot(grid.tps, col = rainbow(100),\n",
    "     main = \"2D Thin-plate spline surface\")\n",
    "points(st_coordinates(cfaq.sf)[,2] ~ st_coordinates(cfaq.sf)[,1],\n",
    "       #       pch=16,\n",
    "       col=ifelse(cfaq.sf$resid.tps < 0, \"red\", \"green\"), #\"black\", \"grey\"),\n",
    "       cex=2*abs(cfaq.sf$resid.tps)/max(abs(cfaq.sf$resid.tps)),\n",
    "       pch=21,\n",
    "       bg = adjustcolor(\"black\", alpha.f = 0.1),\n",
    "       #col = \"black\",\n",
    "       #cex = 0.9,\n",
    "       lwd = 0.5)"
   ]
  },
  {
   "cell_type": "markdown",
   "metadata": {
    "id": "TtopmJ5hPhNb"
   },
   "source": [
    "As with the other interpolation plots; the red and green illustrate positive and negative errors with size representative of magnitude. Notice how closely the surface fits the points.\n",
    "\n",
    "Similarly; what we really want to know is where the thin-plate spline differs from the GAM surface."
   ]
  },
  {
   "cell_type": "code",
   "execution_count": null,
   "metadata": {
    "id": "Iv3oeMnhq1I3"
   },
   "outputs": [],
   "source": [
    "#- show the surface\n",
    "grid.diff.tps.gam <- grid\n",
    "grid.diff.tps.gam <- grid.tps - grid.gam\n",
    "values(grid.diff.tps.gam) <- (values(grid.tps) - values(grid.gam))\n",
    "plot(grid.diff.tps.gam,\n",
    "     col = topo.colors(64),\n",
    "     main = \"Thin-plate spline less GAM fits, [m]\",\n",
    "     xlab = \"X\", ylab = \"Y\")"
   ]
  },
  {
   "cell_type": "markdown",
   "metadata": {
    "id": "CcfvmDHNZklU"
   },
   "source": [
    "<div class=\"alert alert-block alert-success\"> <b>A BREATHER</b>  </div>"
   ]
  },
  {
   "cell_type": "markdown",
   "metadata": {
    "id": "9eiZ3B38ZklV"
   },
   "source": [
    "Before we continue onto the next Notebook and Generalized Least Squares; we might want to take a break and possibly understand why we would want to go further than this pretty good surface!\n",
    "\n",
    "One of the principles of Spatial Data Science is; **data is spatially autocorrelated**. Patterns and particularly residuals (errors) have a spatial structure / are connected.\n",
    "\n",
    "In other words; ***\"everything is related to everything else, but near things are more related than distant things\"*** - [The First Law of Geography, according to Waldo Tobler](https://en.wikipedia.org/wiki/Tobler%27s_first_law_of_geography#cite_note-1)\n",
    ">\n",
    "\n",
    "\n",
    "We can model the spatial structure of residuals with a **variogram**; and then use this model to refine a trend surface with Generalized Least Squares.\n",
    "\n",
    "Recall our formula for a 1st- (with more degrees of freedom for the  2nd-) order surface;\n",
    "\n",
    "$$\n",
    "    Z = 𝜷_0 + 𝜷_1x + 𝜷_2y + ϵ   \n",
    "$$\n",
    "\n",
    "In effect we do away with the broad $ϵ$ term _---applied to the entire study area---_ and introduce local terms to mininize the overall error  "
   ]
  },
  {
   "cell_type": "markdown",
   "metadata": {
    "id": "mZOnyeGQZklV"
   },
   "source": [
    "> [double click in this cell and type your answer here]"
   ]
  },
  {
   "cell_type": "code",
   "execution_count": null,
   "metadata": {
    "id": "j3DX7THB5XrO"
   },
   "outputs": [],
   "source": [
    "#- emphirical variogram\n",
    "cfaq$fit.ts2 <- fitted(model.ts2)\n",
    "cfaq.sf$fit.ts2 <- fitted(model.ts2)\n",
    "cfaq$res.ts2 <- residuals(model.ts2)\n",
    "cfaq.sf$res.ts2 <- residuals(model.ts2)\n",
    "     main=\"Residuals from 1st-order trend\",\n",
    "     sub=\"Positive: green; Negative: red\", asp=1, lwd=1.6)\n",
    "grid()"
   ]
  },
  {
   "cell_type": "markdown",
   "metadata": {
    "id": "rfAKoTie6_Cc"
   },
   "source": [
    "The emphirical variogram can be characterised by"
   ]
  },
  {
   "cell_type": "code",
   "execution_count": null,
   "metadata": {
    "id": "75bKHs3Ozxs2"
   },
   "outputs": [],
   "source": [
    "vr.c <- variogram(res.ts2 ~ 1, loc = cfaq.sf, cutoff = 50000, cloud = T)\n",
    "vr <- variogram(res.ts2 ~ 1, loc = cfaq.sf, cutoff = 50000)\n",
    "p1 <- plot(vr.c, col = \"blue\", pch = 20, cex = 0.5,\n",
    "           xlab = \"separation [m]\", ylab = \"semivariance [m^2]\")\n",
    "p2 <- plot(vr, plot.numbers = T, col = \"blue\", pch = 20, cex = 1.5,\n",
    "           xlab = \"separation [m]\", ylab = \"semivariance [m^2]\")\n",
    "print(p1, split = c(1,1,2,1), more = T)\n",
    "print(p2, split = c(2,1,2,1), more = F)"
   ]
  },
  {
   "cell_type": "markdown",
   "metadata": {
    "id": "jYDg7KJzHgAO"
   },
   "source": [
    "<div class=\"alert alert-block alert-warning\"><b>QUESTION: </b> </div>"
   ]
  },
  {
   "cell_type": "markdown",
   "metadata": {
    "id": "Sw79kajHHgAP"
   },
   "source": [
    "- What are the estimated sill, range, and nugget of this variogram?"
   ]
  },
  {
   "cell_type": "markdown",
   "metadata": {
    "id": "YFaEcNKbHgAP"
   },
   "source": [
    "> [double click in this cell and type your answer here]"
   ]
  }
 ],
 "metadata": {
  "colab": {
   "provenance": [
    {
     "file_id": "1Rk0-1c6M3fTtXTsbDMgHUAztF-6ouL9a",
     "timestamp": 1690459317309
    }
   ]
  },
  "kernelspec": {
   "display_name": "R",
   "language": "R",
   "name": "ir"
  },
  "language_info": {
   "codemirror_mode": "r",
   "file_extension": ".r",
   "mimetype": "text/x-r-source",
   "name": "R",
   "pygments_lexer": "r",
   "version": "3.6.0"
  }
 },
 "nbformat": 4,
 "nbformat_minor": 4
}
