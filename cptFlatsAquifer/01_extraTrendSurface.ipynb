{
 "cells": [
  {
   "cell_type": "markdown",
   "metadata": {
    "id": "otIUJqwzs2Nt"
   },
   "source": [
    "_this notebook is meant to execute **`R`** in a `conda` environment_"
   ]
  },
  {
   "cell_type": "markdown",
   "metadata": {
    "id": "XM7JB6i8Yw0F"
   },
   "source": [
    "# Introduction"
   ]
  },
  {
   "cell_type": "markdown",
   "metadata": {
    "id": "NxPz5S-nkm8P"
   },
   "source": [
    "This Notebook (the first-of-four) serves to introduce a user to a series of exercises focused on *higher order* **_Trend Surface analysis with R_**.\n",
    "\n",
    "It consists of two sections:\n",
    "\n",
    "1.   Explore the datset\n",
    "2.   Deterministic Interpolation Techniques\n"
   ]
  },
  {
   "cell_type": "markdown",
   "metadata": {
    "id": "KFNCLYYkY85X"
   },
   "source": [
    "<div class=\"alert alert-block alert-danger\"><b>REQUIRED: </b></div>"
   ]
  },
  {
   "cell_type": "markdown",
   "metadata": {
    "id": "Sl_xCyleZNoy"
   },
   "source": [
    "**You are required to insert your outputs and any comment into this document.** The document you submit should therefore contain the existing text in addition to:\n",
    "\n",
    "> *   Plots and other outputs from executing the code chunks  \n",
    "> *   Discussion of your plots and other outputs as well as conclusions reached.\n",
    "\n",
    "This should also include any hypotheses and assumptions made as well as factors that may affect your conclusions."
   ]
  },
  {
   "cell_type": "markdown",
   "metadata": {
    "id": "IhzwSEK7Yyq7"
   },
   "source": [
    "## 1. Explore the Dataset\n",
    "\n",
    "_please install necessary packages through a `prompt` interface; as per the [requirements.txt](https://github.com/AdrianKriger/APG3040C-APG4013C/blob/main/cptFlatsAquifer/requirements.txt) Not here_."
   ]
  },
  {
   "cell_type": "code",
   "execution_count": 2,
   "metadata": {
    "id": "0VUxWyWiHwGa"
   },
   "outputs": [],
   "source": [
    "options(prompt=\"> \", continue=\"+ \", digits=3, width=70, show.signif.stars=T, repr.plot.width=8, repr.plot.height=8)\n",
    "rm(list=ls())\n",
    "\n",
    "# Install necessary packages: You only need to run this part once\n",
    "#install.packages(c(\"sf\", \"gstat\", \"ggplot2\", \"gridExtra\",\"units\", \"terra\",\"mgcv\",\"fields\",\"nlme\"))\n",
    "\n",
    "#library(repr)\n",
    "library(sf) # 'simple features' representations of spatial objects\n",
    "library(gstat) # geostatistics\n",
    "#library(ggplot2) # Grammer of Graphics plots\n",
    "#library(gridExtra) # arrange multiple ggplot graphics on one figure\n",
    "#library(units) # units of measure\n",
    "library(stars) # gridded data structures (\"rasters\")\n",
    "#library(mgcv) # for Generalized Additive Models\n",
    "#library(fields) # NCAR etc. approach to surfaces\n",
    "#library(nlme) # Linear and Nonlinear Mixed Effects Models#"
   ]
  },
  {
   "cell_type": "code",
   "execution_count": 3,
   "metadata": {
    "id": "Vwx5MtuPHwJa"
   },
   "outputs": [],
   "source": [
    "options(show.signif.stars=FALSE)"
   ]
  },
  {
   "cell_type": "code",
   "execution_count": 4,
   "metadata": {
    "id": "bX-M7KzpYjin"
   },
   "outputs": [],
   "source": [
    "file = 'cptFlatsAquifer_watertable4.txt'"
   ]
  },
  {
   "cell_type": "code",
   "execution_count": 5,
   "metadata": {
    "id": "SRAMZddJKO28"
   },
   "outputs": [],
   "source": [
    "#-- import\n",
    "cfaq <- read.csv(file, header = 1, sep = ',', dec = '.') #sep = '\\t',"
   ]
  },
  {
   "cell_type": "code",
   "execution_count": 6,
   "metadata": {
    "id": "04QHBJER5XrD",
    "outputId": "62de649a-ecc0-4d5e-eb9d-716330434bf1"
   },
   "outputs": [
    {
     "data": {
      "text/html": [
       "<table class=\"dataframe\">\n",
       "<caption>A data.frame: 3 × 6</caption>\n",
       "<thead>\n",
       "\t<tr><th></th><th scope=col>name</th><th scope=col>long</th><th scope=col>lat</th><th scope=col>waterLevel</th><th scope=col>elevation</th><th scope=col>depth</th></tr>\n",
       "\t<tr><th></th><th scope=col>&lt;fct&gt;</th><th scope=col>&lt;dbl&gt;</th><th scope=col>&lt;dbl&gt;</th><th scope=col>&lt;dbl&gt;</th><th scope=col>&lt;dbl&gt;</th><th scope=col>&lt;dbl&gt;</th></tr>\n",
       "</thead>\n",
       "<tbody>\n",
       "\t<tr><th scope=row>1</th><td>EM_01</td><td>18.6</td><td>-34.1</td><td>14.4</td><td>20.4</td><td>63</td></tr>\n",
       "\t<tr><th scope=row>2</th><td>EM_27</td><td>18.6</td><td>-34.1</td><td>16.2</td><td>20.0</td><td>48</td></tr>\n",
       "\t<tr><th scope=row>3</th><td>EM_29</td><td>18.6</td><td>-34.1</td><td>18.8</td><td>25.5</td><td>39</td></tr>\n",
       "</tbody>\n",
       "</table>\n"
      ],
      "text/latex": [
       "A data.frame: 3 × 6\n",
       "\\begin{tabular}{r|llllll}\n",
       "  & name & long & lat & waterLevel & elevation & depth\\\\\n",
       "  & <fct> & <dbl> & <dbl> & <dbl> & <dbl> & <dbl>\\\\\n",
       "\\hline\n",
       "\t1 & EM\\_01 & 18.6 & -34.1 & 14.4 & 20.4 & 63\\\\\n",
       "\t2 & EM\\_27 & 18.6 & -34.1 & 16.2 & 20.0 & 48\\\\\n",
       "\t3 & EM\\_29 & 18.6 & -34.1 & 18.8 & 25.5 & 39\\\\\n",
       "\\end{tabular}\n"
      ],
      "text/markdown": [
       "\n",
       "A data.frame: 3 × 6\n",
       "\n",
       "| <!--/--> | name &lt;fct&gt; | long &lt;dbl&gt; | lat &lt;dbl&gt; | waterLevel &lt;dbl&gt; | elevation &lt;dbl&gt; | depth &lt;dbl&gt; |\n",
       "|---|---|---|---|---|---|---|\n",
       "| 1 | EM_01 | 18.6 | -34.1 | 14.4 | 20.4 | 63 |\n",
       "| 2 | EM_27 | 18.6 | -34.1 | 16.2 | 20.0 | 48 |\n",
       "| 3 | EM_29 | 18.6 | -34.1 | 18.8 | 25.5 | 39 |\n",
       "\n"
      ],
      "text/plain": [
       "  name  long lat   waterLevel elevation depth\n",
       "1 EM_01 18.6 -34.1 14.4       20.4      63   \n",
       "2 EM_27 18.6 -34.1 16.2       20.0      48   \n",
       "3 EM_29 18.6 -34.1 18.8       25.5      39   "
      ]
     },
     "metadata": {},
     "output_type": "display_data"
    }
   ],
   "source": [
    "#-- look\n",
    "head(cfaq ,3)"
   ]
  },
  {
   "cell_type": "markdown",
   "metadata": {
    "id": "hjHBb8aa6I9o"
   },
   "source": [
    "<div class=\"alert alert-block alert-warning\"><b>QUESTION: </b> </div>"
   ]
  },
  {
   "cell_type": "markdown",
   "metadata": {
    "id": "OTs7G1yw6Lfs"
   },
   "source": [
    "- What is the purpose of producing a map of the the elevation of the top of the aquifer over the study area? In other words, who would use the map and for what purpose?"
   ]
  },
  {
   "cell_type": "markdown",
   "metadata": {
    "id": "qnWoUGkb6al9"
   },
   "source": [
    "> [double click in this cell and type your answer here]"
   ]
  },
  {
   "cell_type": "code",
   "execution_count": 7,
   "metadata": {
    "id": "nzuacmWU5XrE",
    "outputId": "b8916e7f-f54e-412b-d381-6232fb2a7b59"
   },
   "outputs": [
    {
     "name": "stdout",
     "output_type": "stream",
     "text": [
      "'data.frame':\t29 obs. of  6 variables:\n",
      " $ name      : Factor w/ 29 levels \"BCH_BH1\",\"CR18_1\",..: 4 15 16 9 12 8 3 2 11 20 ...\n",
      " $ long      : num  18.6 18.6 18.6 18.7 18.6 ...\n",
      " $ lat       : num  -34.1 -34.1 -34.1 -34 -34 ...\n",
      " $ waterLevel: num  14.4 16.2 18.8 20.1 22.9 ...\n",
      " $ elevation : num  20.4 20 25.5 36.5 32.7 ...\n",
      " $ depth     : num  63 48 39 45 33 33 27 27 37 26 ...\n"
     ]
    }
   ],
   "source": [
    "#names(cfaq) <- c(\"name\", \"long\", \"lat\", \"wl\", \"z\", \"d\")\n",
    "str(cfaq)"
   ]
  },
  {
   "cell_type": "code",
   "execution_count": 8,
   "metadata": {
    "id": "YNWrlhWE5XrF",
    "outputId": "696c1824-86ed-436c-adf1-9b810a75a43b"
   },
   "outputs": [
    {
     "data": {
      "text/plain": [
       "Coordinate Reference System:\n",
       "  User input: EPSG:4326 \n",
       "  wkt:\n",
       "GEOGCS[\"WGS 84\",\n",
       "    DATUM[\"WGS_1984\",\n",
       "        SPHEROID[\"WGS 84\",6378137,298.257223563,\n",
       "            AUTHORITY[\"EPSG\",\"7030\"]],\n",
       "        AUTHORITY[\"EPSG\",\"6326\"]],\n",
       "    PRIMEM[\"Greenwich\",0,\n",
       "        AUTHORITY[\"EPSG\",\"8901\"]],\n",
       "    UNIT[\"degree\",0.0174532925199433,\n",
       "        AUTHORITY[\"EPSG\",\"9122\"]],\n",
       "    AUTHORITY[\"EPSG\",\"4326\"]]"
      ]
     },
     "metadata": {},
     "output_type": "display_data"
    }
   ],
   "source": [
    "#- set as a spatial feature with xy coords an existing projection\n",
    "cfaq.sf <- st_as_sf(cfaq, coords=c(\"long\", \"lat\"), crs = 4326) #wgs84\n",
    "#str(cfaq)\n",
    "st_crs(cfaq.sf)"
   ]
  },
  {
   "cell_type": "code",
   "execution_count": 9,
   "metadata": {
    "id": "9NCXoBoz5XrG"
   },
   "outputs": [],
   "source": [
    "#- transform to local crs\n",
    "cfaq.sf <- st_transform(cfaq.sf, crs = 32734) #utm 34s\n",
    "cfaq.sf$X <- st_coordinates(cfaq.sf)[, \"X\"]\n",
    "cfaq.sf$Y <- st_coordinates(cfaq.sf)[, \"Y\"]"
   ]
  },
  {
   "cell_type": "code",
   "execution_count": 10,
   "metadata": {
    "id": "S4_j8YhF5XrG",
    "outputId": "707094d3-d211-4f91-b7e9-c9f2556867b9"
   },
   "outputs": [
    {
     "name": "stdout",
     "output_type": "stream",
     "text": [
      " num [1:29, 1:2] 274222 276191 279770 283452 282454 ...\n",
      " - attr(*, \"dimnames\")=List of 2\n",
      "  ..$ : chr [1:29] \"1\" \"2\" \"3\" \"4\" ...\n",
      "  ..$ : chr [1:2] \"X\" \"Y\"\n"
     ]
    }
   ],
   "source": [
    "str(st_coordinates(cfaq.sf))"
   ]
  },
  {
   "cell_type": "code",
   "execution_count": 11,
   "metadata": {
    "id": "XEly4at-5XrH",
    "outputId": "58e052d2-1805-4b2e-8831-bff0fabdd072"
   },
   "outputs": [
    {
     "data": {
      "text/plain": [
       "       X                Y          \n",
       " Min.   :264519   Min.   :6227351  \n",
       " 1st Qu.:272347   1st Qu.:6233265  \n",
       " Median :275582   Median :6236260  \n",
       " Mean   :275035   Mean   :6236447  \n",
       " 3rd Qu.:278955   3rd Qu.:6239665  \n",
       " Max.   :283452   Max.   :6247415  "
      ]
     },
     "metadata": {},
     "output_type": "display_data"
    }
   ],
   "source": [
    "#- summarize the coordinates\n",
    "summary(st_coordinates(cfaq.sf), digits = 3)"
   ]
  },
  {
   "cell_type": "code",
   "execution_count": 12,
   "metadata": {
    "id": "-LfLT7nW5XrI"
   },
   "outputs": [],
   "source": [
    "#save(aq, aq.sf, file=\"cfAquifer.rda\")"
   ]
  },
  {
   "cell_type": "code",
   "execution_count": 13,
   "metadata": {
    "id": "yjsWFoJB5XrJ",
    "outputId": "cace2cff-b0f6-40ef-854b-6f2244705bb7"
   },
   "outputs": [
    {
     "data": {
      "text/html": [
       "<style>\n",
       ".list-inline {list-style: none; margin:0; padding: 0}\n",
       ".list-inline>li {display: inline-block}\n",
       ".list-inline>li:not(:last-child)::after {content: \"\\00b7\"; padding: 0 .5ex}\n",
       "</style>\n",
       "<ol class=list-inline><li>29</li><li>7</li></ol>\n"
      ],
      "text/latex": [
       "\\begin{enumerate*}\n",
       "\\item 29\n",
       "\\item 7\n",
       "\\end{enumerate*}\n"
      ],
      "text/markdown": [
       "1. 29\n",
       "2. 7\n",
       "\n",
       "\n"
      ],
      "text/plain": [
       "[1] 29  7"
      ]
     },
     "metadata": {},
     "output_type": "display_data"
    }
   ],
   "source": [
    "dim(cfaq.sf)"
   ]
  },
  {
   "cell_type": "code",
   "execution_count": 14,
   "metadata": {
    "id": "imc8Owck5XrJ",
    "outputId": "e540b9bb-2310-41ce-fba4-f36218737892"
   },
   "outputs": [
    {
     "data": {
      "text/plain": [
       "      name      waterLevel      elevation         depth      \n",
       " BCH_BH1: 1   Min.   :  4.0   Min.   :  7.1   Min.   : 14.0  \n",
       " CR18_1 : 1   1st Qu.: 15.5   1st Qu.: 19.2   1st Qu.: 33.0  \n",
       " EM-14  : 1   Median : 20.1   Median : 25.5   Median : 39.0  \n",
       " EM_01  : 1   Mean   : 27.4   Mean   : 32.5   Mean   : 40.4  \n",
       " EM_08  : 1   3rd Qu.: 33.1   3rd Qu.: 34.9   3rd Qu.: 45.0  \n",
       " EM_09  : 1   Max.   :105.8   Max.   :130.0   Max.   :102.0  \n",
       " (Other):23                                                  \n",
       "          geometry        X                Y          \n",
       " POINT        :29   Min.   :264519   Min.   :6227351  \n",
       " epsg:32734   : 0   1st Qu.:272347   1st Qu.:6233265  \n",
       " +proj=utm ...: 0   Median :275582   Median :6236260  \n",
       "                    Mean   :275035   Mean   :6236447  \n",
       "                    3rd Qu.:278955   3rd Qu.:6239665  \n",
       "                    Max.   :283452   Max.   :6247415  \n",
       "                                                      "
      ]
     },
     "metadata": {},
     "output_type": "display_data"
    }
   ],
   "source": [
    "#- summarize the data\n",
    "summary(cfaq.sf)"
   ]
  },
  {
   "cell_type": "code",
   "execution_count": 15,
   "metadata": {
    "id": "j3DX7THB5XrO",
    "outputId": "d3234728-4386-4583-8c56-2b211805afb0"
   },
   "outputs": [
    {
     "data": {
      "text/plain": [
       "   xmin    ymin    xmax    ymax \n",
       " 264519 6227351  283452 6247415 "
      ]
     },
     "metadata": {},
     "output_type": "display_data"
    }
   ],
   "source": [
    "#- bounding box\n",
    "st_bbox(cfaq.sf)"
   ]
  },
  {
   "cell_type": "code",
   "execution_count": 16,
   "metadata": {
    "id": "aKitZ9ks5XrP",
    "outputId": "74ebdba0-a476-4c96-dfd0-396d62280bba"
   },
   "outputs": [
    {
     "data": {
      "text/html": [
       "<style>\n",
       ".list-inline {list-style: none; margin:0; padding: 0}\n",
       ".list-inline>li {display: inline-block}\n",
       ".list-inline>li:not(:last-child)::after {content: \"\\00b7\"; padding: 0 .5ex}\n",
       "</style>\n",
       "<ol class=list-inline><li>4</li><li>105.8</li></ol>\n"
      ],
      "text/latex": [
       "\\begin{enumerate*}\n",
       "\\item 4\n",
       "\\item 105.8\n",
       "\\end{enumerate*}\n"
      ],
      "text/markdown": [
       "1. 4\n",
       "2. 105.8\n",
       "\n",
       "\n"
      ],
      "text/plain": [
       "[1]   4 106"
      ]
     },
     "metadata": {},
     "output_type": "display_data"
    },
    {
     "data": {
      "text/html": [
       "101.8"
      ],
      "text/latex": [
       "101.8"
      ],
      "text/markdown": [
       "101.8"
      ],
      "text/plain": [
       "[1] 102"
      ]
     },
     "metadata": {},
     "output_type": "display_data"
    },
    {
     "data": {
      "text/html": [
       "<style>\n",
       ".list-inline {list-style: none; margin:0; padding: 0}\n",
       ".list-inline>li {display: inline-block}\n",
       ".list-inline>li:not(:last-child)::after {content: \"\\00b7\"; padding: 0 .5ex}\n",
       "</style>\n",
       "<ol class=list-inline><li>7.118</li><li>130</li></ol>\n"
      ],
      "text/latex": [
       "\\begin{enumerate*}\n",
       "\\item 7.118\n",
       "\\item 130\n",
       "\\end{enumerate*}\n"
      ],
      "text/markdown": [
       "1. 7.118\n",
       "2. 130\n",
       "\n",
       "\n"
      ],
      "text/plain": [
       "[1]   7.12 130.00"
      ]
     },
     "metadata": {},
     "output_type": "display_data"
    },
    {
     "data": {
      "text/html": [
       "122.882"
      ],
      "text/latex": [
       "122.882"
      ],
      "text/markdown": [
       "122.882"
      ],
      "text/plain": [
       "[1] 123"
      ]
     },
     "metadata": {},
     "output_type": "display_data"
    },
    {
     "data": {
      "text/html": [
       "<style>\n",
       ".list-inline {list-style: none; margin:0; padding: 0}\n",
       ".list-inline>li {display: inline-block}\n",
       ".list-inline>li:not(:last-child)::after {content: \"\\00b7\"; padding: 0 .5ex}\n",
       "</style>\n",
       "<ol class=list-inline><li>14</li><li>102</li></ol>\n"
      ],
      "text/latex": [
       "\\begin{enumerate*}\n",
       "\\item 14\n",
       "\\item 102\n",
       "\\end{enumerate*}\n"
      ],
      "text/markdown": [
       "1. 14\n",
       "2. 102\n",
       "\n",
       "\n"
      ],
      "text/plain": [
       "[1]  14 102"
      ]
     },
     "metadata": {},
     "output_type": "display_data"
    },
    {
     "data": {
      "text/html": [
       "88"
      ],
      "text/latex": [
       "88"
      ],
      "text/markdown": [
       "88"
      ],
      "text/plain": [
       "[1] 88"
      ]
     },
     "metadata": {},
     "output_type": "display_data"
    }
   ],
   "source": [
    "#- a couple of range measurments\n",
    "range(cfaq.sf$waterLevel); diff(range(cfaq.sf$waterLevel))\n",
    "range(cfaq.sf$elevation); diff(range(cfaq.sf$elevation))\n",
    "range(cfaq.sf$depth); diff(range(cfaq.sf$depth))"
   ]
  },
  {
   "cell_type": "markdown",
   "metadata": {
    "id": "F7CvSYv05XrJ"
   },
   "source": [
    "<div class=\"alert alert-block alert-warning\"><b>QUESTIONS: </b> </div>"
   ]
  },
  {
   "cell_type": "markdown",
   "metadata": {
    "id": "chQtWlaRV1eD"
   },
   "source": [
    "- How many observations are there? What was recorded at each point?"
   ]
  },
  {
   "cell_type": "markdown",
   "metadata": {
    "id": "124Q28CzV9gh"
   },
   "source": [
    "> [double click in this cell and type your answer here]"
   ]
  },
  {
   "cell_type": "markdown",
   "metadata": {
    "id": "FtscdWnCWIDa"
   },
   "source": [
    "- What are the geographic limits of the study area? What is its area, in km2?"
   ]
  },
  {
   "cell_type": "markdown",
   "metadata": {
    "id": "-55WV8UiWLvq"
   },
   "source": [
    "> [double click in this cell and type your answer here]"
   ]
  },
  {
   "cell_type": "code",
   "execution_count": 17,
   "metadata": {
    "id": "cupvgJrx5XrP",
    "outputId": "384e9926-fd49-4880-c8fc-3e3508209707"
   },
   "outputs": [
    {
     "data": {
      "image/png": "[encoded data removed]",
      "text/plain": [
       "Plot with title \"Elevation of aquifer, m\""
      ]
     },
     "metadata": {},
     "output_type": "display_data"
    }
   ],
   "source": [
    "plot(st_coordinates(cfaq.sf)[,2] ~ st_coordinates(cfaq.sf)[,1],\n",
    "     #plot(st_coordinates(cfaq.sf)[,1] ~ st_coordinates(cfaq.sf)[,2],\n",
    "     pch=20, cex=0.4, col=\"blue\", asp=1,\n",
    "     xlab=\"Lo 19 E\", ylab=\"Lo 19 N\")\n",
    "grid()\n",
    "text(st_coordinates(cfaq.sf)[,1], st_coordinates(cfaq.sf)[,2],\n",
    "     #st_coordinates(cfaq.sf)[,2], st_coordinates(cfaq.sf)[,1],\n",
    "     #round(cfaq$waterLevel), adj=c(0.5,0.5))\n",
    "     cfaq$name, adj=c(0.5,0.5))\n",
    "#text(cfaqN, round(aq$z), adj=c(0.5,0.5))\n",
    "title(\"Elevation of aquifer, m\")"
   ]
  },
  {
   "cell_type": "code",
   "execution_count": 18,
   "metadata": {
    "id": "1C4dPQ645XrQ",
    "outputId": "e8c1bb8a-1f3b-4fd7-946c-325de2592f0c"
   },
   "outputs": [
    {
     "data": {
      "image/png": "[encoded data removed]",
      "text/plain": [
       "Plot with title \"Elevation of aquifer, m\""
      ]
     },
     "metadata": {},
     "output_type": "display_data"
    }
   ],
   "source": [
    "plot(#st_coordinates(cfaq.sf)[,2] ~ st_coordinates(cfaq.sf)[,1],\n",
    "  st_coordinates(cfaq.sf)[,2] ~ st_coordinates(cfaq.sf)[,1],\n",
    "  cex=0.8*cfaq$water_level/max(cfaq$waterLevel),\n",
    "  col=\"blue\", bg=\"red\", pch=21, asp=1,\n",
    "  xlab=\"Lo19 E\", ylab=\"Lo19 N\")\n",
    "grid()\n",
    "title(\"Elevation of aquifer, m\")"
   ]
  },
  {
   "cell_type": "code",
   "execution_count": 19,
   "metadata": {
    "id": "TrVWz3K95XrQ",
    "outputId": "80045a5a-b81c-4832-bb22-fb4c752277c1"
   },
   "outputs": [
    {
     "data": {
      "image/png": "[encoded data removed]",
      "text/plain": [
       "Plot with title \"Elevation of aquifer, m\""
      ]
     },
     "metadata": {},
     "output_type": "display_data"
    }
   ],
   "source": [
    "plot(#st_coordinates(cfaq.sf)[,2] ~ st_coordinates(cfaq.sf)[,1],\n",
    "  st_coordinates(cfaq.sf)[,2] ~ st_coordinates(cfaq.sf)[,1],\n",
    "  pch=21,\n",
    "  xlab=\"UTM19_E\", ylab=\"UTM19_N\",\n",
    "  bg=sp::bpy.colors(length(cfaq$waterLevel))[rank(cfaq$waterLevel)],\n",
    "  cex=0.9)#*cfaq$waterLevel/max(cfaq$waterLevel), asp=1)\n",
    "grid()\n",
    "title(\"Elevation of aquifer, m\")"
   ]
  },
  {
   "cell_type": "markdown",
   "metadata": {
    "id": "Vq4P2oOy5XrR"
   },
   "source": [
    "<div class=\"alert alert-block alert-warning\"><b>QUESTIONS: </b> </div>"
   ]
  },
  {
   "cell_type": "markdown",
   "metadata": {
    "id": "3P-TNXu2YkTw"
   },
   "source": [
    "- Describe the spatial pattern of the elevations. Do nearby points have similar values? Is there a trend across the whole area? Are there local exceptions to the trend?"
   ]
  },
  {
   "cell_type": "markdown",
   "metadata": {
    "id": "Yl5XGVmiYrUk"
   },
   "source": [
    "> [double click in this cell and type your answer here]"
   ]
  },
  {
   "cell_type": "markdown",
   "metadata": {
    "id": "j0USBPwXZg15"
   },
   "source": [
    "# 2. Deterministic Approches to Interpolation"
   ]
  },
  {
   "cell_type": "markdown",
   "metadata": {
    "id": "zQesNeuwaBXc"
   },
   "source": [
    "  Before we delve into **higher order interpolation techniques**; let us first explore two extremly useful methods we can use to model a continuous variable _(like an elevation surface or meterological observations)_.\n",
    "  <ol type = \"a\">\n",
    "    <li>Thiessen Polygons</li>\n",
    "    <li>Inverse Distance Weighting (IDW)</li>\n",
    "  </ol>\n",
    "\n",
    "  _**Remember:** our goal is to estimate values where non exist. And depending on the application (and the data we have access to) higher order methods might not be necessary!_"
   ]
  },
  {
   "cell_type": "markdown",
   "metadata": {
    "id": "5iMbPM8pbiV7"
   },
   "source": [
    "**a. Thiessen Polygons**"
   ]
  },
  {
   "cell_type": "markdown",
   "metadata": {
    "id": "8kseE-1ddokM"
   },
   "source": [
    "  The oldest method is simply to divide the area of interest based on proximity to sample points. The result is a tesselated surface of Thiessen polygons (_also called a Voronoi Diagram_)"
   ]
  },
  {
   "cell_type": "code",
   "execution_count": 20,
   "metadata": {
    "id": "7YssbNtZoSde"
   },
   "outputs": [],
   "source": [
    "# Voronoi tesselation\n",
    "pnts <- st_union(cfaq.sf)\n",
    "voronoi_grid <- st_voronoi(pnts)"
   ]
  },
  {
   "cell_type": "code",
   "execution_count": 21,
   "metadata": {
    "id": "pWyFyQubbjhA"
   },
   "outputs": [
    {
     "data": {
      "image/png": "[encoded data removed]",
      "text/plain": [
       "Plot with title \"Elevation of aquifer, m.a.s.l.\""
      ]
     },
     "metadata": {},
     "output_type": "display_data"
    }
   ],
   "source": [
    "#-- plot\n",
    "plot(voronoi_grid, col = NA)\n",
    "points(st_coordinates(cfaq.sf)[,1], st_coordinates(cfaq.sf)[,2],\n",
    "       pch=21,\n",
    "       bg=sp::bpy.colors(length(cfaq$waterLevel))[rank(cfaq$waterLevel)],\n",
    "       cex=0.4*cfaq$waterLevel/max(cfaq$waterLevel))\n",
    "grid()\n",
    "title(\"Elevation of aquifer, m.a.s.l.\")"
   ]
  },
  {
   "cell_type": "markdown",
   "metadata": {
    "id": "HYBx9tAscDdv"
   },
   "source": [
    "**b. IDW**"
   ]
  },
  {
   "cell_type": "markdown",
   "metadata": {
    "id": "2ft8cvy7gEaz"
   },
   "source": [
    "An extremely popular interpolation method calculates an average value for estimated locations using values from _nearby weighted_ locations."
   ]
  },
  {
   "cell_type": "code",
   "execution_count": 22,
   "metadata": {
    "id": "c7XAfUVf5XrR",
    "outputId": "24dce51f-de21-487a-981a-3ae7e96e535a"
   },
   "outputs": [
    {
     "data": {
      "text/html": [
       "<style>\n",
       ".list-inline {list-style: none; margin:0; padding: 0}\n",
       ".list-inline>li {display: inline-block}\n",
       ".list-inline>li:not(:last-child)::after {content: \"\\00b7\"; padding: 0 .5ex}\n",
       "</style>\n",
       "<ol class=list-inline><li>6227351.09400817</li><li>6247414.78402735</li></ol>\n"
      ],
      "text/latex": [
       "\\begin{enumerate*}\n",
       "\\item 6227351.09400817\n",
       "\\item 6247414.78402735\n",
       "\\end{enumerate*}\n"
      ],
      "text/markdown": [
       "1. 6227351.09400817\n",
       "2. 6247414.78402735\n",
       "\n",
       "\n"
      ],
      "text/plain": [
       "[1] 6227351 6247415"
      ]
     },
     "metadata": {},
     "output_type": "display_data"
    },
    {
     "data": {
      "text/html": [
       "<style>\n",
       ".list-inline {list-style: none; margin:0; padding: 0}\n",
       ".list-inline>li {display: inline-block}\n",
       ".list-inline>li:not(:last-child)::after {content: \"\\00b7\"; padding: 0 .5ex}\n",
       "</style>\n",
       "<ol class=list-inline><li>264518.941109313</li><li>283452.199880821</li></ol>\n"
      ],
      "text/latex": [
       "\\begin{enumerate*}\n",
       "\\item 264518.941109313\n",
       "\\item 283452.199880821\n",
       "\\end{enumerate*}\n"
      ],
      "text/markdown": [
       "1. 264518.941109313\n",
       "2. 283452.199880821\n",
       "\n",
       "\n"
      ],
      "text/plain": [
       "[1] 264519 283452"
      ]
     },
     "metadata": {},
     "output_type": "display_data"
    }
   ],
   "source": [
    "range(st_coordinates(cfaq.sf)[,2]); range(st_coordinates(cfaq.sf)[,1])"
   ]
  },
  {
   "cell_type": "markdown",
   "metadata": {
    "id": "tjnHEHz42J_F"
   },
   "source": [
    "**Create a 500m grid**"
   ]
  },
  {
   "cell_type": "code",
   "execution_count": 23,
   "metadata": {
    "id": "bV65RLNh5XrR",
    "outputId": "eea43d44-1da4-42f0-d4a6-f031126dfeaf"
   },
   "outputs": [
    {
     "data": {
      "text/plain": [
       "stars object with 2 dimensions and 1 attribute\n",
       "attribute(s):\n",
       "    values  \n",
       " Min.   :0  \n",
       " 1st Qu.:0  \n",
       " Median :0  \n",
       " Mean   :0  \n",
       " 3rd Qu.:0  \n",
       " Max.   :0  \n",
       "dimension(s):\n",
       "  from to  offset delta     refsys point values    \n",
       "x    1 40  264000   500 EPSG:32734    NA   NULL [x]\n",
       "y    1 42 6248000  -500 EPSG:32734    NA   NULL [y]"
      ]
     },
     "metadata": {},
     "output_type": "display_data"
    }
   ],
   "source": [
    "#- create grid\n",
    "cfaq.bb <- st_bbox(cfaq.sf)\n",
    "cfaq.bb[c(\"xmin\",\"ymin\")] <-   floor(cfaq.bb[c(\"xmin\",\"ymin\")]/1000)*1000\n",
    "cfaq.bb[c(\"xmax\",\"ymax\")] <- ceiling(cfaq.bb[c(\"xmax\",\"ymax\")]/1000)*1000\n",
    "\n",
    "#-- as a stars object\n",
    "grid <- st_as_stars(cfaq.bb, dx = 500)\n",
    "grid"
   ]
  },
  {
   "cell_type": "code",
   "execution_count": 24,
   "metadata": {
    "id": "oEJIf_Ve5XrS",
    "outputId": "f8c3f3f7-b3d9-4e65-f1b6-46ae1c3db8d8"
   },
   "outputs": [
    {
     "data": {
      "text/html": [
       "<style>\n",
       ".dl-inline {width: auto; margin:0; padding: 0}\n",
       ".dl-inline>dt, .dl-inline>dd {float: none; width: auto; display: inline-block}\n",
       ".dl-inline>dt::after {content: \":\\0020\"; padding-right: .5ex}\n",
       ".dl-inline>dt:not(:first-of-type) {padding-left: .5ex}\n",
       "</style><dl class=dl-inline><dt>x</dt><dd>40</dd><dt>y</dt><dd>42</dd></dl>\n"
      ],
      "text/latex": [
       "\\begin{description*}\n",
       "\\item[x] 40\n",
       "\\item[y] 42\n",
       "\\end{description*}\n"
      ],
      "text/markdown": [
       "x\n",
       ":   40y\n",
       ":   42\n",
       "\n"
      ],
      "text/plain": [
       " x  y \n",
       "40 42 "
      ]
     },
     "metadata": {},
     "output_type": "display_data"
    }
   ],
   "source": [
    "dim(grid)"
   ]
  },
  {
   "cell_type": "code",
   "execution_count": 25,
   "metadata": {
    "id": "PKc0tcng5XrT",
    "outputId": "df5dd8b9-f5bf-450d-f287-79188130806d"
   },
   "outputs": [
    {
     "data": {
      "text/plain": [
       "       Length Class  Mode   \n",
       "values 1680   -none- numeric"
      ]
     },
     "metadata": {},
     "output_type": "display_data"
    }
   ],
   "source": [
    "summary(grid)"
   ]
  },
  {
   "cell_type": "code",
   "execution_count": 26,
   "metadata": {
    "id": "QLmXl2dm5XrT",
    "outputId": "4ff32f6c-d7f5-4f38-f46f-9c82b8756c76"
   },
   "outputs": [
    {
     "data": {
      "text/plain": [
       "NULL"
      ]
     },
     "metadata": {},
     "output_type": "display_data"
    }
   ],
   "source": [
    "st_crs(grid)$crs"
   ]
  },
  {
   "cell_type": "code",
   "execution_count": 27,
   "metadata": {
    "id": "pgpCv6Pj5XrT"
   },
   "outputs": [
    {
     "data": {
      "text/plain": [
       "   xmin    ymin    xmax    ymax \n",
       " 264000 6227000  284000 6248000 "
      ]
     },
     "metadata": {},
     "output_type": "display_data"
    }
   ],
   "source": [
    "st_bbox(grid)"
   ]
  },
  {
   "cell_type": "code",
   "execution_count": 28,
   "metadata": {
    "id": "-F9KWCJHgwJ3"
   },
   "outputs": [
    {
     "data": {
      "image/png": "[encoded data removed]",
      "text/plain": [
       "Plot with title \"values\""
      ]
     },
     "metadata": {},
     "output_type": "display_data"
    }
   ],
   "source": [
    "plot(grid); grid()"
   ]
  },
  {
   "cell_type": "markdown",
   "metadata": {
    "id": "jlG-rK9n2l4m"
   },
   "source": [
    "**IDW interpolation with power at 0.5, 1, 2.5 and 10** and plot the result"
   ]
  },
  {
   "cell_type": "code",
   "execution_count": 29,
   "metadata": {
    "id": "pL0SjGZo22x-"
   },
   "outputs": [],
   "source": [
    "#- idw\n",
    "idw_results <- list()\n",
    "idp_values <- c(0.5, 1, 2.5, 10)"
   ]
  },
  {
   "cell_type": "code",
   "execution_count": 30,
   "metadata": {
    "id": "rd_xXGfz5XrS"
   },
   "outputs": [
    {
     "name": "stdout",
     "output_type": "stream",
     "text": [
      "[inverse distance weighted interpolation]\n",
      "[inverse distance weighted interpolation]\n",
      "[inverse distance weighted interpolation]\n",
      "[inverse distance weighted interpolation]\n"
     ]
    }
   ],
   "source": [
    "#- idw\n",
    "for (idp in idp_values) {\n",
    "  idw_result <- idw(log(waterLevel) ~ 1, cfaq.sf, grid, idp = idp)\n",
    "  #idw <- gridkm\n",
    "  #idw <- idw_result\n",
    "  idw_results[[as.character(idp)]] <- idw_result\n",
    "}"
   ]
  },
  {
   "cell_type": "code",
   "execution_count": 32,
   "metadata": {
    "id": "5wQsQZmAg1NL"
   },
   "outputs": [
    {
     "data": {
      "image/png": "[encoded data removed]",
      "text/plain": [
       "Plot with title \"IDW @ (IDP = 10 )\""
      ]
     },
     "metadata": {},
     "output_type": "display_data"
    }
   ],
   "source": [
    "# Plot IDW results with overlay of original points\n",
    "num_plots <- length(idp_values)\n",
    "par(mfrow = c(2, 2))  # Arrange plots in 2 rows and 2 columns\n",
    "# Set the size of the individual plots\n",
    "plot_width <- 9\n",
    "plot_height <- 9\n",
    "\n",
    "# Set the margin and space between plots\n",
    "margin_size <- 0.5\n",
    "space_between_plots <- 0.3\n",
    "\n",
    "# Calculate the total plot area\n",
    "total_width <- plot_width * 2 + space_between_plots\n",
    "total_height <- plot_height * 2 + space_between_plots\n",
    "\n",
    "# Set par settings for plot layout\n",
    "par(mfrow = c(2, 2), mar = c(0.6, 0.6, 0.8, 0.1),#margin_size, margin_size, margin_size, margin_size),\n",
    "    oma = c(0, 0, 0, 0), mgp = c(0.5, 0.7, 0))\n",
    "\n",
    "min.x <- floor(min(cfaq.sf$X)/1000)*1000\n",
    "max.x <- ceiling(max(cfaq.sf$X)/1000)*1000\n",
    "\n",
    "min.y <- floor(min(cfaq.sf$Y)/1000)*1000\n",
    "max.y <- ceiling(max(cfaq.sf$Y)/1000)*1000\n",
    "\n",
    "for (i in 1:num_plots) {\n",
    "  idp <- idp_values[i]\n",
    "  idw_result <- idw_results[[as.character(idp)]]\n",
    "  title <- paste(\"IDW @ (IDP =\", idp, \")\", sep = \" \")\n",
    "\n",
    "  # Plot interpolated surface\n",
    "  image(idw_result, main = title, col = rainbow(100),\n",
    "        xlim = c(min.x, max.x), ylim = c(min.y, max.y),\n",
    "        xlab = \"\", ylab = \"\")\n",
    "\n",
    "  # Overlay original points\n",
    "  points(cfaq.sf$X, cfaq.sf$Y, pch = 21,\n",
    "         bg = adjustcolor(\"black\", alpha.f = 0.2),\n",
    "         col = \"black\",\n",
    "         cex = 0.9, lwd = 0.5)\n",
    "\n",
    "  contour(idw_result, add = TRUE, nlevels = 10, col = \"black\")\n",
    "}\n",
    "\n",
    "# Reset layout to default\n",
    "par(mfrow = c(1, 1), mar = c(5.1, 4.1, 4.1, 2.1))"
   ]
  },
  {
   "cell_type": "markdown",
   "metadata": {
    "id": "OYjbSgAiiG4U"
   },
   "source": [
    "<div class=\"alert alert-block alert-warning\"><b>QUESTIONS: </b> </div>"
   ]
  },
  {
   "cell_type": "markdown",
   "metadata": {
    "id": "Nr5ZJF5yiHyB"
   },
   "source": [
    "- Why do we need interpolation methods that go deeper / further than the two presented here?\n",
    "\n"
   ]
  },
  {
   "cell_type": "markdown",
   "metadata": {
    "id": "s8ivRz0Ci-yL"
   },
   "source": [
    "> [double click in this cell and type your answer]"
   ]
  },
  {
   "cell_type": "markdown",
   "metadata": {
    "id": "PERO9wVLiZ4_"
   },
   "source": [
    "- Comment on the quality of the IDW"
   ]
  },
  {
   "cell_type": "markdown",
   "metadata": {
    "id": "1FuFywvOinpO"
   },
   "source": [
    "<div class=\"alert alert-block alert-info\"><b>HINT: </b>  </div>"
   ]
  },
  {
   "cell_type": "markdown",
   "metadata": {
    "id": "S7LXU0Z8iqXk"
   },
   "source": [
    "> Think about the subjectivity of the _power_ function and what this means. Also consider what happens when we overlay the voronoi with the various idw interpolations. What does this mean?"
   ]
  },
  {
   "cell_type": "code",
   "execution_count": 33,
   "metadata": {
    "id": "sm-RG_N33y5A"
   },
   "outputs": [
    {
     "data": {
      "image/png": "[encoded data removed]",
      "text/plain": [
       "Plot with title \"IDW @ (IDP = 10 )\""
      ]
     },
     "metadata": {},
     "output_type": "display_data"
    }
   ],
   "source": [
    "# Plot IDW results with overlay of original points\n",
    "num_plots <- length(idp_values)\n",
    "par(mfrow = c(2, 2))  # Arrange plots in 2 rows and 2 columns\n",
    "# Set the size of the individual plots\n",
    "plot_width <- 9\n",
    "plot_height <- 9\n",
    "\n",
    "# Set the margin and space between plots\n",
    "margin_size <- 0.5\n",
    "space_between_plots <- 0.3\n",
    "\n",
    "# Calculate the total plot area\n",
    "total_width <- plot_width * 2 + space_between_plots\n",
    "total_height <- plot_height * 2 + space_between_plots\n",
    "\n",
    "# Set par settings for plot layout\n",
    "par(mfrow = c(2, 2), mar = c(0.6, 0.6, 0.8, 0.1),#margin_size, margin_size, margin_size, margin_size),\n",
    "    oma = c(0, 0, 0, 0), mgp = c(0.5, 0.7, 0))\n",
    "\n",
    "for (i in 1:num_plots) {\n",
    "  idp <- idp_values[i]\n",
    "  idw_result <- idw_results[[as.character(idp)]]\n",
    "  title <- paste(\"IDW @ (IDP =\", idp, \")\", sep = \" \")\n",
    "\n",
    "  # Plot interpolated surface\n",
    "  image(idw_result, main = title, col = rainbow(100),\n",
    "        xlim = c(min.x, max.x), ylim = c(min.y, max.y),\n",
    "        xlab = \"\", ylab = \"\")\n",
    "\n",
    "  # Overlay Voronoi polygons\n",
    "  plot(voronoi_grid, add = TRUE, border = \"black\", col = NA, type=\"l\", lty=2) #lwd = 1,\n",
    "\n",
    "  # Overlay original points\n",
    "  points(cfaq.sf$X, cfaq.sf$Y, pch = 21,\n",
    "         bg = adjustcolor(\"black\", alpha.f = 0.2),\n",
    "         col = \"black\",\n",
    "         cex = 0.9, lwd = 0.5)\n",
    "}\n",
    "\n",
    "# Reset layout to default\n",
    "par(mfrow = c(1, 1), mar = c(5.1, 4.1, 4.1, 2.1))"
   ]
  },
  {
   "cell_type": "markdown",
   "metadata": {
    "id": "I23Q0ZkOi9Jr"
   },
   "source": [
    "> [double click in this cell and type your answer]\n"
   ]
  },
  {
   "cell_type": "markdown",
   "metadata": {
    "id": "JsjbsoVm5N0V"
   },
   "source": [
    "- How can the quality of the IDW improve?"
   ]
  },
  {
   "cell_type": "markdown",
   "metadata": {
    "id": "TKfgVHwg5X9g"
   },
   "source": [
    "<div class=\"alert alert-block alert-info\"><b>HINT: </b>  </div>"
   ]
  },
  {
   "cell_type": "markdown",
   "metadata": {
    "id": "xNmhSRwC5aRV"
   },
   "source": [
    "> Consider the location and density of the sample (input) points"
   ]
  },
  {
   "cell_type": "markdown",
   "metadata": {
    "id": "hG_DL0wm5-Ip"
   },
   "source": [
    "> [double click in this cell and type your answer]"
   ]
  }
 ],
 "metadata": {
  "colab": {
   "provenance": []
  },
  "kernelspec": {
   "display_name": "R",
   "language": "R",
   "name": "ir"
  },
  "language_info": {
   "codemirror_mode": "r",
   "file_extension": ".r",
   "mimetype": "text/x-r-source",
   "name": "R",
   "pygments_lexer": "r",
   "version": "3.6.3"
  }
 },
 "nbformat": 4,
 "nbformat_minor": 1
}
