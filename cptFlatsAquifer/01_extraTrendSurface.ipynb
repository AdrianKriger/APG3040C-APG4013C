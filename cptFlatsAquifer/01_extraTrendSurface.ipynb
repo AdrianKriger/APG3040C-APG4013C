{
  "cells": [
    {
      "cell_type": "markdown",
      "source": [
        "_this is an R notebook_"
      ],
      "metadata": {
        "id": "otIUJqwzs2Nt"
      }
    },
    {
      "cell_type": "markdown",
      "source": [
        "#Introduction"
      ],
      "metadata": {
        "id": "XM7JB6i8Yw0F"
      }
    },
    {
      "cell_type": "markdown",
      "source": [
        "This Notebook (the first-of-four) serves to introduce a user to a series of exercises focused on *higher order* **_Trend Surface analysis with R_**.\n",
        "\n",
        "It consists of two sections:\n",
        "\n",
        "<ol type = \"1\">\n",
        "    <li>Explore the dataset</li>\n",
        "    <li>Deterministic Interpolation Techniques</li>\n",
        "  </ol>\n",
        "\n"
      ],
      "metadata": {
        "id": "NxPz5S-nkm8P"
      }
    },
    {
      "cell_type": "markdown",
      "source": [
        "<div class=\"alert alert-block alert-danger\"><b>REQUIRED: </b></div>"
      ],
      "metadata": {
        "id": "KFNCLYYkY85X"
      }
    },
    {
      "cell_type": "markdown",
      "source": [
        "**You are required to insert your outputs and any comment into this document.** The document you submit should therefore contain the existing text in addition to:\n",
        "\n",
        "> *   Plots and other outputs from executing the code chunks  \n",
        "> *   Discussion of your plots and other outputs as well as conclusions reached.\n",
        "\n",
        "This should also include any hypotheses and assumptions made as well as factors that may affect your conclusions."
      ],
      "metadata": {
        "id": "Sl_xCyleZNoy"
      }
    },
    {
      "cell_type": "markdown",
      "source": [
        "## 1. Explore the Dataset\n",
        "\n",
        "_please install necessary packages through a `prompt` interface. Not here_."
      ],
      "metadata": {
        "id": "IhzwSEK7Yyq7"
      }
    },
    {
      "cell_type": "code",
      "execution_count": null,
      "metadata": {
        "colab": {
          "base_uri": "https://localhost:8080/"
        },
        "id": "0VUxWyWiHwGa",
        "outputId": "4ee1f21e-1306-496a-99b0-6ad458d1a1c7"
      },
      "outputs": [
        {
          "name": "stderr",
          "output_type": "stream",
          "text": [
            "Warning message:\n",
            "\"package 'fields' was built under R version 3.6.3\"Loading required package: viridis\n",
            "Warning message:\n",
            "\"package 'viridis' was built under R version 3.6.3\""
          ]
        },
        {
          "ename": "ERROR",
          "evalue": "Error: package 'viridisLite' 0.3.0 was found, but >= 0.4.0 is required by 'viridis'\n",
          "output_type": "error",
          "traceback": [
            "Error: package 'viridisLite' 0.3.0 was found, but >= 0.4.0 is required by 'viridis'\nTraceback:\n",
            "1. library(fields)",
            "2. .getRequiredPackages2(pkgInfo, quietly = quietly)",
            "3. library(pkg, character.only = TRUE, logical.return = TRUE, lib.loc = lib.loc, \n .     quietly = quietly)",
            "4. .getRequiredPackages2(pkgInfo, quietly = quietly)",
            "5. stop(gettextf(msg, sQuote(pkg), current, dep$op, target, sQuote(pkgname)), \n .     call. = FALSE, domain = NA)"
          ]
        }
      ],
      "source": [
        "options(prompt=\"> \", continue=\"+ \", digits=3, width=70, show.signif.stars=T, repr.plot.width=8, repr.plot.height=8)\n",
        "rm(list=ls())\n",
        "\n",
        "# Install necessary packages: You only need to run this part once\n",
        "##- install.packages(c(\"sf\", \"gstat\", \"ggplot2\", \"gridExtra\",\"units\", \"terra\",\"mgcv\",\"fields\",\"nlme\"))\n",
        "\n",
        "#library(repr)\n",
        "library(sf) # 'simple features' representations of spatial objects\n",
        "library(gstat) # geostatistics\n",
        "library(ggplot2) # Grammer of Graphics plots\n",
        "library(gridExtra) # arrange multiple ggplot graphics on one figure\n",
        "library(units) # units of measure\n",
        "library(terra) # gridded data structures (\"rasters\")\n",
        "#library(mgcv) # for Generalized Additive Models\n",
        "#library(fields) # NCAR etc. approach to surfaces\n",
        "#library(nlme) # Linear and Nonlinear Mixed Effects Models#"
      ]
    },
    {
      "cell_type": "code",
      "execution_count": null,
      "metadata": {
        "id": "Vwx5MtuPHwJa"
      },
      "outputs": [],
      "source": [
        "options(show.signif.stars=FALSE)"
      ]
    },
    {
      "cell_type": "code",
      "execution_count": null,
      "metadata": {
        "id": "bX-M7KzpYjin"
      },
      "outputs": [],
      "source": [
        "file = 'cptFlatsAquifer_watertable4.txt'"
      ]
    },
    {
      "cell_type": "code",
      "execution_count": null,
      "metadata": {
        "id": "SRAMZddJKO28"
      },
      "outputs": [],
      "source": [
        "#-- import\n",
        "cfaq <- read.csv(file, header = 1, sep = ',', dec = '.') #sep = '\\t',"
      ]
    },
    {
      "cell_type": "code",
      "execution_count": null,
      "metadata": {
        "id": "04QHBJER5XrD",
        "outputId": "62de649a-ecc0-4d5e-eb9d-716330434bf1"
      },
      "outputs": [
        {
          "data": {
            "text/html": [
              "<table>\n",
              "<thead><tr><th scope=col>name</th><th scope=col>long</th><th scope=col>lat</th><th scope=col>waterLevel</th><th scope=col>elevation</th><th scope=col>depth</th></tr></thead>\n",
              "<tbody>\n",
              "\t<tr><td>EM_01</td><td>18.6 </td><td>-34.1</td><td>14.4 </td><td>20.4 </td><td>63   </td></tr>\n",
              "\t<tr><td>EM_27</td><td>18.6 </td><td>-34.1</td><td>16.2 </td><td>20.0 </td><td>48   </td></tr>\n",
              "\t<tr><td>EM_29</td><td>18.6 </td><td>-34.1</td><td>18.8 </td><td>25.5 </td><td>39   </td></tr>\n",
              "</tbody>\n",
              "</table>\n"
            ],
            "text/latex": [
              "\\begin{tabular}{r|llllll}\n",
              " name & long & lat & waterLevel & elevation & depth\\\\\n",
              "\\hline\n",
              "\t EM\\_01 & 18.6    & -34.1   & 14.4    & 20.4    & 63     \\\\\n",
              "\t EM\\_27 & 18.6    & -34.1   & 16.2    & 20.0    & 48     \\\\\n",
              "\t EM\\_29 & 18.6    & -34.1   & 18.8    & 25.5    & 39     \\\\\n",
              "\\end{tabular}\n"
            ],
            "text/markdown": [
              "\n",
              "| name | long | lat | waterLevel | elevation | depth |\n",
              "|---|---|---|---|---|---|\n",
              "| EM_01 | 18.6  | -34.1 | 14.4  | 20.4  | 63    |\n",
              "| EM_27 | 18.6  | -34.1 | 16.2  | 20.0  | 48    |\n",
              "| EM_29 | 18.6  | -34.1 | 18.8  | 25.5  | 39    |\n",
              "\n"
            ],
            "text/plain": [
              "  name  long lat   waterLevel elevation depth\n",
              "1 EM_01 18.6 -34.1 14.4       20.4      63   \n",
              "2 EM_27 18.6 -34.1 16.2       20.0      48   \n",
              "3 EM_29 18.6 -34.1 18.8       25.5      39   "
            ]
          },
          "metadata": {},
          "output_type": "display_data"
        }
      ],
      "source": [
        "#-- look\n",
        "head(cfaq ,3)"
      ]
    },
    {
      "cell_type": "markdown",
      "source": [
        "<div class=\"alert alert-block alert-warning\"><b>QUESTION: </b> </div>"
      ],
      "metadata": {
        "id": "hjHBb8aa6I9o"
      }
    },
    {
      "cell_type": "markdown",
      "source": [
        "- What is the purpose of producing a map of the the elevation of the top of the aquifer over the study area? In other words, who would use the map and for what purpose?"
      ],
      "metadata": {
        "id": "OTs7G1yw6Lfs"
      }
    },
    {
      "cell_type": "markdown",
      "source": [
        "> [double click in this cell and type your answer here]"
      ],
      "metadata": {
        "id": "qnWoUGkb6al9"
      }
    },
    {
      "cell_type": "code",
      "execution_count": null,
      "metadata": {
        "id": "nzuacmWU5XrE",
        "outputId": "b8916e7f-f54e-412b-d381-6232fb2a7b59"
      },
      "outputs": [
        {
          "name": "stdout",
          "output_type": "stream",
          "text": [
            "'data.frame':\t28 obs. of  6 variables:\n",
            " $ name      : Factor w/ 28 levels \"BCH_BH1\",\"CR18_1\",..: 4 15 16 9 12 8 3 2 11 20 ...\n",
            " $ long      : num  18.6 18.6 18.6 18.7 18.6 ...\n",
            " $ lat       : num  -34.1 -34.1 -34.1 -34 -34 ...\n",
            " $ waterLevel: num  14.4 16.2 18.8 20.1 22.9 ...\n",
            " $ elevation : num  20.4 20 25.5 36.5 32.7 ...\n",
            " $ depth     : num  63 48 39 45 33 33 27 27 37 26 ...\n"
          ]
        }
      ],
      "source": [
        "#names(cfaq) <- c(\"name\", \"long\", \"lat\", \"wl\", \"z\", \"d\")\n",
        "str(cfaq)"
      ]
    },
    {
      "cell_type": "code",
      "execution_count": null,
      "metadata": {
        "id": "YNWrlhWE5XrF",
        "outputId": "696c1824-86ed-436c-adf1-9b810a75a43b"
      },
      "outputs": [
        {
          "data": {
            "text/plain": [
              "Coordinate Reference System:\n",
              "  User input: EPSG:4326 \n",
              "  wkt:\n",
              "GEOGCRS[\"WGS 84\",\n",
              "    DATUM[\"World Geodetic System 1984\",\n",
              "        ELLIPSOID[\"WGS 84\",6378137,298.257223563,\n",
              "            LENGTHUNIT[\"metre\",1]]],\n",
              "    PRIMEM[\"Greenwich\",0,\n",
              "        ANGLEUNIT[\"degree\",0.0174532925199433]],\n",
              "    CS[ellipsoidal,2],\n",
              "        AXIS[\"geodetic latitude (Lat)\",north,\n",
              "            ORDER[1],\n",
              "            ANGLEUNIT[\"degree\",0.0174532925199433]],\n",
              "        AXIS[\"geodetic longitude (Lon)\",east,\n",
              "            ORDER[2],\n",
              "            ANGLEUNIT[\"degree\",0.0174532925199433]],\n",
              "    USAGE[\n",
              "        SCOPE[\"Horizontal component of 3D system.\"],\n",
              "        AREA[\"World.\"],\n",
              "        BBOX[-90,-180,90,180]],\n",
              "    ID[\"EPSG\",4326]]"
            ]
          },
          "metadata": {},
          "output_type": "display_data"
        }
      ],
      "source": [
        "#- set as a spatial feature with xy coords an existing projection\n",
        "cfaq.sf <- st_as_sf(cfaq, coords=c(\"long\", \"lat\"), crs = 4326) #wgs84\n",
        "#str(cfaq)\n",
        "st_crs(cfaq.sf)"
      ]
    },
    {
      "cell_type": "code",
      "execution_count": null,
      "metadata": {
        "id": "9NCXoBoz5XrG"
      },
      "outputs": [],
      "source": [
        "#- transform to local crs\n",
        "cfaq.sf <- st_transform(cfaq.sf, crs = 32734) #utm 34s"
      ]
    },
    {
      "cell_type": "code",
      "execution_count": null,
      "metadata": {
        "id": "S4_j8YhF5XrG",
        "outputId": "707094d3-d211-4f91-b7e9-c9f2556867b9"
      },
      "outputs": [
        {
          "name": "stdout",
          "output_type": "stream",
          "text": [
            " num [1:28, 1:2] 274222 276191 279770 283452 282454 ...\n",
            " - attr(*, \"dimnames\")=List of 2\n",
            "  ..$ : chr [1:28] \"1\" \"2\" \"3\" \"4\" ...\n",
            "  ..$ : chr [1:2] \"X\" \"Y\"\n"
          ]
        }
      ],
      "source": [
        "str(st_coordinates(cfaq.sf))"
      ]
    },
    {
      "cell_type": "code",
      "execution_count": null,
      "metadata": {
        "id": "XEly4at-5XrH",
        "outputId": "58e052d2-1805-4b2e-8831-bff0fabdd072"
      },
      "outputs": [
        {
          "data": {
            "text/plain": [
              "       X                Y          \n",
              " Min.   :264519   Min.   :6227351  \n",
              " 1st Qu.:272434   1st Qu.:6233042  \n",
              " Median :275611   Median :6236837  \n",
              " Mean   :275309   Mean   :6236522  \n",
              " 3rd Qu.:279043   3rd Qu.:6239690  \n",
              " Max.   :283452   Max.   :6247415  "
            ]
          },
          "metadata": {},
          "output_type": "display_data"
        }
      ],
      "source": [
        "#- summarize the coordinates\n",
        "summary(st_coordinates(cfaq.sf), digits = 3)"
      ]
    },
    {
      "cell_type": "code",
      "execution_count": null,
      "metadata": {
        "id": "-LfLT7nW5XrI",
        "outputId": "36ff2156-2bf9-437f-a360-cd6c0bf99899"
      },
      "outputs": [
        {
          "ename": "ERROR",
          "evalue": "Error in save(aq, aq.sf, file = \"aquifer.rda\"): objects 'aq', 'aq.sf' not found\n",
          "output_type": "error",
          "traceback": [
            "Error in save(aq, aq.sf, file = \"aquifer.rda\"): objects 'aq', 'aq.sf' not found\nTraceback:\n",
            "1. save(aq, aq.sf, file = \"aquifer.rda\")",
            "2. stop(sprintf(ngettext(n, \"object %s not found\", \"objects %s not found\"), \n .     paste(sQuote(list[!ok]), collapse = \", \")), domain = NA)"
          ]
        }
      ],
      "source": [
        "#save(aq, aq.sf, file=\"cfAquifer.rda\")"
      ]
    },
    {
      "cell_type": "code",
      "execution_count": null,
      "metadata": {
        "id": "yjsWFoJB5XrJ",
        "outputId": "cace2cff-b0f6-40ef-854b-6f2244705bb7"
      },
      "outputs": [
        {
          "data": {
            "text/html": [
              "<ol class=list-inline>\n",
              "\t<li>28</li>\n",
              "\t<li>5</li>\n",
              "</ol>\n"
            ],
            "text/latex": [
              "\\begin{enumerate*}\n",
              "\\item 28\n",
              "\\item 5\n",
              "\\end{enumerate*}\n"
            ],
            "text/markdown": [
              "1. 28\n",
              "2. 5\n",
              "\n",
              "\n"
            ],
            "text/plain": [
              "[1] 28  5"
            ]
          },
          "metadata": {},
          "output_type": "display_data"
        }
      ],
      "source": [
        "dim(cfaq.sf)"
      ]
    },
    {
      "cell_type": "code",
      "execution_count": null,
      "metadata": {
        "id": "imc8Owck5XrJ",
        "outputId": "e540b9bb-2310-41ce-fba4-f36218737892"
      },
      "outputs": [
        {
          "data": {
            "text/plain": [
              "      name      waterLevel      elevation         depth      \n",
              " BCH_BH1: 1   Min.   :  4.0   Min.   :  7.1   Min.   : 14.0  \n",
              " CR18_1 : 1   1st Qu.: 15.2   1st Qu.: 19.1   1st Qu.: 32.2  \n",
              " EM-14  : 1   Median : 19.4   Median : 25.4   Median : 39.0  \n",
              " EM_01  : 1   Mean   : 27.4   Mean   : 32.7   Mean   : 39.9  \n",
              " EM_08  : 1   3rd Qu.: 33.3   3rd Qu.: 35.3   3rd Qu.: 42.8  \n",
              " EM_09  : 1   Max.   :105.8   Max.   :130.0   Max.   :102.0  \n",
              " (Other):22                                                  \n",
              "          geometry \n",
              " POINT        :28  \n",
              " epsg:32734   : 0  \n",
              " +proj=utm ...: 0  \n",
              "                   \n",
              "                   \n",
              "                   \n",
              "                   "
            ]
          },
          "metadata": {},
          "output_type": "display_data"
        }
      ],
      "source": [
        "#- summarize the data\n",
        "summary(cfaq.sf)"
      ]
    },
    {
      "cell_type": "code",
      "execution_count": null,
      "metadata": {
        "id": "j3DX7THB5XrO",
        "outputId": "d3234728-4386-4583-8c56-2b211805afb0"
      },
      "outputs": [
        {
          "data": {
            "text/plain": [
              "   xmin    ymin    xmax    ymax \n",
              " 264519 6227351  283452 6247415 "
            ]
          },
          "metadata": {},
          "output_type": "display_data"
        }
      ],
      "source": [
        "#- bounding box\n",
        "st_bbox(cfaq.sf)"
      ]
    },
    {
      "cell_type": "code",
      "execution_count": null,
      "metadata": {
        "id": "aKitZ9ks5XrP",
        "outputId": "74ebdba0-a476-4c96-dfd0-396d62280bba"
      },
      "outputs": [
        {
          "data": {
            "text/html": [
              "<ol class=list-inline>\n",
              "\t<li>4</li>\n",
              "\t<li>105.8</li>\n",
              "</ol>\n"
            ],
            "text/latex": [
              "\\begin{enumerate*}\n",
              "\\item 4\n",
              "\\item 105.8\n",
              "\\end{enumerate*}\n"
            ],
            "text/markdown": [
              "1. 4\n",
              "2. 105.8\n",
              "\n",
              "\n"
            ],
            "text/plain": [
              "[1]   4 106"
            ]
          },
          "metadata": {},
          "output_type": "display_data"
        },
        {
          "data": {
            "text/html": [
              "101.8"
            ],
            "text/latex": [
              "101.8"
            ],
            "text/markdown": [
              "101.8"
            ],
            "text/plain": [
              "[1] 102"
            ]
          },
          "metadata": {},
          "output_type": "display_data"
        }
      ],
      "source": [
        "#- a couple of range measurments\n",
        "range(cfaq.sf$waterLevel); diff(range(cfaq.sf$waterLevel))\n",
        "range(cfaq.sf$elevation); diff(range(cfaq.sf$elevation))\n",
        "range(cfaq.sf$depth); diff(range(cfaq.sf$depth))"
      ]
    },
    {
      "cell_type": "markdown",
      "metadata": {
        "id": "F7CvSYv05XrJ"
      },
      "source": [
        "<div class=\"alert alert-block alert-warning\"><b>QUESTIONS: </b> </div>"
      ]
    },
    {
      "cell_type": "markdown",
      "source": [
        "- How many observations are there? What was recorded at each point?"
      ],
      "metadata": {
        "id": "chQtWlaRV1eD"
      }
    },
    {
      "cell_type": "markdown",
      "source": [
        "> [double click in this cell and type your answer here]"
      ],
      "metadata": {
        "id": "124Q28CzV9gh"
      }
    },
    {
      "cell_type": "markdown",
      "source": [
        "- What are the geographic limits of the study area? What is its area, in km2?"
      ],
      "metadata": {
        "id": "FtscdWnCWIDa"
      }
    },
    {
      "cell_type": "markdown",
      "source": [
        "> [double click in this cell and type your answer here]"
      ],
      "metadata": {
        "id": "-55WV8UiWLvq"
      }
    },
    {
      "cell_type": "code",
      "execution_count": null,
      "metadata": {
        "id": "cupvgJrx5XrP",
        "outputId": "384e9926-fd49-4880-c8fc-3e3508209707"
      },
      "outputs": [
        {
          "data": {
            "image/png": "[encoded data removed]",
            "text/plain": [
              "Plot with title \"Elevation of aquifer, m\""
            ]
          },
          "metadata": {},
          "output_type": "display_data"
        }
      ],
      "source": [
        "plot(st_coordinates(cfaq.sf)[,2] ~ st_coordinates(cfaq.sf)[,1],\n",
        "#plot(st_coordinates(cfaq.sf)[,1] ~ st_coordinates(cfaq.sf)[,2],\n",
        "     pch=20, cex=0.4, col=\"blue\", asp=1,\n",
        "     xlab=\"Lo 19 E\", ylab=\"Lo 19 N\")\n",
        "grid()\n",
        "text(st_coordinates(cfaq.sf)[,1], st_coordinates(cfaq.sf)[,2],\n",
        "     #st_coordinates(cfaq.sf)[,2], st_coordinates(cfaq.sf)[,1],\n",
        "     #round(cfaq$waterLevel), adj=c(0.5,0.5))\n",
        "     cfaq$name, adj=c(0.5,0.5))\n",
        "#text(cfaq$E, cfaq$N, round(aq$z), adj=c(0.5,0.5))\n",
        "title(\"Elevation of aquifer, m\")"
      ]
    },
    {
      "cell_type": "code",
      "execution_count": null,
      "metadata": {
        "id": "1C4dPQ645XrQ",
        "outputId": "e8c1bb8a-1f3b-4fd7-946c-325de2592f0c"
      },
      "outputs": [
        {
          "data": {
            "image/png": "[encoded data removed]",
            "text/plain": [
              "Plot with title \"Elevation of aquifer, m.a.s.l.\""
            ]
          },
          "metadata": {},
          "output_type": "display_data"
        }
      ],
      "source": [
        "plot(#st_coordinates(cfaq.sf)[,2] ~ st_coordinates(cfaq.sf)[,1],\n",
        "     st_coordinates(cfaq.sf)[,2] ~ st_coordinates(cfaq.sf)[,1],\n",
        "     cex=0.8*cfaq$waterLevel/max(cfaq$waterLevel),\n",
        "     col=\"blue\", bg=\"red\", pch=21, asp=1,\n",
        "     xlab=\"Lo19 E\", ylab=\"Lo19 N\")\n",
        "grid()\n",
        "title(\"Elevation of aquifer, m\")"
      ]
    },
    {
      "cell_type": "code",
      "execution_count": null,
      "metadata": {
        "id": "TrVWz3K95XrQ",
        "outputId": "80045a5a-b81c-4832-bb22-fb4c752277c1"
      },
      "outputs": [
        {
          "data": {
            "image/png": "[encoded data removed]",
            "text/plain": [
              "Plot with title \"Elevation of aquifer, m.a.s.l.\""
            ]
          },
          "metadata": {},
          "output_type": "display_data"
        }
      ],
      "source": [
        "plot(#st_coordinates(cfaq.sf)[,2] ~ st_coordinates(cfaq.sf)[,1],\n",
        "     st_coordinates(cfaq.sf)[,2] ~ st_coordinates(cfaq.sf)[,1],\n",
        "     pch=21,\n",
        "     xlab=\"UTM19_E\", ylab=\"UTM19_N\",\n",
        "     bg=sp::bpy.colors(length(cfaq$waterLevel))[rank(cfaq$waterLevel)],\n",
        "     cex=0.8*cfaq$waterLevel/max(cfaq$waterLevel), asp=1)\n",
        "grid()\n",
        "title(\"Elevation of aquifer, m\")"
      ]
    },
    {
      "cell_type": "markdown",
      "metadata": {
        "id": "Vq4P2oOy5XrR"
      },
      "source": [
        "<div class=\"alert alert-block alert-warning\"><b>QUESTIONS: </b> </div>"
      ]
    },
    {
      "cell_type": "markdown",
      "source": [
        "- Describe the spatial pattern of the elevations. Do nearby points have similar values? Is there a trend across the whole area? Are there local exceptions to the trend?"
      ],
      "metadata": {
        "id": "3P-TNXu2YkTw"
      }
    },
    {
      "cell_type": "markdown",
      "source": [
        "> [double click in this cell and type your answer here]"
      ],
      "metadata": {
        "id": "Yl5XGVmiYrUk"
      }
    },
    {
      "cell_type": "markdown",
      "source": [
        "<div class=\"alert alert-block alert-danger\"><b>stop here! </b></div>"
      ],
      "metadata": {
        "id": "DzEgnhfe90uE"
      }
    },
    {
      "cell_type": "markdown",
      "source": [
        "# 2. Deterministic Approches to Interpolation"
      ],
      "metadata": {
        "id": "j0USBPwXZg15"
      }
    },
    {
      "cell_type": "markdown",
      "source": [
        "  Before we delve into **higher order interpolation Techniques**; let us first explore two extremly useful methods we can use to model a continuous variable _(like an elevation surface or meterological observations)_.\n",
        "  <ol type = \"a\">\n",
        "    <li>Thiessen Polygons</li>\n",
        "    <li>Inverse Distance Weighting (IDW)</li>\n",
        "  </ol>\n",
        "\n",
        "  _Remember our goal is to estimate values where non exist. And depending on the application (and the data we have access to) higher order methods might not be necessary!_"
      ],
      "metadata": {
        "id": "zQesNeuwaBXc"
      }
    },
    {
      "cell_type": "markdown",
      "source": [
        "**a. Thiessen Polygons**"
      ],
      "metadata": {
        "id": "5iMbPM8pbiV7"
      }
    },
    {
      "cell_type": "markdown",
      "source": [
        "  The oldest method is simply to divide the area of interest based on proximity to sample points. The result is a tesselated surface of Thiessen polygons (_also called a Voronoi Diagram_)"
      ],
      "metadata": {
        "id": "8kseE-1ddokM"
      }
    },
    {
      "cell_type": "code",
      "source": [
        "# Voronoi tesselation\n",
        "voronoi_grid <- st_voronoi(points)"
      ],
      "metadata": {
        "id": "7YssbNtZoSde"
      },
      "execution_count": null,
      "outputs": []
    },
    {
      "cell_type": "code",
      "source": [
        "#-- plot\n",
        "plot(voronoi_grid, col = NA)\n",
        "plot(#st_coordinates(cfaq.sf)[,2] ~ st_coordinates(cfaq.sf)[,1],\n",
        "     st_coordinates(cfaq.sf)[,2] ~ st_coordinates(cfaq.sf)[,1],\n",
        "     pch=21,\n",
        "     xlab=\"UTM19_E\", ylab=\"UTM19_N\",\n",
        "     bg=sp::bpy.colors(length(cfaq$waterLevel))[rank(cfaq$waterLevel)],\n",
        "     cex=0.4*cfaq$waterLevel/max(cfaq$waterLevel), asp=1)\n",
        "grid()\n",
        "title(\"Elevation of aquifer, m.a.s.l.\")"
      ],
      "metadata": {
        "id": "pWyFyQubbjhA"
      },
      "execution_count": null,
      "outputs": []
    },
    {
      "cell_type": "markdown",
      "source": [
        "**b. IDW**"
      ],
      "metadata": {
        "id": "HYBx9tAscDdv"
      }
    },
    {
      "cell_type": "markdown",
      "source": [
        "An extremely popular interpolation method calculates an average value for estimated locations using values from _nearby weighted_ locations."
      ],
      "metadata": {
        "id": "2ft8cvy7gEaz"
      }
    },
    {
      "cell_type": "code",
      "execution_count": null,
      "metadata": {
        "id": "c7XAfUVf5XrR",
        "outputId": "24dce51f-de21-487a-981a-3ae7e96e535a"
      },
      "outputs": [
        {
          "data": {
            "text/html": [
              "<ol class=list-inline>\n",
              "\t<li>6227351.09400817</li>\n",
              "\t<li>6247414.78402735</li>\n",
              "</ol>\n"
            ],
            "text/latex": [
              "\\begin{enumerate*}\n",
              "\\item 6227351.09400817\n",
              "\\item 6247414.78402735\n",
              "\\end{enumerate*}\n"
            ],
            "text/markdown": [
              "1. 6227351.09400817\n",
              "2. 6247414.78402735\n",
              "\n",
              "\n"
            ],
            "text/plain": [
              "[1] 6227351 6247415"
            ]
          },
          "metadata": {},
          "output_type": "display_data"
        },
        {
          "data": {
            "text/html": [
              "<ol class=list-inline>\n",
              "\t<li>264518.941109313</li>\n",
              "\t<li>283452.199880821</li>\n",
              "</ol>\n"
            ],
            "text/latex": [
              "\\begin{enumerate*}\n",
              "\\item 264518.941109313\n",
              "\\item 283452.199880821\n",
              "\\end{enumerate*}\n"
            ],
            "text/markdown": [
              "1. 264518.941109313\n",
              "2. 283452.199880821\n",
              "\n",
              "\n"
            ],
            "text/plain": [
              "[1] 264519 283452"
            ]
          },
          "metadata": {},
          "output_type": "display_data"
        }
      ],
      "source": [
        "range(st_coordinates(cfaq.sf)[,2]); range(st_coordinates(cfaq.sf)[,1])\n",
        "\n",
        "\n",
        "\n"
      ]
    },
    {
      "cell_type": "code",
      "execution_count": null,
      "metadata": {
        "id": "bV65RLNh5XrR",
        "outputId": "eea43d44-1da4-42f0-d4a6-f031126dfeaf"
      },
      "outputs": [
        {
          "data": {
            "text/html": [
              "22"
            ],
            "text/latex": [
              "22"
            ],
            "text/markdown": [
              "22"
            ],
            "text/plain": [
              "[1] 22"
            ]
          },
          "metadata": {},
          "output_type": "display_data"
        }
      ],
      "source": [
        "(n.col <- length(seq.e <- seq(min.x <- floor(min(st_coordinates(cfaq.sf)[,2])/1000)*1000,\n",
        "                              max.x <- ceiling(max(st_coordinates(cfaq.sf)[,2])/1000)*1000, by=1000)))"
      ]
    },
    {
      "cell_type": "code",
      "execution_count": null,
      "metadata": {
        "id": "3gjiJmRg5XrS",
        "outputId": "b5b7c495-ed7d-4630-f79b-6388adb6d894"
      },
      "outputs": [
        {
          "data": {
            "text/html": [
              "21"
            ],
            "text/latex": [
              "21"
            ],
            "text/markdown": [
              "21"
            ],
            "text/plain": [
              "[1] 21"
            ]
          },
          "metadata": {},
          "output_type": "display_data"
        }
      ],
      "source": [
        "(n.row <- length(seq.n <- seq(min.y <- floor(min(st_coordinates(cfaq.sf)[,1])/1000)*1000,\n",
        "                              max.y <- ceiling(max(st_coordinates(cfaq.sf)[,1])/1000)*1000, by=1000)))"
      ]
    },
    {
      "cell_type": "code",
      "execution_count": null,
      "metadata": {
        "id": "rd_xXGfz5XrS",
        "outputId": "450cdcd1-47f8-4241-828d-bcebdc5cc1c5"
      },
      "outputs": [
        {
          "data": {
            "text/html": [
              "'SpatRaster'"
            ],
            "text/latex": [
              "'SpatRaster'"
            ],
            "text/markdown": [
              "'SpatRaster'"
            ],
            "text/plain": [
              "[1] \"SpatRaster\"\n",
              "attr(,\"package\")\n",
              "[1] \"terra\""
            ]
          },
          "metadata": {},
          "output_type": "display_data"
        }
      ],
      "source": [
        "#we want a 2km grid\n",
        "grid2km <- rast(nrows = n.row, ncols = n.col,\n",
        "                xmin=min.x, xmax=max.x,\n",
        "                ymin=min.y, ymax=max.y, crs = st_crs(cfaq.sf),#$proj4string,\n",
        "                resolution = 2000, names=\"waterLevel\")\n",
        "\n",
        "values(grid2km) <- NA_real_\n",
        "class(grid2km)"
      ]
    },
    {
      "cell_type": "code",
      "execution_count": null,
      "metadata": {
        "id": "oEJIf_Ve5XrS",
        "outputId": "f8c3f3f7-b3d9-4e65-f1b6-46ae1c3db8d8"
      },
      "outputs": [
        {
          "data": {
            "text/html": [
              "<ol class=list-inline>\n",
              "\t<li>10</li>\n",
              "\t<li>11</li>\n",
              "\t<li>1</li>\n",
              "</ol>\n"
            ],
            "text/latex": [
              "\\begin{enumerate*}\n",
              "\\item 10\n",
              "\\item 11\n",
              "\\item 1\n",
              "\\end{enumerate*}\n"
            ],
            "text/markdown": [
              "1. 10\n",
              "2. 11\n",
              "3. 1\n",
              "\n",
              "\n"
            ],
            "text/plain": [
              "[1] 10 11  1"
            ]
          },
          "metadata": {},
          "output_type": "display_data"
        }
      ],
      "source": [
        "dim(grid2km)"
      ]
    },
    {
      "cell_type": "code",
      "execution_count": null,
      "metadata": {
        "id": "PKc0tcng5XrT",
        "outputId": "df5dd8b9-f5bf-450d-f287-79188130806d"
      },
      "outputs": [
        {
          "data": {
            "text/plain": [
              "   waterLevel \n",
              " Min.   : NA  \n",
              " 1st Qu.: NA  \n",
              " Median : NA  \n",
              " Mean   :NaN  \n",
              " 3rd Qu.: NA  \n",
              " Max.   : NA  \n",
              " NA's   :110  "
            ]
          },
          "metadata": {},
          "output_type": "display_data"
        }
      ],
      "source": [
        "summary(grid2km)"
      ]
    },
    {
      "cell_type": "code",
      "execution_count": null,
      "metadata": {
        "id": "QLmXl2dm5XrT",
        "outputId": "4ff32f6c-d7f5-4f38-f46f-9c82b8756c76"
      },
      "outputs": [
        {
          "data": {
            "text/html": [
              "NA"
            ],
            "text/latex": [
              "NA"
            ],
            "text/markdown": [
              "NA"
            ],
            "text/plain": [
              "[1] NA"
            ]
          },
          "metadata": {},
          "output_type": "display_data"
        }
      ],
      "source": [
        "st_crs(grid2km)$crs"
      ]
    },
    {
      "cell_type": "code",
      "execution_count": null,
      "metadata": {
        "id": "pgpCv6Pj5XrT",
        "outputId": "ac15eb75-a210-4bbd-bbd1-f08d917e177e"
      },
      "outputs": [
        {
          "ename": "ERROR",
          "evalue": "Error in UseMethod(\"st_bbox\"): no applicable method for 'st_bbox' applied to an object of class \"SpatRaster\"\n",
          "output_type": "error",
          "traceback": [
            "Error in UseMethod(\"st_bbox\"): no applicable method for 'st_bbox' applied to an object of class \"SpatRaster\"\nTraceback:\n",
            "1. st_bbox(grid2km)"
          ]
        }
      ],
      "source": [
        "st_bbox(grid2km)"
      ]
    },
    {
      "cell_type": "code",
      "source": [
        "plot(grid2km); grid()"
      ],
      "metadata": {
        "id": "-F9KWCJHgwJ3"
      },
      "execution_count": null,
      "outputs": []
    },
    {
      "cell_type": "code",
      "source": [
        "grid2km.df <- as.data.frame(grid2km, xy = TRUE, na.rm = FALSE)\n",
        "names(grid2km.df)[1:2] <- c(\"E\", \"N\") # match the names of the point dataset\n",
        "summary(grid2km.df)\n"
      ],
      "metadata": {
        "id": "5wQsQZmAg1NL"
      },
      "execution_count": null,
      "outputs": []
    },
    {
      "cell_type": "code",
      "source": [
        "# Run the IDW interpolation\n",
        "# Check the effect of power (p) on the IDW interpolation\n",
        "# by changing the value of \"idp\"\n",
        "\n",
        "grid2km.df$idwp05 = idw(log(waterLevel)  ~ 1, grid2km, grid2km.df, idp = 0.5)$var1.pred\n",
        "#meuse.grid$idwp1 = idw(log(cadmium)  ~ 1, meuse, meuse.grid, idp = 1)$var1.pred\n",
        "#meuse.grid$idwp25 = idw(log(cadmium)  ~ 1, meuse, meuse.grid, idp = 2.5)$var1.pred\n",
        "#meuse.grid$idwp5 = idw(log(cadmium)  ~ 1, meuse, meuse.grid, idp = 5)$var1.pred\n",
        "#meuse.grid$idwp10 = idw(log(cadmium)  ~ 1, meuse, meuse.grid, idp = 10)$var1.pred\n",
        "\n",
        "# Plot the outputs and the sample points\n",
        "spplot(grid2km.df, c(\"idwp05\"),#, \"idwp1\", \"idwp25\",\"idwp5\", \"idwp10\"),\n",
        "       sp.layout = list(\"sp.points\", grid2km, col = 3, cex=.5),\n",
        "       main = \"Log(Water Level) - ppm , IDW Interpolation \")"
      ],
      "metadata": {
        "id": "etZihlhdjcUs"
      },
      "execution_count": null,
      "outputs": []
    },
    {
      "cell_type": "code",
      "execution_count": null,
      "metadata": {
        "id": "gLyQ8iNv5XrT"
      },
      "outputs": [],
      "source": [
        "# Run the IDW interpolation\n",
        "# Check the effect of power (p) on the IDW interpolation\n",
        "# by changing the value of \"idp\"\n",
        "\n",
        "meuse.grid$idwp05 = idw(log(cadmium)  ~ 1, meuse, meuse.grid, idp = 0.5)$var1.pred\n",
        "meuse.grid$idwp1 = idw(log(cadmium)  ~ 1, meuse, meuse.grid, idp = 1)$var1.pred\n",
        "meuse.grid$idwp25 = idw(log(cadmium)  ~ 1, meuse, meuse.grid, idp = 2.5)$var1.pred\n",
        "meuse.grid$idwp5 = idw(log(cadmium)  ~ 1, meuse, meuse.grid, idp = 5)$var1.pred\n",
        "meuse.grid$idwp10 = idw(log(cadmium)  ~ 1, meuse, meuse.grid, idp = 10)$var1.pred\n",
        "\n",
        "# Plot the outputs and the sample points\n",
        "spplot(meuse.grid, c(\"idwp05\", \"idwp1\", \"idwp25\",\"idwp5\", \"idwp10\"),\n",
        "       sp.layout = list(\"sp.points\", meuse, col = 3, cex=.5),\n",
        "       main = \"Log(Cadmium) - ppm , IDW Interpolation \")"
      ]
    },
    {
      "cell_type": "markdown",
      "source": [
        "<div class=\"alert alert-block alert-warning\"><b>QUESTIONS: </b> </div>"
      ],
      "metadata": {
        "id": "OYjbSgAiiG4U"
      }
    },
    {
      "cell_type": "markdown",
      "source": [
        "- Why do we need interpolation methods that go deeper / further than the two presented here?\n",
        "\n"
      ],
      "metadata": {
        "id": "Nr5ZJF5yiHyB"
      }
    },
    {
      "cell_type": "markdown",
      "source": [
        "> [double click in this cell and type your answer]"
      ],
      "metadata": {
        "id": "s8ivRz0Ci-yL"
      }
    },
    {
      "cell_type": "markdown",
      "source": [
        "- Comment on the quality of the IDW"
      ],
      "metadata": {
        "id": "PERO9wVLiZ4_"
      }
    },
    {
      "cell_type": "markdown",
      "source": [
        "<div class=\"alert alert-block alert-info\"><b>HINT: </b>  </div>"
      ],
      "metadata": {
        "id": "1FuFywvOinpO"
      }
    },
    {
      "cell_type": "markdown",
      "source": [
        "> Think about the subjectivity of the _power_ function and what this means"
      ],
      "metadata": {
        "id": "S7LXU0Z8iqXk"
      }
    },
    {
      "cell_type": "markdown",
      "source": [
        "> [double click in this cell and type your answer]\n"
      ],
      "metadata": {
        "id": "I23Q0ZkOi9Jr"
      }
    },
    {
      "cell_type": "markdown",
      "source": [
        "- How can the quality of the IDW improve?"
      ],
      "metadata": {
        "id": "JsjbsoVm5N0V"
      }
    },
    {
      "cell_type": "markdown",
      "source": [
        "<div class=\"alert alert-block alert-info\"><b>HINT: </b>  </div>"
      ],
      "metadata": {
        "id": "TKfgVHwg5X9g"
      }
    },
    {
      "cell_type": "markdown",
      "source": [
        "> Consider the location and density of the sample (input) points"
      ],
      "metadata": {
        "id": "xNmhSRwC5aRV"
      }
    },
    {
      "cell_type": "markdown",
      "source": [
        "> [double click in this cell and type your answer]"
      ],
      "metadata": {
        "id": "hG_DL0wm5-Ip"
      }
    }
  ],
  "metadata": {
    "colab": {
      "provenance": []
    },
    "kernelspec": {
      "display_name": "R",
      "language": "R",
      "name": "ir"
    },
    "language_info": {
      "codemirror_mode": "r",
      "file_extension": ".r",
      "mimetype": "text/x-r-source",
      "name": "R",
      "pygments_lexer": "r",
      "version": "3.6.0"
    }
  },
  "nbformat": 4,
  "nbformat_minor": 0
}