{
 "cells": [
  {
   "cell_type": "markdown",
   "id": "ssQERr6mW2OY",
   "metadata": {
    "id": "ssQERr6mW2OY"
   },
   "source": [
    "_ is an R notebook_"
   ]
  },
  {
   "cell_type": "markdown",
   "id": "872c8361",
   "metadata": {
    "id": "872c8361"
   },
   "source": [
    "# Spatial Statistics - Assignment 3 (Geostatistical analysis)"
   ]
  },
  {
   "cell_type": "markdown",
   "id": "abcd54b2",
   "metadata": {
    "id": "abcd54b2"
   },
   "source": [
    "**Introduction**\n",
    "\n",
    "This assignment is an opportunity for you to try the R statistical package for spatial interpolation and in particular, to start to learn some of the capabilities of the `gstat` package (the various commands and some of the graphical outputs which can be produced).\n",
    "\n",
    "The commands used in this document are largely illustrative and in most cases use default arguments for the function calls. They provide basic examples of the package functionality. They are not meant to be a definitive analysis of the meuse data set and do not cover all the details of the `gstat` package capability. If you are unsure what the parameters for a particular function are or if you wish to explore other arguments related to a function, please consult the help files or the relevant package vignettes.\n",
    "\n",
    "In this assignment, you will work on **four different spatial interpolation methods** using the meuse data set and the gstat package. These interpolation methods are:\n",
    "\n",
    "\n",
    "\n",
    "> 1) Trend surface analysis,  \n",
    "> 2) Regression modelling,  \n",
    "> 3) Inverse distance weighting (IDW) and  \n",
    "> 4) Kriging."
   ]
  },
  {
   "cell_type": "markdown",
   "id": "7P-5WFeYA-BV",
   "metadata": {
    "id": "7P-5WFeYA-BV"
   },
   "source": [
    "<div class=\"alert alert-block alert-danger\"><b>REQUIRED: </b></div>"
   ]
  },
  {
   "cell_type": "markdown",
   "id": "5dc3b673",
   "metadata": {
    "id": "5dc3b673"
   },
   "source": [
    "**You are required to insert your outputs and any comment into this document.** The document you submit should therefore contain the existing text in addition to:\n",
    "\n",
    "\n",
    "> *   Plots and other outputs from executing the code chunks  \n",
    "> *   Discussion of your plots and other outputs as well as conclusions reached.\n",
    "\n",
    "This should also include any hypotheses and assumptions made as well as factors that may affect your conclusions. </div>"
   ]
  },
  {
   "cell_type": "markdown",
   "id": "14e1e5a9",
   "metadata": {
    "id": "14e1e5a9"
   },
   "source": [
    "To help you with interpreting your outputs, please consult the following resources:\n",
    "\n",
    "|            |            |\n",
    "|------------|:-----------|\n",
    "|Appendix A:| **Geostatistics for environmental scientists** by Webster and Oliver (2001). A copy of this is available on SAKAI > Syllabus > Assignment 2 Resources|\n",
    "|Chapter 16:| **Introduction to geographic information systems** by Kang-tsung (2011).  A printout of this was handed out in class and also available on SAKAI under SAKAI > Syllabus > Assignment 2 Resources\n",
    "|Chapter 8:| **Applied Spatial Data Analysis with R** by Bivand et. al. (2008).    A printout of this was handed out in class and also available on SAKAI under SAKAI > Syllabus > Assignment 2 Resources\n",
    "\n",
    "---"
   ]
  },
  {
   "cell_type": "code",
   "execution_count": 87,
   "id": "a8c681f8",
   "metadata": {
    "colab": {
     "base_uri": "https://localhost:8080/"
    },
    "executionInfo": {
     "elapsed": 935085,
     "status": "ok",
     "timestamp": 1690477429186,
     "user": {
      "displayName": "Adrian Kriger",
      "userId": "13601293545672267632"
     },
     "user_tz": -120
    },
    "id": "a8c681f8",
    "outputId": "220fab21-2c17-4f00-e0f9-9db4f615a988",
    "scrolled": true
   },
   "outputs": [
    {
     "ename": "ERROR",
     "evalue": "Error in parse(text = x, srcfile = src): <text>:5:1: unexpected SPECIAL\n4: \n5: %%\n   ^\n",
     "output_type": "error",
     "traceback": [
      "Error in parse(text = x, srcfile = src): <text>:5:1: unexpected SPECIAL\n4: \n5: %%\n   ^\nTraceback:\n"
     ]
    }
   ],
   "source": [
    "###################################################\n",
    "### Initial settings:\n",
    "###################################################\n",
    "\n",
    "options(prompt=\"> \", continue=\"+ \", digits=3, width=70, show.signif.stars=T, repr.plot.width = 6, repr.plot.height = 5, repr.plot.res = 100)\n",
    "rm(list=ls())\n",
    "\n",
    "# Install necessary packages: You only need to run this part once\n",
    "#install.packages(c(\"sf\", \"gstat\", \"lattice\", \"automap\"))\n",
    "\n",
    "# Load the required libraries\n",
    "#_________________________________________________________\n",
    "library(sp)\n",
    "library(gstat)\n",
    "library(lattice)\n",
    "library(automap)\n",
    "\n",
    "# get help for the gstat package:\n",
    "#______________\n",
    "help(package=\"gstat\")\n",
    "\n",
    "# Check for example data sets in the sp package\n",
    "#______________\n",
    "\n",
    "data(package=\"gstat\")"
   ]
  },
  {
   "cell_type": "markdown",
   "id": "w88EKwqEC31E",
   "metadata": {
    "id": "w88EKwqEC31E"
   },
   "source": [
    "<div class=\"alert alert-block alert-success\"><b>THE DATA: </b> </div>"
   ]
  },
  {
   "cell_type": "markdown",
   "id": "39228f58",
   "metadata": {
    "id": "39228f58"
   },
   "source": [
    "This assignment is based on the meuse data set.  \n",
    "\n",
    "The data set which can be found in the gstat package consists of 155 samples of top soil heavy metal concentrations (ppm), along with a number of soil and landscape variables. The samples were collected in a flood plain of the river Meuse, near the village [Stein in the Netherlands](https://en.wikipedia.org/wiki/Stein,_Limburg).  \n",
    "\n",
    "Historic metal mining has caused the widespread dispersal of lead, [zinc](https://en.wikipedia.org/wiki/Zinc), [copper](https://en.wikipedia.org/wiki/Copper) and [cadmium](https://en.wikipedia.org/wiki/Cadmium) in the [alluvial](https://en.wikipedia.org/wiki/Alluvium) soil. The pollutants may constrain the land use in these areas, so detailed maps are required that identify zones with high concentrations."
   ]
  },
  {
   "cell_type": "code",
   "execution_count": 63,
   "id": "VOWq0JHeEjN7",
   "metadata": {
    "collapsed": true,
    "id": "VOWq0JHeEjN7"
   },
   "outputs": [],
   "source": [
    "# Description of the data from the package documentation\n",
    "?meuse"
   ]
  },
  {
   "cell_type": "code",
   "execution_count": 64,
   "id": "9CPREJNAFLVu",
   "metadata": {
    "colab": {
     "base_uri": "https://localhost:8080/",
     "height": 34
    },
    "collapsed": true,
    "executionInfo": {
     "elapsed": 516,
     "status": "ok",
     "timestamp": 1690450778594,
     "user": {
      "displayName": "Adrian Kriger",
      "userId": "13601293545672267632"
     },
     "user_tz": -120
    },
    "id": "9CPREJNAFLVu",
    "outputId": "48795842-bbbb-4884-e73f-b912ad98b3e4"
   },
   "outputs": [
    {
     "data": {
      "text/html": [
       "'data.frame'"
      ],
      "text/latex": [
       "'data.frame'"
      ],
      "text/markdown": [
       "'data.frame'"
      ],
      "text/plain": [
       "[1] \"data.frame\""
      ]
     },
     "metadata": {},
     "output_type": "display_data"
    }
   ],
   "source": [
    "# Load the data into R and explore the data\n",
    "data(meuse)\n",
    "class(meuse)"
   ]
  },
  {
   "cell_type": "code",
   "execution_count": 65,
   "id": "g-I8oFVxFQBp",
   "metadata": {
    "colab": {
     "base_uri": "https://localhost:8080/"
    },
    "collapsed": true,
    "executionInfo": {
     "elapsed": 1170,
     "status": "ok",
     "timestamp": 1690450783309,
     "user": {
      "displayName": "Adrian Kriger",
      "userId": "13601293545672267632"
     },
     "user_tz": -120
    },
    "id": "g-I8oFVxFQBp",
    "outputId": "b9b80f27-9ea6-4c2e-a577-e72d5884f69a"
   },
   "outputs": [
    {
     "name": "stdout",
     "output_type": "stream",
     "text": [
      "'data.frame':\t155 obs. of  14 variables:\n",
      " $ x      : num  181072 181025 181165 181298 181307 ...\n",
      " $ y      : num  333611 333558 333537 333484 333330 ...\n",
      " $ cadmium: num  11.7 8.6 6.5 2.6 2.8 3 3.2 2.8 2.4 1.6 ...\n",
      " $ copper : num  85 81 68 81 48 61 31 29 37 24 ...\n",
      " $ lead   : num  299 277 199 116 117 137 132 150 133 80 ...\n",
      " $ zinc   : num  1022 1141 640 257 269 ...\n",
      " $ elev   : num  7.91 6.98 7.8 7.66 7.48 ...\n",
      " $ dist   : num  0.00136 0.01222 0.10303 0.19009 0.27709 ...\n",
      " $ om     : num  13.6 14 13 8 8.7 7.8 9.2 9.5 10.6 6.3 ...\n",
      " $ ffreq  : Factor w/ 3 levels \"1\",\"2\",\"3\": 1 1 1 1 1 1 1 1 1 1 ...\n",
      " $ soil   : Factor w/ 3 levels \"1\",\"2\",\"3\": 1 1 1 2 2 2 2 1 1 2 ...\n",
      " $ lime   : Factor w/ 2 levels \"0\",\"1\": 2 2 2 1 1 1 1 1 1 1 ...\n",
      " $ landuse: Factor w/ 15 levels \"Aa\",\"Ab\",\"Ag\",..: 4 4 4 11 4 11 4 2 2 15 ...\n",
      " $ dist.m : num  50 30 150 270 380 470 240 120 240 420 ...\n"
     ]
    }
   ],
   "source": [
    "str(meuse)"
   ]
  },
  {
   "cell_type": "code",
   "execution_count": 66,
   "id": "ffab46db",
   "metadata": {
    "collapsed": true,
    "id": "ffab46db"
   },
   "outputs": [],
   "source": [
    "# The gstat package assumes that data are projected,\n",
    "# i.e. they should not be provided as lattitude/longitude # and have to tell it which vectors are the corrdinates\n",
    "\n",
    "# The command below specifies the coordinates and changes the dataframe\n",
    "# to a \"SpatialPointDataFrame\", which is necessary for variogram modelling\n",
    "\n",
    "coordinates(meuse) <- ~ x + y\n",
    "proj4string(meuse) <- CRS(\"+init=epsg:28992\")"
   ]
  },
  {
   "cell_type": "code",
   "execution_count": 67,
   "id": "pBihLHieFdoI",
   "metadata": {
    "colab": {
     "base_uri": "https://localhost:8080/",
     "height": 34
    },
    "collapsed": true,
    "executionInfo": {
     "elapsed": 6,
     "status": "ok",
     "timestamp": 1690450787488,
     "user": {
      "displayName": "Adrian Kriger",
      "userId": "13601293545672267632"
     },
     "user_tz": -120
    },
    "id": "pBihLHieFdoI",
    "outputId": "5373a193-01e9-44c1-b5ac-df99f0513248"
   },
   "outputs": [
    {
     "data": {
      "text/html": [
       "'SpatialPointsDataFrame'"
      ],
      "text/latex": [
       "'SpatialPointsDataFrame'"
      ],
      "text/markdown": [
       "'SpatialPointsDataFrame'"
      ],
      "text/plain": [
       "[1] \"SpatialPointsDataFrame\"\n",
       "attr(,\"package\")\n",
       "[1] \"sp\""
      ]
     },
     "metadata": {},
     "output_type": "display_data"
    }
   ],
   "source": [
    "# Explore the projected data\n",
    "class(meuse)"
   ]
  },
  {
   "cell_type": "code",
   "execution_count": 68,
   "id": "vCgz0cn_FX6H",
   "metadata": {
    "colab": {
     "base_uri": "https://localhost:8080/"
    },
    "collapsed": true,
    "executionInfo": {
     "elapsed": 10,
     "status": "ok",
     "timestamp": 1690450791646,
     "user": {
      "displayName": "Adrian Kriger",
      "userId": "13601293545672267632"
     },
     "user_tz": -120
    },
    "id": "vCgz0cn_FX6H",
    "outputId": "434f5518-ff6f-4946-b731-8f3b90b14465"
   },
   "outputs": [
    {
     "name": "stdout",
     "output_type": "stream",
     "text": [
      "Formal class 'SpatialPointsDataFrame' [package \"sp\"] with 5 slots\n",
      "  ..@ data       :'data.frame':\t155 obs. of  12 variables:\n",
      "  .. ..$ cadmium: num [1:155] 11.7 8.6 6.5 2.6 2.8 3 3.2 2.8 2.4 1.6 ...\n",
      "  .. ..$ copper : num [1:155] 85 81 68 81 48 61 31 29 37 24 ...\n",
      "  .. ..$ lead   : num [1:155] 299 277 199 116 117 137 132 150 133 80 ...\n",
      "  .. ..$ zinc   : num [1:155] 1022 1141 640 257 269 ...\n",
      "  .. ..$ elev   : num [1:155] 7.91 6.98 7.8 7.66 7.48 ...\n",
      "  .. ..$ dist   : num [1:155] 0.00136 0.01222 0.10303 0.19009 0.27709 ...\n",
      "  .. ..$ om     : num [1:155] 13.6 14 13 8 8.7 7.8 9.2 9.5 10.6 6.3 ...\n",
      "  .. ..$ ffreq  : Factor w/ 3 levels \"1\",\"2\",\"3\": 1 1 1 1 1 1 1 1 1 1 ...\n",
      "  .. ..$ soil   : Factor w/ 3 levels \"1\",\"2\",\"3\": 1 1 1 2 2 2 2 1 1 2 ...\n",
      "  .. ..$ lime   : Factor w/ 2 levels \"0\",\"1\": 2 2 2 1 1 1 1 1 1 1 ...\n",
      "  .. ..$ landuse: Factor w/ 15 levels \"Aa\",\"Ab\",\"Ag\",..: 4 4 4 11 4 11 4 2 2 15 ...\n",
      "  .. ..$ dist.m : num [1:155] 50 30 150 270 380 470 240 120 240 420 ...\n",
      "  ..@ coords.nrs : int [1:2] 1 2\n",
      "  ..@ coords     : num [1:155, 1:2] 181072 181025 181165 181298 181307 ...\n",
      "  .. ..- attr(*, \"dimnames\")=List of 2\n",
      "  .. .. ..$ : chr [1:155] \"1\" \"2\" \"3\" \"4\" ...\n",
      "  .. .. ..$ : chr [1:2] \"x\" \"y\"\n",
      "  ..@ bbox       : num [1:2, 1:2] 178605 329714 181390 333611\n",
      "  .. ..- attr(*, \"dimnames\")=List of 2\n",
      "  .. .. ..$ : chr [1:2] \"x\" \"y\"\n",
      "  .. .. ..$ : chr [1:2] \"min\" \"max\"\n",
      "  ..@ proj4string:Formal class 'CRS' [package \"sp\"] with 1 slot\n",
      "  .. .. ..@ projargs: chr \"+init=epsg:28992\"\n"
     ]
    }
   ],
   "source": [
    "str(meuse)"
   ]
  },
  {
   "cell_type": "markdown",
   "id": "f7a55518",
   "metadata": {
    "id": "f7a55518"
   },
   "source": [
    "**The Interpolation grid and the river outline**"
   ]
  },
  {
   "cell_type": "code",
   "execution_count": 69,
   "id": "wpmv44DJFhcg",
   "metadata": {
    "colab": {
     "base_uri": "https://localhost:8080/",
     "height": 34
    },
    "collapsed": true,
    "executionInfo": {
     "elapsed": 451,
     "status": "ok",
     "timestamp": 1690450858592,
     "user": {
      "displayName": "Adrian Kriger",
      "userId": "13601293545672267632"
     },
     "user_tz": -120
    },
    "id": "wpmv44DJFhcg",
    "outputId": "dbc580f3-d822-4310-f2e7-a7f57daf79ad"
   },
   "outputs": [
    {
     "data": {
      "text/html": [
       "'data.frame'"
      ],
      "text/latex": [
       "'data.frame'"
      ],
      "text/markdown": [
       "'data.frame'"
      ],
      "text/plain": [
       "[1] \"data.frame\""
      ]
     },
     "metadata": {},
     "output_type": "display_data"
    }
   ],
   "source": [
    "# Read the interpolation grid data (set of regularly-spaced points that covers\n",
    "# the study area and specify locations were predictions will be done)\n",
    "data(meuse.grid)\n",
    "class(meuse.grid)"
   ]
  },
  {
   "cell_type": "code",
   "execution_count": 70,
   "id": "SMwx0q_eFlLg",
   "metadata": {
    "colab": {
     "base_uri": "https://localhost:8080/",
     "height": 34
    },
    "collapsed": true,
    "executionInfo": {
     "elapsed": 416,
     "status": "ok",
     "timestamp": 1690450860626,
     "user": {
      "displayName": "Adrian Kriger",
      "userId": "13601293545672267632"
     },
     "user_tz": -120
    },
    "id": "SMwx0q_eFlLg",
    "outputId": "260ecb67-17be-4287-cbad-63130759bc8c"
   },
   "outputs": [
    {
     "data": {
      "text/html": [
       "'SpatialPointsDataFrame'"
      ],
      "text/latex": [
       "'SpatialPointsDataFrame'"
      ],
      "text/markdown": [
       "'SpatialPointsDataFrame'"
      ],
      "text/plain": [
       "[1] \"SpatialPointsDataFrame\"\n",
       "attr(,\"package\")\n",
       "[1] \"sp\""
      ]
     },
     "metadata": {},
     "output_type": "display_data"
    }
   ],
   "source": [
    "coordinates(meuse.grid) <-  ~ x + y\n",
    "proj4string(meuse.grid) <- CRS(\"+init=epsg:28992\")\n",
    "class(meuse.grid)"
   ]
  },
  {
   "cell_type": "code",
   "execution_count": 71,
   "id": "gnZWqv1iFqFX",
   "metadata": {
    "colab": {
     "base_uri": "https://localhost:8080/",
     "height": 437
    },
    "collapsed": true,
    "executionInfo": {
     "elapsed": 886,
     "status": "ok",
     "timestamp": 1690450863210,
     "user": {
      "displayName": "Adrian Kriger",
      "userId": "13601293545672267632"
     },
     "user_tz": -120
    },
    "id": "gnZWqv1iFqFX",
    "outputId": "0bb59eed-3eba-49e8-9c56-73f86e1e7e4e"
   },
   "outputs": [
    {
     "data": {
      "image/png": "[encoded data removed]",
      "text/plain": [
       "Plot with title \"Meuse Interpolation Grid with Control Points\""
      ]
     },
     "metadata": {},
     "output_type": "display_data"
    }
   ],
   "source": [
    "# Plot the interpolation grid to see what you have\n",
    "plot(meuse.grid, main = \"Meuse Interpolation Grid with Control Points\")\n",
    "points(meuse,pch=10)"
   ]
  },
  {
   "cell_type": "code",
   "execution_count": 72,
   "id": "unDG_U6pFta6",
   "metadata": {
    "colab": {
     "base_uri": "https://localhost:8080/",
     "height": 34
    },
    "collapsed": true,
    "executionInfo": {
     "elapsed": 437,
     "status": "ok",
     "timestamp": 1690450866457,
     "user": {
      "displayName": "Adrian Kriger",
      "userId": "13601293545672267632"
     },
     "user_tz": -120
    },
    "id": "unDG_U6pFta6",
    "outputId": "052282f8-8b3b-474d-8880-666e8194c30b"
   },
   "outputs": [
    {
     "data": {
      "text/html": [
       "'SpatialPixelsDataFrame'"
      ],
      "text/latex": [
       "'SpatialPixelsDataFrame'"
      ],
      "text/markdown": [
       "'SpatialPixelsDataFrame'"
      ],
      "text/plain": [
       "[1] \"SpatialPixelsDataFrame\"\n",
       "attr(,\"package\")\n",
       "[1] \"sp\""
      ]
     },
     "metadata": {},
     "output_type": "display_data"
    }
   ],
   "source": [
    "# Promote the grid data\n",
    "gridded(meuse.grid) <- TRUE\n",
    "class(meuse.grid)"
   ]
  },
  {
   "cell_type": "code",
   "execution_count": 73,
   "id": "1387a7f1",
   "metadata": {
    "collapsed": true,
    "id": "1387a7f1"
   },
   "outputs": [],
   "source": [
    "# Read in the meuse river outline\n",
    "data(meuse.riv)\n",
    "meuse.sr = SpatialPolygons(list(Polygons(list(Polygon(meuse.riv)),\"meuse.riv\")))\n",
    "meuse.lt = list(\"sp.polygons\", meuse.sr, fill = \"grey\")"
   ]
  },
  {
   "cell_type": "markdown",
   "id": "ebba2d3a",
   "metadata": {
    "id": "ebba2d3a"
   },
   "source": [
    "**Exploratory Data Analysis**\n",
    "\n",
    "1.\tExecute the following chunk of code and briefly describe all outputs."
   ]
  },
  {
   "cell_type": "markdown",
   "id": "SBZTIv47X-Ei",
   "metadata": {
    "id": "SBZTIv47X-Ei"
   },
   "source": [
    "<div class=\"alert alert-block alert-info\"><b>HINT: </b>  </div>"
   ]
  },
  {
   "cell_type": "markdown",
   "id": "a6K4Bx06YIC4",
   "metadata": {
    "id": "a6K4Bx06YIC4"
   },
   "source": [
    "> Describe the original and log transformed variable with respect to data distribution (symmetry, modality, presence of outliers, etc.). Also indicate if the transformation was appropriate for the data."
   ]
  },
  {
   "cell_type": "code",
   "execution_count": 74,
   "id": "9B18DBz7F2VO",
   "metadata": {
    "colab": {
     "base_uri": "https://localhost:8080/",
     "height": 86
    },
    "collapsed": true,
    "executionInfo": {
     "elapsed": 422,
     "status": "ok",
     "timestamp": 1690450171034,
     "user": {
      "displayName": "Adrian Kriger",
      "userId": "13601293545672267632"
     },
     "user_tz": -120
    },
    "id": "9B18DBz7F2VO",
    "outputId": "94a2ded2-bc67-4755-e387-8ab652988e87"
   },
   "outputs": [
    {
     "data": {
      "text/plain": [
       "   Min. 1st Qu.  Median    Mean 3rd Qu.    Max. \n",
       "   0.20    0.80    2.10    3.25    3.85   18.10 "
      ]
     },
     "metadata": {},
     "output_type": "display_data"
    },
    {
     "data": {
      "text/plain": [
       "   Min. 1st Qu.  Median    Mean 3rd Qu.    Max. \n",
       " -1.609  -0.223   0.742   0.561   1.348   2.896 "
      ]
     },
     "metadata": {},
     "output_type": "display_data"
    }
   ],
   "source": [
    "# Summary Statistics\n",
    "summary(meuse$cadmium)\n",
    "summary(log(meuse$cadmium))"
   ]
  },
  {
   "cell_type": "code",
   "execution_count": 75,
   "id": "2jLIsh5AF66t",
   "metadata": {
    "colab": {
     "base_uri": "https://localhost:8080/"
    },
    "collapsed": true,
    "executionInfo": {
     "elapsed": 408,
     "status": "ok",
     "timestamp": 1690450173661,
     "user": {
      "displayName": "Adrian Kriger",
      "userId": "13601293545672267632"
     },
     "user_tz": -120
    },
    "id": "2jLIsh5AF66t",
    "outputId": "a0083a33-c0c6-4806-d8de-b4b8348fd6b3"
   },
   "outputs": [
    {
     "name": "stdout",
     "output_type": "stream",
     "text": [
      "\n",
      "  The decimal point is at the |\n",
      "\n",
      "   0 | 2222222222222222222224444444444788888888899\n",
      "   1 | 0122222233333445555666777778888\n",
      "   2 | 00011111244445556667777888899\n",
      "   3 | 0011112245578999\n",
      "   4 | 237\n",
      "   5 | 568\n",
      "   6 | 3568\n",
      "   7 | 0013489\n",
      "   8 | 122367\n",
      "   9 | 4445\n",
      "  10 | 89\n",
      "  11 | 27\n",
      "  12 | 09\n",
      "  13 | \n",
      "  14 | 1\n",
      "  15 | \n",
      "  16 | \n",
      "  17 | 0\n",
      "  18 | 1\n",
      "\n",
      "\n",
      "  The decimal point is 1 digit(s) to the left of the |\n",
      "\n",
      "  -16 | 111111111111111111111\n",
      "  -14 | \n",
      "  -12 | \n",
      "  -10 | \n",
      "   -8 | 2222222222\n",
      "   -6 | \n",
      "   -4 | \n",
      "   -2 | 6222222222\n",
      "   -0 | 11\n",
      "    0 | 00888888\n",
      "    2 | 6666644\n",
      "    4 | 1111777333339999\n",
      "    6 | 999444449\n",
      "    8 | 88882226669999\n",
      "   10 | 33336600333366\n",
      "   12 | 25514666\n",
      "   14 | 465\n",
      "   16 | 026\n",
      "   18 | 47925569\n",
      "   20 | 057900256\n",
      "   22 | 444589\n",
      "   24 | 2686\n",
      "   26 | 5\n",
      "   28 | 30\n",
      "\n"
     ]
    }
   ],
   "source": [
    "# Steam and leaf plot\n",
    "stem(meuse$cadmium)\n",
    "stem(log(meuse$cadmium))"
   ]
  },
  {
   "cell_type": "code",
   "execution_count": 76,
   "id": "9609cefe",
   "metadata": {
    "colab": {
     "base_uri": "https://localhost:8080/",
     "height": 437
    },
    "collapsed": true,
    "executionInfo": {
     "elapsed": 572,
     "status": "ok",
     "timestamp": 1690450177267,
     "user": {
      "displayName": "Adrian Kriger",
      "userId": "13601293545672267632"
     },
     "user_tz": -120
    },
    "id": "9609cefe",
    "outputId": "98d60928-37e3-442b-bedc-778075180c46"
   },
   "outputs": [
    {
     "data": {
      "image/png": "[encoded data removed]",
      "text/plain": [
       "Plot with title \"Q-Q Plot of Log-Cadmium (ppm)\""
      ]
     },
     "metadata": {},
     "output_type": "display_data"
    }
   ],
   "source": [
    "# Histogram and Q-Q Plots\n",
    "par(mfrow=c(3,2)) # 6 figures per page arranged in 3 rows and 2 columns\n",
    "hist(meuse$cadmium, n=20, main = \"Histogram of Cadmium (ppm)\")\n",
    "hist(log(meuse$cadmium), n=20, main = \"Histogram of Log-Cadmium  (ppm)\")\n",
    "\n",
    "boxplot(meuse$cadmium, main = \"Boxplot of Cadmium (ppm)\")\n",
    "boxplot(log(meuse$cadmium), main = \"Boxplot of Log-Cadmium (ppm)\")\n",
    "\n",
    "qqnorm(meuse$cadmium,  main = \"Q-Q Plot of Cadmium  (ppm)\")\n",
    "qqnorm(log(meuse$cadmium),  main = \"Q-Q Plot of Log-Cadmium (ppm)\")\n",
    "\n",
    "par(mfrow=c(1,1)) # Reset to default ploting of 1 figure per page"
   ]
  },
  {
   "cell_type": "code",
   "execution_count": 77,
   "id": "h_hU6gBRmt5g",
   "metadata": {
    "colab": {
     "base_uri": "https://localhost:8080/",
     "height": 191
    },
    "collapsed": true,
    "executionInfo": {
     "elapsed": 404,
     "status": "ok",
     "timestamp": 1690450180605,
     "user": {
      "displayName": "Adrian Kriger",
      "userId": "13601293545672267632"
     },
     "user_tz": -120
    },
    "id": "h_hU6gBRmt5g",
    "outputId": "192bb3e4-8efd-4db8-f376-fdb7e0f3f111"
   },
   "outputs": [
    {
     "data": {
      "text/plain": [
       "\n",
       "\tShapiro-Wilk normality test\n",
       "\n",
       "data:  meuse$cadmium\n",
       "W = 0.8, p-value = 9e-14\n"
      ]
     },
     "metadata": {},
     "output_type": "display_data"
    },
    {
     "data": {
      "text/plain": [
       "\n",
       "\tShapiro-Wilk normality test\n",
       "\n",
       "data:  log(meuse$cadmium)\n",
       "W = 0.9, p-value = 1e-05\n"
      ]
     },
     "metadata": {},
     "output_type": "display_data"
    }
   ],
   "source": [
    "# Shapiro-Wilk normality test\n",
    "shapiro.test(meuse$cadmium)\n",
    "shapiro.test(log(meuse$cadmium))"
   ]
  },
  {
   "cell_type": "markdown",
   "id": "zMPmgg_8GLuN",
   "metadata": {
    "id": "zMPmgg_8GLuN"
   },
   "source": [
    "<div class=\"alert alert-block alert-warning\"><b>QUESTIONS: </b> </div>"
   ]
  },
  {
   "cell_type": "markdown",
   "id": "DPbtVU2jGdQr",
   "metadata": {
    "id": "DPbtVU2jGdQr"
   },
   "source": [
    "*   **Provide the summary Statistics**"
   ]
  },
  {
   "cell_type": "markdown",
   "id": "HM2aiIzYGeRJ",
   "metadata": {
    "id": "HM2aiIzYGeRJ"
   },
   "source": [
    "> [double click in this cell and type your answer]\n",
    "\n"
   ]
  },
  {
   "cell_type": "markdown",
   "id": "YCZz7UwgG6it",
   "metadata": {
    "id": "YCZz7UwgG6it"
   },
   "source": [
    "*   **Provide Plots from the code above**"
   ]
  },
  {
   "cell_type": "markdown",
   "id": "2DdEBNCcHCkn",
   "metadata": {
    "id": "2DdEBNCcHCkn"
   },
   "source": [
    "> [double click in this cell and type your answer]"
   ]
  },
  {
   "cell_type": "markdown",
   "id": "rWKLkfiXHD2D",
   "metadata": {
    "id": "rWKLkfiXHD2D"
   },
   "source": [
    "*   **Provide the results from Shapiro-Wilk normal Tests**\n",
    "\n"
   ]
  },
  {
   "cell_type": "markdown",
   "id": "LGNnqfb9Mu7a",
   "metadata": {
    "id": "LGNnqfb9Mu7a"
   },
   "source": [
    "> [double click in this cell and type your answer]"
   ]
  },
  {
   "cell_type": "markdown",
   "id": "QCAlVCVPHSt0",
   "metadata": {
    "id": "QCAlVCVPHSt0"
   },
   "source": [
    "*   **Explain the results from summary statistics and plots**"
   ]
  },
  {
   "cell_type": "markdown",
   "id": "iN4Tu1bbMtrQ",
   "metadata": {
    "id": "iN4Tu1bbMtrQ"
   },
   "source": [
    "> [double click in this cell and type your answer]"
   ]
  },
  {
   "cell_type": "markdown",
   "id": "JUEvv-HRHS0a",
   "metadata": {
    "id": "JUEvv-HRHS0a"
   },
   "source": [
    "- **Provide any additional relevant comments**"
   ]
  },
  {
   "cell_type": "markdown",
   "id": "bf818963",
   "metadata": {
    "id": "bf818963"
   },
   "source": [
    "> [double click in this cell and type your answer]"
   ]
  },
  {
   "cell_type": "markdown",
   "id": "6f2dd224",
   "metadata": {
    "id": "6f2dd224"
   },
   "source": [
    "**Exploratory Spatial Data Analysis continued**\n",
    "\n",
    "2. Execute the following code chunk and briefly describe what you observe with respect to the spatial distribution of Cadmium."
   ]
  },
  {
   "cell_type": "markdown",
   "id": "F7e2zSWDNGiK",
   "metadata": {
    "id": "F7e2zSWDNGiK"
   },
   "source": [
    "<div class=\"alert alert-block alert-info\"><b>HINT: </b>  </div>"
   ]
  },
  {
   "cell_type": "markdown",
   "id": "EW4U9kxWNG6f",
   "metadata": {
    "id": "EW4U9kxWNG6f"
   },
   "source": [
    "> Talk about positions of the data in relation to the bounds of the region, the locations of high and low values and the presence of possible outliers."
   ]
  },
  {
   "cell_type": "code",
   "execution_count": 78,
   "id": "6f8e8b23",
   "metadata": {
    "colab": {
     "base_uri": "https://localhost:8080/",
     "height": 183
    },
    "collapsed": true,
    "executionInfo": {
     "elapsed": 438,
     "status": "error",
     "timestamp": 1690450185126,
     "user": {
      "displayName": "Adrian Kriger",
      "userId": "13601293545672267632"
     },
     "user_tz": -120
    },
    "id": "6f8e8b23",
    "outputId": "48223aa6-8498-4c2c-93d5-019043242c63"
   },
   "outputs": [
    {
     "data": {
      "image/png": "[encoded data removed]",
      "text/plain": [
       "plot without title"
      ]
     },
     "metadata": {},
     "output_type": "display_data"
    }
   ],
   "source": [
    "# Obtain a bubble plot of the cadmium data with the dots scaled to concentration\n",
    "bubble(meuse, \"cadmium\", col = \"green\" , main = \"cadmium concentrations (ppm)\")"
   ]
  },
  {
   "cell_type": "code",
   "execution_count": 79,
   "id": "97bcdf05",
   "metadata": {
    "colab": {
     "base_uri": "https://localhost:8080/",
     "height": 437
    },
    "collapsed": true,
    "executionInfo": {
     "elapsed": 1181,
     "status": "ok",
     "timestamp": 1690391906104,
     "user": {
      "displayName": "Adrian Kriger",
      "userId": "13601293545672267632"
     },
     "user_tz": -120
    },
    "id": "97bcdf05",
    "outputId": "2942417d-9b29-453f-c718-7bb954ddd9ce"
   },
   "outputs": [
    {
     "data": {
      "image/png": "[encoded data removed]",
      "text/plain": [
       "plot without title"
      ]
     },
     "metadata": {},
     "output_type": "display_data"
    }
   ],
   "source": [
    "# Obtain a dot plot and add some context to the plot\n",
    "sp.theme(TRUE)\n",
    "spplot(meuse, \"cadmium\", key.space = \"right\", col.regions=bpy.colors(),\n",
    "       main = \"Cadmium concentrations (ppm)\",\n",
    "       scales = list(draw = TRUE),# Add a reference by showing the coordinate system\n",
    "       sp.layout= list(\"sp.polygons\", meuse.sr, fill = \"lightblue\")\n",
    "       # Add geographic reference (Meuse river boundaries)\n",
    "       )\n"
   ]
  },
  {
   "cell_type": "markdown",
   "id": "vc5eK04ENfr0",
   "metadata": {
    "id": "vc5eK04ENfr0"
   },
   "source": [
    "<div class=\"alert alert-block alert-warning\"><b>ANSWERS / COMMENTS: </b> </div>"
   ]
  },
  {
   "cell_type": "markdown",
   "id": "SYlgf6V584L6",
   "metadata": {
    "id": "SYlgf6V584L6"
   },
   "source": [
    "> [double click in this cell and describe what you observe with respect to the spatial distribution of Cadmium]"
   ]
  },
  {
   "cell_type": "markdown",
   "id": "4abe4ccf",
   "metadata": {
    "id": "4abe4ccf"
   },
   "source": [
    "**Regression Model**\n",
    "\n",
    "3. Use the following code chunk to perform the various analyses required for a regression interpolation with distance to river as an independent variable.\n"
   ]
  },
  {
   "cell_type": "markdown",
   "id": "-eHqKIUHN82s",
   "metadata": {
    "id": "-eHqKIUHN82s"
   },
   "source": [
    "<div class=\"alert alert-block alert-info\"><b>HINT: </b>  </div>"
   ]
  },
  {
   "cell_type": "markdown",
   "id": "ef7e84a5",
   "metadata": {
    "id": "ef7e84a5"
   },
   "source": [
    "> You should include a discussion on the nature of relationship between the dependent and independent variable, the model fit: model summary and regression diagnostics ***{say which, (if any), of the assumptions underlying linear regression are violated}*** and the quality of interpolation with respect to the distribution and density of controls points, etc."
   ]
  },
  {
   "cell_type": "code",
   "execution_count": 88,
   "id": "Rxfbmp5COEP2",
   "metadata": {
    "colab": {
     "base_uri": "https://localhost:8080/",
     "height": 437
    },
    "executionInfo": {
     "elapsed": 943,
     "status": "ok",
     "timestamp": 1690392089717,
     "user": {
      "displayName": "Adrian Kriger",
      "userId": "13601293545672267632"
     },
     "user_tz": -120
    },
    "id": "Rxfbmp5COEP2",
    "outputId": "2bf3cd87-e1e3-48de-ce0c-0cc580b8692b",
    "scrolled": false
   },
   "outputs": [
    {
     "data": {
      "image/png": "[encoded data removed]",
      "text/plain": [
       "plot without title"
      ]
     },
     "metadata": {},
     "output_type": "display_data"
    }
   ],
   "source": [
    "#_________________________________________________________\n",
    "### To produce  Fig. like 8.1 in Ch 8 of Bivand et al. (2008)\n",
    "#_________________________________________________________\n",
    "\n",
    "# Map of distance to river:\n",
    "meuse.grid$sqrtdist = sqrt(meuse.grid$dist)\n",
    "spplot(meuse.grid[\"sqrtdist\"], col.regions = bpy.colors() ,\n",
    "       sp.layout = list(\"sp.points\", meuse, col = 3, cex=.5),\n",
    "       main = \"Distance to river\")"
   ]
  },
  {
   "cell_type": "code",
   "execution_count": 81,
   "id": "Yyw8ra2lOGM6",
   "metadata": {
    "colab": {
     "base_uri": "https://localhost:8080/",
     "height": 437
    },
    "executionInfo": {
     "elapsed": 1145,
     "status": "ok",
     "timestamp": 1690392131219,
     "user": {
      "displayName": "Adrian Kriger",
      "userId": "13601293545672267632"
     },
     "user_tz": -120
    },
    "id": "Yyw8ra2lOGM6",
    "outputId": "610f0609-00ca-4884-9642-afb438f307fe"
   },
   "outputs": [
    {
     "data": {
      "image/png": "[encoded data removed]",
      "text/plain": [
       "plot without title"
      ]
     },
     "metadata": {},
     "output_type": "display_data"
    }
   ],
   "source": [
    "# Cadmium (ppm) vs. distance to river\n",
    "xyplot(log(cadmium)~sqrt(dist), as.data.frame(meuse),\n",
    "       main=\"Scatterplot of Cadmium vs. distance\")"
   ]
  },
  {
   "cell_type": "code",
   "execution_count": 89,
   "id": "7U97Kd0pOP8R",
   "metadata": {
    "colab": {
     "base_uri": "https://localhost:8080/",
     "height": 349
    },
    "executionInfo": {
     "elapsed": 587,
     "status": "ok",
     "timestamp": 1690392138864,
     "user": {
      "displayName": "Adrian Kriger",
      "userId": "13601293545672267632"
     },
     "user_tz": -120
    },
    "id": "7U97Kd0pOP8R",
    "outputId": "b80f652d-fafa-4e82-c120-26ecc7cb105c"
   },
   "outputs": [
    {
     "data": {
      "text/plain": [
       "\n",
       "Call:\n",
       "lm(formula = log(cadmium) ~ sqrt(dist), data = meuse)\n",
       "\n",
       "Residuals:\n",
       "   Min     1Q Median     3Q    Max \n",
       "-2.784 -0.254  0.180  0.501  1.908 \n",
       "\n",
       "Coefficients:\n",
       "            Estimate Std. Error t value Pr(>|t|)    \n",
       "(Intercept)    2.232      0.151    14.8   <2e-16 ***\n",
       "sqrt(dist)    -3.842      0.308   -12.5   <2e-16 ***\n",
       "---\n",
       "Signif. codes:  0 '***' 0.001 '**' 0.01 '*' 0.05 '.' 0.1 ' ' 1\n",
       "\n",
       "Residual standard error: 0.866 on 153 degrees of freedom\n",
       "Multiple R-squared:  0.504,\tAdjusted R-squared:  0.501 \n",
       "F-statistic:  155 on 1 and 153 DF,  p-value: <2e-16\n"
      ]
     },
     "metadata": {},
     "output_type": "display_data"
    }
   ],
   "source": [
    "# Fit the regression model\n",
    "cadmium.lm <- lm(log(cadmium)~sqrt(dist), meuse)\n",
    "\n",
    "# Get a summary of the regression model\n",
    "summary(cadmium.lm)"
   ]
  },
  {
   "cell_type": "code",
   "execution_count": 90,
   "id": "WKevisWrOSxT",
   "metadata": {
    "colab": {
     "base_uri": "https://localhost:8080/",
     "height": 437
    },
    "executionInfo": {
     "elapsed": 1426,
     "status": "ok",
     "timestamp": 1690392171802,
     "user": {
      "displayName": "Adrian Kriger",
      "userId": "13601293545672267632"
     },
     "user_tz": -120
    },
    "id": "WKevisWrOSxT",
    "outputId": "47406781-9e6b-4030-82f8-53ba7b9d3f65"
   },
   "outputs": [
    {
     "data": {
      "image/png": "[encoded data removed]",
      "text/plain": [
       "Plot with title \"\""
      ]
     },
     "metadata": {},
     "output_type": "display_data"
    }
   ],
   "source": [
    "# Get diagnostic plots\n",
    "layout(matrix(1:4, ncol=2))\n",
    "plot(cadmium.lm, add.smooth = FALSE)\n",
    "layout(1)"
   ]
  },
  {
   "cell_type": "code",
   "execution_count": 91,
   "id": "-1cQLtnUOdUA",
   "metadata": {
    "colab": {
     "base_uri": "https://localhost:8080/",
     "height": 437
    },
    "executionInfo": {
     "elapsed": 938,
     "status": "ok",
     "timestamp": 1690392192684,
     "user": {
      "displayName": "Adrian Kriger",
      "userId": "13601293545672267632"
     },
     "user_tz": -120
    },
    "id": "-1cQLtnUOdUA",
    "outputId": "75731f93-ce63-4e85-c97b-7f2482e593eb"
   },
   "outputs": [
    {
     "data": {
      "image/png": "[encoded data removed]",
      "text/plain": [
       "plot without title"
      ]
     },
     "metadata": {},
     "output_type": "display_data"
    }
   ],
   "source": [
    "# Get Predicted Values and Standard Error of Fit for all locations on the grid\n",
    "meuse.grid$lzn.fit <- predict(cadmium.lm, meuse.grid)\n",
    "meuse.grid$se.fit <- predict(cadmium.lm, meuse.grid, se.fit=TRUE)$se.fit\n",
    "\n",
    "# Plot the predicted values\n",
    "spplot(meuse.grid, \"lzn.fit\", sp.layout = meuse.lt,\n",
    "       main = \"Log(Cadmium) - ppm: Regression Interpolation \\n Predicted values\")"
   ]
  },
  {
   "cell_type": "code",
   "execution_count": 92,
   "id": "3f534ae7",
   "metadata": {
    "colab": {
     "base_uri": "https://localhost:8080/",
     "height": 437
    },
    "executionInfo": {
     "elapsed": 1040,
     "status": "ok",
     "timestamp": 1690392196525,
     "user": {
      "displayName": "Adrian Kriger",
      "userId": "13601293545672267632"
     },
     "user_tz": -120
    },
    "id": "3f534ae7",
    "outputId": "cfbf320e-c41e-4d0c-bd3d-556566d0af90"
   },
   "outputs": [
    {
     "data": {
      "image/png": "[encoded data removed]",
      "text/plain": [
       "plot without title"
      ]
     },
     "metadata": {},
     "output_type": "display_data"
    }
   ],
   "source": [
    "# Plot the Standard Error of fit\n",
    "spplot(meuse.grid, \"se.fit\", sp.layout = meuse.lt,\n",
    "       main = \"Log(Cadmium) - ppm: Regression Interpolation \\n Standard Error of fit\")\n"
   ]
  },
  {
   "cell_type": "markdown",
   "id": "jXzzd9aNOndj",
   "metadata": {
    "id": "jXzzd9aNOndj"
   },
   "source": [
    "<div class=\"alert alert-block alert-warning\"><b>ANSWERS / COMMENTS: </b> </div>"
   ]
  },
  {
   "cell_type": "markdown",
   "id": "6Py8t48L9Ibr",
   "metadata": {
    "id": "6Py8t48L9Ibr"
   },
   "source": [
    "> [double click in this cell and write your answer here. i.e.: the nature of relationship between the dependent and independent variables, the model fit: model summary and regression diagnostics, etc.]"
   ]
  },
  {
   "cell_type": "markdown",
   "id": "24e46d27",
   "metadata": {
    "id": "24e46d27"
   },
   "source": [
    "**Trend Surface Analysis**\n",
    "\n",
    "4. Run the following code chunk to perform trend surface interpolation. Compare the three interpolation maps and discuss the results. Which one gives a better fit? Why?"
   ]
  },
  {
   "cell_type": "markdown",
   "id": "779Cplr3Oy3w",
   "metadata": {
    "id": "779Cplr3Oy3w"
   },
   "source": [
    "<div class=\"alert alert-block alert-info\"><b>HINT: </b>  </div>"
   ]
  },
  {
   "cell_type": "markdown",
   "id": "80afa6cf",
   "metadata": {
    "id": "80afa6cf"
   },
   "source": [
    "> Talk about the appropriateness of trend orders with respect to the nature of the interpolated surface, the quality of interpolation with respect to the distribution and density of controls points etc."
   ]
  },
  {
   "cell_type": "code",
   "execution_count": 93,
   "id": "e1a5d932",
   "metadata": {
    "colab": {
     "base_uri": "https://localhost:8080/",
     "height": 489
    },
    "id": "e1a5d932",
    "outputId": "af550cb1-edd4-4fee-a62a-342a3afe8068"
   },
   "outputs": [
    {
     "name": "stdout",
     "output_type": "stream",
     "text": [
      "[ordinary or weighted least squares prediction]\n",
      "[ordinary or weighted least squares prediction]\n",
      "[ordinary or weighted least squares prediction]\n"
     ]
    },
    {
     "data": {
      "image/png": "[encoded data removed]",
      "text/plain": [
       "plot without title"
      ]
     },
     "metadata": {},
     "output_type": "display_data"
    }
   ],
   "source": [
    "#_________________________________________________________\n",
    "#  # Trend surface up to degree 3\n",
    "# Note: tr1, tr2 and tr3 are names for Trend surface of order 1, 2 and 3 respectively\n",
    "#_________________________________________________________\n",
    "\n",
    "meuse.grid$tr1 = krige(log(cadmium) ~ 1, meuse, meuse.grid, degree = 1)$var1.pred\n",
    "meuse.grid$tr2 = krige(log(cadmium) ~ 1, meuse, meuse.grid, degree = 2)$var1.pred\n",
    "meuse.grid$tr3 = krige(log(cadmium) ~ 1, meuse, meuse.grid, degree = 3)$var1.pred\n",
    "spplot(meuse.grid, c(\"tr1\", \"tr2\", \"tr3\"), sp.layout = meuse.lt,\n",
    "       main = \"Log(cadmium) - ppm \\n Trend Surface Interpolation\")\n"
   ]
  },
  {
   "cell_type": "markdown",
   "id": "Ae3YFR3dO9TO",
   "metadata": {
    "id": "Ae3YFR3dO9TO"
   },
   "source": [
    "<div class=\"alert alert-block alert-warning\"><b>ANSWERS / COMMENTS: </b> </div>"
   ]
  },
  {
   "cell_type": "markdown",
   "id": "gwa4AO77srsC",
   "metadata": {
    "id": "gwa4AO77srsC"
   },
   "source": [
    "> [double click in this cell and compare the three interpolation maps and discuss the results here]"
   ]
  },
  {
   "cell_type": "markdown",
   "id": "5d379a61",
   "metadata": {
    "id": "5d379a61"
   },
   "source": [
    "**Inverse distance weighted interpolation**\n",
    "\n",
    "5. Use the following code chunk to generate interpolated surfaces of log (cadmium) concentration obtained using Inverse-Distance Weighting (IDW) with different power functions (p). Discuss all outputs and draw conclusions. Give reasons for your conclusions.\n"
   ]
  },
  {
   "cell_type": "markdown",
   "id": "dVOfCew7PZkU",
   "metadata": {
    "id": "dVOfCew7PZkU"
   },
   "source": [
    "<div class=\"alert alert-block alert-info\"><b>HINT: </b>  </div>"
   ]
  },
  {
   "cell_type": "markdown",
   "id": "7873433c",
   "metadata": {
    "id": "7873433c"
   },
   "source": [
    "> You should say something about the role of the power function and the quality/behaviour of the predictions with respect to the distribution and density of controls points etc."
   ]
  },
  {
   "cell_type": "code",
   "execution_count": 94,
   "id": "37087edd",
   "metadata": {
    "colab": {
     "base_uri": "https://localhost:8080/",
     "height": 529
    },
    "executionInfo": {
     "elapsed": 2300,
     "status": "ok",
     "timestamp": 1690392459178,
     "user": {
      "displayName": "Adrian Kriger",
      "userId": "13601293545672267632"
     },
     "user_tz": -120
    },
    "id": "37087edd",
    "outputId": "766544c4-c9bf-4995-edb1-21f98762bb4f"
   },
   "outputs": [
    {
     "name": "stdout",
     "output_type": "stream",
     "text": [
      "[inverse distance weighted interpolation]\n",
      "[inverse distance weighted interpolation]\n",
      "[inverse distance weighted interpolation]\n",
      "[inverse distance weighted interpolation]\n",
      "[inverse distance weighted interpolation]\n"
     ]
    },
    {
     "data": {
      "image/png": "[encoded data removed]",
      "text/plain": [
       "plot without title"
      ]
     },
     "metadata": {},
     "output_type": "display_data"
    }
   ],
   "source": [
    "# Run the IDW interpolation\n",
    "# Check the effect of power (p) on the IDW interpolation\n",
    "# by changing the value of \"idp\"\n",
    "\n",
    "meuse.grid$idwp05 = idw(log(cadmium)  ~ 1, meuse, meuse.grid, idp = 0.5)$var1.pred\n",
    "meuse.grid$idwp1 = idw(log(cadmium)  ~ 1, meuse, meuse.grid, idp = 1)$var1.pred\n",
    "meuse.grid$idwp25 = idw(log(cadmium)  ~ 1, meuse, meuse.grid, idp = 2.5)$var1.pred\n",
    "meuse.grid$idwp5 = idw(log(cadmium)  ~ 1, meuse, meuse.grid, idp = 5)$var1.pred\n",
    "meuse.grid$idwp10 = idw(log(cadmium)  ~ 1, meuse, meuse.grid, idp = 10)$var1.pred\n",
    "# Plot the outputs and the control points\n",
    "spplot(meuse.grid, c(\"idwp05\", \"idwp1\", \"idwp25\",\"idwp5\", \"idwp10\"),\n",
    "       sp.layout = list(\"sp.points\", meuse, col = 3, cex=.5),\n",
    "       main = \"Log(Cadmium) - ppm , IDW Interpolation \")\n"
   ]
  },
  {
   "cell_type": "markdown",
   "id": "82F2Jk1EPj9w",
   "metadata": {
    "id": "82F2Jk1EPj9w"
   },
   "source": [
    "<div class=\"alert alert-block alert-warning\"><b>ANSWERS / COMMENTS: </b> </div>"
   ]
  },
  {
   "cell_type": "markdown",
   "id": "9w-NyBWvs0ay",
   "metadata": {
    "id": "9w-NyBWvs0ay"
   },
   "source": [
    "[double click in this cell and Discuss the outputs, draw conclusions and give reasons for your conclusions here]"
   ]
  },
  {
   "cell_type": "markdown",
   "id": "48f73c9d",
   "metadata": {
    "id": "48f73c9d"
   },
   "source": [
    "**Variogram and kriging**\n",
    "\n",
    "\n",
    "6. Use the next set of commands to estimate the variogram and to perform kriging interpolation."
   ]
  },
  {
   "cell_type": "markdown",
   "id": "qu9vtNtUP3p7",
   "metadata": {
    "id": "qu9vtNtUP3p7"
   },
   "source": [
    "<div class=\"alert alert-block alert-info\"><b>HINT: </b>  </div>"
   ]
  },
  {
   "cell_type": "markdown",
   "id": "d94cbeed",
   "metadata": {
    "id": "d94cbeed"
   },
   "source": [
    "> Page numbers or plot numbers from sections with similar outputs from Bivand et al. (2008) have been indicated in the comments attached to the codes. Please refer to those sections/plots for guidance. In general, discuss all outputs (text and plots). What they are, what they do, what assumptions have been made, etc."
   ]
  },
  {
   "cell_type": "code",
   "execution_count": 95,
   "id": "xFg6aRNNP9fD",
   "metadata": {
    "colab": {
     "base_uri": "https://localhost:8080/",
     "height": 437
    },
    "executionInfo": {
     "elapsed": 3182,
     "status": "ok",
     "timestamp": 1690392593242,
     "user": {
      "displayName": "Adrian Kriger",
      "userId": "13601293545672267632"
     },
     "user_tz": -120
    },
    "id": "xFg6aRNNP9fD",
    "outputId": "df668e43-4308-4769-fd41-d402c8194471"
   },
   "outputs": [
    {
     "data": {
      "image/png": "[encoded data removed]",
      "text/plain": [
       "plot without title"
      ]
     },
     "metadata": {},
     "output_type": "display_data"
    }
   ],
   "source": [
    "###################################################\n",
    "### 8.4 Estimating Spatial Correlation: The Variogram - Bivand et al. (2008)\n",
    "### 8.4.1 Exploratory Variogram Analysis\n",
    "###################################################\n",
    "\n",
    "### h-scatterplots/ lagged scatterplots\n",
    "hscat(log(cadmium)~1,meuse,(0:9)*100)"
   ]
  },
  {
   "cell_type": "code",
   "execution_count": 96,
   "id": "4c871ef5",
   "metadata": {
    "colab": {
     "base_uri": "https://localhost:8080/",
     "height": 437
    },
    "executionInfo": {
     "elapsed": 2920,
     "status": "ok",
     "timestamp": 1690392604208,
     "user": {
      "displayName": "Adrian Kriger",
      "userId": "13601293545672267632"
     },
     "user_tz": -120
    },
    "id": "4c871ef5",
    "outputId": "986e0bd2-9df6-425f-ab9d-8f208c7f4541"
   },
   "outputs": [
    {
     "data": {
      "image/png": "[encoded data removed]",
      "text/plain": [
       "plot without title"
      ]
     },
     "metadata": {},
     "output_type": "display_data"
    }
   ],
   "source": [
    "### Variogram cloud\n",
    "plot(variogram(log(cadmium) ~ 1, meuse, cloud = TRUE))"
   ]
  },
  {
   "cell_type": "code",
   "execution_count": 97,
   "id": "f6f8c9a5",
   "metadata": {
    "colab": {
     "base_uri": "https://localhost:8080/",
     "height": 437
    },
    "executionInfo": {
     "elapsed": 847,
     "status": "ok",
     "timestamp": 1690392611471,
     "user": {
      "displayName": "Adrian Kriger",
      "userId": "13601293545672267632"
     },
     "user_tz": -120
    },
    "id": "f6f8c9a5",
    "outputId": "37d7d654-665e-404d-e6d3-8c3d70f7c6f8"
   },
   "outputs": [
    {
     "data": {
      "image/png": "[encoded data removed]",
      "text/plain": [
       "plot without title"
      ]
     },
     "metadata": {},
     "output_type": "display_data"
    }
   ],
   "source": [
    "###################################################\n",
    "### Sample variogram (binned variogram) plot of (8.4)\n",
    "###################################################\n",
    "plot(variogram(log(cadmium) ~ 1, meuse))\n"
   ]
  },
  {
   "cell_type": "code",
   "execution_count": 98,
   "id": "841994ef",
   "metadata": {
    "colab": {
     "base_uri": "https://localhost:8080/",
     "height": 437
    },
    "executionInfo": {
     "elapsed": 1113,
     "status": "ok",
     "timestamp": 1690392617680,
     "user": {
      "displayName": "Adrian Kriger",
      "userId": "13601293545672267632"
     },
     "user_tz": -120
    },
    "id": "841994ef",
    "outputId": "2b186f56-eba2-47ad-9e06-547ce7b7b0a8"
   },
   "outputs": [
    {
     "data": {
      "image/png": "[encoded data removed]",
      "text/plain": [
       "plot without title"
      ]
     },
     "metadata": {},
     "output_type": "display_data"
    }
   ],
   "source": [
    "###################################################\n",
    "### Variograms in four different angles\n",
    "###################################################\n",
    "plot(variogram(log(cadmium) ~ 1, meuse, alpha = c(0, 45, 90, 135)))\n"
   ]
  },
  {
   "cell_type": "code",
   "execution_count": 99,
   "id": "0de04612",
   "metadata": {
    "colab": {
     "base_uri": "https://localhost:8080/",
     "height": 437
    },
    "executionInfo": {
     "elapsed": 732,
     "status": "ok",
     "timestamp": 1690392623131,
     "user": {
      "displayName": "Adrian Kriger",
      "userId": "13601293545672267632"
     },
     "user_tz": -120
    },
    "id": "0de04612",
    "outputId": "83a5ef29-977a-4a06-d06c-b2c649df50d9"
   },
   "outputs": [
    {
     "data": {
      "image/png": "[encoded data removed]",
      "text/plain": [
       "plot without title"
      ]
     },
     "metadata": {},
     "output_type": "display_data"
    }
   ],
   "source": [
    "###################################################\n",
    "### Override the default cutoff and interval width values ###  See Bivand et al. (2008)\n",
    "###################################################\n",
    "plot(variogram(log(cadmium) ~ 1, meuse, cutoff = 1000, width = 50))\n"
   ]
  },
  {
   "cell_type": "code",
   "execution_count": 100,
   "id": "v_pVz2qLQOND",
   "metadata": {
    "colab": {
     "base_uri": "https://localhost:8080/",
     "height": 349
    },
    "executionInfo": {
     "elapsed": 643,
     "status": "ok",
     "timestamp": 1690392654926,
     "user": {
      "displayName": "Adrian Kriger",
      "userId": "13601293545672267632"
     },
     "user_tz": -120
    },
    "id": "v_pVz2qLQOND",
    "outputId": "431b5dc5-66f0-426f-b3ec-75049d50e318"
   },
   "outputs": [
    {
     "data": {
      "text/html": [
       "<table class=\"dataframe\">\n",
       "<caption>A gstatVariogram: 8 × 6</caption>\n",
       "<thead>\n",
       "\t<tr><th scope=col>np</th><th scope=col>dist</th><th scope=col>gamma</th><th scope=col>dir.hor</th><th scope=col>dir.ver</th><th scope=col>id</th></tr>\n",
       "\t<tr><th scope=col>&lt;dbl&gt;</th><th scope=col>&lt;dbl&gt;</th><th scope=col>&lt;dbl&gt;</th><th scope=col>&lt;dbl&gt;</th><th scope=col>&lt;dbl&gt;</th><th scope=col>&lt;fct&gt;</th></tr>\n",
       "</thead>\n",
       "<tbody>\n",
       "\t<tr><td>   2</td><td>  46.6</td><td>0.0683</td><td>0</td><td>0</td><td>var1</td></tr>\n",
       "\t<tr><td>  50</td><td>  78.2</td><td>0.7490</td><td>0</td><td>0</td><td>var1</td></tr>\n",
       "\t<tr><td> 442</td><td> 184.4</td><td>0.8917</td><td>0</td><td>0</td><td>var1</td></tr>\n",
       "\t<tr><td>1107</td><td> 379.7</td><td>1.1332</td><td>0</td><td>0</td><td>var1</td></tr>\n",
       "\t<tr><td>1317</td><td> 626.8</td><td>1.5495</td><td>0</td><td>0</td><td>var1</td></tr>\n",
       "\t<tr><td>1341</td><td> 874.6</td><td>1.7975</td><td>0</td><td>0</td><td>var1</td></tr>\n",
       "\t<tr><td>1190</td><td>1122.6</td><td>1.8848</td><td>0</td><td>0</td><td>var1</td></tr>\n",
       "\t<tr><td>1057</td><td>1375.1</td><td>1.8732</td><td>0</td><td>0</td><td>var1</td></tr>\n",
       "</tbody>\n",
       "</table>\n"
      ],
      "text/latex": [
       "A gstatVariogram: 8 × 6\n",
       "\\begin{tabular}{llllll}\n",
       " np & dist & gamma & dir.hor & dir.ver & id\\\\\n",
       " <dbl> & <dbl> & <dbl> & <dbl> & <dbl> & <fct>\\\\\n",
       "\\hline\n",
       "\t    2 &   46.6 & 0.0683 & 0 & 0 & var1\\\\\n",
       "\t   50 &   78.2 & 0.7490 & 0 & 0 & var1\\\\\n",
       "\t  442 &  184.4 & 0.8917 & 0 & 0 & var1\\\\\n",
       "\t 1107 &  379.7 & 1.1332 & 0 & 0 & var1\\\\\n",
       "\t 1317 &  626.8 & 1.5495 & 0 & 0 & var1\\\\\n",
       "\t 1341 &  874.6 & 1.7975 & 0 & 0 & var1\\\\\n",
       "\t 1190 & 1122.6 & 1.8848 & 0 & 0 & var1\\\\\n",
       "\t 1057 & 1375.1 & 1.8732 & 0 & 0 & var1\\\\\n",
       "\\end{tabular}\n"
      ],
      "text/markdown": [
       "\n",
       "A gstatVariogram: 8 × 6\n",
       "\n",
       "| np &lt;dbl&gt; | dist &lt;dbl&gt; | gamma &lt;dbl&gt; | dir.hor &lt;dbl&gt; | dir.ver &lt;dbl&gt; | id &lt;fct&gt; |\n",
       "|---|---|---|---|---|---|\n",
       "|    2 |   46.6 | 0.0683 | 0 | 0 | var1 |\n",
       "|   50 |   78.2 | 0.7490 | 0 | 0 | var1 |\n",
       "|  442 |  184.4 | 0.8917 | 0 | 0 | var1 |\n",
       "| 1107 |  379.7 | 1.1332 | 0 | 0 | var1 |\n",
       "| 1317 |  626.8 | 1.5495 | 0 | 0 | var1 |\n",
       "| 1341 |  874.6 | 1.7975 | 0 | 0 | var1 |\n",
       "| 1190 | 1122.6 | 1.8848 | 0 | 0 | var1 |\n",
       "| 1057 | 1375.1 | 1.8732 | 0 | 0 | var1 |\n",
       "\n"
      ],
      "text/plain": [
       "  np   dist   gamma  dir.hor dir.ver id  \n",
       "1    2   46.6 0.0683 0       0       var1\n",
       "2   50   78.2 0.7490 0       0       var1\n",
       "3  442  184.4 0.8917 0       0       var1\n",
       "4 1107  379.7 1.1332 0       0       var1\n",
       "5 1317  626.8 1.5495 0       0       var1\n",
       "6 1341  874.6 1.7975 0       0       var1\n",
       "7 1190 1122.6 1.8848 0       0       var1\n",
       "8 1057 1375.1 1.8732 0       0       var1"
      ]
     },
     "metadata": {},
     "output_type": "display_data"
    }
   ],
   "source": [
    "###################################################\n",
    "### Specifying interval for the distance vector  - See Bivand et al. (2008)\n",
    "###################################################\n",
    "variogram(log(cadmium) ~ 1, meuse, boundaries = c(0,50,100,seq(250,1500,250)))"
   ]
  },
  {
   "cell_type": "code",
   "execution_count": 101,
   "id": "77410fdc",
   "metadata": {
    "colab": {
     "base_uri": "https://localhost:8080/",
     "height": 437
    },
    "executionInfo": {
     "elapsed": 713,
     "status": "ok",
     "timestamp": 1690392662217,
     "user": {
      "displayName": "Adrian Kriger",
      "userId": "13601293545672267632"
     },
     "user_tz": -120
    },
    "id": "77410fdc",
    "outputId": "abe784c9-6e66-49a0-d64c-63e1bce78664"
   },
   "outputs": [
    {
     "data": {
      "image/png": "[encoded data removed]",
      "text/plain": [
       "plot without title"
      ]
     },
     "metadata": {},
     "output_type": "display_data"
    }
   ],
   "source": [
    "######################################### ##########\n",
    "### Variogram in Fig. 8.6 - Bivand et al. (2008)\n",
    "###################################################\n",
    "v <- variogram(log(cadmium) ~ 1, meuse)\n",
    "plot(v)\n"
   ]
  },
  {
   "cell_type": "code",
   "execution_count": 102,
   "id": "d9AijIOiQUO4",
   "metadata": {
    "id": "d9AijIOiQUO4"
   },
   "outputs": [],
   "source": [
    "###################################################\n",
    "### Initial values for the variogram fit\n",
    "###################################################\n",
    "v.fit <- fit.variogram(v, vgm(1, \"Sph\", 800, 1))"
   ]
  },
  {
   "cell_type": "code",
   "execution_count": 103,
   "id": "J9YFHdXfQYri",
   "metadata": {
    "colab": {
     "base_uri": "https://localhost:8080/",
     "height": 161
    },
    "executionInfo": {
     "elapsed": 656,
     "status": "ok",
     "timestamp": 1690392697463,
     "user": {
      "displayName": "Adrian Kriger",
      "userId": "13601293545672267632"
     },
     "user_tz": -120
    },
    "id": "J9YFHdXfQYri",
    "outputId": "1fd2252c-69b0-4fee-9237-fc3c0aa050ef"
   },
   "outputs": [
    {
     "data": {
      "text/html": [
       "<table class=\"dataframe\">\n",
       "<caption>A variogramModel: 2 × 9</caption>\n",
       "<thead>\n",
       "\t<tr><th></th><th scope=col>model</th><th scope=col>psill</th><th scope=col>range</th><th scope=col>kappa</th><th scope=col>ang1</th><th scope=col>ang2</th><th scope=col>ang3</th><th scope=col>anis1</th><th scope=col>anis2</th></tr>\n",
       "\t<tr><th></th><th scope=col>&lt;fct&gt;</th><th scope=col>&lt;dbl&gt;</th><th scope=col>&lt;dbl&gt;</th><th scope=col>&lt;dbl&gt;</th><th scope=col>&lt;dbl&gt;</th><th scope=col>&lt;dbl&gt;</th><th scope=col>&lt;dbl&gt;</th><th scope=col>&lt;dbl&gt;</th><th scope=col>&lt;dbl&gt;</th></tr>\n",
       "</thead>\n",
       "<tbody>\n",
       "\t<tr><th scope=row>1</th><td>Nug</td><td>0.06</td><td>  0</td><td>0.0</td><td>0</td><td>0</td><td>0</td><td>1</td><td>1</td></tr>\n",
       "\t<tr><th scope=row>2</th><td>Sph</td><td>1.49</td><td>496</td><td>0.5</td><td>0</td><td>0</td><td>0</td><td>1</td><td>1</td></tr>\n",
       "</tbody>\n",
       "</table>\n"
      ],
      "text/latex": [
       "A variogramModel: 2 × 9\n",
       "\\begin{tabular}{r|lllllllll}\n",
       "  & model & psill & range & kappa & ang1 & ang2 & ang3 & anis1 & anis2\\\\\n",
       "  & <fct> & <dbl> & <dbl> & <dbl> & <dbl> & <dbl> & <dbl> & <dbl> & <dbl>\\\\\n",
       "\\hline\n",
       "\t1 & Nug & 0.06 &   0 & 0.0 & 0 & 0 & 0 & 1 & 1\\\\\n",
       "\t2 & Sph & 1.49 & 496 & 0.5 & 0 & 0 & 0 & 1 & 1\\\\\n",
       "\\end{tabular}\n"
      ],
      "text/markdown": [
       "\n",
       "A variogramModel: 2 × 9\n",
       "\n",
       "| <!--/--> | model &lt;fct&gt; | psill &lt;dbl&gt; | range &lt;dbl&gt; | kappa &lt;dbl&gt; | ang1 &lt;dbl&gt; | ang2 &lt;dbl&gt; | ang3 &lt;dbl&gt; | anis1 &lt;dbl&gt; | anis2 &lt;dbl&gt; |\n",
       "|---|---|---|---|---|---|---|---|---|---|\n",
       "| 1 | Nug | 0.06 |   0 | 0.0 | 0 | 0 | 0 | 1 | 1 |\n",
       "| 2 | Sph | 1.49 | 496 | 0.5 | 0 | 0 | 0 | 1 | 1 |\n",
       "\n"
      ],
      "text/plain": [
       "  model psill range kappa ang1 ang2 ang3 anis1 anis2\n",
       "1 Nug   0.06    0   0.0   0    0    0    1     1    \n",
       "2 Sph   1.49  496   0.5   0    0    0    1     1    "
      ]
     },
     "metadata": {},
     "output_type": "display_data"
    }
   ],
   "source": [
    "###################################################\n",
    "### Partial fitting of variogram coefficients : PAGE 204 - Bivand et al. (2008)\n",
    "###################################################\n",
    "fit.variogram(v, vgm(1, \"Sph\", 800, 0.06), fit.sills = c(FALSE, TRUE))"
   ]
  },
  {
   "cell_type": "code",
   "execution_count": 104,
   "id": "LoIVoM2QQaIE",
   "metadata": {
    "colab": {
     "base_uri": "https://localhost:8080/",
     "height": 161
    },
    "executionInfo": {
     "elapsed": 577,
     "status": "ok",
     "timestamp": 1690392713775,
     "user": {
      "displayName": "Adrian Kriger",
      "userId": "13601293545672267632"
     },
     "user_tz": -120
    },
    "id": "LoIVoM2QQaIE",
    "outputId": "3ffcc743-807d-4905-f155-152c9bf50ee6"
   },
   "outputs": [
    {
     "data": {
      "text/html": [
       "<table class=\"dataframe\">\n",
       "<caption>A variogramModel: 2 × 9</caption>\n",
       "<thead>\n",
       "\t<tr><th></th><th scope=col>model</th><th scope=col>psill</th><th scope=col>range</th><th scope=col>kappa</th><th scope=col>ang1</th><th scope=col>ang2</th><th scope=col>ang3</th><th scope=col>anis1</th><th scope=col>anis2</th></tr>\n",
       "\t<tr><th></th><th scope=col>&lt;fct&gt;</th><th scope=col>&lt;dbl&gt;</th><th scope=col>&lt;dbl&gt;</th><th scope=col>&lt;dbl&gt;</th><th scope=col>&lt;dbl&gt;</th><th scope=col>&lt;dbl&gt;</th><th scope=col>&lt;dbl&gt;</th><th scope=col>&lt;dbl&gt;</th><th scope=col>&lt;dbl&gt;</th></tr>\n",
       "</thead>\n",
       "<tbody>\n",
       "\t<tr><th scope=row>1</th><td>Nug</td><td>0.424</td><td>  0</td><td>0.0</td><td>0</td><td>0</td><td>0</td><td>1</td><td>1</td></tr>\n",
       "\t<tr><th scope=row>2</th><td>Sph</td><td>1.317</td><td>800</td><td>0.5</td><td>0</td><td>0</td><td>0</td><td>1</td><td>1</td></tr>\n",
       "</tbody>\n",
       "</table>\n"
      ],
      "text/latex": [
       "A variogramModel: 2 × 9\n",
       "\\begin{tabular}{r|lllllllll}\n",
       "  & model & psill & range & kappa & ang1 & ang2 & ang3 & anis1 & anis2\\\\\n",
       "  & <fct> & <dbl> & <dbl> & <dbl> & <dbl> & <dbl> & <dbl> & <dbl> & <dbl>\\\\\n",
       "\\hline\n",
       "\t1 & Nug & 0.424 &   0 & 0.0 & 0 & 0 & 0 & 1 & 1\\\\\n",
       "\t2 & Sph & 1.317 & 800 & 0.5 & 0 & 0 & 0 & 1 & 1\\\\\n",
       "\\end{tabular}\n"
      ],
      "text/markdown": [
       "\n",
       "A variogramModel: 2 × 9\n",
       "\n",
       "| <!--/--> | model &lt;fct&gt; | psill &lt;dbl&gt; | range &lt;dbl&gt; | kappa &lt;dbl&gt; | ang1 &lt;dbl&gt; | ang2 &lt;dbl&gt; | ang3 &lt;dbl&gt; | anis1 &lt;dbl&gt; | anis2 &lt;dbl&gt; |\n",
       "|---|---|---|---|---|---|---|---|---|---|\n",
       "| 1 | Nug | 0.424 |   0 | 0.0 | 0 | 0 | 0 | 1 | 1 |\n",
       "| 2 | Sph | 1.317 | 800 | 0.5 | 0 | 0 | 0 | 1 | 1 |\n",
       "\n"
      ],
      "text/plain": [
       "  model psill range kappa ang1 ang2 ang3 anis1 anis2\n",
       "1 Nug   0.424   0   0.0   0    0    0    1     1    \n",
       "2 Sph   1.317 800   0.5   0    0    0    1     1    "
      ]
     },
     "metadata": {},
     "output_type": "display_data"
    }
   ],
   "source": [
    "###################################################\n",
    "###  REML (restricted maximum likelihood) fitting : PAGE 205 - Bivand et al. (2008)\n",
    "###################################################\n",
    "fit.variogram.reml(log(cadmium)~1, meuse, model=vgm(0.6, \"Sph\", 800, 0.06))"
   ]
  },
  {
   "cell_type": "code",
   "execution_count": 105,
   "id": "NmNbJ2leQgF3",
   "metadata": {
    "id": "NmNbJ2leQgF3"
   },
   "outputs": [],
   "source": [
    "###################################################\n",
    "### 8.4.4 Anisotropy  - Bivand et al. (2008)\n",
    "###################################################\n",
    "v.dir <- variogram(log(cadmium)~1,meuse,alpha=(0:3)*45)\n",
    "v.anis <- vgm(.6, \"Sph\", 1600, .05, anis=c(45, 0.3))"
   ]
  },
  {
   "cell_type": "code",
   "execution_count": 106,
   "id": "afa97f6d",
   "metadata": {
    "colab": {
     "base_uri": "https://localhost:8080/",
     "height": 437
    },
    "executionInfo": {
     "elapsed": 1097,
     "status": "ok",
     "timestamp": 1690392736099,
     "user": {
      "displayName": "Adrian Kriger",
      "userId": "13601293545672267632"
     },
     "user_tz": -120
    },
    "id": "afa97f6d",
    "outputId": "9149c1de-5be5-4708-f25c-5ffe618e19c8"
   },
   "outputs": [
    {
     "data": {
      "image/png": "[encoded data removed]",
      "text/plain": [
       "plot without title"
      ]
     },
     "metadata": {},
     "output_type": "display_data"
    }
   ],
   "source": [
    "###################################################\n",
    "### Fig. 8.7 - Bivand et al. (2008)\n",
    "###################################################\n",
    "plot(v.dir, v.anis)\n"
   ]
  },
  {
   "cell_type": "code",
   "execution_count": 107,
   "id": "08b588a6",
   "metadata": {
    "colab": {
     "base_uri": "https://localhost:8080/",
     "height": 437
    },
    "executionInfo": {
     "elapsed": 681,
     "status": "ok",
     "timestamp": 1690392745835,
     "user": {
      "displayName": "Adrian Kriger",
      "userId": "13601293545672267632"
     },
     "user_tz": -120
    },
    "id": "08b588a6",
    "outputId": "ef5e9dfc-c272-41d8-c17d-78376aca1108"
   },
   "outputs": [
    {
     "data": {
      "image/png": "[encoded data removed]",
      "text/plain": [
       "plot without title"
      ]
     },
     "metadata": {},
     "output_type": "display_data"
    }
   ],
   "source": [
    "###################################################\n",
    "### variogram map - Bivand et al. (2008)\n",
    "###################################################\n",
    "plot(variogram(log(cadmium)~1,meuse, map=TRUE, cutoff=1000, width=100))\n"
   ]
  },
  {
   "cell_type": "code",
   "execution_count": 108,
   "id": "2c92125d",
   "metadata": {
    "colab": {
     "base_uri": "https://localhost:8080/"
    },
    "executionInfo": {
     "elapsed": 592,
     "status": "ok",
     "timestamp": 1690393311537,
     "user": {
      "displayName": "Adrian Kriger",
      "userId": "13601293545672267632"
     },
     "user_tz": -120
    },
    "id": "2c92125d",
    "outputId": "620bb6d4-7853-4b58-cd1b-95516f1cd941"
   },
   "outputs": [
    {
     "name": "stdout",
     "output_type": "stream",
     "text": [
      "[using simple kriging]\n",
      "[using ordinary kriging]\n"
     ]
    }
   ],
   "source": [
    "###################################################\n",
    "### 8.5.1 Simple Kriging and Ordinary Kriging  - Bivand et al. (2008)\n",
    "###################################################\n",
    "\n",
    "lz.sk <- krige(log(cadmium)~1, meuse, meuse.grid, v.fit, beta = 5.9)\n",
    "lz.ok <- krige(log(cadmium)~1, meuse, meuse.grid, v.fit)\n"
   ]
  },
  {
   "cell_type": "code",
   "execution_count": 110,
   "id": "c6d0dfc2",
   "metadata": {},
   "outputs": [
    {
     "data": {
      "text/plain": [
       "Object of class SpatialPixelsDataFrame\n",
       "Coordinates:\n",
       "     min    max\n",
       "x 178440 181560\n",
       "y 329600 333760\n",
       "Is projected: TRUE \n",
       "proj4string : [+init=epsg:28992]\n",
       "Number of points: 3103\n",
       "Grid attributes:\n",
       "  cellcentre.offset cellsize cells.dim\n",
       "x            178460       40        78\n",
       "y            329620       40       104\n",
       "Data attributes:\n",
       "   var1.pred        var1.var    \n",
       " Min.   :-1.11   Min.   :0.692  \n",
       " 1st Qu.:-0.18   1st Qu.:0.793  \n",
       " Median : 0.63   Median :0.841  \n",
       " Mean   : 0.65   Mean   :0.885  \n",
       " 3rd Qu.: 1.37   3rd Qu.:0.937  \n",
       " Max.   : 3.30   Max.   :1.420  "
      ]
     },
     "metadata": {},
     "output_type": "display_data"
    }
   ],
   "source": [
    "summary(lz.sk)"
   ]
  },
  {
   "cell_type": "code",
   "execution_count": 111,
   "id": "4aefd7e7",
   "metadata": {},
   "outputs": [
    {
     "data": {
      "text/plain": [
       "Object of class SpatialPixelsDataFrame\n",
       "Coordinates:\n",
       "     min    max\n",
       "x 178440 181560\n",
       "y 329600 333760\n",
       "Is projected: TRUE \n",
       "proj4string : [+init=epsg:28992]\n",
       "Number of points: 3103\n",
       "Grid attributes:\n",
       "  cellcentre.offset cellsize cells.dim\n",
       "x            178460       40        78\n",
       "y            329620       40       104\n",
       "Data attributes:\n",
       "   var1.pred         var1.var    \n",
       " Min.   :-1.221   Min.   :0.692  \n",
       " 1st Qu.:-0.419   1st Qu.:0.793  \n",
       " Median : 0.332   Median :0.841  \n",
       " Mean   : 0.308   Mean   :0.887  \n",
       " 3rd Qu.: 0.958   3rd Qu.:0.938  \n",
       " Max.   : 2.298   Max.   :1.446  "
      ]
     },
     "metadata": {},
     "output_type": "display_data"
    }
   ],
   "source": [
    "summary(lz.ok)"
   ]
  },
  {
   "cell_type": "markdown",
   "id": "fzFNzHFXS2Yw",
   "metadata": {
    "id": "fzFNzHFXS2Yw"
   },
   "source": [
    "<div class=\"alert alert-block alert-warning\"><b>QUESTIONS, ANSWERS / COMMENTS: </b> </div>"
   ]
  },
  {
   "cell_type": "markdown",
   "id": "m7N8GgrzSpWu",
   "metadata": {
    "id": "m7N8GgrzSpWu"
   },
   "source": [
    "> [double click in this cell and write your answer here: discuss all outputs (text and plots). What they are, what they do, what assumptions have been made, etc.]"
   ]
  },
  {
   "cell_type": "markdown",
   "id": "1o2RL283S4UH",
   "metadata": {
    "id": "1o2RL283S4UH"
   },
   "source": [
    "*   What other output(s) would you generate to access the quality of the Simple and Ordinary Kriging Interpolation?"
   ]
  },
  {
   "cell_type": "markdown",
   "id": "OAZ-QLOOUeM-",
   "metadata": {
    "id": "OAZ-QLOOUeM-"
   },
   "source": [
    "<div class=\"alert alert-block alert-info\"><b>HINT: </b>How would you judge the quality of the interpolation? </div>"
   ]
  },
  {
   "cell_type": "markdown",
   "id": "fceb1a7a",
   "metadata": {
    "id": "fceb1a7a"
   },
   "source": [
    "> [double click in this cell and write your answer here]\n"
   ]
  },
  {
   "cell_type": "markdown",
   "id": "bo-xC5EIUrpZ",
   "metadata": {
    "id": "bo-xC5EIUrpZ"
   },
   "source": [
    "*   Do a visual comparison of the interpolation results from the methods and discuss your observations."
   ]
  },
  {
   "cell_type": "markdown",
   "id": "fUqD5wCIUr0K",
   "metadata": {
    "id": "fUqD5wCIUr0K"
   },
   "source": [
    "<div class=\"alert alert-block alert-info\"><b>HINT: </b>What differences do you see from the interpolated maps you produced in terms of the behaviour of the predictions with respect to the distribution and density of controls points etc. </div>"
   ]
  },
  {
   "cell_type": "markdown",
   "id": "ebBkk8zZUr_f",
   "metadata": {
    "id": "ebBkk8zZUr_f"
   },
   "source": [
    "\n",
    "> [double click in this cell and write your answer here]"
   ]
  },
  {
   "cell_type": "markdown",
   "id": "C2EDTgvjVNyo",
   "metadata": {
    "id": "C2EDTgvjVNyo"
   },
   "source": [
    "*    How else would you go about comparing the results from the various interpolation methods?"
   ]
  },
  {
   "cell_type": "markdown",
   "id": "KxgYZDs4VN71",
   "metadata": {
    "id": "KxgYZDs4VN71"
   },
   "source": [
    "<div class=\"alert alert-block alert-info\"><b>HINT: </b>Summarise section 16.5 of Kang-tsung (2011). </div>"
   ]
  },
  {
   "cell_type": "markdown",
   "id": "1TYlGLLlVfiK",
   "metadata": {
    "id": "1TYlGLLlVfiK"
   },
   "source": [
    "> [double click in this cell and write your answer here]"
   ]
  }
 ],
 "metadata": {
  "colab": {
   "gpuType": "T4",
   "provenance": []
  },
  "kernelspec": {
   "display_name": "R",
   "language": "R",
   "name": "ir"
  },
  "language_info": {
   "codemirror_mode": "r",
   "file_extension": ".r",
   "mimetype": "text/x-r-source",
   "name": "R",
   "pygments_lexer": "r",
   "version": "3.6.3"
  }
 },
 "nbformat": 4,
 "nbformat_minor": 5
}
